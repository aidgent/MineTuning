{
 "cells": [
  {
   "cell_type": "code",
   "execution_count": null,
   "metadata": {},
   "outputs": [],
   "source": [
    "%pip install dspy-ai\n",
    "%pip install ipywidgets\n",
    "%pip install IPython\n",
    "%pip install requests\n",
    "%pip install markdownify\n",
    "%pip install openai"
   ]
  },
  {
   "cell_type": "code",
   "execution_count": 3,
   "metadata": {},
   "outputs": [],
   "source": [
    "import dspy\n",
    "import os\n",
    "import dotenv\n",
    "import pydantic\n",
    "import json\n",
    "from IPython.display import Markdown, display\n",
    "\n",
    "dotenv.load_dotenv() #load via .env in this folder (.env is in .gitignore)\n",
    "#os.environ['OPENAI_API_KEY'] = 'sk-YOUR_OPENAI_API_KEY' #or set directly here, just remember not to commit to GitHub\n",
    "assert 'OPENAI_API_KEY' in os.environ"
   ]
  },
  {
   "cell_type": "markdown",
   "metadata": {},
   "source": [
    "first do without message history or vision"
   ]
  },
  {
   "cell_type": "code",
   "execution_count": null,
   "metadata": {},
   "outputs": [],
   "source": [
    "llm = dspy.OpenAI(model='gpt-4o', temperature=0.1, max_tokens=4096) #later need to add vision\n",
    "class Chat(dspy.Signature):\n",
    "    \"\"\"You are a helpful assistant that is always improving based on user feedback. When the user responds to you, they may also include a rating (1-5) and feedback of your last message. Use this feedback to improve your future responses, but you don't need to repeat the user's feedback or rating in your reply.\"\"\"\n",
    "\n",
    "    query = dspy.InputField(desc=\"This is the user's current query.\")\n",
    "    rating = dspy.InputField(desc=\"This is the user's rating of your last response.\")\n",
    "    feedback = dspy.InputField(desc=\"This is the user's feedback on your last response.\")\n",
    "    response = dspy.OutputField(desc=\"This is your response to the user's query. Only output your response in Markdown, do not include any additional text.\") #sometimes the AI responds with the output description, so i often leave this blank\n",
    "\n",
    "\n",
    "class ChatModule(dspy.Module):  # let's define a new module\n",
    "    def __init__(self):\n",
    "        super().__init__()\n",
    "        self.n = 1 #don't do more than 1 right now...\n",
    "        self.signature = Chat\n",
    "        self.predictor = dspy.Predict(self.signature, n=self.n) #this can easily be subbed for some other predictor\n",
    "    \n",
    "    def forward(self, query, rating=None, feedback=None, num_generations = 1):#don't do more than 1 generation right now...\n",
    "        self.predictor = dspy.Predict(self.signature, n=num_generations)\n",
    "        result = self.predictor(query=query, rating=rating, feedback=feedback, n=num_generations)\n",
    "        return dspy.Prediction(response=[str(completion.response) for completion in result.completions])"
   ]
  },
  {
   "cell_type": "code",
   "execution_count": null,
   "metadata": {},
   "outputs": [],
   "source": [
    "images = client.images.generate(\n",
    "  model=\"dall-e-3\",\n",
    "  prompt=image_prompt,\n",
    "  n=1,\n",
    "  size=\"1792x1024\"\n",
    ")"
   ]
  }
 ],
 "metadata": {
  "kernelspec": {
   "display_name": "my-env310",
   "language": "python",
   "name": "python3"
  },
  "language_info": {
   "codemirror_mode": {
    "name": "ipython",
    "version": 3
   },
   "file_extension": ".py",
   "mimetype": "text/x-python",
   "name": "python",
   "nbconvert_exporter": "python",
   "pygments_lexer": "ipython3",
   "version": "3.10.0"
  }
 },
 "nbformat": 4,
 "nbformat_minor": 2
}
