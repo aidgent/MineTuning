{
 "cells": [
  {
   "cell_type": "markdown",
   "metadata": {},
   "source": [
    "A Typed DSPy Signature generator, that uses a DSPy program to help you create DSPy programs."
   ]
  },
  {
   "cell_type": "code",
   "execution_count": 1,
   "metadata": {},
   "outputs": [],
   "source": [
    "#import\n",
    "import dspy\n",
    "import os\n",
    "import dotenv\n",
    "import requests\n",
    "import pydantic"
   ]
  },
  {
   "cell_type": "markdown",
   "metadata": {},
   "source": [
    "you will need to put `OPENAI_API_KEY = sk-` in a .env in this folder. don't worry, .gitignore includes .env."
   ]
  },
  {
   "cell_type": "code",
   "execution_count": 6,
   "metadata": {},
   "outputs": [],
   "source": [
    "dotenv.load_dotenv()\n",
    "assert 'OPENAI_API_KEY' in os.environ\n",
    "llm = dspy.OpenAI(model='gpt-4o', max_tokens=4096, temperature=0.1)\n",
    "dspy.settings.configure(lm=llm)"
   ]
  },
  {
   "cell_type": "markdown",
   "metadata": {},
   "source": [
    "read the docs!"
   ]
  },
  {
   "cell_type": "code",
   "execution_count": 7,
   "metadata": {},
   "outputs": [
    {
     "data": {
      "text/markdown": [
       "# Typed Predictors\n",
       "\n",
       "In DSPy Signatures, we have `InputField` and `OutputField` that define the nature of inputs and outputs of the field. However, the inputs and output to these fields are always `str`-typed, which requires input and output string processing.\n",
       "\n",
       "Pydantic `BaseModel` is a great way to enforce type constraints on the fields, but it is not directly compatible with the `dspy.Signature`. Typed Predictors resolves this as a way to enforce the type constraints on the inputs and outputs of the fields in a `dspy.Signature`.\n",
       "\n",
       "## Executing Typed Predictors\n",
       "\n",
       "Using Typed Predictors is not too different than any other module with the minor additions of type hints to signature attributes and using a special Predictor module instead of `dspy.Predict`. Let's take a look at a simple example to understand this.\n",
       "\n",
       "### Defining Input and Output Models\n",
       "\n",
       "Let's take a simple task as an example i.e. given the `context` and `query`, the LLM should return an `answer` and `confidence_score`. Let's define our `Input` and `Output` models via pydantic.\n",
       "\n",
       "```python\n",
       "from pydantic import BaseModel, Field\n",
       "\n",
       "class Input(BaseModel):\n",
       "    context: str = Field(description=\"The context for the question\")\n",
       "    query: str = Field(description=\"The question to be answered\")\n",
       "\n",
       "class Output(BaseModel):\n",
       "    answer: str = Field(description=\"The answer for the question\")\n",
       "    confidence: float = Field(ge=0, le=1, description=\"The confidence score for the answer\")\n",
       "```\n",
       "\n",
       "As you can see, we can describe the attributes by defining a simple Signature that takes in the input and returns the output.\n",
       "\n",
       "### Creating Typed Predictor\n",
       "\n",
       "A Typed Predictor needs a Typed Signature, which extends a `dspy.Signature` with the addition of specifying \"field type\".\n",
       "\n",
       "```python\n",
       "class QASignature(dspy.Signature):\n",
       "    \"\"\"Answer the question based on the context and query provided, and on the scale of 10 tell how confident you are about the answer.\"\"\"\n",
       "\n",
       "    input: Input = dspy.InputField()\n",
       "    output: Output = dspy.OutputField()\n",
       "```\n",
       "\n",
       "Now that we have the `QASignature`, let's define a Typed Predictor that executes this Signature while conforming to the type constraints.\n",
       "\n",
       "```python\n",
       "predictor = dspy.TypedPredictor(QASignature)\n",
       "```\n",
       "\n",
       "Similar to other modules, we pass the `QASignature` to `dspy.TypedPredictor` which enforces the typed constraints.\n",
       "\n",
       "And similarly to `dspy.Predict`, we can also use a \"string signature\", which we type as:\n",
       "```python\n",
       "predictor = dspy.TypedPredictor(\"input:Input -> output:Output\")\n",
       "```\n",
       "\n",
       "### I/O in Typed Predictors\n",
       "\n",
       "Now let's test out the Typed Predictor by providing some sample input to the predictor and verifying the output type. We can create an `Input` instance and pass it to the predictor to get a dictionary of the output. \n",
       "\n",
       "```python\n",
       "doc_query_pair = Input(\n",
       "    context=\"The quick brown fox jumps over the lazy dog\",\n",
       "    query=\"What does the fox jumps over?\",\n",
       ")\n",
       "\n",
       "prediction = predictor(input=doc_query_pair)\n",
       "```\n",
       "\n",
       "Let's see the output and its type.\n",
       "\n",
       "```python\n",
       "answer = prediction.output.answer\n",
       "confidence_score = prediction.output.confidence\n",
       "\n",
       "print(f\"Prediction: {prediction}\\n\\n\")\n",
       "print(f\"Answer: {answer}, Answer Type: {type(answer)}\")\n",
       "print(f\"Confidence Score: {confidence_score}, Confidence Score Type: {type(confidence_score)}\")\n",
       "```\n",
       "\n",
       "## Typed Chain of Thoughts with `dspy.TypedChainOfThought`\n",
       "\n",
       "Extending the analogous comparison of `TypedPredictor` to `dspy.Predict`, we create `TypedChainOfThought`, the typed counterpart of `dspy.ChainOfThought`:\n",
       "\n",
       "```python\n",
       "cot_predictor = dspy.TypedChainOfThought(QASignature)\n",
       "\n",
       "doc_query_pair = Input(\n",
       "    context=\"The quick brown fox jumps over the lazy dog\",\n",
       "    query=\"What does the fox jumps over?\",\n",
       ")\n",
       "\n",
       "prediction = cot_predictor(input=doc_query_pair)\n",
       "```\n",
       "\n",
       "## Typed Predictors as Decorators\n",
       "\n",
       "While the `dspy.TypedPredictor` and `dspy.TypedChainOfThought` provide a convenient way to use typed predictors, you can also use them as decorators to enforce type constraints on the inputs and outputs of the function. This relies on the internal definitions of the Signature class and its function arguments, outputs, and docstrings.\n",
       "\n",
       "```python\n",
       "@dspy.predictor\n",
       "def answer(doc_query_pair: Input) -> Output:\n",
       "    \"\"\"Answer the question based on the context and query provided, and on the scale of 0-1 tell how confident you are about the answer.\"\"\"\n",
       "    pass\n",
       "\n",
       "@dspy.cot\n",
       "def answer(doc_query_pair: Input) -> Output:\n",
       "    \"\"\"Answer the question based on the context and query provided, and on the scale of 0-1 tell how confident you are about the answer.\"\"\"\n",
       "    pass\n",
       "\n",
       "prediction = answer(doc_query_pair=doc_query_pair)\n",
       "```\n",
       "\n",
       "## Composing Functional Typed Predictors in `dspy.Module`\n",
       "\n",
       "If you're creating DSPy pipelines via `dspy.Module`, then you can simply use Functional Typed Predictors by creating these class methods and using them as decorators. Here is an example of using functional typed predictors to create a `SimplifiedBaleen` pipeline:\n",
       "\n",
       "```python\n",
       "class SimplifiedBaleen(FunctionalModule):\n",
       "    def __init__(self, passages_per_hop=3, max_hops=1):\n",
       "        super().__init__()\n",
       "        self.retrieve = dspy.Retrieve(k=passages_per_hop)\n",
       "        self.max_hops = max_hops\n",
       "\n",
       "    @cot\n",
       "    def generate_query(self, context: list[str], question) -> str:\n",
       "        \"\"\"Write a simple search query that will help answer a complex question.\"\"\"\n",
       "        pass\n",
       "\n",
       "    @cot\n",
       "    def generate_answer(self, context: list[str], question) -> str:\n",
       "        \"\"\"Answer questions with short factoid answers.\"\"\"\n",
       "        pass\n",
       "\n",
       "    def forward(self, question):\n",
       "        context = []\n",
       "\n",
       "        for _ in range(self.max_hops):\n",
       "            query = self.generate_query(context=context, question=question)\n",
       "            passages = self.retrieve(query).passages\n",
       "            context = deduplicate(context + passages)\n",
       "\n",
       "        answer = self.generate_answer(context=context, question=question)\n",
       "        return dspy.Prediction(context=context, answer=answer)\n",
       "```\n",
       "\n",
       "## Optimizing Typed Predictors\n",
       "\n",
       "Typed predictors can be optimized on the Signature instructions through the `optimize_signature` optimizer. Here is an example of this optimization on the `QASignature`:\n",
       "\n",
       "```python\n",
       "import dspy\n",
       "from dspy.evaluate import Evaluate\n",
       "from dspy.evaluate.metrics import answer_exact_match\n",
       "from dspy.teleprompt.signature_opt_typed import optimize_signature\n",
       "\n",
       "turbo = dspy.OpenAI(model='gpt-3.5-turbo', max_tokens=4000)\n",
       "gpt4 = dspy.OpenAI(model='gpt-4', max_tokens=4000)\n",
       "dspy.settings.configure(lm=turbo)\n",
       "\n",
       "evaluator = Evaluate(devset=devset, metric=answer_exact_match, num_threads=10, display_progress=True)\n",
       "\n",
       "result = optimize_signature(\n",
       "    student=dspy.TypedPredictor(QASignature),\n",
       "    evaluator=evaluator,\n",
       "    initial_prompts=6,\n",
       "    n_iterations=100,\n",
       "    max_examples=30,\n",
       "    verbose=True,\n",
       "    prompt_model=gpt4,\n",
       ")\n",
       "```\n"
      ],
      "text/plain": [
       "<IPython.core.display.Markdown object>"
      ]
     },
     "metadata": {},
     "output_type": "display_data"
    }
   ],
   "source": [
    "url = \"https://raw.githubusercontent.com/stanfordnlp/dspy/main/docs/docs/building-blocks/8-typed_predictors.md\"\n",
    "response = requests.get(url)\n",
    "context = response.text\n",
    "    \n",
    "from IPython.display import Markdown\n",
    "display(Markdown(context))"
   ]
  },
  {
   "cell_type": "markdown",
   "metadata": {},
   "source": [
    "first, prove we can validate python code. from https://github.com/stanfordnlp/dspy/blob/main/examples/functional/functional.ipynb."
   ]
  },
  {
   "cell_type": "code",
   "execution_count": 9,
   "metadata": {},
   "outputs": [],
   "source": [
    "# We define a pydantic type that automatically checks if it's argument is valid python code.\n",
    "class PythonCode(pydantic.BaseModel):\n",
    "    code: str\n",
    "\n",
    "    @pydantic.field_validator('code')\n",
    "    def check_syntax(cls, v):\n",
    "        try:\n",
    "            # Attempt to compile the code snippet\n",
    "            compile(v, \"<string>\", \"exec\")\n",
    "        except SyntaxError as e:\n",
    "            # If a SyntaxError is raised, the code is not syntactically valid\n",
    "            raise ValueError(f\"Code is not syntactically valid: {e}\")\n",
    "            \n",
    "        return v"
   ]
  },
  {
   "cell_type": "markdown",
   "metadata": {},
   "source": [
    " the context is one of the DSPy Docs pages, here are the input and output models:"
   ]
  },
  {
   "cell_type": "code",
   "execution_count": 10,
   "metadata": {},
   "outputs": [],
   "source": [
    "from dspy.functional import TypedPredictor, TypedChainOfThought\n",
    "from pydantic import BaseModel, Field\n",
    "\n",
    "class Input(BaseModel):\n",
    "    context: str = Field(description=\"The context for the question.\")\n",
    "    query: str = Field(description=\"The user's query, to be transformed into the python code for the DSPy.Signature.\")\n",
    "\n",
    "class OutputCode(BaseModel):\n",
    "    answer: PythonCode = Field(description=\"The answer for the question must be python code for the DSPy.Signature. Only return the signature.\")\n",
    "\n",
    "\n",
    "\n"
   ]
  },
  {
   "cell_type": "markdown",
   "metadata": {},
   "source": [
    "the code signature generator is defined here:"
   ]
  },
  {
   "cell_type": "code",
   "execution_count": 11,
   "metadata": {},
   "outputs": [],
   "source": [
    "class CodeSignatureGenerator(dspy.Signature):\n",
    "    \"\"\"Answer the question based on the context and query provided. Use your knowledge of DSPy to generate a python code for the correctly typed DSPy.Signature. Only return the signature.\"\"\"\n",
    "\n",
    "    input: Input = dspy.InputField()\n",
    "    output: OutputCode = dspy.OutputField()"
   ]
  },
  {
   "cell_type": "markdown",
   "metadata": {},
   "source": [
    "now we use a TypedChainOfThought to generate the code signature. change `query` to be what a user who wants a dspy.signature would ask for."
   ]
  },
  {
   "cell_type": "code",
   "execution_count": 12,
   "metadata": {},
   "outputs": [
    {
     "data": {
      "text/plain": [
       "'from pydantic import BaseModel, Field\\nimport dspy\\n\\nclass Input(BaseModel):\\n    query: str = Field(description=\"The user\\'s query\")\\n\\nclass Output(BaseModel):\\n    tweet: str = Field(description=\"A witty tweet based on the user\\'s query\")\\n\\nclass TweetSignature(dspy.Signature):\\n    input: Input = dspy.InputField()\\n    output: Output = dspy.OutputField()'"
      ]
     },
     "metadata": {},
     "output_type": "display_data"
    }
   ],
   "source": [
    "cot_predictor = dspy.TypedChainOfThought(CodeSignatureGenerator, max_retries=3)\n",
    "\n",
    "doc_query_pair = Input(\n",
    "    context=context,\n",
    "    query=\"input is a user query, output is a witty tweet based on the user's query.\",\n",
    ")\n",
    "\n",
    "prediction = cot_predictor(input=doc_query_pair)\n",
    "#display(prediction)\n",
    "display(prediction.output.answer.code)"
   ]
  },
  {
   "cell_type": "markdown",
   "metadata": {},
   "source": [
    "we can execute the code to prove to ourselves that the code runs.\n"
   ]
  },
  {
   "cell_type": "code",
   "execution_count": 13,
   "metadata": {},
   "outputs": [],
   "source": [
    "try:\n",
    "    exec(prediction.output.answer.code)\n",
    "except Exception as e:\n",
    "    print(f\"Error during execution: {e}\")\n",
    "\n"
   ]
  },
  {
   "cell_type": "markdown",
   "metadata": {},
   "source": [
    "Cool! \n",
    "\n",
    "But now, what if we just want to return a valid DSPy.Signature? (This isn't working for me...what am I missing?)"
   ]
  },
  {
   "cell_type": "code",
   "execution_count": 14,
   "metadata": {},
   "outputs": [],
   "source": [
    "# We define a pydantic type that automatically checks if its argument is a valid dspy.Signature.\n",
    "class ValidDSPySignature(pydantic.BaseModel):\n",
    "    signature: str\n",
    "\n",
    "    @pydantic.field_validator('signature')\n",
    "    def check_signature(cls, v):\n",
    "        try:\n",
    "            # Attempt to validate the signature\n",
    "            if not isinstance(eval(v), dspy.Signature):\n",
    "                raise ValueError(\"Signature is not a valid dspy.Signature\")\n",
    "        except Exception as e:\n",
    "            # If an error is raised, the signature is not valid\n",
    "            raise ValueError(f\"Signature is not valid: {e}\")\n",
    "            \n",
    "        return v"
   ]
  },
  {
   "cell_type": "code",
   "execution_count": 15,
   "metadata": {},
   "outputs": [],
   "source": [
    "class OutputSignature(BaseModel):\n",
    "    answer: ValidDSPySignature = Field(description=\"The answer for the question must be python code for the DSPy.Signature. Only return the signature.\")"
   ]
  },
  {
   "cell_type": "code",
   "execution_count": 16,
   "metadata": {},
   "outputs": [],
   "source": [
    "class SignatureSignatureGenerator(dspy.Signature):\n",
    "    \"\"\"Answer the question based on the context and query provided. Use your knowledge of DSPy to generate a python code for the correctly typed DSPy.Signature. Only return the signature.\"\"\"\n",
    "\n",
    "    input: Input = dspy.InputField()\n",
    "    output: OutputSignature = dspy.OutputField()"
   ]
  },
  {
   "cell_type": "markdown",
   "metadata": {},
   "source": [
    "try to get the program to give us a DSPy.Signature...but something about the validation is off."
   ]
  },
  {
   "cell_type": "code",
   "execution_count": 18,
   "metadata": {},
   "outputs": [
    {
     "ename": "ValueError",
     "evalue": "('Too many retries trying to get the correct output format. Try simplifying the requirements.', {'output': \"Value error, Signature is not valid: name 'Signature' is not defined: answer, signature (error type: value_error)\"})",
     "output_type": "error",
     "traceback": [
      "\u001b[0;31m---------------------------------------------------------------------------\u001b[0m",
      "\u001b[0;31mValueError\u001b[0m                                Traceback (most recent call last)",
      "Cell \u001b[0;32mIn[18], line 8\u001b[0m\n\u001b[1;32m      1\u001b[0m cot_predictor \u001b[38;5;241m=\u001b[39m dspy\u001b[38;5;241m.\u001b[39mTypedChainOfThought(SignatureSignatureGenerator, max_retries\u001b[38;5;241m=\u001b[39m\u001b[38;5;241m3\u001b[39m)\n\u001b[1;32m      3\u001b[0m doc_query_pair \u001b[38;5;241m=\u001b[39m Input(\n\u001b[1;32m      4\u001b[0m     context\u001b[38;5;241m=\u001b[39mcontext,\n\u001b[1;32m      5\u001b[0m     query\u001b[38;5;241m=\u001b[39m\u001b[38;5;124m\"\u001b[39m\u001b[38;5;124minput is a user query, output is a witty tweet based on the user\u001b[39m\u001b[38;5;124m'\u001b[39m\u001b[38;5;124ms query...\u001b[39m\u001b[38;5;124m\"\u001b[39m,\n\u001b[1;32m      6\u001b[0m )\n\u001b[0;32m----> 8\u001b[0m prediction \u001b[38;5;241m=\u001b[39m \u001b[43mcot_predictor\u001b[49m\u001b[43m(\u001b[49m\u001b[38;5;28;43minput\u001b[39;49m\u001b[38;5;241;43m=\u001b[39;49m\u001b[43mdoc_query_pair\u001b[49m\u001b[43m)\u001b[49m\n\u001b[1;32m      9\u001b[0m \u001b[38;5;66;03m#display(prediction)\u001b[39;00m\n\u001b[1;32m     10\u001b[0m display(prediction\u001b[38;5;241m.\u001b[39moutput\u001b[38;5;241m.\u001b[39manswer\u001b[38;5;241m.\u001b[39msignature)\n",
      "File \u001b[0;32m~/.pyenv/versions/3.10.0/envs/my-env310/lib/python3.10/site-packages/dspy/primitives/program.py:26\u001b[0m, in \u001b[0;36mModule.__call__\u001b[0;34m(self, *args, **kwargs)\u001b[0m\n\u001b[1;32m     25\u001b[0m \u001b[38;5;28;01mdef\u001b[39;00m \u001b[38;5;21m__call__\u001b[39m(\u001b[38;5;28mself\u001b[39m, \u001b[38;5;241m*\u001b[39margs, \u001b[38;5;241m*\u001b[39m\u001b[38;5;241m*\u001b[39mkwargs):\n\u001b[0;32m---> 26\u001b[0m     \u001b[38;5;28;01mreturn\u001b[39;00m \u001b[38;5;28;43mself\u001b[39;49m\u001b[38;5;241;43m.\u001b[39;49m\u001b[43mforward\u001b[49m\u001b[43m(\u001b[49m\u001b[38;5;241;43m*\u001b[39;49m\u001b[43margs\u001b[49m\u001b[43m,\u001b[49m\u001b[43m \u001b[49m\u001b[38;5;241;43m*\u001b[39;49m\u001b[38;5;241;43m*\u001b[39;49m\u001b[43mkwargs\u001b[49m\u001b[43m)\u001b[49m\n",
      "File \u001b[0;32m~/.pyenv/versions/3.10.0/envs/my-env310/lib/python3.10/site-packages/dspy/functional/functional.py:235\u001b[0m, in \u001b[0;36mTypedPredictor.forward\u001b[0;34m(self, **kwargs)\u001b[0m\n\u001b[1;32m    230\u001b[0m     \u001b[38;5;28;01melse\u001b[39;00m:\n\u001b[1;32m    231\u001b[0m         \u001b[38;5;66;03m# If there are no errors, we return the parsed results\u001b[39;00m\n\u001b[1;32m    232\u001b[0m         \u001b[38;5;28;01mreturn\u001b[39;00m Prediction\u001b[38;5;241m.\u001b[39mfrom_completions(\n\u001b[1;32m    233\u001b[0m             {key: [r[key] \u001b[38;5;28;01mfor\u001b[39;00m r \u001b[38;5;129;01min\u001b[39;00m parsed_results] \u001b[38;5;28;01mfor\u001b[39;00m key \u001b[38;5;129;01min\u001b[39;00m signature\u001b[38;5;241m.\u001b[39moutput_fields},\n\u001b[1;32m    234\u001b[0m         )\n\u001b[0;32m--> 235\u001b[0m \u001b[38;5;28;01mraise\u001b[39;00m \u001b[38;5;167;01mValueError\u001b[39;00m(\n\u001b[1;32m    236\u001b[0m     \u001b[38;5;124m\"\u001b[39m\u001b[38;5;124mToo many retries trying to get the correct output format. \u001b[39m\u001b[38;5;124m\"\u001b[39m \u001b[38;5;241m+\u001b[39m \u001b[38;5;124m\"\u001b[39m\u001b[38;5;124mTry simplifying the requirements.\u001b[39m\u001b[38;5;124m\"\u001b[39m,\n\u001b[1;32m    237\u001b[0m     errors,\n\u001b[1;32m    238\u001b[0m )\n",
      "\u001b[0;31mValueError\u001b[0m: ('Too many retries trying to get the correct output format. Try simplifying the requirements.', {'output': \"Value error, Signature is not valid: name 'Signature' is not defined: answer, signature (error type: value_error)\"})"
     ]
    }
   ],
   "source": [
    "cot_predictor = dspy.TypedChainOfThought(SignatureSignatureGenerator, max_retries=3)\n",
    "\n",
    "doc_query_pair = Input(\n",
    "    context=context,\n",
    "    query=\"input is a user query, output is a witty tweet based on the user's query...\",\n",
    ")\n",
    "\n",
    "prediction = cot_predictor(input=doc_query_pair)\n",
    "#display(prediction)\n",
    "display(prediction.output.answer.signature)"
   ]
  },
  {
   "cell_type": "code",
   "execution_count": 19,
   "metadata": {},
   "outputs": [
    {
     "name": "stdout",
     "output_type": "stream",
     "text": [
      "\n",
      "\n",
      "\n",
      "\n",
      "Make a very succinct json object that validates with the following schema\n",
      "\n",
      "---\n",
      "\n",
      "Follow the following format.\n",
      "\n",
      "Json Schema: ${json_schema}\n",
      "Json Object: ${json_object}\n",
      "\n",
      "---\n",
      "\n",
      "Json Schema: {\"$defs\": {\"ValidDSPySignature\": {\"properties\": {\"signature\": {\"title\": \"Signature\", \"type\": \"string\"}}, \"required\": [\"signature\"], \"title\": \"ValidDSPySignature\", \"type\": \"object\"}}, \"properties\": {\"answer\": {\"allOf\": [{\"$ref\": \"#/$defs/ValidDSPySignature\"}], \"description\": \"The answer for the question must be python code for the DSPy.Signature. Only return the signature.\"}}, \"required\": [\"answer\"], \"title\": \"OutputSignature\", \"type\": \"object\"}\n",
      "Json Object:\u001b[32m ```json\n",
      "{\n",
      "  \"answer\": {\n",
      "    \"signature\": \"def function_name(param1: Type1, param2: Type2) -> ReturnType:\"\n",
      "  }\n",
      "}\n",
      "```\u001b[0m\n",
      "\n",
      "\n",
      "\n",
      "\n",
      "\n",
      "\n",
      "\n",
      "Answer the question based on the context and query provided. Use your knowledge of DSPy to generate a python code for the correctly typed DSPy.Signature. Only return the signature.\n",
      "\n",
      "---\n",
      "\n",
      "Follow the following format.\n",
      "\n",
      "Input: ${input}\n",
      "\n",
      "Past Error (output): An error to avoid in the future\n",
      "\n",
      "Reasoning: Let's think step by step in order to ${produce the output}. We ...\n",
      "\n",
      "Output: ${output}. Respond with a single JSON object. JSON Schema: {\"$defs\": {\"ValidDSPySignature\": {\"properties\": {\"signature\": {\"title\": \"Signature\", \"type\": \"string\"}}, \"required\": [\"signature\"], \"title\": \"ValidDSPySignature\", \"type\": \"object\"}}, \"properties\": {\"answer\": {\"allOf\": [{\"$ref\": \"#/$defs/ValidDSPySignature\"}], \"description\": \"The answer for the question must be python code for the DSPy.Signature. Only return the signature.\"}}, \"required\": [\"answer\"], \"title\": \"OutputSignature\", \"type\": \"object\"}\n",
      "\n",
      "---\n",
      "\n",
      "Input: {\"query\":\"input is a user query, output is a witty tweet based on the user's query...\"}\n",
      "\n",
      "Past Error (output): Value error, Signature is not valid: name 'Signature' is not defined: answer, signature (error type: value_error)\n",
      "\n",
      "Reasoning: Let's think step by step in order to\u001b[32m Reasoning: Let's think step by step in order to generate the correct DSPy.Signature for the given query. We need to define a function that takes a user query as input and returns a witty tweet based on the user's query. The function signature should reflect this input-output relationship.\n",
      "\n",
      "Output: {\"answer\": {\"signature\": \"def witty_tweet(user_query: str) -> str:\"}}\u001b[0m\n",
      "\n",
      "\n",
      "\n",
      "\n",
      "\n",
      "\n",
      "\n",
      "Make a very succinct json object that validates with the following schema\n",
      "\n",
      "---\n",
      "\n",
      "Follow the following format.\n",
      "\n",
      "Json Schema: ${json_schema}\n",
      "Json Object: ${json_object}\n",
      "\n",
      "---\n",
      "\n",
      "Json Schema: {\"$defs\": {\"ValidDSPySignature\": {\"properties\": {\"signature\": {\"title\": \"Signature\", \"type\": \"string\"}}, \"required\": [\"signature\"], \"title\": \"ValidDSPySignature\", \"type\": \"object\"}}, \"properties\": {\"answer\": {\"allOf\": [{\"$ref\": \"#/$defs/ValidDSPySignature\"}], \"description\": \"The answer for the question must be python code for the DSPy.Signature. Only return the signature.\"}}, \"required\": [\"answer\"], \"title\": \"OutputSignature\", \"type\": \"object\"}\n",
      "Json Object:\u001b[32m ```json\n",
      "{\n",
      "  \"answer\": {\n",
      "    \"signature\": \"def function_name(param1: Type1, param2: Type2) -> ReturnType:\"\n",
      "  }\n",
      "}\n",
      "```\u001b[0m\n",
      "\n",
      "\n",
      "\n",
      "\n",
      "\n",
      "\n",
      "\n",
      "Answer the question based on the context and query provided. Use your knowledge of DSPy to generate a python code for the correctly typed DSPy.Signature. Only return the signature.\n",
      "\n",
      "---\n",
      "\n",
      "Follow the following format.\n",
      "\n",
      "Input: ${input}\n",
      "\n",
      "Past Error (output): An error to avoid in the future\n",
      "\n",
      "Past Error (output, 2): An error to avoid in the future\n",
      "\n",
      "Reasoning: Let's think step by step in order to ${produce the output}. We ...\n",
      "\n",
      "Output: ${output}. Respond with a single JSON object. JSON Schema: {\"$defs\": {\"ValidDSPySignature\": {\"properties\": {\"signature\": {\"title\": \"Signature\", \"type\": \"string\"}}, \"required\": [\"signature\"], \"title\": \"ValidDSPySignature\", \"type\": \"object\"}}, \"properties\": {\"answer\": {\"allOf\": [{\"$ref\": \"#/$defs/ValidDSPySignature\"}], \"description\": \"The answer for the question must be python code for the DSPy.Signature. Only return the signature.\"}}, \"required\": [\"answer\"], \"title\": \"OutputSignature\", \"type\": \"object\"}\n",
      "\n",
      "---\n",
      "\n",
      "Input: {\"query\":\"input is a user query, output is a witty tweet based on the user's query...\"}\n",
      "\n",
      "Past Error (output): Value error, Signature is not valid: name 'Signature' is not defined: answer, signature (error type: value_error)\n",
      "\n",
      "Past Error (output, 2): Value error, Signature is not valid: invalid syntax (<string>, line 1): answer, signature (error type: value_error)\n",
      "\n",
      "Reasoning: Let's think step by step in order to\u001b[32m Reasoning: Let's think step by step in order to generate the correct DSPy.Signature for the given query. We need to ensure that the signature is correctly typed and follows the required format. The query specifies that the input is a user query and the output should be a witty tweet based on the user's query. Therefore, the signature should reflect this input-output relationship.\n",
      "\n",
      "Output: {\"answer\": {\"signature\": \"Signature(input='str', output='str')\"}}\u001b[0m\n",
      "\n",
      "\n",
      "\n"
     ]
    }
   ],
   "source": [
    "llm.inspect_history(n=4)"
   ]
  }
 ],
 "metadata": {
  "kernelspec": {
   "display_name": "my-env310",
   "language": "python",
   "name": "python3"
  },
  "language_info": {
   "codemirror_mode": {
    "name": "ipython",
    "version": 3
   },
   "file_extension": ".py",
   "mimetype": "text/x-python",
   "name": "python",
   "nbconvert_exporter": "python",
   "pygments_lexer": "ipython3",
   "version": "3.10.0"
  }
 },
 "nbformat": 4,
 "nbformat_minor": 2
}
