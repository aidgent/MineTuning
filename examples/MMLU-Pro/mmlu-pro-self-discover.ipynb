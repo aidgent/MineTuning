{
 "cells": [
  {
   "cell_type": "markdown",
   "metadata": {},
   "source": [
    "playing around with mmlu pro https://huggingface.co/datasets/TIGER-Lab/MMLU-Pro"
   ]
  },
  {
   "cell_type": "code",
   "execution_count": 1,
   "metadata": {},
   "outputs": [
    {
     "name": "stdout",
     "output_type": "stream",
     "text": [
      "Requirement already satisfied: dspy-ai in /Users/raymondweitekamp/.pyenv/versions/3.10.0/envs/my-env310/lib/python3.10/site-packages (2.4.5)\n",
      "Requirement already satisfied: pydantic==2.5.0 in /Users/raymondweitekamp/.pyenv/versions/3.10.0/envs/my-env310/lib/python3.10/site-packages (from dspy-ai) (2.5.0)\n",
      "Requirement already satisfied: tqdm in /Users/raymondweitekamp/.pyenv/versions/3.10.0/envs/my-env310/lib/python3.10/site-packages (from dspy-ai) (4.66.2)\n",
      "Requirement already satisfied: joblib~=1.3.2 in /Users/raymondweitekamp/.pyenv/versions/3.10.0/envs/my-env310/lib/python3.10/site-packages (from dspy-ai) (1.3.2)\n",
      "Requirement already satisfied: ujson in /Users/raymondweitekamp/.pyenv/versions/3.10.0/envs/my-env310/lib/python3.10/site-packages (from dspy-ai) (5.9.0)\n",
      "Requirement already satisfied: regex in /Users/raymondweitekamp/.pyenv/versions/3.10.0/envs/my-env310/lib/python3.10/site-packages (from dspy-ai) (2023.12.25)\n",
      "Requirement already satisfied: backoff~=2.2.1 in /Users/raymondweitekamp/.pyenv/versions/3.10.0/envs/my-env310/lib/python3.10/site-packages (from dspy-ai) (2.2.1)\n",
      "Requirement already satisfied: datasets<3.0.0,~=2.14.6 in /Users/raymondweitekamp/.pyenv/versions/3.10.0/envs/my-env310/lib/python3.10/site-packages (from dspy-ai) (2.14.7)\n",
      "Requirement already satisfied: optuna in /Users/raymondweitekamp/.pyenv/versions/3.10.0/envs/my-env310/lib/python3.10/site-packages (from dspy-ai) (3.6.1)\n",
      "Requirement already satisfied: openai<2.0.0,>=0.28.1 in /Users/raymondweitekamp/.pyenv/versions/3.10.0/envs/my-env310/lib/python3.10/site-packages (from dspy-ai) (1.13.3)\n",
      "Requirement already satisfied: pandas in /Users/raymondweitekamp/.pyenv/versions/3.10.0/envs/my-env310/lib/python3.10/site-packages (from dspy-ai) (2.2.1)\n",
      "Requirement already satisfied: requests in /Users/raymondweitekamp/.pyenv/versions/3.10.0/envs/my-env310/lib/python3.10/site-packages (from dspy-ai) (2.31.0)\n",
      "Requirement already satisfied: typing-extensions>=4.6.1 in /Users/raymondweitekamp/.pyenv/versions/3.10.0/envs/my-env310/lib/python3.10/site-packages (from pydantic==2.5.0->dspy-ai) (4.10.0)\n",
      "Requirement already satisfied: pydantic-core==2.14.1 in /Users/raymondweitekamp/.pyenv/versions/3.10.0/envs/my-env310/lib/python3.10/site-packages (from pydantic==2.5.0->dspy-ai) (2.14.1)\n",
      "Requirement already satisfied: annotated-types>=0.4.0 in /Users/raymondweitekamp/.pyenv/versions/3.10.0/envs/my-env310/lib/python3.10/site-packages (from pydantic==2.5.0->dspy-ai) (0.6.0)\n",
      "Requirement already satisfied: multiprocess in /Users/raymondweitekamp/.pyenv/versions/3.10.0/envs/my-env310/lib/python3.10/site-packages (from datasets<3.0.0,~=2.14.6->dspy-ai) (0.70.15)\n",
      "Requirement already satisfied: numpy>=1.17 in /Users/raymondweitekamp/.pyenv/versions/3.10.0/envs/my-env310/lib/python3.10/site-packages (from datasets<3.0.0,~=2.14.6->dspy-ai) (1.26.4)\n",
      "Requirement already satisfied: fsspec[http]<=2023.10.0,>=2023.1.0 in /Users/raymondweitekamp/.pyenv/versions/3.10.0/envs/my-env310/lib/python3.10/site-packages (from datasets<3.0.0,~=2.14.6->dspy-ai) (2023.10.0)\n",
      "Requirement already satisfied: aiohttp in /Users/raymondweitekamp/.pyenv/versions/3.10.0/envs/my-env310/lib/python3.10/site-packages (from datasets<3.0.0,~=2.14.6->dspy-ai) (3.9.3)\n",
      "Requirement already satisfied: packaging in /Users/raymondweitekamp/.pyenv/versions/3.10.0/envs/my-env310/lib/python3.10/site-packages (from datasets<3.0.0,~=2.14.6->dspy-ai) (23.2)\n",
      "Requirement already satisfied: dill<0.3.8,>=0.3.0 in /Users/raymondweitekamp/.pyenv/versions/3.10.0/envs/my-env310/lib/python3.10/site-packages (from datasets<3.0.0,~=2.14.6->dspy-ai) (0.3.7)\n",
      "Requirement already satisfied: pyyaml>=5.1 in /Users/raymondweitekamp/.pyenv/versions/3.10.0/envs/my-env310/lib/python3.10/site-packages (from datasets<3.0.0,~=2.14.6->dspy-ai) (6.0.1)\n",
      "Requirement already satisfied: huggingface-hub<1.0.0,>=0.14.0 in /Users/raymondweitekamp/.pyenv/versions/3.10.0/envs/my-env310/lib/python3.10/site-packages (from datasets<3.0.0,~=2.14.6->dspy-ai) (0.21.3)\n",
      "Requirement already satisfied: xxhash in /Users/raymondweitekamp/.pyenv/versions/3.10.0/envs/my-env310/lib/python3.10/site-packages (from datasets<3.0.0,~=2.14.6->dspy-ai) (3.4.1)\n",
      "Requirement already satisfied: pyarrow-hotfix in /Users/raymondweitekamp/.pyenv/versions/3.10.0/envs/my-env310/lib/python3.10/site-packages (from datasets<3.0.0,~=2.14.6->dspy-ai) (0.6)\n",
      "Requirement already satisfied: pyarrow>=8.0.0 in /Users/raymondweitekamp/.pyenv/versions/3.10.0/envs/my-env310/lib/python3.10/site-packages (from datasets<3.0.0,~=2.14.6->dspy-ai) (16.0.0)\n",
      "Requirement already satisfied: yarl<2.0,>=1.0 in /Users/raymondweitekamp/.pyenv/versions/3.10.0/envs/my-env310/lib/python3.10/site-packages (from aiohttp->datasets<3.0.0,~=2.14.6->dspy-ai) (1.9.4)\n",
      "Requirement already satisfied: attrs>=17.3.0 in /Users/raymondweitekamp/.pyenv/versions/3.10.0/envs/my-env310/lib/python3.10/site-packages (from aiohttp->datasets<3.0.0,~=2.14.6->dspy-ai) (23.2.0)\n",
      "Requirement already satisfied: multidict<7.0,>=4.5 in /Users/raymondweitekamp/.pyenv/versions/3.10.0/envs/my-env310/lib/python3.10/site-packages (from aiohttp->datasets<3.0.0,~=2.14.6->dspy-ai) (6.0.5)\n",
      "Requirement already satisfied: frozenlist>=1.1.1 in /Users/raymondweitekamp/.pyenv/versions/3.10.0/envs/my-env310/lib/python3.10/site-packages (from aiohttp->datasets<3.0.0,~=2.14.6->dspy-ai) (1.4.1)\n",
      "Requirement already satisfied: aiosignal>=1.1.2 in /Users/raymondweitekamp/.pyenv/versions/3.10.0/envs/my-env310/lib/python3.10/site-packages (from aiohttp->datasets<3.0.0,~=2.14.6->dspy-ai) (1.3.1)\n",
      "Requirement already satisfied: async-timeout<5.0,>=4.0 in /Users/raymondweitekamp/.pyenv/versions/3.10.0/envs/my-env310/lib/python3.10/site-packages (from aiohttp->datasets<3.0.0,~=2.14.6->dspy-ai) (4.0.3)\n",
      "Requirement already satisfied: filelock in /Users/raymondweitekamp/.pyenv/versions/3.10.0/envs/my-env310/lib/python3.10/site-packages (from huggingface-hub<1.0.0,>=0.14.0->datasets<3.0.0,~=2.14.6->dspy-ai) (3.13.1)\n",
      "Requirement already satisfied: httpx<1,>=0.23.0 in /Users/raymondweitekamp/.pyenv/versions/3.10.0/envs/my-env310/lib/python3.10/site-packages (from openai<2.0.0,>=0.28.1->dspy-ai) (0.27.0)\n",
      "Requirement already satisfied: sniffio in /Users/raymondweitekamp/.pyenv/versions/3.10.0/envs/my-env310/lib/python3.10/site-packages (from openai<2.0.0,>=0.28.1->dspy-ai) (1.3.1)\n",
      "Requirement already satisfied: distro<2,>=1.7.0 in /Users/raymondweitekamp/.pyenv/versions/3.10.0/envs/my-env310/lib/python3.10/site-packages (from openai<2.0.0,>=0.28.1->dspy-ai) (1.9.0)\n",
      "Requirement already satisfied: anyio<5,>=3.5.0 in /Users/raymondweitekamp/.pyenv/versions/3.10.0/envs/my-env310/lib/python3.10/site-packages (from openai<2.0.0,>=0.28.1->dspy-ai) (4.3.0)\n",
      "Requirement already satisfied: idna>=2.8 in /Users/raymondweitekamp/.pyenv/versions/3.10.0/envs/my-env310/lib/python3.10/site-packages (from anyio<5,>=3.5.0->openai<2.0.0,>=0.28.1->dspy-ai) (3.6)\n",
      "Requirement already satisfied: exceptiongroup>=1.0.2 in /Users/raymondweitekamp/.pyenv/versions/3.10.0/envs/my-env310/lib/python3.10/site-packages (from anyio<5,>=3.5.0->openai<2.0.0,>=0.28.1->dspy-ai) (1.2.0)\n",
      "Requirement already satisfied: httpcore==1.* in /Users/raymondweitekamp/.pyenv/versions/3.10.0/envs/my-env310/lib/python3.10/site-packages (from httpx<1,>=0.23.0->openai<2.0.0,>=0.28.1->dspy-ai) (1.0.4)\n",
      "Requirement already satisfied: certifi in /Users/raymondweitekamp/.pyenv/versions/3.10.0/envs/my-env310/lib/python3.10/site-packages (from httpx<1,>=0.23.0->openai<2.0.0,>=0.28.1->dspy-ai) (2024.2.2)\n",
      "Requirement already satisfied: h11<0.15,>=0.13 in /Users/raymondweitekamp/.pyenv/versions/3.10.0/envs/my-env310/lib/python3.10/site-packages (from httpcore==1.*->httpx<1,>=0.23.0->openai<2.0.0,>=0.28.1->dspy-ai) (0.14.0)\n",
      "Requirement already satisfied: urllib3<3,>=1.21.1 in /Users/raymondweitekamp/.pyenv/versions/3.10.0/envs/my-env310/lib/python3.10/site-packages (from requests->dspy-ai) (2.2.1)\n",
      "Requirement already satisfied: charset-normalizer<4,>=2 in /Users/raymondweitekamp/.pyenv/versions/3.10.0/envs/my-env310/lib/python3.10/site-packages (from requests->dspy-ai) (3.3.2)\n",
      "Requirement already satisfied: colorlog in /Users/raymondweitekamp/.pyenv/versions/3.10.0/envs/my-env310/lib/python3.10/site-packages (from optuna->dspy-ai) (6.8.2)\n",
      "Requirement already satisfied: alembic>=1.5.0 in /Users/raymondweitekamp/.pyenv/versions/3.10.0/envs/my-env310/lib/python3.10/site-packages (from optuna->dspy-ai) (1.13.1)\n",
      "Requirement already satisfied: sqlalchemy>=1.3.0 in /Users/raymondweitekamp/.pyenv/versions/3.10.0/envs/my-env310/lib/python3.10/site-packages (from optuna->dspy-ai) (2.0.28)\n",
      "Requirement already satisfied: Mako in /Users/raymondweitekamp/.pyenv/versions/3.10.0/envs/my-env310/lib/python3.10/site-packages (from alembic>=1.5.0->optuna->dspy-ai) (1.3.3)\n",
      "Requirement already satisfied: MarkupSafe>=0.9.2 in /Users/raymondweitekamp/.pyenv/versions/3.10.0/envs/my-env310/lib/python3.10/site-packages (from Mako->alembic>=1.5.0->optuna->dspy-ai) (2.1.5)\n",
      "Requirement already satisfied: tzdata>=2022.7 in /Users/raymondweitekamp/.pyenv/versions/3.10.0/envs/my-env310/lib/python3.10/site-packages (from pandas->dspy-ai) (2024.1)\n",
      "Requirement already satisfied: pytz>=2020.1 in /Users/raymondweitekamp/.pyenv/versions/3.10.0/envs/my-env310/lib/python3.10/site-packages (from pandas->dspy-ai) (2024.1)\n",
      "Requirement already satisfied: python-dateutil>=2.8.2 in /Users/raymondweitekamp/.pyenv/versions/3.10.0/envs/my-env310/lib/python3.10/site-packages (from pandas->dspy-ai) (2.9.0.post0)\n",
      "Requirement already satisfied: six>=1.5 in /Users/raymondweitekamp/.pyenv/versions/3.10.0/envs/my-env310/lib/python3.10/site-packages (from python-dateutil>=2.8.2->pandas->dspy-ai) (1.16.0)\n",
      "\u001b[33mWARNING: You are using pip version 21.2.3; however, version 24.0 is available.\n",
      "You should consider upgrading via the '/Users/raymondweitekamp/.pyenv/versions/3.10.0/envs/my-env310/bin/python -m pip install --upgrade pip' command.\u001b[0m\n",
      "Note: you may need to restart the kernel to use updated packages.\n",
      "Requirement already satisfied: ipywidgets in /Users/raymondweitekamp/.pyenv/versions/3.10.0/envs/my-env310/lib/python3.10/site-packages (8.1.2)\n",
      "Requirement already satisfied: comm>=0.1.3 in /Users/raymondweitekamp/.pyenv/versions/3.10.0/envs/my-env310/lib/python3.10/site-packages (from ipywidgets) (0.2.2)\n",
      "Requirement already satisfied: traitlets>=4.3.1 in /Users/raymondweitekamp/.pyenv/versions/3.10.0/envs/my-env310/lib/python3.10/site-packages (from ipywidgets) (5.14.3)\n",
      "Requirement already satisfied: ipython>=6.1.0 in /Users/raymondweitekamp/.pyenv/versions/3.10.0/envs/my-env310/lib/python3.10/site-packages (from ipywidgets) (8.24.0)\n",
      "Requirement already satisfied: jupyterlab-widgets~=3.0.10 in /Users/raymondweitekamp/.pyenv/versions/3.10.0/envs/my-env310/lib/python3.10/site-packages (from ipywidgets) (3.0.10)\n",
      "Requirement already satisfied: widgetsnbextension~=4.0.10 in /Users/raymondweitekamp/.pyenv/versions/3.10.0/envs/my-env310/lib/python3.10/site-packages (from ipywidgets) (4.0.10)\n",
      "Requirement already satisfied: typing-extensions>=4.6 in /Users/raymondweitekamp/.pyenv/versions/3.10.0/envs/my-env310/lib/python3.10/site-packages (from ipython>=6.1.0->ipywidgets) (4.10.0)\n",
      "Requirement already satisfied: prompt-toolkit<3.1.0,>=3.0.41 in /Users/raymondweitekamp/.pyenv/versions/3.10.0/envs/my-env310/lib/python3.10/site-packages (from ipython>=6.1.0->ipywidgets) (3.0.43)\n",
      "Requirement already satisfied: pexpect>4.3 in /Users/raymondweitekamp/.pyenv/versions/3.10.0/envs/my-env310/lib/python3.10/site-packages (from ipython>=6.1.0->ipywidgets) (4.9.0)\n",
      "Requirement already satisfied: matplotlib-inline in /Users/raymondweitekamp/.pyenv/versions/3.10.0/envs/my-env310/lib/python3.10/site-packages (from ipython>=6.1.0->ipywidgets) (0.1.7)\n",
      "Requirement already satisfied: jedi>=0.16 in /Users/raymondweitekamp/.pyenv/versions/3.10.0/envs/my-env310/lib/python3.10/site-packages (from ipython>=6.1.0->ipywidgets) (0.19.1)\n",
      "Requirement already satisfied: exceptiongroup in /Users/raymondweitekamp/.pyenv/versions/3.10.0/envs/my-env310/lib/python3.10/site-packages (from ipython>=6.1.0->ipywidgets) (1.2.0)\n",
      "Requirement already satisfied: decorator in /Users/raymondweitekamp/.pyenv/versions/3.10.0/envs/my-env310/lib/python3.10/site-packages (from ipython>=6.1.0->ipywidgets) (5.1.1)\n",
      "Requirement already satisfied: pygments>=2.4.0 in /Users/raymondweitekamp/.pyenv/versions/3.10.0/envs/my-env310/lib/python3.10/site-packages (from ipython>=6.1.0->ipywidgets) (2.17.2)\n",
      "Requirement already satisfied: stack-data in /Users/raymondweitekamp/.pyenv/versions/3.10.0/envs/my-env310/lib/python3.10/site-packages (from ipython>=6.1.0->ipywidgets) (0.6.3)\n",
      "Requirement already satisfied: parso<0.9.0,>=0.8.3 in /Users/raymondweitekamp/.pyenv/versions/3.10.0/envs/my-env310/lib/python3.10/site-packages (from jedi>=0.16->ipython>=6.1.0->ipywidgets) (0.8.4)\n",
      "Requirement already satisfied: ptyprocess>=0.5 in /Users/raymondweitekamp/.pyenv/versions/3.10.0/envs/my-env310/lib/python3.10/site-packages (from pexpect>4.3->ipython>=6.1.0->ipywidgets) (0.7.0)\n",
      "Requirement already satisfied: wcwidth in /Users/raymondweitekamp/.pyenv/versions/3.10.0/envs/my-env310/lib/python3.10/site-packages (from prompt-toolkit<3.1.0,>=3.0.41->ipython>=6.1.0->ipywidgets) (0.2.13)\n",
      "Requirement already satisfied: pure-eval in /Users/raymondweitekamp/.pyenv/versions/3.10.0/envs/my-env310/lib/python3.10/site-packages (from stack-data->ipython>=6.1.0->ipywidgets) (0.2.2)\n",
      "Requirement already satisfied: executing>=1.2.0 in /Users/raymondweitekamp/.pyenv/versions/3.10.0/envs/my-env310/lib/python3.10/site-packages (from stack-data->ipython>=6.1.0->ipywidgets) (2.0.1)\n",
      "Requirement already satisfied: asttokens>=2.1.0 in /Users/raymondweitekamp/.pyenv/versions/3.10.0/envs/my-env310/lib/python3.10/site-packages (from stack-data->ipython>=6.1.0->ipywidgets) (2.4.1)\n",
      "Requirement already satisfied: six>=1.12.0 in /Users/raymondweitekamp/.pyenv/versions/3.10.0/envs/my-env310/lib/python3.10/site-packages (from asttokens>=2.1.0->stack-data->ipython>=6.1.0->ipywidgets) (1.16.0)\n",
      "\u001b[33mWARNING: You are using pip version 21.2.3; however, version 24.0 is available.\n",
      "You should consider upgrading via the '/Users/raymondweitekamp/.pyenv/versions/3.10.0/envs/my-env310/bin/python -m pip install --upgrade pip' command.\u001b[0m\n",
      "Note: you may need to restart the kernel to use updated packages.\n",
      "Requirement already satisfied: IPython in /Users/raymondweitekamp/.pyenv/versions/3.10.0/envs/my-env310/lib/python3.10/site-packages (8.24.0)\n",
      "Requirement already satisfied: decorator in /Users/raymondweitekamp/.pyenv/versions/3.10.0/envs/my-env310/lib/python3.10/site-packages (from IPython) (5.1.1)\n",
      "Requirement already satisfied: traitlets>=5.13.0 in /Users/raymondweitekamp/.pyenv/versions/3.10.0/envs/my-env310/lib/python3.10/site-packages (from IPython) (5.14.3)\n",
      "Requirement already satisfied: jedi>=0.16 in /Users/raymondweitekamp/.pyenv/versions/3.10.0/envs/my-env310/lib/python3.10/site-packages (from IPython) (0.19.1)\n",
      "Requirement already satisfied: prompt-toolkit<3.1.0,>=3.0.41 in /Users/raymondweitekamp/.pyenv/versions/3.10.0/envs/my-env310/lib/python3.10/site-packages (from IPython) (3.0.43)\n",
      "Requirement already satisfied: stack-data in /Users/raymondweitekamp/.pyenv/versions/3.10.0/envs/my-env310/lib/python3.10/site-packages (from IPython) (0.6.3)\n",
      "Requirement already satisfied: matplotlib-inline in /Users/raymondweitekamp/.pyenv/versions/3.10.0/envs/my-env310/lib/python3.10/site-packages (from IPython) (0.1.7)\n",
      "Requirement already satisfied: pygments>=2.4.0 in /Users/raymondweitekamp/.pyenv/versions/3.10.0/envs/my-env310/lib/python3.10/site-packages (from IPython) (2.17.2)\n",
      "Requirement already satisfied: exceptiongroup in /Users/raymondweitekamp/.pyenv/versions/3.10.0/envs/my-env310/lib/python3.10/site-packages (from IPython) (1.2.0)\n",
      "Requirement already satisfied: typing-extensions>=4.6 in /Users/raymondweitekamp/.pyenv/versions/3.10.0/envs/my-env310/lib/python3.10/site-packages (from IPython) (4.10.0)\n",
      "Requirement already satisfied: pexpect>4.3 in /Users/raymondweitekamp/.pyenv/versions/3.10.0/envs/my-env310/lib/python3.10/site-packages (from IPython) (4.9.0)\n",
      "Requirement already satisfied: parso<0.9.0,>=0.8.3 in /Users/raymondweitekamp/.pyenv/versions/3.10.0/envs/my-env310/lib/python3.10/site-packages (from jedi>=0.16->IPython) (0.8.4)\n",
      "Requirement already satisfied: ptyprocess>=0.5 in /Users/raymondweitekamp/.pyenv/versions/3.10.0/envs/my-env310/lib/python3.10/site-packages (from pexpect>4.3->IPython) (0.7.0)\n",
      "Requirement already satisfied: wcwidth in /Users/raymondweitekamp/.pyenv/versions/3.10.0/envs/my-env310/lib/python3.10/site-packages (from prompt-toolkit<3.1.0,>=3.0.41->IPython) (0.2.13)\n",
      "Requirement already satisfied: executing>=1.2.0 in /Users/raymondweitekamp/.pyenv/versions/3.10.0/envs/my-env310/lib/python3.10/site-packages (from stack-data->IPython) (2.0.1)\n",
      "Requirement already satisfied: asttokens>=2.1.0 in /Users/raymondweitekamp/.pyenv/versions/3.10.0/envs/my-env310/lib/python3.10/site-packages (from stack-data->IPython) (2.4.1)\n",
      "Requirement already satisfied: pure-eval in /Users/raymondweitekamp/.pyenv/versions/3.10.0/envs/my-env310/lib/python3.10/site-packages (from stack-data->IPython) (0.2.2)\n",
      "Requirement already satisfied: six>=1.12.0 in /Users/raymondweitekamp/.pyenv/versions/3.10.0/envs/my-env310/lib/python3.10/site-packages (from asttokens>=2.1.0->stack-data->IPython) (1.16.0)\n",
      "\u001b[33mWARNING: You are using pip version 21.2.3; however, version 24.0 is available.\n",
      "You should consider upgrading via the '/Users/raymondweitekamp/.pyenv/versions/3.10.0/envs/my-env310/bin/python -m pip install --upgrade pip' command.\u001b[0m\n",
      "Note: you may need to restart the kernel to use updated packages.\n",
      "Requirement already satisfied: requests in /Users/raymondweitekamp/.pyenv/versions/3.10.0/envs/my-env310/lib/python3.10/site-packages (2.31.0)\n",
      "Requirement already satisfied: idna<4,>=2.5 in /Users/raymondweitekamp/.pyenv/versions/3.10.0/envs/my-env310/lib/python3.10/site-packages (from requests) (3.6)\n",
      "Requirement already satisfied: urllib3<3,>=1.21.1 in /Users/raymondweitekamp/.pyenv/versions/3.10.0/envs/my-env310/lib/python3.10/site-packages (from requests) (2.2.1)\n",
      "Requirement already satisfied: certifi>=2017.4.17 in /Users/raymondweitekamp/.pyenv/versions/3.10.0/envs/my-env310/lib/python3.10/site-packages (from requests) (2024.2.2)\n",
      "Requirement already satisfied: charset-normalizer<4,>=2 in /Users/raymondweitekamp/.pyenv/versions/3.10.0/envs/my-env310/lib/python3.10/site-packages (from requests) (3.3.2)\n",
      "\u001b[33mWARNING: You are using pip version 21.2.3; however, version 24.0 is available.\n",
      "You should consider upgrading via the '/Users/raymondweitekamp/.pyenv/versions/3.10.0/envs/my-env310/bin/python -m pip install --upgrade pip' command.\u001b[0m\n",
      "Note: you may need to restart the kernel to use updated packages.\n"
     ]
    }
   ],
   "source": [
    "%pip install dspy-ai\n",
    "%pip install ipywidgets\n",
    "%pip install IPython\n",
    "%pip install requests"
   ]
  },
  {
   "cell_type": "code",
   "execution_count": 2,
   "metadata": {},
   "outputs": [],
   "source": [
    "import dspy\n",
    "from dspy.datasets import DataLoader\n",
    "import dspy\n",
    "import os\n",
    "import dotenv\n",
    "import requests\n",
    "import pydantic"
   ]
  },
  {
   "cell_type": "markdown",
   "metadata": {},
   "source": [
    "setup DSPy"
   ]
  },
  {
   "cell_type": "code",
   "execution_count": 3,
   "metadata": {},
   "outputs": [],
   "source": [
    "dotenv.load_dotenv()\n",
    "assert 'OPENAI_API_KEY' in os.environ\n",
    "llm = dspy.OpenAI(model='gpt-4o', max_tokens=4096, temperature=0.1)\n",
    "dspy.settings.configure(lm=llm)"
   ]
  },
  {
   "cell_type": "markdown",
   "metadata": {},
   "source": [
    "Download MMLU-Pro"
   ]
  },
  {
   "cell_type": "code",
   "execution_count": 4,
   "metadata": {},
   "outputs": [],
   "source": [
    "dl = DataLoader()\n",
    "mmlu_pro = dl.from_huggingface(\"TIGER-Lab/MMLU-Pro\")\n",
    "validation = mmlu_pro['validation']\n",
    "#display(validation)\n",
    "\n"
   ]
  },
  {
   "cell_type": "markdown",
   "metadata": {},
   "source": [
    "Get 10 random entries and format for DSPy "
   ]
  },
  {
   "cell_type": "code",
   "execution_count": 25,
   "metadata": {},
   "outputs": [
    {
     "data": {
      "text/plain": [
       "[Example({'question_id': 24, 'question': 'Which of the following is not known to be involved in the control of cell division?', 'options': \"['Microtubules', 'Checkpoints', 'DNA polymerase', 'Centrosomes', 'Cyclins', 'Mitochondria', 'Protein kinases', 'Fibroblast cells', 'N/A', 'N/A']\", 'answer': 'H', 'answer_index': '7', 'cot_content': \"A: Let's think step by step. Normal cells move through the cell cycle in a regulated way. At the checkpoint stage, they use information about their own internal state and cues from the environment around them to decide whether to proceed with cell division. Cues like these act by changing the activity of core cell cycle regulators inside the cell. The most common regulators are cyclins and cyclin-dependent kinases. Fibroblast cells do not play any role in cell division. The answer is (H).\", 'category': 'biology', 'src': 'cot_lib-high_school_biology'}) (input_keys={'options', 'question'}),\n",
       " Example({'question_id': 35, 'question': 'For a stationary autoregressive process, shocks will', 'options': \"['Never occur', 'Persist indefinitely', 'Cause a permanent change in the trend', 'Grow exponentially', 'Only affect the next period', 'Eventually die away', 'Cause the process to become non-stationary', 'Immediately disappear', 'Lead to a cyclical pattern', 'Be balanced out by subsequent shocks']\", 'answer': 'F', 'answer_index': '5', 'cot_content': \"A: Let's think step by step. We refer to Wikipedia articles on econometrics for help. This is a formal logic problem about stationally process. For a stationary autoregressive process, shocks will eventually die away. The answer is (F).\", 'category': 'economics', 'src': 'cot_lib-econometrics'}) (input_keys={'options', 'question'}),\n",
       " Example({'question_id': 14, 'question': 'A microwave oven is connected to an outlet, 120 V, and draws a current of 2 amps. At what rate is energy being used by the microwave oven?', 'options': \"['240 W', '120 W', '10 W', '480 W', '360 W', '200 W', '30 W', '150 W', '60 W', '300 W']\", 'answer': 'A', 'answer_index': '0', 'cot_content': \"A: Let's think step by step. Rate of energy usage is known as power; in an dissipative electrical circuit, power is given by voltage times current. So in our case, the power is 120 V times 2 amps, or 240 W. The answer is (A).\", 'category': 'physics', 'src': 'cot_lib-high_school_physics'}) (input_keys={'options', 'question'}),\n",
       " Example({'question_id': 23, 'question': 'Which of the following is not a way to form recombinant DNA?', 'options': \"['Translation', 'Conjugation', 'Specialized transduction', 'Transformation', 'N/A', 'N/A', 'N/A', 'N/A', 'N/A', 'N/A']\", 'answer': 'A', 'answer_index': '0', 'cot_content': \"A: Let's think step by step. The introduction of foreign DNA or RNA into bacteria or eukaryotic cells is a common technique in molecular biology and scientific research. There are multiple ways foreign DNA can be introduced into cells including transformation, transduction, conjugation, and transfection. In contrast, (A) is not a way to form DNA: during translation the ribosomes synthesize proteins from RNA. The answer is (A).\", 'category': 'biology', 'src': 'cot_lib-high_school_biology'}) (input_keys={'options', 'question'}),\n",
       " Example({'question_id': 38, 'question': 'Which of the following policies best describes supply-side fiscal policy?', 'options': \"['Higher taxes on household income', 'Increased government spending', 'Increased taxes on corporate profits', 'Increased import tariffs', 'Decreased interest rates', 'Lower taxes on consumer goods', 'Lower taxes on research and development of new technology', 'Reduced government spending', 'Higher taxes on capital gains', 'An increase in the money supply']\", 'answer': 'G', 'answer_index': '6', 'cot_content': \"A: Let's think step by step. We refer to Wikipedia articles on macroeconomics for help. Supply-side fiscal policy stimulates the economy by encouraging more production of goods and services through reduction in taxes and deregulation. The answer is (G).\", 'category': 'economics', 'src': 'cot_lib-high_school_macroeconomics'}) (input_keys={'options', 'question'}),\n",
       " Example({'question_id': 69, 'question': 'A state has recently enacted a statute prohibiting the disposal of any nuclear wastes within the state. This law does not contravene or conflict with any federal statutes. A man operates a company in the state that is engaged in the disposal of nuclear wastes. Subsequent to the passage of the state statute, the man, not yet aware of the new law, entered into contracts with many out-of-state firms to dispose of their nuclear wastes in the state. On account of this new law, however, the man will be unable to perform these contracts. Assume that the man has standing to challenge this state law. Which of the following presents his strongest constitutional grounds to challenge the state law prohibiting the disposal of nuclear wastes within the state?', 'options': \"['The second amendment - the right to bear arms.', 'The due process clause of the Fourteenth Amendment.', 'The tenth amendment - powers not delegated to the United States by the Constitution.', 'The first amendment - freedom of speech.', 'The privileges and immunities clause of Article IV, Section 2.', 'The commerce clause.', 'The sixth amendment - right to a fair trial.', 'The eighth amendment - prohibition of cruel and unusual punishment.', 'The equal protection clause of the Fourteenth Amendment.', 'N/A']\", 'answer': 'F', 'answer_index': '5', 'cot_content': \"A: Let's think step by step. We refer to Wikipedia articles on law for help. The commerce clause states that Congress shall have the power to regulate commerce with foreign Nations, and among the several States, and with the Indian Tribes. The statute affects inter-state commerce which puts it into question. Hence the man's strongest argument should be the commerce clause. The answer is (F).\", 'category': 'law', 'src': 'cot_lib-professional_law'}) (input_keys={'options', 'question'}),\n",
       " Example({'question_id': 13, 'question': 'Colors in a soap bubble result from light', 'options': \"['dispersion', 'deflection', 'refraction', 'reflection', 'interference', 'converted to a different frequency', 'polarization', 'absorption', 'diffraction', 'transmission']\", 'answer': 'E', 'answer_index': '4', 'cot_content': \"A: Let's think step by step. In a soap bubble film, the light bounces between the two soap-air interfaces many times, interfering with itself constructively or destructively depending on the width of the film. This results in different colors being visible. The answer is (E).\", 'category': 'physics', 'src': 'cot_lib-conceptual_physics'}) (input_keys={'options', 'question'}),\n",
       " Example({'question_id': 28, 'question': 'A new compound is synthesized and found to be a monoprotic acid with a molar mass of 248 g/mol. When 0.0050 mol of this acid are dissolved in 0.500 L of water, the pH is measured as 3.89. What is the pKa of this acid?', 'options': \"['5.78', '4.78', '4.56', '6.89', '7.78', '3.89', '1.23', '2.89', '2.33', '5.33']\", 'answer': 'A', 'answer_index': '0', 'cot_content': \"A: Let's think step by step. Recall that $[A] = [H^{+}]$. Here, this is equal to $$10^{-3.89}$. Then we have $K_{a} = $\\nrac{[H^{+}][A^{-}]}{[HA]} = \\nrac{10^{-3.89} \\\\cdot 10^{-3.89}}{10^{-2}}. The resulting exponent is $-3.89 + (-3.89) - (-2) = 5.78$, therefore $K_a = 10^{-5.78}$. The $pK_a$ is the negative log of $K_a$, which is equal to $5.78$. The answer is (A).\", 'category': 'chemistry', 'src': 'cot_lib-high_school_chemistry'}) (input_keys={'options', 'question'}),\n",
       " Example({'question_id': 17, 'question': 'How can organisational structures that are characterised by democratic and inclusive styles of management be described?', 'options': \"['Flat', 'Bureaucratic', 'Autocratic', 'Hierarchical', 'Functional', 'Decentralized', 'Matrix', 'Network', 'Divisional', 'Centralized']\", 'answer': 'A', 'answer_index': '0', 'cot_content': \"A: Let's think step by step. We refer to Wikipedia articles on management for help. Flat organizational structures are characterized by democratic and inclusive styles of management, and have few (if any) levels of management between the workers and managers.  The answer is (A).\", 'category': 'business', 'src': 'cot_lib-management'}) (input_keys={'options', 'question'}),\n",
       " Example({'question_id': 59, 'question': 'Recent research on hominid species dating from the Middle Pliocene indicates there was (as of 2020):', 'options': \"['multiple hominid species but with limited diversity.', 'a single species with no diversity.', 'decreased species diversity but increased numbers of hammerstones and flakes, indicating stone tool manufacture.', 'a single dominant species that outcompeted all others, leading to decreased diversity.', 'increased species diversity due to a prolonged ice age followed by a severe drought.', 'decreased species diversity due to a prolonged ice age followed by a severe drought.', 'a great amount of species diversity, or a single species that exhibited a lot of diversity.', 'increased species diversity but with decreased population numbers due to harsh climate conditions.', 'increased species diversity but decreased numbers of hammerstones and flakes, indicating less stone tool manufacture.', 'very little species diversity during this period and very few hominids.']\", 'answer': 'G', 'answer_index': '6', 'cot_content': \"A: Let's think step by step. We refer to Wikipedia articles on prehistory for help. Recent research has recognized multiple hominid species from the Middle Pliocene, meaning that there is a great amount of species diversity or diversity in a single species. The answer is (G).\", 'category': 'history', 'src': 'cot_lib-prehistory'}) (input_keys={'options', 'question'})]"
      ]
     },
     "metadata": {},
     "output_type": "display_data"
    }
   ],
   "source": [
    "import random\n",
    "\n",
    "try10 = random.sample(validation, 10)\n",
    "#display(try10)\n",
    "\n",
    "try10ex = [example.with_inputs(\"question\", \"options\") for example in random.sample(validation, 10)]\n",
    "for ex in try10ex:\n",
    "    ex['options'] = str(ex['options'])\n",
    "    ex['answer_index'] = str(ex['answer_index'])\n",
    "display(try10ex)\n"
   ]
  },
  {
   "cell_type": "markdown",
   "metadata": {},
   "source": [
    "maybe someday implement typed inputs...this caused too much trouble"
   ]
  },
  {
   "cell_type": "code",
   "execution_count": 57,
   "metadata": {},
   "outputs": [],
   "source": [
    "# from typing import List\n",
    "# from dspy.functional import TypedPredictor, TypedChainOfThought\n",
    "# from pydantic import BaseModel, Field\n",
    "\n",
    "# class Input(BaseModel):\n",
    "#     question: str = Field(description=\"The question.\")\n",
    "#     #options: List[str] = Field(description=\"A list of options.\")\n",
    "#     options: str = Field(description=\"A list of options.\")\n",
    "\n",
    "# class OutputCode(BaseModel):\n",
    "#     #answer: str = Field(description=\"must be one of the first ten letters in the English alphabet: A,B,C,D,E,F,G,H,I,J\")\n",
    "#     answer_index: str = Field(description=\"must be one of the first ten letters in the English alphabet: A,B,C,D,E,F,G,H,I,J\")\n",
    "#     cot_content: str = Field(description=\"your full rationale for why you chose the answer\")\n",
    "\n"
   ]
  },
  {
   "cell_type": "markdown",
   "metadata": {},
   "source": [
    "Make the signature and the module"
   ]
  },
  {
   "cell_type": "code",
   "execution_count": 8,
   "metadata": {},
   "outputs": [],
   "source": [
    "class MMLUPro(dspy.Signature):\n",
    "    \"\"\"Answer questions with a rationale and a multiple choice answer.\"\"\"\n",
    "\n",
    "    question = dspy.InputField()\n",
    "    options = dspy.InputField()\n",
    "    cot_content = dspy.OutputField(desc=\"your full rationale for why you chose the answer\")\n",
    "    answer_index = dspy.OutputField(desc=\"reply with the index of the correct answer from the options. you must reply with only one choice from 0-9\")\n",
    "    \n",
    "\n"
   ]
  },
  {
   "cell_type": "code",
   "execution_count": 9,
   "metadata": {},
   "outputs": [],
   "source": [
    "class CoTMMLU(dspy.Module):  # let's define a new module\n",
    "    def __init__(self):\n",
    "        super().__init__()\n",
    "       \n",
    "        self.signature = MMLUPro\n",
    "        self.predictor = dspy.ChainOfThought(self.signature)\n",
    "    \n",
    "    def forward(self, question, options):\n",
    "        result = self.predictor(question=question, options=options)\n",
    "        return dspy.Prediction(answer_index=str(result.answer_index), cot_content=str(result.cot_content))\n",
    "\n"
   ]
  },
  {
   "cell_type": "markdown",
   "metadata": {},
   "source": [
    "test just one question to be sure it works"
   ]
  },
  {
   "cell_type": "code",
   "execution_count": 13,
   "metadata": {},
   "outputs": [
    {
     "name": "stdout",
     "output_type": "stream",
     "text": [
      "Sample Question: Why are parvoviruses a highly impactful parasite?\n",
      "Options: [\"They are able to alter the host's DNA\", 'Because they have no nucleic acid', 'They can survive in extreme temperatures', 'Only replicate in dividing cells', 'They can infect multiple species', \"They don't require a host to survive\", 'Can integrate into host chromosomes', 'N/A', 'N/A', 'N/A']\n",
      "Answer Index: 1\n"
     ]
    }
   ],
   "source": [
    "sample_question = try10ex[0]['question']\n",
    "sample_options = try10ex[0]['options']\n",
    "sample_answer_index = try10ex[0]['answer_index']\n",
    "\n",
    "print(\"Sample Question:\", sample_question)\n",
    "print(\"Options:\", sample_options)\n",
    "print(\"Answer Index:\", sample_answer_index)\n",
    "\n",
    "\n"
   ]
  },
  {
   "cell_type": "code",
   "execution_count": 14,
   "metadata": {},
   "outputs": [
    {
     "data": {
      "text/plain": [
       "Prediction(\n",
       "    answer_index='3',\n",
       "    cot_content='Parvoviruses are highly impactful because they can only replicate in dividing cells. This dependency on host cell division means that they can cause significant damage to tissues where cells are rapidly dividing. For example, in dogs, canine parvovirus targets the rapidly dividing cells in the intestines, leading to severe gastrointestinal illness. In humans, parvovirus B19 targets erythroid progenitor cells in the bone marrow, which can lead to conditions like anemia. This specific replication requirement is a key factor in their pathogenicity.'\n",
       ")"
      ]
     },
     "metadata": {},
     "output_type": "display_data"
    }
   ],
   "source": [
    "uncompiled = CoTMMLU()\n",
    "response = uncompiled(question=sample_question, options=str(sample_options))\n",
    "display(response)\n",
    "\n",
    "\n"
   ]
  },
  {
   "cell_type": "code",
   "execution_count": null,
   "metadata": {},
   "outputs": [],
   "source": [
    "llm.inspect_history(n=1)"
   ]
  },
  {
   "cell_type": "markdown",
   "metadata": {},
   "source": [
    "bootstrapfewshot as a simple optimizer...later we can get crazy, just prove the workflow for now."
   ]
  },
  {
   "cell_type": "code",
   "execution_count": 27,
   "metadata": {},
   "outputs": [
    {
     "ename": "NameError",
     "evalue": "name 'CoTMMLU' is not defined",
     "output_type": "error",
     "traceback": [
      "\u001b[0;31m---------------------------------------------------------------------------\u001b[0m",
      "\u001b[0;31mNameError\u001b[0m                                 Traceback (most recent call last)",
      "Cell \u001b[0;32mIn[27], line 12\u001b[0m\n\u001b[1;32m      3\u001b[0m \u001b[38;5;28;01mdef\u001b[39;00m \u001b[38;5;21mcustom_answer_exact_match\u001b[39m(prediction, example, trace\u001b[38;5;241m=\u001b[39m\u001b[38;5;28;01mNone\u001b[39;00m):\n\u001b[1;32m      4\u001b[0m     \u001b[38;5;28;01mreturn\u001b[39;00m prediction\u001b[38;5;241m.\u001b[39manswer_index \u001b[38;5;241m==\u001b[39m example[\u001b[38;5;124m'\u001b[39m\u001b[38;5;124manswer_index\u001b[39m\u001b[38;5;124m'\u001b[39m]\n\u001b[1;32m      6\u001b[0m compiled \u001b[38;5;241m=\u001b[39m BootstrapFewShot(\n\u001b[1;32m      7\u001b[0m     metric\u001b[38;5;241m=\u001b[39mcustom_answer_exact_match,\n\u001b[1;32m      8\u001b[0m     \u001b[38;5;66;03m# num_threads=30,\u001b[39;00m\n\u001b[1;32m      9\u001b[0m     \u001b[38;5;66;03m# num_candidate_programs=5,\u001b[39;00m\n\u001b[1;32m     10\u001b[0m     max_labeled_demos\u001b[38;5;241m=\u001b[39m\u001b[38;5;241m8\u001b[39m,\n\u001b[1;32m     11\u001b[0m )\u001b[38;5;241m.\u001b[39mcompile(\n\u001b[0;32m---> 12\u001b[0m     student\u001b[38;5;241m=\u001b[39m\u001b[43mCoTMMLU\u001b[49m(),\n\u001b[1;32m     13\u001b[0m     trainset\u001b[38;5;241m=\u001b[39mtry10ex,\n\u001b[1;32m     14\u001b[0m )\n",
      "\u001b[0;31mNameError\u001b[0m: name 'CoTMMLU' is not defined"
     ]
    }
   ],
   "source": [
    "from dspy.teleprompt import BootstrapFewShot\n",
    "\n",
    "def custom_answer_exact_match(prediction, example, trace=None):\n",
    "    return prediction.answer_index == example['answer_index']\n",
    "\n",
    "compiled = BootstrapFewShot(\n",
    "    metric=custom_answer_exact_match,\n",
    "    # num_threads=30,\n",
    "    # num_candidate_programs=5,\n",
    "    max_labeled_demos=8,\n",
    ").compile(\n",
    "    student=CoTMMLU(),\n",
    "    trainset=try10ex,\n",
    ")\n",
    "\n"
   ]
  },
  {
   "cell_type": "code",
   "execution_count": null,
   "metadata": {},
   "outputs": [],
   "source": [
    "llm.inspect_history(n=1)"
   ]
  },
  {
   "cell_type": "markdown",
   "metadata": {},
   "source": [
    "get 10 new questions "
   ]
  },
  {
   "cell_type": "code",
   "execution_count": 21,
   "metadata": {},
   "outputs": [
    {
     "data": {
      "text/plain": [
       "[Example({'question_id': 25, 'question': 'Predict the number of lines in the EPR spectrum of a solution of 13C-labelled methyl radical (13CH3•), assuming the lines do not overlap.', 'options': \"['10', '8', '4', '20', '12', '3', '16', '5', '24', '6']\", 'answer': 'B', 'answer_index': '1', 'cot_content': \"A: Let's think step by step. The electron paramagnetic resonance spectrum will be split by two forms of interactions. The first is the hyperfine interaction with the 13C (nuclear spin $I = \\nrac{1}{2}$) which will split the spectrum into 2 lines. This will be further split into 4 lines by the interaction with three equivalent 1H nuclei. The total number of lines is therefore $2 \\\\cdot 4 = 8$. The answer is (B).\", 'category': 'chemistry', 'src': 'cot_lib-college_chemistry'}) (input_keys={'options', 'question'}),\n",
       " Example({'question_id': 64, 'question': 'In terms of Hofstede’s (1980) five cultural dimensions, the United States scores at the top of the scale on:', 'options': \"['individualism and long-term orientation.', 'individualism and power distance.', 'uncertainty avoidance.', 'long-term orientation.', 'individualism.', 'individualism and masculinity.', 'long-term orientation and uncertainty avoidance.', 'power distance.', 'power distance and masculinity.', 'N/A']\", 'answer': 'E', 'answer_index': '4', 'cot_content': \"A: Let's think step by step. We refer to Wikipedia articles on psychology for help. US scores highest on individualism among the five cultural dimensions. The answer is (E).\", 'category': 'psychology', 'src': 'cot_lib-professional_psychology'}) (input_keys={'options', 'question'}),\n",
       " Example({'question_id': 4, 'question': 'A total of 30 players will play basketball at a park. There will be exactly 5 players on each team. Which statement correctly explains how to find the number of teams needed?', 'options': \"['Multiply 5 by 5 to find 25 teams.', 'Divide 30 by 5 to find 6 teams.', 'Add 5 to 30 to find 35 teams.', 'Subtract 30 from 5 to find -25 teams.', 'Divide 5 by 30 to find 0.1667 teams.', 'Add 5 to 30 then divide by 2 to find 17.5 teams.', 'N/A', 'N/A', 'N/A', 'N/A']\", 'answer': 'B', 'answer_index': '1', 'cot_content': \"A: Let's think step by step. We want to find the number of teams. We know that there are 5 players/team, and 30 players. Thus to get the number of teams we divide players by players/team, so 30 players / 5 players/team = 6 teams. The answer is (B).\", 'category': 'math', 'src': 'cot_lib-elementary_mathematics'}) (input_keys={'options', 'question'}),\n",
       " Example({'question_id': 34, 'question': 'In the program below, the initial value of X is 5 and the initial value of Y is 10.\\nIF (X < 0){\\n DISPLAY (\"Foxtrot\")\\n} ELSE {\\n IF (X > Y){\\n  DISPLAY (\"Hotel\")\\n } ELSE {\\n  IF (Y > 0){\\n   DISPLAY (\"November\")\\n  } ELSE {\\n   DISPLAY (\"Yankee\")\\n  }\\n }\\n}\\nWhat is displayed as a result of running the program?', 'options': \"['November', 'Foxtrot', 'Zulu', 'Alpha', 'Charlie', 'Bravo', 'Yankee', 'Echo', 'Hotel', 'Delta']\", 'answer': 'A', 'answer_index': '0', 'cot_content': 'A: Let\\'s think step by step. Because X has the value 5, the first conditional IF (X < 0) is false, so we move to the first ELSE clause. Because X is 5 and Y is 10, the second conditional IF (X > Y) is false, so we move to the following ELSE clause. Since Y is 10, the conditional IF (Y > 0) is true, so the command DISPLAY (\"November\") is executed. The answer is (A).', 'category': 'computer science', 'src': 'cot_lib-high_school_computer_science'}) (input_keys={'options', 'question'}),\n",
       " Example({'question_id': 3, 'question': 'A tank initially contains a salt solution of 3 grams of salt dissolved in 100 liters of water. A salt solution containing 0.02 grams of salt per liter of water is sprayed into the tank at a rate of 4 liters per minute. The sprayed solution is continually mixed with the salt solution in the tank, and the mixture flows out of the tank at a rate of 4 liters per minute. If the mixing is instantaneous, how many grams of salt are in the tank after 100 minutes have elapsed?', 'options': \"['3 + e^-2', '2 - e^-4', '2 - e^-2', '3 + e^-4', '2 + e^-3', '2 - e^-3', '3 - e^-2', '2 + e^-2', '2 + e^-4', '2']\", 'answer': 'I', 'answer_index': '8', 'cot_content': \"A: Let's think step by step. For all $t \\\\in \\\\mathbb{R}$, let $s(t)$ denote the number grams of salt in the tank at the $t$ minute mark. Then $s(0) = 3$.\\nWe use $s$ and $s(t)$ interchangeably. We also use $s^{\\\\prime}$ and $s^{\\\\prime}(t)$ interchangeably. The solution sprayed into the tank adds $(0.02) 4=2 / 25$ grams of salt per minute. There are always 100 liters of liquid in the tank, containing $s$ grams of salt. So the density of salt in the tank is $s / 100$ grams per liter. The flow of water out of the tank therefore subtracts $4(s / 100)=s / 25$ grams of salt per minute. Then, for all $t \\\\in \\\\mathbb{R}$, we have $s^{\\\\prime}(t)=(2 / 25)-(s / 25)=(2-s) / 25$, and so $[s(t)=2] \\\\Rightarrow\\\\left[s^{\\\\prime}(t)=0ight]$. For all $t \\\\in \\\\mathbb{R}$,\\n$$\\n\\x0crac{d}{d t}[\\\\ln (s-2)]=\\x0crac{s^{\\\\prime}}{s-2}=\\x0crac{-1}{25}=\\x0crac{d}{d t}\\\\left[-\\x0crac{t}{25}ight] .\\n$$\\nChoose $C \\\\in \\\\mathbb{R}$ such that, for all $t \\\\in \\\\mathbb{R}, \\\\ln ((s(t)-2))=-[t / 25]+C$. Let $K:=e^{C}$. Then, for all $t \\\\in \\\\mathbb{R}$, we have $(s(t))-2=K e^{-t / 25}$, and so $s(t)=2+K e^{-t / 25}$. Then $3=s(0)=2+K e^{0}=2+K$, so $K=1$. Then $s(100)=2+K e^{-100 / 25}=2+1 \\\\cdot e^{-4}=2+e^{-4}$. The answer is (I).\", 'category': 'math', 'src': 'cot_lib-college_mathematics'}) (input_keys={'options', 'question'}),\n",
       " Example({'question_id': 49, 'question': 'What is the sign of the covenant for Jewish males?', 'options': \"['Fasting on Yom Kippur', 'Lighting Shabbat candles', 'The rainbow', 'Circumcision', 'The Torah', 'Bar mitzvah', 'Keeping kosher', 'Wearing a kippah', 'A son', 'The Star of David']\", 'answer': 'D', 'answer_index': '3', 'cot_content': \"A: Let's think step by step. We refer to Wikipedia articles on world religions for help. In Judaism, the most distinctive sign of the covenant is circumcision (brit milah). The answer is (D).\", 'category': 'philosophy', 'src': 'cot_lib-world_religions'}) (input_keys={'options', 'question'}),\n",
       " Example({'question_id': 22, 'question': 'A mutation in a bacterial enzyme changed a previously polar amino acid into a nonpolar amino acid. This amino acid was located at a site distant from the enzyme’s active site. How might this mutation alter the enzyme’s substrate specificity?', 'options': '[\\'By changing the enzyme’s pH optimum\\', \"By changing the enzyme\\'s molecular weight\", \"An amino acid change away from the active site increases the enzyme\\'s substrate specificity.\", \\'By changing the shape of the protein\\', \"By changing the enzyme\\'s temperature optimum\", \"By altering the enzyme\\'s ability to be denatured\", \\'By changing the enzyme’s location in the cell\\', \"By changing the enzyme\\'s color\", \\'An amino acid change away from the active site cannot alter the enzyme’s substrate specificity.\\', \"By altering the enzyme\\'s rate of reaction\"]', 'answer': 'D', 'answer_index': '3', 'cot_content': \"A: Let's think step by step. A change in an amino acid leads to a change in the primary structure of the protein. A change in the primary structure may lead to a change in the secondary and the tertiary structure of the protein. A change in the tertiary structure means a change in the shape of the protein, so (C) has to be correct. Since the change does not affect the active site of the enzyme, we do not expect the activity of the enzyme to be affected. The answer is (D).\", 'category': 'biology', 'src': 'cot_lib-high_school_biology'}) (input_keys={'options', 'question'}),\n",
       " Example({'question_id': 2, 'question': 'Let A be the set of all ordered pairs of integers (m, n) such that 7m + 12n = 22. What is the greatest negative number in the set B = {m + n : (m, n) \\\\in A}?', 'options': \"['-5', '0', '-3', '-7', '-4', '-6', '-1', '-2', '-9', 'N/A']\", 'answer': 'E', 'answer_index': '4', 'cot_content': \"A: Let's think step by step. We have 12n = 22 - 7m and one of the solutions is $m = -2$, $n = 3$. Then $m + n = 1$, hence we need to look for smaller $m$ in order to make $m + n$ negative. The next solution is $m = -14$ and $n = 10$. For smaller $m$ we have $m + n$ smaller than $-4$. The answer is (E).\", 'category': 'math', 'src': 'cot_lib-college_mathematics'}) (input_keys={'options', 'question'}),\n",
       " Example({'question_id': 16, 'question': '_______ is the direct attempt to formally or informally manage ethical issues or problems, through specific policies, practices and programmes.', 'options': \"['Operational management', 'Corporate governance', 'Environmental management', 'Business ethics management', 'Sustainability', 'Stakeholder management', 'Social marketing', 'Human resource management', 'N/A', 'N/A']\", 'answer': 'D', 'answer_index': '3', 'cot_content': \"A: Let's think step by step. We refer to Wikipedia articles on business ethics for help. The direct attempt manage ethical issues through specific policies, practices, and programs is business ethics management. The answer is (D).\", 'category': 'business', 'src': 'cot_lib-business_ethics'}) (input_keys={'options', 'question'}),\n",
       " Example({'question_id': 19, 'question': 'In an organization, the group of people tasked with buying decisions is referred to as the _______________.', 'options': \"['Procurement centre.', 'Chief executive unit.', 'Resources allocation group.', 'Marketing department.', 'Purchasing department.', 'Supply chain management team.', 'Outsourcing unit.', 'Decision-making unit.', 'Operations unit.', 'Financial management team.']\", 'answer': 'H', 'answer_index': '7', 'cot_content': \"A: Let's think step by step. We refer to Wikipedia articles on marketing for help. In an organization, the group of the people tasked with buying decision is referred to as the decision-making unit. The answer is (H).\", 'category': 'business', 'src': 'cot_lib-marketing'}) (input_keys={'options', 'question'})]"
      ]
     },
     "metadata": {},
     "output_type": "display_data"
    }
   ],
   "source": [
    "import random\n",
    "try10 = random.sample(validation, 10)\n",
    "#display(try10)\n",
    "\n",
    "try10test = [example.with_inputs(\"question\", \"options\") for example in random.sample(validation, 10)]\n",
    "for ex in try10test:\n",
    "    ex['options'] = str(ex['options'])\n",
    "    ex['answer_index'] = str(ex['answer_index'])\n",
    "display(try10test)"
   ]
  },
  {
   "cell_type": "markdown",
   "metadata": {},
   "source": [
    "evaluate uncompiled vs compiled on the 10 new questions"
   ]
  },
  {
   "cell_type": "code",
   "execution_count": 17,
   "metadata": {},
   "outputs": [
    {
     "name": "stdout",
     "output_type": "stream",
     "text": [
      "uncompiled\n"
     ]
    },
    {
     "name": "stderr",
     "output_type": "stream",
     "text": [
      "Average Metric: 9 / 10  (90.0): 100%|██████████| 10/10 [00:38<00:00,  3.86s/it]\n"
     ]
    },
    {
     "name": "stdout",
     "output_type": "stream",
     "text": [
      "Average Metric: 9 / 10  (90.0%)\n",
      "---\n",
      "compiled\n"
     ]
    },
    {
     "name": "stderr",
     "output_type": "stream",
     "text": [
      "Average Metric: 9 / 10  (90.0): 100%|██████████| 10/10 [00:44<00:00,  4.46s/it]"
     ]
    },
    {
     "name": "stdout",
     "output_type": "stream",
     "text": [
      "Average Metric: 9 / 10  (90.0%)\n",
      "---\n"
     ]
    },
    {
     "name": "stderr",
     "output_type": "stream",
     "text": [
      "\n"
     ]
    }
   ],
   "source": [
    "from dspy.evaluate import Evaluate\n",
    "\n",
    "# Set up the evaluator, which can be re-used in your code.\n",
    "#evaluator = Evaluate(devset=try10test, num_threads=1, display_progress=True, display_table=5)\n",
    "evaluator = Evaluate(devset=try10test, num_threads=1, display_progress=True)\n",
    "\n",
    "# Launch evaluation.\n",
    "print(\"uncompiled\")\n",
    "evaluator(uncompiled, metric=custom_answer_exact_match)\n",
    "print(\"---\")\n",
    "print(\"compiled\")\n",
    "evaluator(compiled, metric=custom_answer_exact_match)\n",
    "print(\"---\")\n",
    "\n"
   ]
  },
  {
   "cell_type": "markdown",
   "metadata": {},
   "source": [
    "now we're going to try to use chris dossman's implementation of self-discover\n",
    "https://colab.research.google.com/drive/1GkAQKmw1XQgg5UNzzy8OncRe79V6pADB?usp=sharing\n",
    "https://arxiv.org/pdf/2402.03620.pdf"
   ]
  },
  {
   "cell_type": "code",
   "execution_count": 5,
   "metadata": {},
   "outputs": [],
   "source": [
    "# Usage example\n",
    "reasoning_modules = [\n",
    "    \"How could I devise an experiment to help solve that problem?\",\n",
    "    \"Make a list of ideas for solving this problem, and apply them one by one to the problem to see if any progress can be made.\",\n",
    "    \"How could I measure progress on this problem?\",\n",
    "    \"How can I simplify the problem so that it is easier to solve?\",\n",
    "    \"What are the key assumptions underlying this problem?\",\n",
    "    \"What are the potential risks and drawbacks of each solution?\",\n",
    "    \"What are the alternative perspectives or viewpoints on this problem?\",\n",
    "    \"What are the long-term implications of this problem and its solutions?\",\n",
    "    \"How can I break down this problem into smaller, more manageable parts?\",\n",
    "    \"Critical Thinking: This style involves analyzing the problem from different perspectives, questioning assumptions, and evaluating the evidence or information available. It focuses on logical reasoning, evidence-based decision-making, and identifying potential biases or flaws in thinking.\",\n",
    "    \"Try creative thinking, generate innovative and out-of-the-box ideas to solve the problem. Explore unconventional solutions, thinking beyond traditional boundaries, and encouraging imagination and originality.\",\n",
    "    \"Seek input and collaboration from others to solve the problem. Emphasize teamwork, open communication, and leveraging the diverse perspectives and expertise of a group to come up with effective solutions.\",\n",
    "    \"Use systems thinking: Consider the problem as part of a larger system and understanding the interconnectedness of various elements. Focuses on identifying the underlying causes, feedback loops, and interdependencies that influence the problem, and developing holistic solutions that address the system as a whole.\",\n",
    "    \"Use Risk Analysis: Evaluate potential risks, uncertainties, and tradeoffs associated with different solutions or approaches to a problem. Emphasize assessing the potential consequences and likelihood of success or failure, and making informed decisions based on a balanced analysis of risks and benefits.\",\n",
    "    \"Use Reflective Thinking: Step back from the problem, take the time for introspection and self-reflection. Examine personal biases, assumptions, and mental models that may influence problem-solving, and being open to learning from past experiences to improve future approaches.\",\n",
    "    \"What is the core issue or problem that needs to be addressed?\",\n",
    "    \"What are the underlying causes or factors contributing to the problem?\",\n",
    "    \"Are there any potential solutions or strategies that have been tried before? If yes, what were the outcomes and lessons learned?\",\n",
    "    \"What are the potential obstacles or challenges that might arise in solving this problem?\",\n",
    "    \"Are there any relevant data or information that can provide insights into the problem? If yes, what data sources are available, and how can they be analyzed?\",\n",
    "    \"Are there any stakeholders or individuals who are directly affected by the problem? What are their perspectives and needs?\",\n",
    "    \"What resources (financial, human, technological, etc.) are needed to tackle the problem effectively?\",\n",
    "    \"How can progress or success in solving the problem be measured or evaluated?\",\n",
    "    \"What indicators or metrics can be used?\",\n",
    "    \"Is the problem a technical or practical one that requires a specific expertise or skill set? Or is it more of a conceptual or theoretical problem?\",\n",
    "    \"Does the problem involve a physical constraint, such as limited resources, infrastructure, or space?\",\n",
    "    \"Is the problem related to human behavior, such as a social, cultural, or psychological issue?\",\n",
    "    \"Does the problem involve decision-making or planning, where choices need to be made under uncertainty or with competing objectives?\",\n",
    "    \"Is the problem an analytical one that requrires data analysis, modeling, or optimization techniques?\",\n",
    "    \"Is the problem a design challenge that requires creative solutions and innovation?\",\n",
    "    \"Does the problem require addressing systemic or structural issues rather than just individual instances?\",\n",
    "    \"Is the problem time-sensitive or urgent, requiring immediate attention and action?\",\n",
    "    \"What kinds of solution typically are produced for this kind of problem specification?\",\n",
    "    \"Given the problem specification and the current best solution, have a guess about other possible solutions.\",\n",
    "    \"Let’s imagine the current best solution is totally wrong, what other ways are there to think about the problem specification?\",\n",
    "    \"What is the best way to modify this current best solution, given what you know about these kinds of problem specification?\",\n",
    "    \"Ignoring the current best solution, create an entirely new solution to the problem.\",\n",
    "    \"Let’s think step by step.\",\n",
    "    \"Let’s make a step by step plan and implement it with good notion and explanation.\"\n",
    "]\n",
    "seed_modules_str = '\"'+ '\",\"'.join(reasoning_modules)  # for a newline-separated string"
   ]
  },
  {
   "cell_type": "markdown",
   "metadata": {},
   "source": [
    "# SelectModules\n",
    "### Purpose\n",
    "\n",
    "Selects appropriate reasoning modules from a predefined set based on the input task description.\n",
    "\n",
    "### Parameters\n",
    "\n",
    "question: The task or question to be solved.\n",
    "\n",
    "reasoning_modules: A list of available reasoning modules.\n",
    "\n",
    "### Returns\n",
    "\n",
    "A dictionary containing selected modules tailored to the task at hand."
   ]
  },
  {
   "cell_type": "code",
   "execution_count": 8,
   "metadata": {},
   "outputs": [
    {
     "name": "stderr",
     "output_type": "stream",
     "text": [
      " 25%|██▌       | 1/4 [00:18<00:56, 18.92s/it]"
     ]
    },
    {
     "name": "stdout",
     "output_type": "stream",
     "text": [
      "Failed to load predicted selected modules: Extra data: line 3 column 1 (char 493)\n"
     ]
    },
    {
     "name": "stderr",
     "output_type": "stream",
     "text": [
      " 50%|█████     | 2/4 [00:37<00:37, 18.96s/it]"
     ]
    },
    {
     "name": "stdout",
     "output_type": "stream",
     "text": [
      "Failed to load predicted selected modules: Extra data: line 3 column 1 (char 1131)\n"
     ]
    },
    {
     "name": "stderr",
     "output_type": "stream",
     "text": [
      " 75%|███████▌  | 3/4 [00:57<00:19, 19.26s/it]"
     ]
    },
    {
     "name": "stdout",
     "output_type": "stream",
     "text": [
      "Failed to load predicted selected modules: Extra data: line 3 column 1 (char 696)\n"
     ]
    },
    {
     "name": "stderr",
     "output_type": "stream",
     "text": [
      "100%|██████████| 4/4 [01:21<00:00, 20.36s/it]"
     ]
    },
    {
     "name": "stdout",
     "output_type": "stream",
     "text": [
      "Bootstrapped 0 full traces after 4 examples in round 0.\n"
     ]
    },
    {
     "name": "stderr",
     "output_type": "stream",
     "text": [
      "\n"
     ]
    }
   ],
   "source": [
    "import json\n",
    "from dspy.teleprompt import BootstrapFewShot\n",
    "# Define some example input-output pairs for module selection\n",
    "module_selection_examples = [\n",
    "    dspy.Example(\n",
    "        task_description=\"How to improve customer satisfaction for an online store?\",\n",
    "        seed_modules=json.dumps(reasoning_modules),\n",
    "        selected_modules=json.dumps([\n",
    "            \"Seek input and collaboration from others to solve the problem. Emphasize teamwork, open communication, and leveraging the diverse perspectives and expertise of a group to come up with effective solutions.\",\n",
    "            \"Use Reflective Thinking: Step back from the problem, take the time for introspection and self-reflection. Examine personal biases, assumptions, and mental models that may influence problem-solving, and being open to learning from past experiences to improve future approaches.\",\n",
    "            \"What are the underlying causes or factors contributing to the problem?\",\n",
    "            \"What are the potential obstacles or challenges that might arise in solving this problem?\"\n",
    "        ])\n",
    "    ).with_inputs('task_description', 'seed_modules'),\n",
    "    dspy.Example(\n",
    "        task_description=\"How to optimize the supply chain for a manufacturing company?\",\n",
    "        seed_modules=json.dumps(reasoning_modules),\n",
    "        selected_modules=json.dumps([\n",
    "            \"Use systems thinking: Consider the problem as part of a larger system and understanding the interconnectedness of various elements. Focuses on identifying the underlying causes, feedback loops, and interdependencies that influence the problem, and developing holistic solutions that address the system as a whole.\",\n",
    "            \"What are the key assumptions underlying this problem?\",\n",
    "            \"Is the problem an analytical one that requires data analysis, modeling, or optimization techniques?\",\n",
    "            \"Does the problem involve decision-making or planning, where choices need to be made under uncertainty or with competing objectives?\"\n",
    "        ])\n",
    "    ).with_inputs('task_description', 'seed_modules'),\n",
    "    dspy.Example(\n",
    "        task_description=\"How many numbers between 1 and 2005 are integer multiples of 3 or 4 but not 12?\",\n",
    "        seed_modules=json.dumps(reasoning_modules),\n",
    "        selected_modules=json.dumps([\n",
    "            \"What is the core issue or problem that needs to be addressed?\",\n",
    "            \"How can I measure progress on this problem?\",\n",
    "            \"What kinds of solution typically are produced for this kind of problem specification?\",\n",
    "            \"Given the problem specification and the current best solution, have a guess about other possible solutions.\",\n",
    "            \"Let’s think step by step.\",\n",
    "            \"Let’s make a step by step plan and implement it with good notion and explanation.\"\n",
    "        ])\n",
    "    ).with_inputs('task_description', 'seed_modules'),\n",
    "    dspy.Example(\n",
    "        task_description=\"How many numbers are in the list 6,7,10,11,14,15,..., 94,95,98?\",\n",
    "        seed_modules=json.dumps(reasoning_modules),\n",
    "        selected_modules=json.dumps([\n",
    "            \"What is the core issue or problem that needs to be addressed?\",\n",
    "            \"How can I simplify the problem so that it is easier to solve?\",\n",
    "            \"How can I measure progress on this problem?\",\n",
    "            \"What is the best way to modify this current best solution, given what you know about these kinds of problem specification?\",\n",
    "            \"Ignoring the current best solution, create an entirely new solution to the problem.\",\n",
    "            \"Let’s think step by step.\",\n",
    "            \"Let’s make a step by step plan and implement it with good notion and explanation.\"\n",
    "        ])\n",
    "    ).with_inputs('task_description', 'seed_modules')\n",
    "]\n",
    "# Update the signatures to include a mechanism for passing extra context\n",
    "class SelectModulesSignature(dspy.Signature):\n",
    "    \"\"\"\"Select several reasoning modules that are crucial to utilize in order to solve the given task, print the complete reasoning module to pass validation\"\"\"\n",
    "    task_description = dspy.InputField(prefix=\"Task(s) Description:\", desc=\"The task(s) to solve.\")\n",
    "    seed_modules = dspy.InputField(prefix=\"Relevant Reasoning Modules:\", desc=\"List of relevant reasoning modules to solve task(s) with.\")\n",
    "    selected_modules = dspy.OutputField(prefix=\"Selected Reasoning Modules (No Hallucinations and write out the whole reasoning module). DO NOT SOLVE THE PROBLEM:\", desc=\"['module_1', 'module_2', ...]\")\n",
    "\n",
    "# Module Selection\n",
    "class SelectModules(dspy.Module):\n",
    "    def __init__(self):\n",
    "        super().__init__()\n",
    "        self.select_modules = dspy.ChainOfThought(SelectModulesSignature)\n",
    "\n",
    "    def forward(self, task_description, seed_modules):\n",
    "        seed_modules_json = json.dumps(seed_modules)\n",
    "        prediction = self.select_modules(task_description=task_description, seed_modules=seed_modules_json)\n",
    "        selected_modules = prediction.selected_modules\n",
    "        # Assert that the selected_modules output is in JSON format\n",
    "\n",
    "        return dspy.Prediction(selected_modules=selected_modules)\n",
    "\n",
    "\n",
    "def validate_selected_modules_against_reasoning_modules(example, prediction, something_else):\n",
    "    # Convert reasoning_modules from JSON string to Python list\n",
    "    try:\n",
    "        predicted_selected_modules_list = json.loads(prediction.selected_modules)\n",
    "    except Exception as e:\n",
    "        print(f'Failed to load predicted selected modules: {e}')\n",
    "        return False\n",
    "    return all(module in reasoning_modules for module in predicted_selected_modules_list)\n",
    "\n",
    "# Set up a basic teleprompter for module selection\n",
    "teleprompter_selection = BootstrapFewShot(metric=validate_selected_modules_against_reasoning_modules)\n",
    "\n",
    "# Compile the SelectModules module\n",
    "compiled_select_modules = teleprompter_selection.compile(SelectModules(), trainset=module_selection_examples)"
   ]
  },
  {
   "cell_type": "markdown",
   "metadata": {},
   "source": [
    "TODO: solve for \"Failed to load predicted selected modules: Extra data: line 3 column 1 (char 696)\" with Pydantic typing...\n",
    "\n",
    "Test for select modules"
   ]
  },
  {
   "cell_type": "code",
   "execution_count": 9,
   "metadata": {},
   "outputs": [
    {
     "data": {
      "text/plain": [
       "'[\"What is the core issue or problem that needs to be addressed?\", \"How can I simplify the problem so that it is easier to solve?\", \"Critical Thinking: This style involves analyzing the problem from different perspectives, questioning assumptions, and evaluating the evidence or information available. It focuses on logical reasoning, evidence-based decision-making, and identifying potential biases or flaws in thinking.\", \"Let’s think step by step.\", \"Let’s make a step by step plan and implement it with good notion and explanation.\"]\\n\\n---'"
      ]
     },
     "execution_count": 9,
     "metadata": {},
     "output_type": "execute_result"
    }
   ],
   "source": [
    "task_description = 'How many primes are in the row of Pascal’s Triangle that starts with a 1 followed by a 6?'\n",
    "prediction = compiled_select_modules.forward(task_description=task_description, seed_modules=reasoning_modules)['selected_modules']\n",
    "prediction"
   ]
  },
  {
   "cell_type": "markdown",
   "metadata": {},
   "source": [
    "# AdaptModules\n",
    "### Purpose\n",
    "\n",
    "Adapts the selected reasoning modules to the specific context and requirements of the task.\n",
    "\n",
    "\n",
    "### Parameters\n",
    "\n",
    "selected_modules: The modules selected by the SelectModules component.\n",
    "\n",
    "question: The task or question to be solved.\n",
    "### Returns\n",
    " \n",
    "A dictionary of adapted modules ready for implementation in solving the task."
   ]
  },
  {
   "cell_type": "code",
   "execution_count": 10,
   "metadata": {},
   "outputs": [
    {
     "name": "stderr",
     "output_type": "stream",
     "text": [
      "100%|██████████| 3/3 [00:27<00:00,  9.01s/it]"
     ]
    },
    {
     "name": "stdout",
     "output_type": "stream",
     "text": [
      "Bootstrapped 3 full traces after 3 examples in round 0.\n"
     ]
    },
    {
     "name": "stderr",
     "output_type": "stream",
     "text": [
      "\n"
     ]
    }
   ],
   "source": [
    "# Define some example input-output pairs for module adaptation\n",
    "module_adaptation_examples = [\n",
    "    dspy.Example(\n",
    "        task_description=\"How many numbers between 1 and 2005 are integer multiples of 3 or 4 but not 12?\",\n",
    "        selected_modules=json.dumps([\n",
    "            \"What is the core issue or problem that needs to be addressed?\",\n",
    "            \"How can I measure progress on this problem?\",\n",
    "            \"What kinds of solution typically are produced for this kind of problem specification?\",\n",
    "            \"Given the problem specification and the current best solution, have a guess about other possible solutions.\",\n",
    "            \"Let’s think step by step.\",\n",
    "            \"Let’s make a step by step plan and implement it with good notion and explanation.\"\n",
    "        ]),\n",
    "        adapted_modules=json.dumps([\n",
    "            \"Identify the mathematical pattern or rule that defines the set of numbers.\",\n",
    "            \"Determine a method to count the numbers that fit the criteria without enumerating each one.\",\n",
    "            \"Consider the inclusion-exclusion principle to avoid overcounting numbers that are multiples of both 3 and 4.\",\n",
    "            \"Estimate the number of multiples within the range and adjust for the exclusion of multiples of 12.\",\n",
    "            \"Break down the problem into smaller parts: count multiples of 3, multiples of 4, and then exclude multiples of 12.\",\n",
    "            \"Implement a systematic approach to calculate the final count, ensuring all criteria are met.\"\n",
    "        ])\n",
    "    ).with_inputs('task_description', 'selected_modules'),\n",
    "    dspy.Example(\n",
    "        task_description=\"A restaurant offers three desserts, and exactly twice as many appetizers as main courses. A dinner consists of an appetizer, a main course, and a dessert. What is the least number of main courses that the restaurant should offer so that a customer could have a different dinner each night in the year 2003?\",\n",
    "        selected_modules=json.dumps([\n",
    "            \"What is the core issue or problem that needs to be addressed?\",\n",
    "            \"How can I simplify the problem so that it is easier to solve?\",\n",
    "            \"Is the problem an analytical one that requires data analysis, modeling, or optimization techniques?\",\n",
    "            \"Let’s think step by step.\",\n",
    "            \"Let’s make a step by step plan and implement it with good notion and explanation.\"\n",
    "        ]),\n",
    "        adapted_modules=json.dumps([\n",
    "            \"Determine the total number of dinner combinations needed to cover all nights in the year 2003.\",\n",
    "            \"Recognize that the number of dinners is the product of the number of choices for each course.\",\n",
    "            \"Formulate the problem as an equation based on the given ratios and the total number of combinations required.\",\n",
    "            \"Solve the equation to find the minimum number of main courses needed.\",\n",
    "            \"Verify the solution by ensuring that the number of possible dinners exceeds the number of days in the year 2003.\"\n",
    "        ])\n",
    "    ).with_inputs('task_description', 'selected_modules'),\n",
    "    dspy.Example(\n",
    "        task_description=\"How many ways are there to arrange 6 people around a circular table with 7 seats? (Two seatings are considered the same if one is a rotation of the other.)\",\n",
    "        selected_modules=json.dumps([\n",
    "            \"What is the core issue or problem that needs to be addressed?\",\n",
    "            \"Is the problem an analytical one that requires data analysis, modeling, or optimization techniques?\",\n",
    "            \"Let’s think step by step.\",\n",
    "            \"Let’s make a step by step plan and implement it with good notion and explanation.\"\n",
    "        ]),\n",
    "        adapted_modules=json.dumps([\n",
    "            \"Understand the concept of circular permutations and how they differ from linear permutations.\",\n",
    "            \"Recognize that one seat can be fixed to account for rotational symmetry, reducing the problem to a linear permutation.\",\n",
    "            \"Calculate the number of ways to arrange the remaining people in the available seats.\",\n",
    "            \"Consider any constraints or special cases that may affect the arrangement.\",\n",
    "            \"Conclude with the total number of distinct circular arrangements for the given scenario.\"\n",
    "        ])\n",
    "    ).with_inputs('task_description', 'selected_modules')\n",
    "    # Add more examples as needed\n",
    "]\n",
    "\n",
    "# Define the signature for module adaptation\n",
    "class AdaptModulesSignature(dspy.Signature):\n",
    "    \"\"\"Rephrase and specify each reasoning module so that it better helps solving the task.\"\"\"\n",
    "    selected_modules = dspy.InputField(prefix=\"Selected Reasoning Modukes:\", desc=\"The selected reasoning modules to use for the task.\")\n",
    "    task_description = dspy.InputField(prefix=\"Task(s) Description:\", desc=\"The task description.\")\n",
    "    adapted_modules = dspy.OutputField(prefix=\"Adapted Modules:\", desc=\"['adapted_reasoning_module_1','adapted_reasoning_module_2','adapted_reasoning_module_N']\")\n",
    "\n",
    "# Implement the module for adapting reasoning modules\n",
    "class AdaptModules(dspy.Module):\n",
    "    def __init__(self):\n",
    "        super().__init__()\n",
    "        self.adapt_modules = dspy.ChainOfThought(AdaptModulesSignature)\n",
    "\n",
    "    def forward(self, selected_modules, task_description):\n",
    "        selected_modules_json = json.dumps(selected_modules)\n",
    "        prediction = self.adapt_modules(selected_modules=selected_modules_json, task_description=task_description)\n",
    "        adapted_modules = []  # Initialize adapted_modules to an empty list\n",
    "        try:\n",
    "            cleaned_output = json.dumps(prediction.adapted_modules.strip())\n",
    "            adapted_modules = json.loads(cleaned_output)\n",
    "        except Exception as e:\n",
    "            print(f'Failed to load adapted modules: {e}')\n",
    "        return dspy.Prediction(adapted_modules=adapted_modules)\n",
    "\n",
    "# Validation logic for module adaptation\n",
    "def validate_adapted_modules(example, pred, trace=None):\n",
    "    # gold_adapted_modules = json.loads(example.adapted_modules)\n",
    "    # predicted_adapted_modules = pred.adapted_modules\n",
    "    return True# set(gold_adapted_modules) == set(predicted_adapted_modules)\n",
    "\n",
    "# Set up a basic teleprompter for module adaptation\n",
    "teleprompter_adaptation = BootstrapFewShot(metric=validate_adapted_modules)\n",
    "\n",
    "# Compile the AdaptModules module\n",
    "compiled_adapt_modules = teleprompter_adaptation.compile(AdaptModules(), trainset=module_adaptation_examples)"
   ]
  },
  {
   "cell_type": "markdown",
   "metadata": {},
   "source": [
    "Test for adapted Modules"
   ]
  },
  {
   "cell_type": "code",
   "execution_count": 11,
   "metadata": {},
   "outputs": [
    {
     "data": {
      "text/plain": [
       "\"1. **Identify the specific row in Pascal's Triangle**: Determine which row in Pascal's Triangle starts with 1 followed by 6.\\n2. **Calculate the binomial coefficients**: Compute the binomial coefficients for the identified row.\\n3. **Check for primality**: Determine which of the binomial coefficients are prime numbers.\\n4. **Count the prime numbers**: Count the number of prime numbers in the identified row.\\n5. **Verify the results**: Ensure that all steps are correctly followed and the count of prime numbers is accurate.\""
      ]
     },
     "execution_count": 11,
     "metadata": {},
     "output_type": "execute_result"
    }
   ],
   "source": [
    "task_description = 'How many primes are in the row of Pascal’s Triangle that starts with a 1 followed by a 6?'\n",
    "selected_modules = ['What is the core issue or problem that needs to be addressed?',\n",
    " 'Is the problem an analytical one that requires data analysis, modeling, or optimization techniques?',\n",
    " 'Let’s think step by step.',\n",
    " 'Let’s make a step by step plan and implement it with good notion and explanation.']\n",
    "\n",
    "prediction = compiled_adapt_modules.forward(task_description=task_description, selected_modules=selected_modules)\n",
    "prediction['adapted_modules']"
   ]
  },
  {
   "cell_type": "markdown",
   "metadata": {},
   "source": [
    "#ImplementStructure\n",
    "###Purpose\n",
    "\n",
    "Translates the adapted modules into a concrete, step-by-step reasoning structure in JSON format.\n",
    "\n",
    "\n",
    "###Parameters\n",
    "\n",
    "adapted_modules: Adapted modules from the AdaptModules component.\n",
    "\n",
    "task_description: Detailed description of the task to be solved.\n",
    "\n",
    "###Returns\n",
    "\n",
    "A JSON object detailing the step-by-step reasoning structure for solving the task."
   ]
  },
  {
   "cell_type": "code",
   "execution_count": 14,
   "metadata": {},
   "outputs": [
    {
     "name": "stderr",
     "output_type": "stream",
     "text": [
      "100%|██████████| 2/2 [00:00<00:00, 1546.57it/s]"
     ]
    },
    {
     "name": "stdout",
     "output_type": "stream",
     "text": [
      "Bootstrapped 2 full traces after 2 examples in round 0.\n"
     ]
    },
    {
     "name": "stderr",
     "output_type": "stream",
     "text": [
      "\n"
     ]
    }
   ],
   "source": [
    "import re\n",
    "implement_structure_examples = [\n",
    "    dspy.Example(\n",
    "        task_description='This SVG path element <path d=\"M 55.57,80.69 L 57.38,65.80 M 57.38,65.80 L 48.90,57.46 M 48.90,57.46 L 45.58,47.78 M 45.58,47.78 L 53.25,36.07 L 66.29,48.90 L 78.69,61.09 L 55.57,80.69\"/> draws a:(A) circle (B) heptagon (C) hexagon (D) kite (E) line (F) octagon (G) pentagon(H) rectangle (I) sector (J) triangle)',\n",
    "        adapted_modules=json.dumps([\n",
    "            \"Analyze the SVG path commands and coordinates to understand the shape being drawn.\",\n",
    "            \"Visualize the sequence of moves and lines to form a mental image of the resulting shape.\",\n",
    "            \"Compare the visualized shape with the characteristics of known geometric shapes to identify a match.\",\n",
    "            \"Use pattern recognition and knowledge of geometric properties to interpret the SVG path.\",\n",
    "            \"Verify the conclusion by sketching or digitally rendering the SVG path to ensure accuracy.\"\n",
    "        ]),\n",
    "        reasoning_structure=json.dumps({\n",
    "            \"steps\": [\n",
    "                {\n",
    "                    \"step\": 1,\n",
    "                    \"description\": \"Examine the SVG path commands and break them down into individual movements and lines.\",\n",
    "                    \"action\": \"Identify each command in the SVG path and understand its function, such as moving to a new starting point or drawing a line.\"\n",
    "                },\n",
    "                {\n",
    "                    \"step\": 2,\n",
    "                    \"description\": \"Analyze the Move to Command (M) and Line to Command (L) within the SVG path.\",\n",
    "                    \"action\": \"Determine the starting points and the end points of each line segment to visualize the shape being drawn.\"\n",
    "                },\n",
    "                {\n",
    "                    \"step\": 3,\n",
    "                    \"description\": \"Visualize the sequence of moves and lines to form a mental image of the resulting shape.\",\n",
    "                    \"action\": \"Use the coordinates provided by the path commands to plot the points and connect them in the order they appear.\"\n",
    "                },\n",
    "                {\n",
    "                    \"step\": 4,\n",
    "                    \"description\": \"Compare the visualized shape with the characteristics of known geometric shapes to identify a match.\",\n",
    "                    \"action\": \"Assess the number of sides, angles, and other geometric properties to classify the shape.\"\n",
    "                },\n",
    "                {\n",
    "                    \"step\": 5,\n",
    "                    \"description\": \"Use pattern recognition and knowledge of geometric properties to interpret the SVG path.\",\n",
    "                    \"action\": \"Apply knowledge of geometric shapes to determine if the path represents a common geometric figure.\"\n",
    "                },\n",
    "                {\n",
    "                    \"step\": 6,\n",
    "                    \"description\": \"Verify the conclusion by sketching or digitally rendering the SVG path to ensure accuracy.\",\n",
    "                    \"action\": \"Create a visual representation of the path to confirm the shape identified in the previous steps.\"\n",
    "                }\n",
    "            ],\n",
    "            \"conclusion\": {\n",
    "                \"description\": \"Synthesize the information from the analysis to determine the geometric shape represented by the SVG path.\",\n",
    "                \"action\": \"Review the visual representation and the properties of the shape to conclude the type of geometric figure it represents.\"\n",
    "            }\n",
    "        })\n",
    "    ).with_inputs('task_description', 'adapted_modules'),\n",
    "    dspy.Example(\n",
    "        task_description='A customer ordered 15 pieces of gourmet chocolate. The order can be packaged in small boxes that contain 1, 2 or 4 pieces of chocolate. Any box that is used must be full. How many different combinations of boxes can be used for the customer’s 15 chocolate pieces? One such combination to be included is to use seven 2-piece boxes and one 1-piece box.',\n",
    "        adapted_modules=json.dumps([\n",
    "            \"Identify the constraints on box sizes and the requirement for boxes to be full.\",\n",
    "            \"Systematically explore all combinations of box sizes that sum up to 15 pieces of chocolate.\",\n",
    "            \"Iterate through possible numbers of 4-piece boxes, adjusting for the remaining pieces.\",\n",
    "            \"For each number of 4-piece boxes, iterate through possible numbers of 2-piece boxes, adjusting for the remaining pieces.\",\n",
    "            \"Determine if the remaining pieces can be filled with 1-piece boxes for each combination of 4-piece and 2-piece boxes.\",\n",
    "            \"Ensure all possible combinations are accounted for without duplication.\"\n",
    "        ]),\n",
    "        reasoning_structure=json.dumps({\n",
    "            \"steps\": [\n",
    "                {\n",
    "                    \"step\": 1,\n",
    "                    \"description\": \"Identify the constraints on box sizes and the requirement for boxes to be full.\",\n",
    "                    \"action\": \"Note that boxes can only contain 1, 2, or 4 pieces of chocolate and must be full.\"\n",
    "                },\n",
    "                {\n",
    "                    \"step\": 2,\n",
    "                    \"description\": \"Systematically explore all combinations of box sizes that sum up to 15 pieces of chocolate.\",\n",
    "                    \"action\": \"Start with combinations involving the largest box size and work down to the smallest.\"\n",
    "                },\n",
    "                {\n",
    "                    \"step\": 3,\n",
    "                    \"description\": \"Iterate through possible numbers of 4-piece boxes, adjusting for the remaining pieces.\",\n",
    "                    \"action\": \"Calculate how many pieces are left after using 0, 1, 2, or 3 boxes of 4 pieces.\"\n",
    "                },\n",
    "                {\n",
    "                    \"step\": 4,\n",
    "                    \"description\": \"For each number of 4-piece boxes, iterate through possible numbers of 2-piece boxes, adjusting for the remaining pieces.\",\n",
    "                    \"action\": \"For each scenario from step 3, calculate how many 2-piece boxes can be used with the remaining pieces.\"\n",
    "                },\n",
    "                {\n",
    "                    \"step\": 5,\n",
    "                    \"description\": \"Determine if the remaining pieces can be filled with 1-piece boxes for each combination of 4-piece and 2-piece boxes.\",\n",
    "                    \"action\": \"Check if the remaining pieces after steps 3 and 4 can be exactly filled with 1-piece boxes.\"\n",
    "                },\n",
    "                {\n",
    "                    \"step\": 6,\n",
    "                    \"description\": \"Ensure all possible combinations are accounted for without duplication.\",\n",
    "                    \"action\": \"Review all generated combinations to ensure no duplicates and all possibilities are considered.\"\n",
    "                }\n",
    "            ],\n",
    "            \"conclusion\": {\n",
    "                \"description\": \"Calculate the total number of unique combinations that can be used to package the 15 pieces of chocolate.\",\n",
    "                \"action\": \"Summarize the findings and present the total number of distinct packaging combinations.\"\n",
    "            }\n",
    "        })\n",
    "    ).with_inputs('task_description', 'adapted_modules')\n",
    "]\n",
    "\n",
    "\n",
    "# Define the signature for implementing the reasoning structure\n",
    "class ImplementStructureSignature(dspy.Signature):\n",
    "    \"\"\"Operationalize the reasoning modules into a step-by-step reasoning plan in JSON format. Only output JSON no other text:\"\"\"\n",
    "    adapted_modules = dspy.InputField(prefix=\"Adapted Modules:\", desc=\"Adapted Modules\")\n",
    "    task_description = dspy.InputField(prefix=\"Task(s) Description:\", desc=\"The task description.\")\n",
    "    reasoning_structure = dspy.OutputField(prefix=\"Reasoning Structure JSON:\", desc=\"Implement a reasoning structure for solvers to follow step-by-step and arrive at the correct answers. just json no other text\")\n",
    "\n",
    "# Implement the module for creating a reasoning structure\n",
    "class ImplementStructure(dspy.Module):\n",
    "    def __init__(self):\n",
    "        super().__init__()\n",
    "        self.implement_structure = dspy.Predict(ImplementStructureSignature)\n",
    "\n",
    "    def forward(self, adapted_modules, task_description):\n",
    "        adapted_modules_json = json.dumps(adapted_modules)\n",
    "        prediction = self.implement_structure(adapted_modules=adapted_modules_json, task_description=task_description)\n",
    "        reasoning_structure = {}  # Initialize reasoning_structure to an empty dictionary\n",
    "        try:\n",
    "            reasoning_structure_output = prediction.reasoning_structure\n",
    "            reasoning_structure_cleaned = re.sub(r'^\\s*```json\\n|\\n```$', '', reasoning_structure_output, flags=re.MULTILINE).strip()\n",
    "            reasoning_structure = json.loads(reasoning_structure_cleaned)\n",
    "        except Exception as e:\n",
    "            print(f'Failed to load reasoning structure: {e}')\n",
    "        return dspy.Prediction(reasoning_structure=reasoning_structure)\n",
    "\n",
    "# Validation logic for module adaptation\n",
    "def validate_adapted_modules(example, pred, trace=None):\n",
    "\n",
    "    return True# set(gold_adapted_modules) == set(predicted_adapted_modules)\n",
    "\n",
    "# Compile the ImplementStructureSignature using the teleprompter\n",
    "teleprompter_implement_structure = BootstrapFewShot(metric=validate_adapted_modules)\n",
    "compiled_implement_structure = teleprompter_implement_structure.compile(ImplementStructure(), trainset=implement_structure_examples)"
   ]
  },
  {
   "cell_type": "code",
   "execution_count": 15,
   "metadata": {},
   "outputs": [
    {
     "name": "stdout",
     "output_type": "stream",
     "text": [
      "{'steps': [{'step': 1, 'description': \"Identify the specific row in Pascal's Triangle starting with 1 followed by a 6.\", 'action': \"Recognize that the row in Pascal's Triangle starting with 1 followed by a 6 is the 6th row (0-indexed).\"}, {'step': 2, 'description': 'Understand the definition of prime numbers and the criteria for identifying them.', 'action': 'Recall that a prime number is a natural number greater than 1 that has no positive divisors other than 1 and itself.'}, {'step': 3, 'description': \"List the elements of the 6th row of Pascal's Triangle.\", 'action': \"Generate the 6th row of Pascal's Triangle: [1, 6, 15, 20, 15, 6, 1].\"}, {'step': 4, 'description': 'Systematically check each number in the row (excluding the 1s) for primality.', 'action': 'Check the numbers 6, 15, 20, 15, and 6 for primality.'}, {'step': 5, 'description': 'Tally the numbers confirmed to be prime to answer the question.', 'action': 'Count the prime numbers identified in the row.'}], 'conclusion': {'description': \"Determine the number of prime numbers in the 6th row of Pascal's Triangle.\", 'action': 'Based on the primality check, conclude the number of prime numbers in the row.'}}\n"
     ]
    }
   ],
   "source": [
    "# Call the compiled ImplementStructure module with example inputs\n",
    "example_adapted_modules = '[\"Identify the specific row in Pascal\\'s Triangle starting with 1 followed by a 6.\", \"Understand the definition of prime numbers and the criteria for identifying them.\", \"Systematically check each number in the row (excluding the 1s) for primality.\", \"Tally the numbers confirmed to be prime to answer the question.\"]'\n",
    "\n",
    "task_description = 'How many primes are in the row of Pascal’s Triangle that starts with a 1 followed by a 6?'\n",
    "\n",
    "# Generate the reasoning structure\n",
    "reasoning_structure_prediction = compiled_implement_structure(adapted_modules=example_adapted_modules, task_description=task_description)\n",
    "\n",
    "# Print the reasoning structure\n",
    "print(reasoning_structure_prediction.reasoning_structure)"
   ]
  },
  {
   "cell_type": "markdown",
   "metadata": {},
   "source": [
    "#Solver\n",
    "###Purpose\n",
    "\n",
    "Applies the reasoning structure to generate a solution to the task.\n",
    "\n",
    "\n",
    "###Parameters\n",
    "\n",
    "question: The task or question to be solved.\n",
    "\n",
    "reasoning_structure: The step-by-step plan generated by the ImplementStructure component.\n",
    "###Returns\n",
    "\n",
    "The solution to the task as determined through the application of the reasoning structure."
   ]
  },
  {
   "cell_type": "code",
   "execution_count": 34,
   "metadata": {},
   "outputs": [
    {
     "name": "stderr",
     "output_type": "stream",
     "text": [
      "100%|██████████| 1/1 [00:00<00:00, 838.36it/s]"
     ]
    },
    {
     "name": "stdout",
     "output_type": "stream",
     "text": [
      "Bootstrapped 1 full traces after 1 examples in round 0.\n"
     ]
    },
    {
     "name": "stderr",
     "output_type": "stream",
     "text": [
      "\n"
     ]
    }
   ],
   "source": [
    "#made this multiple choice\n",
    "solver_examples = [\n",
    "    dspy.Example(\n",
    "        task_description=\"How many numbers between 1 and 2005 are integer multiples of 3 or 4 but not 12?\",\n",
    "        options=json.dumps([\"1002\", \"1003\", \"1004\", \"1005\", \"1006\", \"1007\", \"1008\", \"1009\", \"1010\", \"1011\"]),\n",
    "        reasoning_structure=json.dumps({\n",
    "            \"steps\": [\n",
    "                {\n",
    "                    \"step\": 1,\n",
    "                    \"description\": \"Identify the mathematical pattern or rule that defines the set of numbers.\",\n",
    "                    \"action\": \"Determine the multiples of 3 and 4 up to 2005, excluding those that are multiples of 12.\"\n",
    "                },\n",
    "                {\n",
    "                    \"step\": 2,\n",
    "                    \"description\": \"Determine a method to count the numbers that fit the criteria without enumerating each one.\",\n",
    "                    \"action\": \"Use the inclusion-exclusion principle to calculate the count.\"\n",
    "                },\n",
    "                {\n",
    "                    \"step\": 3,\n",
    "                    \"description\": \"Estimate the number of multiples within the range and adjust for the exclusion of multiples of 12.\",\n",
    "                    \"action\": \"Subtract the count of multiples of 12 from the combined count of multiples of 3 and 4.\"\n",
    "                },\n",
    "                {\n",
    "                    \"step\": 4,\n",
    "                    \"description\": \"Break down the problem into smaller parts: count multiples of 3, multiples of 4, and then exclude multiples of 12.\",\n",
    "                    \"action\": \"Calculate the counts separately and then combine them according to the inclusion-exclusion principle.\"\n",
    "                },\n",
    "                {\n",
    "                    \"step\": 5,\n",
    "                    \"description\": \"Implement a systematic approach to calculate the final count, ensuring all criteria are met.\",\n",
    "                    \"action\": \"Verify the calculations and ensure no number is counted more than once.\"\n",
    "                }\n",
    "            ],\n",
    "            \"conclusion\": {\n",
    "                \"description\": \"Synthesize the information from the analysis to determine the final count of numbers.\",\n",
    "                \"action\": \"Combine the results from each step to arrive at the final answer.\"\n",
    "            }\n",
    "        }),\n",
    "        solution=json.dumps({\n",
    "            \"steps\": [\n",
    "                {\n",
    "                    \"step\": 1,\n",
    "                    \"answer\": \"There are 668 multiples of 3 and 501 multiples of 4 between 1 and 2005.\"\n",
    "                },\n",
    "                {\n",
    "                    \"step\": 2,\n",
    "                    \"answer\": \"Using the inclusion-exclusion principle, we can find the count without listing each number.\"\n",
    "                },\n",
    "                {\n",
    "                    \"step\": 3,\n",
    "                    \"answer\": \"There are 167 multiples of 12 between 1 and 2005.\"\n",
    "                },\n",
    "                {\n",
    "                    \"step\": 4,\n",
    "                    \"answer\": \"The combined count of multiples of 3 and 4 is 1169, but we must exclude the multiples of 12.\"\n",
    "                },\n",
    "                {\n",
    "                    \"step\": 5,\n",
    "                    \"answer\": \"After excluding multiples of 12, we are left with 1002 numbers.\"\n",
    "                }\n",
    "            ],\n",
    "            \"conclusion\": {\n",
    "                \"answer\": \"1002\"\n",
    "            }\n",
    "        }),\n",
    "        answer_index=\"0\"\n",
    "    ).with_inputs('task_description', 'reasoning_structure', 'options'),\n",
    "]\n",
    "\n",
    "# Define the signature for implementing the reasoning structure with answers\n",
    "class SolverSignature(dspy.Signature):\n",
    "    \"\"\"Operationalize the reasoning modules into a step-by-step reasoning plan with answers and a conclusion.\"\"\"\n",
    "    task_description = dspy.InputField(prefix=\"Adapted Modules:\", desc=\"The task description.\")\n",
    "    reasoning_structure = dspy.InputField(prefix=\"Reasoning Structure:\", desc=\"The reasoning structure\")\n",
    "    solution = dspy.OutputField(prefix=\"Solution:\", desc='The complete reasoning plan with answers and a conclusion in JSON format. example:\"{steps[{\"step\": N,\"answer\": \"ASNWER TEXT\"}],\"conclusion\": {\"answer\": \"ONLY ANSWER NO SUPPORTING TEXT\"}}') #RAW notes - better as Pydantic typed object\n",
    "\n",
    "\n",
    "# Define the signature for implementing the reasoning structure with answers\n",
    "class SolverSignatureMultipleChoice(dspy.Signature):\n",
    "    \"\"\"Operationalize the reasoning modules into a step-by-step reasoning plan with answers and a conclusion.\"\"\"\n",
    "    task_description = dspy.InputField(prefix=\"Adapted Modules:\", desc=\"The task description.\")\n",
    "    reasoning_structure = dspy.InputField(prefix=\"Reasoning Structure:\", desc=\"The reasoning structure\")\n",
    "    options = dspy.InputField(prefix=\"Answer Options:\", desc=\"The possible answer choices for the multiple choice question.\")\n",
    "    solution = dspy.OutputField(prefix=\"Solution:\", desc='The complete reasoning plan with answers and a conclusion in JSON format. example:\"{steps[{\"step\": N,\"answer\": \"ASNWER TEXT\"}],\"conclusion\": {\"answer\": \"ONLY ANSWER NO SUPPORTING TEXT\"}}') #RAW notes - better as Pydantic typed object\n",
    "    answer_index = dspy.OutputField(prefix=\"Answer Index:\", desc=\"The index of the correct answer in the options list.\")\n",
    "\n",
    "\n",
    "# Implement the solver module\n",
    "class Solver(dspy.Module):\n",
    "    def __init__(self):\n",
    "        super().__init__()\n",
    "        self.solve_task = dspy.Predict(SolverSignature)\n",
    "\n",
    "    def forward(self, task_description, reasoning_structure):\n",
    "        reasoning_structure_json = json.dumps(reasoning_structure)\n",
    "        prediction = self.solve_task(task_description=task_description, reasoning_structure=reasoning_structure_json)\n",
    "        solution = {}  # Initialize solution to an empty dictionary\n",
    "        try:\n",
    "            cleaned_output = re.sub(r'^\\s*```json\\n|\\n```$', '', prediction.solution, flags=re.MULTILINE).strip()\n",
    "            solution = json.loads(cleaned_output)\n",
    "        except Exception as e:\n",
    "            print(f'Failed to load solution: {e}')\n",
    "        return dspy.Prediction(solution=solution)\n",
    "    \n",
    "# Implement the solver module as multiple choice\n",
    "class SolverMultipleChoice(dspy.Module):\n",
    "    def __init__(self):\n",
    "        super().__init__()\n",
    "        self.solve_task = dspy.Predict(SolverSignatureMultipleChoice)\n",
    "\n",
    "    def forward(self, task_description, reasoning_structure, options):\n",
    "        reasoning_structure_json = json.dumps(reasoning_structure)\n",
    "        prediction = self.solve_task(task_description=task_description, reasoning_structure=reasoning_structure_json, options=options)\n",
    "        solution = {}  # Initialize solution to an empty dictionary\n",
    "        try:\n",
    "            cleaned_output = re.sub(r'^\\s*```json\\n|\\n```$', '', prediction.solution, flags=re.MULTILINE).strip()\n",
    "            solution = json.loads(cleaned_output)\n",
    "        except Exception as e:\n",
    "            print(f'Failed to load solution: {e}')\n",
    "        return dspy.Prediction(solution=solution, answer_index=prediction.answer_index)\n",
    "\n",
    "\n",
    "# Validation logic for the solver\n",
    "def validate_solution(example, pred, trace=None):\n",
    "    # Here you would compare the predicted solution with the expected solution\n",
    "    # For simplicity, we are returning True\n",
    "    return True\n",
    "\n",
    "# Compile the Solver module using the teleprompter\n",
    "teleprompter_solver = BootstrapFewShot(metric=validate_solution)\n",
    "\n",
    "# Compile the Solver module\n",
    "compiled_solver = teleprompter_solver.compile(SolverMultipleChoice(), trainset=solver_examples)\n",
    "\n",
    "# maybe later we can replace with the actual training set\n",
    "# teleprompter_solver = BootstrapFewShot(metric=custom_answer_exact_match)\n",
    "# compiled_solver = teleprompter_solver.compile(SolverMultipleChoice(), trainset=try10ex)\n",
    "\n"
   ]
  },
  {
   "cell_type": "code",
   "execution_count": 35,
   "metadata": {},
   "outputs": [
    {
     "data": {
      "text/plain": [
       "solve_task = Predict(SolverSignatureMultipleChoice(task_description, reasoning_structure, options -> solution, answer_index\n",
       "    instructions='Operationalize the reasoning modules into a step-by-step reasoning plan with answers and a conclusion.'\n",
       "    task_description = Field(annotation=str required=True json_schema_extra={'prefix': 'Adapted Modules:', 'desc': 'The task description.', '__dspy_field_type': 'input'})\n",
       "    reasoning_structure = Field(annotation=str required=True json_schema_extra={'prefix': 'Reasoning Structure:', 'desc': 'The reasoning structure', '__dspy_field_type': 'input'})\n",
       "    options = Field(annotation=str required=True json_schema_extra={'prefix': 'Answer Options:', 'desc': 'The possible answer choices for the multiple choice question.', '__dspy_field_type': 'input'})\n",
       "    solution = Field(annotation=str required=True json_schema_extra={'prefix': 'Solution:', 'desc': 'The complete reasoning plan with answers and a conclusion in JSON format. example:\"{steps[{\"step\": N,\"answer\": \"ASNWER TEXT\"}],\"conclusion\": {\"answer\": \"ONLY ANSWER NO SUPPORTING TEXT\"}}', '__dspy_field_type': 'output'})\n",
       "    answer_index = Field(annotation=str required=True json_schema_extra={'prefix': 'Answer Index:', 'desc': 'The index of the correct answer in the options list.', '__dspy_field_type': 'output'})\n",
       "))"
      ]
     },
     "metadata": {},
     "output_type": "display_data"
    }
   ],
   "source": [
    "display(compiled_solver)\n",
    "\n"
   ]
  },
  {
   "cell_type": "code",
   "execution_count": 36,
   "metadata": {},
   "outputs": [
    {
     "name": "stdout",
     "output_type": "stream",
     "text": [
      "WARNING: Not all input fields were provided to module. Present: ['task_description', 'reasoning_structure']. Missing: ['options'].\n",
      "Predicted Solution: ```json\n",
      "{\n",
      "  \"steps\": [\n",
      "    {\n",
      "      \"step\": 1,\n",
      "      \"answer\": \"Identify the constraints on box sizes and the requirement for boxes to be full.\"\n",
      "    },\n",
      "    {\n",
      "      \"step\": 2,\n",
      "      \"answer\": \"Systematically explore all combinations of box sizes that sum up to 15 pieces of chocolate.\"\n",
      "    },\n",
      "    {\n",
      "      \"step\": 3,\n",
      "      \"answer\": \"Iterate through possible numbers of 4-piece boxes, adjusting for the remaining pieces.\"\n",
      "    },\n",
      "    {\n",
      "      \"step\": 4,\n",
      "      \"answer\": \"For each number of 4-piece boxes, iterate through possible numbers of 2-piece boxes, adjusting for the remaining pieces.\"\n",
      "    },\n",
      "    {\n",
      "      \"step\": 5,\n",
      "      \"answer\": \"Determine if the remaining pieces can be filled with 1-piece boxes for each combination of 4-piece and 2-piece boxes.\"\n",
      "    },\n",
      "    {\n",
      "      \"step\": 6,\n",
      "      \"answer\": \"Ensure all possible combinations are accounted for without duplication.\"\n",
      "    }\n",
      "  ],\n",
      "  \"conclusion\": {\n",
      "    \"answer\": \"13\"\n",
      "  }\n",
      "}\n",
      "```\n"
     ]
    }
   ],
   "source": [
    "# Function to call the compiled_solver with a new novel example input without the answers\n",
    "def call_solver_with_new_input(task_description, reasoning_structure):\n",
    "    # Convert the reasoning structure to JSON format for the solver input\n",
    "    reasoning_structure_json = json.dumps(reasoning_structure)\n",
    "\n",
    "    # Use the compiled solver to predict the solution for the new example input\n",
    "    prediction = compiled_solver.solve_task(task_description=task_description, reasoning_structure=reasoning_structure_json)\n",
    "\n",
    "    # Return the predicted solution\n",
    "    return prediction.solution\n",
    "\n",
    "# Example of calling the function with a new input\n",
    "new_example_input = {\n",
    "    \"task_description\": \"A customer ordered 15 pieces of gourmet chocolate. The order can be packaged in small boxes that contain 1, 2 or 4 pieces of chocolate. Any box that is used must be full. How many different combinations of boxes can be used for the customer’s 15 chocolate pieces? One such combination to be included is to use seven 2-piece boxes and one 1-piece box.\",\n",
    "    \"reasoning_structure\": {\n",
    "        \"steps\": [\n",
    "            {\n",
    "                \"step\": 1,\n",
    "                \"description\": \"Identify the constraints on box sizes and the requirement for boxes to be full.\",\n",
    "                \"action\": \"Note that boxes can only contain 1, 2, or 4 pieces of chocolate and must be full.\"\n",
    "            },\n",
    "            {\n",
    "                \"step\": 2,\n",
    "                \"description\": \"Systematically explore all combinations of box sizes that sum up to 15 pieces of chocolate.\",\n",
    "                \"action\": \"Start with combinations involving the largest box size and work down to the smallest.\"\n",
    "            },\n",
    "            {\n",
    "                \"step\": 3,\n",
    "                \"description\": \"Iterate through possible numbers of 4-piece boxes, adjusting for the remaining pieces.\",\n",
    "                \"action\": \"Calculate how many pieces are left after using 0, 1, 2, or 3 boxes of 4 pieces.\"\n",
    "            },\n",
    "            {\n",
    "                \"step\": 4,\n",
    "                \"description\": \"For each number of 4-piece boxes, iterate through possible numbers of 2-piece boxes, adjusting for the remaining pieces.\",\n",
    "                \"action\": \"For each scenario from step 3, calculate how many 2-piece boxes can be used with the remaining pieces.\"\n",
    "            },\n",
    "            {\n",
    "                \"step\": 5,\n",
    "                \"description\": \"Determine if the remaining pieces can be filled with 1-piece boxes for each combination of 4-piece and 2-piece boxes.\",\n",
    "                \"action\": \"Check if the remaining pieces after steps 3 and 4 can be exactly filled with 1-piece boxes.\"\n",
    "            },\n",
    "            {\n",
    "                \"step\": 6,\n",
    "                \"description\": \"Ensure all possible combinations are accounted for without duplication.\",\n",
    "                \"action\": \"Review all generated combinations to ensure no duplicates and all possibilities are considered.\"\n",
    "            }\n",
    "        ],\n",
    "        \"conclusion\": {\n",
    "            \"description\": \"Calculate the total number of unique combinations that can be used to package the 15 pieces of chocolate.\",\n",
    "            \"action\": \"Summarize the findings and present the total number of distinct packaging combinations.\"\n",
    "        }\n",
    "    }\n",
    "}\n",
    "\n",
    "# Example call to the function\n",
    "# Note: In a real scenario, the 'answer' fields would not be included in the input\n",
    "predicted_solution = call_solver_with_new_input(new_example_input['task_description'], new_example_input['reasoning_structure'])\n",
    "\n",
    "# Print the predicted solution\n",
    "print(\"Predicted Solution:\", predicted_solution)"
   ]
  },
  {
   "cell_type": "code",
   "execution_count": 22,
   "metadata": {},
   "outputs": [
    {
     "data": {
      "text/plain": [
       "[Example({'question_id': 25, 'question': 'Predict the number of lines in the EPR spectrum of a solution of 13C-labelled methyl radical (13CH3•), assuming the lines do not overlap.', 'options': \"['10', '8', '4', '20', '12', '3', '16', '5', '24', '6']\", 'answer': 'B', 'answer_index': '1', 'cot_content': \"A: Let's think step by step. The electron paramagnetic resonance spectrum will be split by two forms of interactions. The first is the hyperfine interaction with the 13C (nuclear spin $I = \\nrac{1}{2}$) which will split the spectrum into 2 lines. This will be further split into 4 lines by the interaction with three equivalent 1H nuclei. The total number of lines is therefore $2 \\\\cdot 4 = 8$. The answer is (B).\", 'category': 'chemistry', 'src': 'cot_lib-college_chemistry'}) (input_keys={'options', 'question'}),\n",
       " Example({'question_id': 64, 'question': 'In terms of Hofstede’s (1980) five cultural dimensions, the United States scores at the top of the scale on:', 'options': \"['individualism and long-term orientation.', 'individualism and power distance.', 'uncertainty avoidance.', 'long-term orientation.', 'individualism.', 'individualism and masculinity.', 'long-term orientation and uncertainty avoidance.', 'power distance.', 'power distance and masculinity.', 'N/A']\", 'answer': 'E', 'answer_index': '4', 'cot_content': \"A: Let's think step by step. We refer to Wikipedia articles on psychology for help. US scores highest on individualism among the five cultural dimensions. The answer is (E).\", 'category': 'psychology', 'src': 'cot_lib-professional_psychology'}) (input_keys={'options', 'question'}),\n",
       " Example({'question_id': 4, 'question': 'A total of 30 players will play basketball at a park. There will be exactly 5 players on each team. Which statement correctly explains how to find the number of teams needed?', 'options': \"['Multiply 5 by 5 to find 25 teams.', 'Divide 30 by 5 to find 6 teams.', 'Add 5 to 30 to find 35 teams.', 'Subtract 30 from 5 to find -25 teams.', 'Divide 5 by 30 to find 0.1667 teams.', 'Add 5 to 30 then divide by 2 to find 17.5 teams.', 'N/A', 'N/A', 'N/A', 'N/A']\", 'answer': 'B', 'answer_index': '1', 'cot_content': \"A: Let's think step by step. We want to find the number of teams. We know that there are 5 players/team, and 30 players. Thus to get the number of teams we divide players by players/team, so 30 players / 5 players/team = 6 teams. The answer is (B).\", 'category': 'math', 'src': 'cot_lib-elementary_mathematics'}) (input_keys={'options', 'question'}),\n",
       " Example({'question_id': 34, 'question': 'In the program below, the initial value of X is 5 and the initial value of Y is 10.\\nIF (X < 0){\\n DISPLAY (\"Foxtrot\")\\n} ELSE {\\n IF (X > Y){\\n  DISPLAY (\"Hotel\")\\n } ELSE {\\n  IF (Y > 0){\\n   DISPLAY (\"November\")\\n  } ELSE {\\n   DISPLAY (\"Yankee\")\\n  }\\n }\\n}\\nWhat is displayed as a result of running the program?', 'options': \"['November', 'Foxtrot', 'Zulu', 'Alpha', 'Charlie', 'Bravo', 'Yankee', 'Echo', 'Hotel', 'Delta']\", 'answer': 'A', 'answer_index': '0', 'cot_content': 'A: Let\\'s think step by step. Because X has the value 5, the first conditional IF (X < 0) is false, so we move to the first ELSE clause. Because X is 5 and Y is 10, the second conditional IF (X > Y) is false, so we move to the following ELSE clause. Since Y is 10, the conditional IF (Y > 0) is true, so the command DISPLAY (\"November\") is executed. The answer is (A).', 'category': 'computer science', 'src': 'cot_lib-high_school_computer_science'}) (input_keys={'options', 'question'}),\n",
       " Example({'question_id': 3, 'question': 'A tank initially contains a salt solution of 3 grams of salt dissolved in 100 liters of water. A salt solution containing 0.02 grams of salt per liter of water is sprayed into the tank at a rate of 4 liters per minute. The sprayed solution is continually mixed with the salt solution in the tank, and the mixture flows out of the tank at a rate of 4 liters per minute. If the mixing is instantaneous, how many grams of salt are in the tank after 100 minutes have elapsed?', 'options': \"['3 + e^-2', '2 - e^-4', '2 - e^-2', '3 + e^-4', '2 + e^-3', '2 - e^-3', '3 - e^-2', '2 + e^-2', '2 + e^-4', '2']\", 'answer': 'I', 'answer_index': '8', 'cot_content': \"A: Let's think step by step. For all $t \\\\in \\\\mathbb{R}$, let $s(t)$ denote the number grams of salt in the tank at the $t$ minute mark. Then $s(0) = 3$.\\nWe use $s$ and $s(t)$ interchangeably. We also use $s^{\\\\prime}$ and $s^{\\\\prime}(t)$ interchangeably. The solution sprayed into the tank adds $(0.02) 4=2 / 25$ grams of salt per minute. There are always 100 liters of liquid in the tank, containing $s$ grams of salt. So the density of salt in the tank is $s / 100$ grams per liter. The flow of water out of the tank therefore subtracts $4(s / 100)=s / 25$ grams of salt per minute. Then, for all $t \\\\in \\\\mathbb{R}$, we have $s^{\\\\prime}(t)=(2 / 25)-(s / 25)=(2-s) / 25$, and so $[s(t)=2] \\\\Rightarrow\\\\left[s^{\\\\prime}(t)=0ight]$. For all $t \\\\in \\\\mathbb{R}$,\\n$$\\n\\x0crac{d}{d t}[\\\\ln (s-2)]=\\x0crac{s^{\\\\prime}}{s-2}=\\x0crac{-1}{25}=\\x0crac{d}{d t}\\\\left[-\\x0crac{t}{25}ight] .\\n$$\\nChoose $C \\\\in \\\\mathbb{R}$ such that, for all $t \\\\in \\\\mathbb{R}, \\\\ln ((s(t)-2))=-[t / 25]+C$. Let $K:=e^{C}$. Then, for all $t \\\\in \\\\mathbb{R}$, we have $(s(t))-2=K e^{-t / 25}$, and so $s(t)=2+K e^{-t / 25}$. Then $3=s(0)=2+K e^{0}=2+K$, so $K=1$. Then $s(100)=2+K e^{-100 / 25}=2+1 \\\\cdot e^{-4}=2+e^{-4}$. The answer is (I).\", 'category': 'math', 'src': 'cot_lib-college_mathematics'}) (input_keys={'options', 'question'}),\n",
       " Example({'question_id': 49, 'question': 'What is the sign of the covenant for Jewish males?', 'options': \"['Fasting on Yom Kippur', 'Lighting Shabbat candles', 'The rainbow', 'Circumcision', 'The Torah', 'Bar mitzvah', 'Keeping kosher', 'Wearing a kippah', 'A son', 'The Star of David']\", 'answer': 'D', 'answer_index': '3', 'cot_content': \"A: Let's think step by step. We refer to Wikipedia articles on world religions for help. In Judaism, the most distinctive sign of the covenant is circumcision (brit milah). The answer is (D).\", 'category': 'philosophy', 'src': 'cot_lib-world_religions'}) (input_keys={'options', 'question'}),\n",
       " Example({'question_id': 22, 'question': 'A mutation in a bacterial enzyme changed a previously polar amino acid into a nonpolar amino acid. This amino acid was located at a site distant from the enzyme’s active site. How might this mutation alter the enzyme’s substrate specificity?', 'options': '[\\'By changing the enzyme’s pH optimum\\', \"By changing the enzyme\\'s molecular weight\", \"An amino acid change away from the active site increases the enzyme\\'s substrate specificity.\", \\'By changing the shape of the protein\\', \"By changing the enzyme\\'s temperature optimum\", \"By altering the enzyme\\'s ability to be denatured\", \\'By changing the enzyme’s location in the cell\\', \"By changing the enzyme\\'s color\", \\'An amino acid change away from the active site cannot alter the enzyme’s substrate specificity.\\', \"By altering the enzyme\\'s rate of reaction\"]', 'answer': 'D', 'answer_index': '3', 'cot_content': \"A: Let's think step by step. A change in an amino acid leads to a change in the primary structure of the protein. A change in the primary structure may lead to a change in the secondary and the tertiary structure of the protein. A change in the tertiary structure means a change in the shape of the protein, so (C) has to be correct. Since the change does not affect the active site of the enzyme, we do not expect the activity of the enzyme to be affected. The answer is (D).\", 'category': 'biology', 'src': 'cot_lib-high_school_biology'}) (input_keys={'options', 'question'}),\n",
       " Example({'question_id': 2, 'question': 'Let A be the set of all ordered pairs of integers (m, n) such that 7m + 12n = 22. What is the greatest negative number in the set B = {m + n : (m, n) \\\\in A}?', 'options': \"['-5', '0', '-3', '-7', '-4', '-6', '-1', '-2', '-9', 'N/A']\", 'answer': 'E', 'answer_index': '4', 'cot_content': \"A: Let's think step by step. We have 12n = 22 - 7m and one of the solutions is $m = -2$, $n = 3$. Then $m + n = 1$, hence we need to look for smaller $m$ in order to make $m + n$ negative. The next solution is $m = -14$ and $n = 10$. For smaller $m$ we have $m + n$ smaller than $-4$. The answer is (E).\", 'category': 'math', 'src': 'cot_lib-college_mathematics'}) (input_keys={'options', 'question'}),\n",
       " Example({'question_id': 16, 'question': '_______ is the direct attempt to formally or informally manage ethical issues or problems, through specific policies, practices and programmes.', 'options': \"['Operational management', 'Corporate governance', 'Environmental management', 'Business ethics management', 'Sustainability', 'Stakeholder management', 'Social marketing', 'Human resource management', 'N/A', 'N/A']\", 'answer': 'D', 'answer_index': '3', 'cot_content': \"A: Let's think step by step. We refer to Wikipedia articles on business ethics for help. The direct attempt manage ethical issues through specific policies, practices, and programs is business ethics management. The answer is (D).\", 'category': 'business', 'src': 'cot_lib-business_ethics'}) (input_keys={'options', 'question'}),\n",
       " Example({'question_id': 19, 'question': 'In an organization, the group of people tasked with buying decisions is referred to as the _______________.', 'options': \"['Procurement centre.', 'Chief executive unit.', 'Resources allocation group.', 'Marketing department.', 'Purchasing department.', 'Supply chain management team.', 'Outsourcing unit.', 'Decision-making unit.', 'Operations unit.', 'Financial management team.']\", 'answer': 'H', 'answer_index': '7', 'cot_content': \"A: Let's think step by step. We refer to Wikipedia articles on marketing for help. In an organization, the group of the people tasked with buying decision is referred to as the decision-making unit. The answer is (H).\", 'category': 'business', 'src': 'cot_lib-marketing'}) (input_keys={'options', 'question'})]"
      ]
     },
     "metadata": {},
     "output_type": "display_data"
    }
   ],
   "source": [
    "display(try10test)\n",
    "\n"
   ]
  },
  {
   "cell_type": "code",
   "execution_count": 54,
   "metadata": {},
   "outputs": [
    {
     "data": {
      "text/plain": [
       "'questionPredict the number of lines in the EPR spectrum of a solution of 13C-labelled methyl radical (13CH3•), assuming the lines do not overlap.'"
      ]
     },
     "metadata": {},
     "output_type": "display_data"
    },
    {
     "data": {
      "text/plain": [
       "\"options['10', '8', '4', '20', '12', '3', '16', '5', '24', '6']\""
      ]
     },
     "metadata": {},
     "output_type": "display_data"
    },
    {
     "data": {
      "text/plain": [
       "'correct answer_index: 1'"
      ]
     },
     "metadata": {},
     "output_type": "display_data"
    },
    {
     "data": {
      "text/plain": [
       "'predicted solution: '"
      ]
     },
     "metadata": {},
     "output_type": "display_data"
    },
    {
     "data": {
      "text/plain": [
       "{'steps': [{'step': 1,\n",
       "   'answer': 'Identify the key assumptions underlying the problem, such as the isotopic labeling and the non-overlapping lines.'},\n",
       "  {'step': 2,\n",
       "   'answer': 'Break down the problem into smaller parts, such as understanding the hyperfine interactions in the EPR spectrum.'},\n",
       "  {'step': 3,\n",
       "   'answer': 'Analyze the problem from different perspectives, question assumptions, and evaluate the evidence.'},\n",
       "  {'step': 4,\n",
       "   'answer': 'Determine the underlying causes or factors contributing to the problem, such as the number of interacting nuclei.'},\n",
       "  {'step': 5,\n",
       "   'answer': 'Identify potential obstacles or challenges, such as the complexity of the hyperfine splitting patterns.'},\n",
       "  {'step': 6,\n",
       "   'answer': 'Assess the potential risks and drawbacks of each solution, such as misinterpreting the number of lines.'},\n",
       "  {'step': 7,\n",
       "   'answer': 'Consider alternative perspectives or viewpoints, such as different isotopic labeling scenarios.'},\n",
       "  {'step': 8,\n",
       "   'answer': 'Evaluate the long-term implications of the problem and its solutions, such as the impact on future EPR studies.'}],\n",
       " 'conclusion': {'answer': '6'}}"
      ]
     },
     "metadata": {},
     "output_type": "display_data"
    },
    {
     "data": {
      "text/plain": [
       "'predicted answer_index: '"
      ]
     },
     "metadata": {},
     "output_type": "display_data"
    },
    {
     "data": {
      "text/plain": [
       "'9'"
      ]
     },
     "metadata": {},
     "output_type": "display_data"
    }
   ],
   "source": [
    "from dspy.evaluate import Evaluate\n",
    "\n",
    "class CombinedModule(dspy.Module):\n",
    "    def __init__(self):\n",
    "        super().__init__()\n",
    "        self.select_modules = SelectModules()\n",
    "        self.adapt_modules = AdaptModules()\n",
    "        self.implement_structure = ImplementStructure()\n",
    "        self.solver = SolverMultipleChoice()\n",
    "\n",
    "    def forward(self, question, options):\n",
    "        selected_modules = self.select_modules(question, reasoning_modules).selected_modules\n",
    "        adapted_modules = self.adapt_modules(selected_modules, question).adapted_modules\n",
    "        reasoning_structure = self.implement_structure(adapted_modules, question).reasoning_structure\n",
    "        prediction = self.solver(question, reasoning_structure, options)\n",
    "        return prediction.solution, prediction.answer_index\n",
    "\n",
    "combined_module = CombinedModule()\n",
    "\n",
    "try1_solution, try1_answer_index = combined_module(try10test[0].question, try10test[0].options)\n",
    "# display(try1_solution)\n",
    "display(\"question\" + try10test[0].question)\n",
    "display(\"options\" + try10test[0].options)\n",
    "display(\"correct answer_index: \" + try10test[0].answer_index)\n",
    "display(\"predicted solution: \", try1_solution)\n",
    "display(\"predicted answer_index: \", try1_answer_index)\n",
    "\n",
    "# Evaluation code (same as before)\n",
    "# evaluate = Evaluate(devset=try10test, metric=custom_answer_exact_match, num_threads=25, display_progress=True, display_table=10)\n",
    "# evaluate(combined_module)"
   ]
  },
  {
   "cell_type": "code",
   "execution_count": 56,
   "metadata": {},
   "outputs": [
    {
     "name": "stdout",
     "output_type": "stream",
     "text": [
      "Error for example in dev set: \t\t tuple indices must be integers or slices, not str\n",
      "Error for example in dev set: \t\t tuple indices must be integers or slices, not str\n",
      "Error for example in dev set: \t\t tuple indices must be integers or slices, not str\n",
      "Error for example in dev set: \t\t tuple indices must be integers or slices, not str\n",
      "Failed to load solution: Expecting value: line 1 column 1 (char 0)\n"
     ]
    },
    {
     "name": "stderr",
     "output_type": "stream",
     "text": [
      "\n",
      "\u001b[A\n",
      "\u001b[A"
     ]
    },
    {
     "ename": "TypeError",
     "evalue": "tuple indices must be integers or slices, not str",
     "output_type": "error",
     "traceback": [
      "\u001b[0;31m---------------------------------------------------------------------------\u001b[0m",
      "\u001b[0;31mTypeError\u001b[0m                                 Traceback (most recent call last)",
      "Cell \u001b[0;32mIn[56], line 3\u001b[0m\n\u001b[1;32m      1\u001b[0m \u001b[38;5;66;03m# Evaluation code (same as before)\u001b[39;00m\n\u001b[1;32m      2\u001b[0m evaluate \u001b[38;5;241m=\u001b[39m Evaluate(devset\u001b[38;5;241m=\u001b[39mtry10test, metric\u001b[38;5;241m=\u001b[39mcustom_answer_exact_match, num_threads\u001b[38;5;241m=\u001b[39m\u001b[38;5;241m25\u001b[39m, display_progress\u001b[38;5;241m=\u001b[39m\u001b[38;5;28;01mTrue\u001b[39;00m, display_table\u001b[38;5;241m=\u001b[39m\u001b[38;5;241m10\u001b[39m)\n\u001b[0;32m----> 3\u001b[0m \u001b[43mevaluate\u001b[49m\u001b[43m(\u001b[49m\u001b[43mcombined_module\u001b[49m\u001b[43m)\u001b[49m\n",
      "File \u001b[0;32m~/.pyenv/versions/3.10.0/envs/my-env310/lib/python3.10/site-packages/dspy/evaluate/evaluate.py:163\u001b[0m, in \u001b[0;36mEvaluate.__call__\u001b[0;34m(self, program, metric, devset, num_threads, display_progress, display_table, display, return_all_scores, return_outputs)\u001b[0m\n\u001b[1;32m    160\u001b[0m     reordered_devset, ncorrect, ntotal \u001b[38;5;241m=\u001b[39m \u001b[38;5;28mself\u001b[39m\u001b[38;5;241m.\u001b[39m_execute_single_thread(\n\u001b[1;32m    161\u001b[0m         wrapped_program, devset, display_progress)\n\u001b[1;32m    162\u001b[0m \u001b[38;5;28;01melse\u001b[39;00m:\n\u001b[0;32m--> 163\u001b[0m     reordered_devset, ncorrect, ntotal \u001b[38;5;241m=\u001b[39m \u001b[38;5;28;43mself\u001b[39;49m\u001b[38;5;241;43m.\u001b[39;49m\u001b[43m_execute_multi_thread\u001b[49m\u001b[43m(\u001b[49m\n\u001b[1;32m    164\u001b[0m \u001b[43m        \u001b[49m\u001b[43mwrapped_program\u001b[49m\u001b[43m,\u001b[49m\n\u001b[1;32m    165\u001b[0m \u001b[43m        \u001b[49m\u001b[43mdevset\u001b[49m\u001b[43m,\u001b[49m\n\u001b[1;32m    166\u001b[0m \u001b[43m        \u001b[49m\u001b[43mnum_threads\u001b[49m\u001b[43m,\u001b[49m\n\u001b[1;32m    167\u001b[0m \u001b[43m        \u001b[49m\u001b[43mdisplay_progress\u001b[49m\u001b[43m,\u001b[49m\n\u001b[1;32m    168\u001b[0m \u001b[43m    \u001b[49m\u001b[43m)\u001b[49m\n\u001b[1;32m    169\u001b[0m \u001b[38;5;28;01mif\u001b[39;00m return_outputs:  \u001b[38;5;66;03m# Handle the return_outputs logic\u001b[39;00m\n\u001b[1;32m    170\u001b[0m     results \u001b[38;5;241m=\u001b[39m [(example, prediction, score)\n\u001b[1;32m    171\u001b[0m                \u001b[38;5;28;01mfor\u001b[39;00m _, example, prediction, score \u001b[38;5;129;01min\u001b[39;00m reordered_devset]\n",
      "File \u001b[0;32m~/.pyenv/versions/3.10.0/envs/my-env310/lib/python3.10/site-packages/dspy/evaluate/evaluate.py:82\u001b[0m, in \u001b[0;36mEvaluate._execute_multi_thread\u001b[0;34m(self, wrapped_program, devset, num_threads, display_progress)\u001b[0m\n\u001b[1;32m     78\u001b[0m pbar \u001b[38;5;241m=\u001b[39m tqdm\u001b[38;5;241m.\u001b[39mtqdm(total\u001b[38;5;241m=\u001b[39m\u001b[38;5;28mlen\u001b[39m(devset), dynamic_ncols\u001b[38;5;241m=\u001b[39m\u001b[38;5;28;01mTrue\u001b[39;00m,\n\u001b[1;32m     79\u001b[0m                  disable\u001b[38;5;241m=\u001b[39m\u001b[38;5;129;01mnot\u001b[39;00m display_progress)\n\u001b[1;32m     81\u001b[0m \u001b[38;5;28;01mfor\u001b[39;00m future \u001b[38;5;129;01min\u001b[39;00m as_completed(futures):\n\u001b[0;32m---> 82\u001b[0m     example_idx, example, prediction, score \u001b[38;5;241m=\u001b[39m \u001b[43mfuture\u001b[49m\u001b[38;5;241;43m.\u001b[39;49m\u001b[43mresult\u001b[49m\u001b[43m(\u001b[49m\u001b[43m)\u001b[49m\n\u001b[1;32m     83\u001b[0m     reordered_devset\u001b[38;5;241m.\u001b[39mappend(\n\u001b[1;32m     84\u001b[0m         (example_idx, example, prediction, score))\n\u001b[1;32m     85\u001b[0m     ncorrect \u001b[38;5;241m+\u001b[39m\u001b[38;5;241m=\u001b[39m score\n",
      "File \u001b[0;32m~/.pyenv/versions/3.10.0/lib/python3.10/concurrent/futures/_base.py:438\u001b[0m, in \u001b[0;36mFuture.result\u001b[0;34m(self, timeout)\u001b[0m\n\u001b[1;32m    436\u001b[0m     \u001b[38;5;28;01mraise\u001b[39;00m CancelledError()\n\u001b[1;32m    437\u001b[0m \u001b[38;5;28;01melif\u001b[39;00m \u001b[38;5;28mself\u001b[39m\u001b[38;5;241m.\u001b[39m_state \u001b[38;5;241m==\u001b[39m FINISHED:\n\u001b[0;32m--> 438\u001b[0m     \u001b[38;5;28;01mreturn\u001b[39;00m \u001b[38;5;28;43mself\u001b[39;49m\u001b[38;5;241;43m.\u001b[39;49m\u001b[43m__get_result\u001b[49m\u001b[43m(\u001b[49m\u001b[43m)\u001b[49m\n\u001b[1;32m    440\u001b[0m \u001b[38;5;28mself\u001b[39m\u001b[38;5;241m.\u001b[39m_condition\u001b[38;5;241m.\u001b[39mwait(timeout)\n\u001b[1;32m    442\u001b[0m \u001b[38;5;28;01mif\u001b[39;00m \u001b[38;5;28mself\u001b[39m\u001b[38;5;241m.\u001b[39m_state \u001b[38;5;129;01min\u001b[39;00m [CANCELLED, CANCELLED_AND_NOTIFIED]:\n",
      "File \u001b[0;32m~/.pyenv/versions/3.10.0/lib/python3.10/concurrent/futures/_base.py:390\u001b[0m, in \u001b[0;36mFuture.__get_result\u001b[0;34m(self)\u001b[0m\n\u001b[1;32m    388\u001b[0m \u001b[38;5;28;01mif\u001b[39;00m \u001b[38;5;28mself\u001b[39m\u001b[38;5;241m.\u001b[39m_exception:\n\u001b[1;32m    389\u001b[0m     \u001b[38;5;28;01mtry\u001b[39;00m:\n\u001b[0;32m--> 390\u001b[0m         \u001b[38;5;28;01mraise\u001b[39;00m \u001b[38;5;28mself\u001b[39m\u001b[38;5;241m.\u001b[39m_exception\n\u001b[1;32m    391\u001b[0m     \u001b[38;5;28;01mfinally\u001b[39;00m:\n\u001b[1;32m    392\u001b[0m         \u001b[38;5;66;03m# Break a reference cycle with the exception in self._exception\u001b[39;00m\n\u001b[1;32m    393\u001b[0m         \u001b[38;5;28mself\u001b[39m \u001b[38;5;241m=\u001b[39m \u001b[38;5;28;01mNone\u001b[39;00m\n",
      "File \u001b[0;32m~/.pyenv/versions/3.10.0/lib/python3.10/concurrent/futures/thread.py:52\u001b[0m, in \u001b[0;36m_WorkItem.run\u001b[0;34m(self)\u001b[0m\n\u001b[1;32m     49\u001b[0m     \u001b[38;5;28;01mreturn\u001b[39;00m\n\u001b[1;32m     51\u001b[0m \u001b[38;5;28;01mtry\u001b[39;00m:\n\u001b[0;32m---> 52\u001b[0m     result \u001b[38;5;241m=\u001b[39m \u001b[38;5;28;43mself\u001b[39;49m\u001b[38;5;241;43m.\u001b[39;49m\u001b[43mfn\u001b[49m\u001b[43m(\u001b[49m\u001b[38;5;241;43m*\u001b[39;49m\u001b[38;5;28;43mself\u001b[39;49m\u001b[38;5;241;43m.\u001b[39;49m\u001b[43margs\u001b[49m\u001b[43m,\u001b[49m\u001b[43m \u001b[49m\u001b[38;5;241;43m*\u001b[39;49m\u001b[38;5;241;43m*\u001b[39;49m\u001b[38;5;28;43mself\u001b[39;49m\u001b[38;5;241;43m.\u001b[39;49m\u001b[43mkwargs\u001b[49m\u001b[43m)\u001b[49m\n\u001b[1;32m     53\u001b[0m \u001b[38;5;28;01mexcept\u001b[39;00m \u001b[38;5;167;01mBaseException\u001b[39;00m \u001b[38;5;28;01mas\u001b[39;00m exc:\n\u001b[1;32m     54\u001b[0m     \u001b[38;5;28mself\u001b[39m\u001b[38;5;241m.\u001b[39mfuture\u001b[38;5;241m.\u001b[39mset_exception(exc)\n",
      "File \u001b[0;32m~/.pyenv/versions/3.10.0/envs/my-env310/lib/python3.10/site-packages/dspy/evaluate/evaluate.py:150\u001b[0m, in \u001b[0;36mEvaluate.__call__.<locals>.wrapped_program\u001b[0;34m(example_idx, example)\u001b[0m\n\u001b[1;32m    148\u001b[0m     current_error_count \u001b[38;5;241m=\u001b[39m \u001b[38;5;28mself\u001b[39m\u001b[38;5;241m.\u001b[39merror_count\n\u001b[1;32m    149\u001b[0m \u001b[38;5;28;01mif\u001b[39;00m current_error_count \u001b[38;5;241m>\u001b[39m\u001b[38;5;241m=\u001b[39m \u001b[38;5;28mself\u001b[39m\u001b[38;5;241m.\u001b[39mmax_errors:\n\u001b[0;32m--> 150\u001b[0m     \u001b[38;5;28;01mraise\u001b[39;00m e\n\u001b[1;32m    151\u001b[0m \u001b[38;5;28mprint\u001b[39m(\u001b[38;5;124mf\u001b[39m\u001b[38;5;124m\"\u001b[39m\u001b[38;5;124mError for example in dev set: \u001b[39m\u001b[38;5;130;01m\\t\u001b[39;00m\u001b[38;5;130;01m\\t\u001b[39;00m\u001b[38;5;124m \u001b[39m\u001b[38;5;132;01m{\u001b[39;00me\u001b[38;5;132;01m}\u001b[39;00m\u001b[38;5;124m\"\u001b[39m)\n\u001b[1;32m    152\u001b[0m \u001b[38;5;28;01mreturn\u001b[39;00m example_idx, example, \u001b[38;5;28mdict\u001b[39m(), \u001b[38;5;241m0.0\u001b[39m\n",
      "File \u001b[0;32m~/.pyenv/versions/3.10.0/envs/my-env310/lib/python3.10/site-packages/dspy/evaluate/evaluate.py:133\u001b[0m, in \u001b[0;36mEvaluate.__call__.<locals>.wrapped_program\u001b[0;34m(example_idx, example)\u001b[0m\n\u001b[1;32m    131\u001b[0m \u001b[38;5;28;01mtry\u001b[39;00m:\n\u001b[1;32m    132\u001b[0m     prediction \u001b[38;5;241m=\u001b[39m program(\u001b[38;5;241m*\u001b[39m\u001b[38;5;241m*\u001b[39mexample\u001b[38;5;241m.\u001b[39minputs())\n\u001b[0;32m--> 133\u001b[0m     score \u001b[38;5;241m=\u001b[39m \u001b[43mmetric\u001b[49m\u001b[43m(\u001b[49m\n\u001b[1;32m    134\u001b[0m \u001b[43m        \u001b[49m\u001b[43mexample\u001b[49m\u001b[43m,\u001b[49m\n\u001b[1;32m    135\u001b[0m \u001b[43m        \u001b[49m\u001b[43mprediction\u001b[49m\u001b[43m,\u001b[49m\n\u001b[1;32m    136\u001b[0m \u001b[43m    \u001b[49m\u001b[43m)\u001b[49m  \u001b[38;5;66;03m# FIXME: TODO: What's the right order? Maybe force name-based kwargs!\u001b[39;00m\n\u001b[1;32m    138\u001b[0m     \u001b[38;5;66;03m# increment assert and suggest failures to program's attributes\u001b[39;00m\n\u001b[1;32m    139\u001b[0m     \u001b[38;5;28;01mif\u001b[39;00m \u001b[38;5;28mhasattr\u001b[39m(program, \u001b[38;5;124m\"\u001b[39m\u001b[38;5;124m_assert_failures\u001b[39m\u001b[38;5;124m\"\u001b[39m):\n",
      "Cell \u001b[0;32mIn[27], line 4\u001b[0m, in \u001b[0;36mcustom_answer_exact_match\u001b[0;34m(prediction, example, trace)\u001b[0m\n\u001b[1;32m      3\u001b[0m \u001b[38;5;28;01mdef\u001b[39;00m \u001b[38;5;21mcustom_answer_exact_match\u001b[39m(prediction, example, trace\u001b[38;5;241m=\u001b[39m\u001b[38;5;28;01mNone\u001b[39;00m):\n\u001b[0;32m----> 4\u001b[0m     \u001b[38;5;28;01mreturn\u001b[39;00m prediction\u001b[38;5;241m.\u001b[39manswer_index \u001b[38;5;241m==\u001b[39m \u001b[43mexample\u001b[49m\u001b[43m[\u001b[49m\u001b[38;5;124;43m'\u001b[39;49m\u001b[38;5;124;43manswer_index\u001b[39;49m\u001b[38;5;124;43m'\u001b[39;49m\u001b[43m]\u001b[49m\n",
      "\u001b[0;31mTypeError\u001b[0m: tuple indices must be integers or slices, not str"
     ]
    }
   ],
   "source": [
    "# Evaluation code (same as before)\n",
    "evaluate = Evaluate(devset=try10test, metric=custom_answer_exact_match, num_threads=25, display_progress=True, display_table=10)\n",
    "evaluate(combined_module)"
   ]
  },
  {
   "cell_type": "markdown",
   "metadata": {},
   "source": [
    "future directions:"
   ]
  },
  {
   "cell_type": "markdown",
   "metadata": {},
   "source": [
    "does retrieving wikipedia colbert give better mmlupro results? a la https://github.com/stanfordnlp/dspy/blob/5db3e3461a5db8ddb0a03c8ae59e606f4efc1e95/intro.ipynb#L4"
   ]
  },
  {
   "cell_type": "markdown",
   "metadata": {},
   "source": [
    "score is number of tries to get the correct answer? or just exact match boolean 0 / 1?"
   ]
  },
  {
   "cell_type": "markdown",
   "metadata": {},
   "source": [
    "does training on mmlu give a smarter bot? need to make options optional. \n",
    "\n",
    "kind of like - are people that are really good at taking tests actually useful? are bots that are really good at benchmarks useful?"
   ]
  },
  {
   "cell_type": "markdown",
   "metadata": {},
   "source": [
    "proper optimizer copro / mipro, work up to using the full 70 in the validation set"
   ]
  }
 ],
 "metadata": {
  "kernelspec": {
   "display_name": "my-env310",
   "language": "python",
   "name": "python3"
  },
  "language_info": {
   "codemirror_mode": {
    "name": "ipython",
    "version": 3
   },
   "file_extension": ".py",
   "mimetype": "text/x-python",
   "name": "python",
   "nbconvert_exporter": "python",
   "pygments_lexer": "ipython3",
   "version": "3.10.0"
  }
 },
 "nbformat": 4,
 "nbformat_minor": 2
}
