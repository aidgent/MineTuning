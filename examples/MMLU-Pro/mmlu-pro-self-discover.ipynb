{
 "cells": [
  {
   "cell_type": "markdown",
   "metadata": {},
   "source": [
    "playing around with mmlu pro https://huggingface.co/datasets/TIGER-Lab/MMLU-Pro"
   ]
  },
  {
   "cell_type": "code",
   "execution_count": 1,
   "metadata": {},
   "outputs": [
    {
     "name": "stdout",
     "output_type": "stream",
     "text": [
      "Requirement already satisfied: dspy-ai in /Users/raymondweitekamp/.pyenv/versions/3.10.0/envs/my-env310/lib/python3.10/site-packages (2.4.5)\n",
      "Requirement already satisfied: pydantic==2.5.0 in /Users/raymondweitekamp/.pyenv/versions/3.10.0/envs/my-env310/lib/python3.10/site-packages (from dspy-ai) (2.5.0)\n",
      "Requirement already satisfied: tqdm in /Users/raymondweitekamp/.pyenv/versions/3.10.0/envs/my-env310/lib/python3.10/site-packages (from dspy-ai) (4.66.2)\n",
      "Requirement already satisfied: joblib~=1.3.2 in /Users/raymondweitekamp/.pyenv/versions/3.10.0/envs/my-env310/lib/python3.10/site-packages (from dspy-ai) (1.3.2)\n",
      "Requirement already satisfied: ujson in /Users/raymondweitekamp/.pyenv/versions/3.10.0/envs/my-env310/lib/python3.10/site-packages (from dspy-ai) (5.9.0)\n",
      "Requirement already satisfied: regex in /Users/raymondweitekamp/.pyenv/versions/3.10.0/envs/my-env310/lib/python3.10/site-packages (from dspy-ai) (2023.12.25)\n",
      "Requirement already satisfied: backoff~=2.2.1 in /Users/raymondweitekamp/.pyenv/versions/3.10.0/envs/my-env310/lib/python3.10/site-packages (from dspy-ai) (2.2.1)\n",
      "Requirement already satisfied: datasets<3.0.0,~=2.14.6 in /Users/raymondweitekamp/.pyenv/versions/3.10.0/envs/my-env310/lib/python3.10/site-packages (from dspy-ai) (2.14.7)\n",
      "Requirement already satisfied: optuna in /Users/raymondweitekamp/.pyenv/versions/3.10.0/envs/my-env310/lib/python3.10/site-packages (from dspy-ai) (3.6.1)\n",
      "Requirement already satisfied: openai<2.0.0,>=0.28.1 in /Users/raymondweitekamp/.pyenv/versions/3.10.0/envs/my-env310/lib/python3.10/site-packages (from dspy-ai) (1.13.3)\n",
      "Requirement already satisfied: pandas in /Users/raymondweitekamp/.pyenv/versions/3.10.0/envs/my-env310/lib/python3.10/site-packages (from dspy-ai) (2.2.1)\n",
      "Requirement already satisfied: requests in /Users/raymondweitekamp/.pyenv/versions/3.10.0/envs/my-env310/lib/python3.10/site-packages (from dspy-ai) (2.31.0)\n",
      "Requirement already satisfied: typing-extensions>=4.6.1 in /Users/raymondweitekamp/.pyenv/versions/3.10.0/envs/my-env310/lib/python3.10/site-packages (from pydantic==2.5.0->dspy-ai) (4.10.0)\n",
      "Requirement already satisfied: pydantic-core==2.14.1 in /Users/raymondweitekamp/.pyenv/versions/3.10.0/envs/my-env310/lib/python3.10/site-packages (from pydantic==2.5.0->dspy-ai) (2.14.1)\n",
      "Requirement already satisfied: annotated-types>=0.4.0 in /Users/raymondweitekamp/.pyenv/versions/3.10.0/envs/my-env310/lib/python3.10/site-packages (from pydantic==2.5.0->dspy-ai) (0.6.0)\n",
      "Requirement already satisfied: multiprocess in /Users/raymondweitekamp/.pyenv/versions/3.10.0/envs/my-env310/lib/python3.10/site-packages (from datasets<3.0.0,~=2.14.6->dspy-ai) (0.70.15)\n",
      "Requirement already satisfied: numpy>=1.17 in /Users/raymondweitekamp/.pyenv/versions/3.10.0/envs/my-env310/lib/python3.10/site-packages (from datasets<3.0.0,~=2.14.6->dspy-ai) (1.26.4)\n",
      "Requirement already satisfied: fsspec[http]<=2023.10.0,>=2023.1.0 in /Users/raymondweitekamp/.pyenv/versions/3.10.0/envs/my-env310/lib/python3.10/site-packages (from datasets<3.0.0,~=2.14.6->dspy-ai) (2023.10.0)\n",
      "Requirement already satisfied: aiohttp in /Users/raymondweitekamp/.pyenv/versions/3.10.0/envs/my-env310/lib/python3.10/site-packages (from datasets<3.0.0,~=2.14.6->dspy-ai) (3.9.3)\n",
      "Requirement already satisfied: packaging in /Users/raymondweitekamp/.pyenv/versions/3.10.0/envs/my-env310/lib/python3.10/site-packages (from datasets<3.0.0,~=2.14.6->dspy-ai) (23.2)\n",
      "Requirement already satisfied: dill<0.3.8,>=0.3.0 in /Users/raymondweitekamp/.pyenv/versions/3.10.0/envs/my-env310/lib/python3.10/site-packages (from datasets<3.0.0,~=2.14.6->dspy-ai) (0.3.7)\n",
      "Requirement already satisfied: pyyaml>=5.1 in /Users/raymondweitekamp/.pyenv/versions/3.10.0/envs/my-env310/lib/python3.10/site-packages (from datasets<3.0.0,~=2.14.6->dspy-ai) (6.0.1)\n",
      "Requirement already satisfied: huggingface-hub<1.0.0,>=0.14.0 in /Users/raymondweitekamp/.pyenv/versions/3.10.0/envs/my-env310/lib/python3.10/site-packages (from datasets<3.0.0,~=2.14.6->dspy-ai) (0.21.3)\n",
      "Requirement already satisfied: xxhash in /Users/raymondweitekamp/.pyenv/versions/3.10.0/envs/my-env310/lib/python3.10/site-packages (from datasets<3.0.0,~=2.14.6->dspy-ai) (3.4.1)\n",
      "Requirement already satisfied: pyarrow-hotfix in /Users/raymondweitekamp/.pyenv/versions/3.10.0/envs/my-env310/lib/python3.10/site-packages (from datasets<3.0.0,~=2.14.6->dspy-ai) (0.6)\n",
      "Requirement already satisfied: pyarrow>=8.0.0 in /Users/raymondweitekamp/.pyenv/versions/3.10.0/envs/my-env310/lib/python3.10/site-packages (from datasets<3.0.0,~=2.14.6->dspy-ai) (16.0.0)\n",
      "Requirement already satisfied: yarl<2.0,>=1.0 in /Users/raymondweitekamp/.pyenv/versions/3.10.0/envs/my-env310/lib/python3.10/site-packages (from aiohttp->datasets<3.0.0,~=2.14.6->dspy-ai) (1.9.4)\n",
      "Requirement already satisfied: attrs>=17.3.0 in /Users/raymondweitekamp/.pyenv/versions/3.10.0/envs/my-env310/lib/python3.10/site-packages (from aiohttp->datasets<3.0.0,~=2.14.6->dspy-ai) (23.2.0)\n",
      "Requirement already satisfied: multidict<7.0,>=4.5 in /Users/raymondweitekamp/.pyenv/versions/3.10.0/envs/my-env310/lib/python3.10/site-packages (from aiohttp->datasets<3.0.0,~=2.14.6->dspy-ai) (6.0.5)\n",
      "Requirement already satisfied: frozenlist>=1.1.1 in /Users/raymondweitekamp/.pyenv/versions/3.10.0/envs/my-env310/lib/python3.10/site-packages (from aiohttp->datasets<3.0.0,~=2.14.6->dspy-ai) (1.4.1)\n",
      "Requirement already satisfied: aiosignal>=1.1.2 in /Users/raymondweitekamp/.pyenv/versions/3.10.0/envs/my-env310/lib/python3.10/site-packages (from aiohttp->datasets<3.0.0,~=2.14.6->dspy-ai) (1.3.1)\n",
      "Requirement already satisfied: async-timeout<5.0,>=4.0 in /Users/raymondweitekamp/.pyenv/versions/3.10.0/envs/my-env310/lib/python3.10/site-packages (from aiohttp->datasets<3.0.0,~=2.14.6->dspy-ai) (4.0.3)\n",
      "Requirement already satisfied: filelock in /Users/raymondweitekamp/.pyenv/versions/3.10.0/envs/my-env310/lib/python3.10/site-packages (from huggingface-hub<1.0.0,>=0.14.0->datasets<3.0.0,~=2.14.6->dspy-ai) (3.13.1)\n",
      "Requirement already satisfied: httpx<1,>=0.23.0 in /Users/raymondweitekamp/.pyenv/versions/3.10.0/envs/my-env310/lib/python3.10/site-packages (from openai<2.0.0,>=0.28.1->dspy-ai) (0.27.0)\n",
      "Requirement already satisfied: sniffio in /Users/raymondweitekamp/.pyenv/versions/3.10.0/envs/my-env310/lib/python3.10/site-packages (from openai<2.0.0,>=0.28.1->dspy-ai) (1.3.1)\n",
      "Requirement already satisfied: distro<2,>=1.7.0 in /Users/raymondweitekamp/.pyenv/versions/3.10.0/envs/my-env310/lib/python3.10/site-packages (from openai<2.0.0,>=0.28.1->dspy-ai) (1.9.0)\n",
      "Requirement already satisfied: anyio<5,>=3.5.0 in /Users/raymondweitekamp/.pyenv/versions/3.10.0/envs/my-env310/lib/python3.10/site-packages (from openai<2.0.0,>=0.28.1->dspy-ai) (4.3.0)\n",
      "Requirement already satisfied: idna>=2.8 in /Users/raymondweitekamp/.pyenv/versions/3.10.0/envs/my-env310/lib/python3.10/site-packages (from anyio<5,>=3.5.0->openai<2.0.0,>=0.28.1->dspy-ai) (3.6)\n",
      "Requirement already satisfied: exceptiongroup>=1.0.2 in /Users/raymondweitekamp/.pyenv/versions/3.10.0/envs/my-env310/lib/python3.10/site-packages (from anyio<5,>=3.5.0->openai<2.0.0,>=0.28.1->dspy-ai) (1.2.0)\n",
      "Requirement already satisfied: httpcore==1.* in /Users/raymondweitekamp/.pyenv/versions/3.10.0/envs/my-env310/lib/python3.10/site-packages (from httpx<1,>=0.23.0->openai<2.0.0,>=0.28.1->dspy-ai) (1.0.4)\n",
      "Requirement already satisfied: certifi in /Users/raymondweitekamp/.pyenv/versions/3.10.0/envs/my-env310/lib/python3.10/site-packages (from httpx<1,>=0.23.0->openai<2.0.0,>=0.28.1->dspy-ai) (2024.2.2)\n",
      "Requirement already satisfied: h11<0.15,>=0.13 in /Users/raymondweitekamp/.pyenv/versions/3.10.0/envs/my-env310/lib/python3.10/site-packages (from httpcore==1.*->httpx<1,>=0.23.0->openai<2.0.0,>=0.28.1->dspy-ai) (0.14.0)\n",
      "Requirement already satisfied: urllib3<3,>=1.21.1 in /Users/raymondweitekamp/.pyenv/versions/3.10.0/envs/my-env310/lib/python3.10/site-packages (from requests->dspy-ai) (2.2.1)\n",
      "Requirement already satisfied: charset-normalizer<4,>=2 in /Users/raymondweitekamp/.pyenv/versions/3.10.0/envs/my-env310/lib/python3.10/site-packages (from requests->dspy-ai) (3.3.2)\n",
      "Requirement already satisfied: colorlog in /Users/raymondweitekamp/.pyenv/versions/3.10.0/envs/my-env310/lib/python3.10/site-packages (from optuna->dspy-ai) (6.8.2)\n",
      "Requirement already satisfied: alembic>=1.5.0 in /Users/raymondweitekamp/.pyenv/versions/3.10.0/envs/my-env310/lib/python3.10/site-packages (from optuna->dspy-ai) (1.13.1)\n",
      "Requirement already satisfied: sqlalchemy>=1.3.0 in /Users/raymondweitekamp/.pyenv/versions/3.10.0/envs/my-env310/lib/python3.10/site-packages (from optuna->dspy-ai) (2.0.28)\n",
      "Requirement already satisfied: Mako in /Users/raymondweitekamp/.pyenv/versions/3.10.0/envs/my-env310/lib/python3.10/site-packages (from alembic>=1.5.0->optuna->dspy-ai) (1.3.3)\n",
      "Requirement already satisfied: MarkupSafe>=0.9.2 in /Users/raymondweitekamp/.pyenv/versions/3.10.0/envs/my-env310/lib/python3.10/site-packages (from Mako->alembic>=1.5.0->optuna->dspy-ai) (2.1.5)\n",
      "Requirement already satisfied: tzdata>=2022.7 in /Users/raymondweitekamp/.pyenv/versions/3.10.0/envs/my-env310/lib/python3.10/site-packages (from pandas->dspy-ai) (2024.1)\n",
      "Requirement already satisfied: pytz>=2020.1 in /Users/raymondweitekamp/.pyenv/versions/3.10.0/envs/my-env310/lib/python3.10/site-packages (from pandas->dspy-ai) (2024.1)\n",
      "Requirement already satisfied: python-dateutil>=2.8.2 in /Users/raymondweitekamp/.pyenv/versions/3.10.0/envs/my-env310/lib/python3.10/site-packages (from pandas->dspy-ai) (2.9.0.post0)\n",
      "Requirement already satisfied: six>=1.5 in /Users/raymondweitekamp/.pyenv/versions/3.10.0/envs/my-env310/lib/python3.10/site-packages (from python-dateutil>=2.8.2->pandas->dspy-ai) (1.16.0)\n",
      "\u001b[33mWARNING: You are using pip version 21.2.3; however, version 24.0 is available.\n",
      "You should consider upgrading via the '/Users/raymondweitekamp/.pyenv/versions/3.10.0/envs/my-env310/bin/python -m pip install --upgrade pip' command.\u001b[0m\n",
      "Note: you may need to restart the kernel to use updated packages.\n",
      "Requirement already satisfied: ipywidgets in /Users/raymondweitekamp/.pyenv/versions/3.10.0/envs/my-env310/lib/python3.10/site-packages (8.1.2)\n",
      "Requirement already satisfied: comm>=0.1.3 in /Users/raymondweitekamp/.pyenv/versions/3.10.0/envs/my-env310/lib/python3.10/site-packages (from ipywidgets) (0.2.2)\n",
      "Requirement already satisfied: traitlets>=4.3.1 in /Users/raymondweitekamp/.pyenv/versions/3.10.0/envs/my-env310/lib/python3.10/site-packages (from ipywidgets) (5.14.3)\n",
      "Requirement already satisfied: ipython>=6.1.0 in /Users/raymondweitekamp/.pyenv/versions/3.10.0/envs/my-env310/lib/python3.10/site-packages (from ipywidgets) (8.24.0)\n",
      "Requirement already satisfied: jupyterlab-widgets~=3.0.10 in /Users/raymondweitekamp/.pyenv/versions/3.10.0/envs/my-env310/lib/python3.10/site-packages (from ipywidgets) (3.0.10)\n",
      "Requirement already satisfied: widgetsnbextension~=4.0.10 in /Users/raymondweitekamp/.pyenv/versions/3.10.0/envs/my-env310/lib/python3.10/site-packages (from ipywidgets) (4.0.10)\n",
      "Requirement already satisfied: typing-extensions>=4.6 in /Users/raymondweitekamp/.pyenv/versions/3.10.0/envs/my-env310/lib/python3.10/site-packages (from ipython>=6.1.0->ipywidgets) (4.10.0)\n",
      "Requirement already satisfied: prompt-toolkit<3.1.0,>=3.0.41 in /Users/raymondweitekamp/.pyenv/versions/3.10.0/envs/my-env310/lib/python3.10/site-packages (from ipython>=6.1.0->ipywidgets) (3.0.43)\n",
      "Requirement already satisfied: pexpect>4.3 in /Users/raymondweitekamp/.pyenv/versions/3.10.0/envs/my-env310/lib/python3.10/site-packages (from ipython>=6.1.0->ipywidgets) (4.9.0)\n",
      "Requirement already satisfied: matplotlib-inline in /Users/raymondweitekamp/.pyenv/versions/3.10.0/envs/my-env310/lib/python3.10/site-packages (from ipython>=6.1.0->ipywidgets) (0.1.7)\n",
      "Requirement already satisfied: jedi>=0.16 in /Users/raymondweitekamp/.pyenv/versions/3.10.0/envs/my-env310/lib/python3.10/site-packages (from ipython>=6.1.0->ipywidgets) (0.19.1)\n",
      "Requirement already satisfied: exceptiongroup in /Users/raymondweitekamp/.pyenv/versions/3.10.0/envs/my-env310/lib/python3.10/site-packages (from ipython>=6.1.0->ipywidgets) (1.2.0)\n",
      "Requirement already satisfied: decorator in /Users/raymondweitekamp/.pyenv/versions/3.10.0/envs/my-env310/lib/python3.10/site-packages (from ipython>=6.1.0->ipywidgets) (5.1.1)\n",
      "Requirement already satisfied: pygments>=2.4.0 in /Users/raymondweitekamp/.pyenv/versions/3.10.0/envs/my-env310/lib/python3.10/site-packages (from ipython>=6.1.0->ipywidgets) (2.17.2)\n",
      "Requirement already satisfied: stack-data in /Users/raymondweitekamp/.pyenv/versions/3.10.0/envs/my-env310/lib/python3.10/site-packages (from ipython>=6.1.0->ipywidgets) (0.6.3)\n",
      "Requirement already satisfied: parso<0.9.0,>=0.8.3 in /Users/raymondweitekamp/.pyenv/versions/3.10.0/envs/my-env310/lib/python3.10/site-packages (from jedi>=0.16->ipython>=6.1.0->ipywidgets) (0.8.4)\n",
      "Requirement already satisfied: ptyprocess>=0.5 in /Users/raymondweitekamp/.pyenv/versions/3.10.0/envs/my-env310/lib/python3.10/site-packages (from pexpect>4.3->ipython>=6.1.0->ipywidgets) (0.7.0)\n",
      "Requirement already satisfied: wcwidth in /Users/raymondweitekamp/.pyenv/versions/3.10.0/envs/my-env310/lib/python3.10/site-packages (from prompt-toolkit<3.1.0,>=3.0.41->ipython>=6.1.0->ipywidgets) (0.2.13)\n",
      "Requirement already satisfied: pure-eval in /Users/raymondweitekamp/.pyenv/versions/3.10.0/envs/my-env310/lib/python3.10/site-packages (from stack-data->ipython>=6.1.0->ipywidgets) (0.2.2)\n",
      "Requirement already satisfied: executing>=1.2.0 in /Users/raymondweitekamp/.pyenv/versions/3.10.0/envs/my-env310/lib/python3.10/site-packages (from stack-data->ipython>=6.1.0->ipywidgets) (2.0.1)\n",
      "Requirement already satisfied: asttokens>=2.1.0 in /Users/raymondweitekamp/.pyenv/versions/3.10.0/envs/my-env310/lib/python3.10/site-packages (from stack-data->ipython>=6.1.0->ipywidgets) (2.4.1)\n",
      "Requirement already satisfied: six>=1.12.0 in /Users/raymondweitekamp/.pyenv/versions/3.10.0/envs/my-env310/lib/python3.10/site-packages (from asttokens>=2.1.0->stack-data->ipython>=6.1.0->ipywidgets) (1.16.0)\n",
      "\u001b[33mWARNING: You are using pip version 21.2.3; however, version 24.0 is available.\n",
      "You should consider upgrading via the '/Users/raymondweitekamp/.pyenv/versions/3.10.0/envs/my-env310/bin/python -m pip install --upgrade pip' command.\u001b[0m\n",
      "Note: you may need to restart the kernel to use updated packages.\n",
      "Requirement already satisfied: IPython in /Users/raymondweitekamp/.pyenv/versions/3.10.0/envs/my-env310/lib/python3.10/site-packages (8.24.0)\n",
      "Requirement already satisfied: decorator in /Users/raymondweitekamp/.pyenv/versions/3.10.0/envs/my-env310/lib/python3.10/site-packages (from IPython) (5.1.1)\n",
      "Requirement already satisfied: traitlets>=5.13.0 in /Users/raymondweitekamp/.pyenv/versions/3.10.0/envs/my-env310/lib/python3.10/site-packages (from IPython) (5.14.3)\n",
      "Requirement already satisfied: jedi>=0.16 in /Users/raymondweitekamp/.pyenv/versions/3.10.0/envs/my-env310/lib/python3.10/site-packages (from IPython) (0.19.1)\n",
      "Requirement already satisfied: prompt-toolkit<3.1.0,>=3.0.41 in /Users/raymondweitekamp/.pyenv/versions/3.10.0/envs/my-env310/lib/python3.10/site-packages (from IPython) (3.0.43)\n",
      "Requirement already satisfied: stack-data in /Users/raymondweitekamp/.pyenv/versions/3.10.0/envs/my-env310/lib/python3.10/site-packages (from IPython) (0.6.3)\n",
      "Requirement already satisfied: matplotlib-inline in /Users/raymondweitekamp/.pyenv/versions/3.10.0/envs/my-env310/lib/python3.10/site-packages (from IPython) (0.1.7)\n",
      "Requirement already satisfied: pygments>=2.4.0 in /Users/raymondweitekamp/.pyenv/versions/3.10.0/envs/my-env310/lib/python3.10/site-packages (from IPython) (2.17.2)\n",
      "Requirement already satisfied: exceptiongroup in /Users/raymondweitekamp/.pyenv/versions/3.10.0/envs/my-env310/lib/python3.10/site-packages (from IPython) (1.2.0)\n",
      "Requirement already satisfied: typing-extensions>=4.6 in /Users/raymondweitekamp/.pyenv/versions/3.10.0/envs/my-env310/lib/python3.10/site-packages (from IPython) (4.10.0)\n",
      "Requirement already satisfied: pexpect>4.3 in /Users/raymondweitekamp/.pyenv/versions/3.10.0/envs/my-env310/lib/python3.10/site-packages (from IPython) (4.9.0)\n",
      "Requirement already satisfied: parso<0.9.0,>=0.8.3 in /Users/raymondweitekamp/.pyenv/versions/3.10.0/envs/my-env310/lib/python3.10/site-packages (from jedi>=0.16->IPython) (0.8.4)\n",
      "Requirement already satisfied: ptyprocess>=0.5 in /Users/raymondweitekamp/.pyenv/versions/3.10.0/envs/my-env310/lib/python3.10/site-packages (from pexpect>4.3->IPython) (0.7.0)\n",
      "Requirement already satisfied: wcwidth in /Users/raymondweitekamp/.pyenv/versions/3.10.0/envs/my-env310/lib/python3.10/site-packages (from prompt-toolkit<3.1.0,>=3.0.41->IPython) (0.2.13)\n",
      "Requirement already satisfied: executing>=1.2.0 in /Users/raymondweitekamp/.pyenv/versions/3.10.0/envs/my-env310/lib/python3.10/site-packages (from stack-data->IPython) (2.0.1)\n",
      "Requirement already satisfied: asttokens>=2.1.0 in /Users/raymondweitekamp/.pyenv/versions/3.10.0/envs/my-env310/lib/python3.10/site-packages (from stack-data->IPython) (2.4.1)\n",
      "Requirement already satisfied: pure-eval in /Users/raymondweitekamp/.pyenv/versions/3.10.0/envs/my-env310/lib/python3.10/site-packages (from stack-data->IPython) (0.2.2)\n",
      "Requirement already satisfied: six>=1.12.0 in /Users/raymondweitekamp/.pyenv/versions/3.10.0/envs/my-env310/lib/python3.10/site-packages (from asttokens>=2.1.0->stack-data->IPython) (1.16.0)\n",
      "\u001b[33mWARNING: You are using pip version 21.2.3; however, version 24.0 is available.\n",
      "You should consider upgrading via the '/Users/raymondweitekamp/.pyenv/versions/3.10.0/envs/my-env310/bin/python -m pip install --upgrade pip' command.\u001b[0m\n",
      "Note: you may need to restart the kernel to use updated packages.\n",
      "Requirement already satisfied: requests in /Users/raymondweitekamp/.pyenv/versions/3.10.0/envs/my-env310/lib/python3.10/site-packages (2.31.0)\n",
      "Requirement already satisfied: idna<4,>=2.5 in /Users/raymondweitekamp/.pyenv/versions/3.10.0/envs/my-env310/lib/python3.10/site-packages (from requests) (3.6)\n",
      "Requirement already satisfied: urllib3<3,>=1.21.1 in /Users/raymondweitekamp/.pyenv/versions/3.10.0/envs/my-env310/lib/python3.10/site-packages (from requests) (2.2.1)\n",
      "Requirement already satisfied: certifi>=2017.4.17 in /Users/raymondweitekamp/.pyenv/versions/3.10.0/envs/my-env310/lib/python3.10/site-packages (from requests) (2024.2.2)\n",
      "Requirement already satisfied: charset-normalizer<4,>=2 in /Users/raymondweitekamp/.pyenv/versions/3.10.0/envs/my-env310/lib/python3.10/site-packages (from requests) (3.3.2)\n",
      "\u001b[33mWARNING: You are using pip version 21.2.3; however, version 24.0 is available.\n",
      "You should consider upgrading via the '/Users/raymondweitekamp/.pyenv/versions/3.10.0/envs/my-env310/bin/python -m pip install --upgrade pip' command.\u001b[0m\n",
      "Note: you may need to restart the kernel to use updated packages.\n"
     ]
    }
   ],
   "source": [
    "%pip install dspy-ai\n",
    "%pip install ipywidgets\n",
    "%pip install IPython\n",
    "%pip install requests"
   ]
  },
  {
   "cell_type": "code",
   "execution_count": 2,
   "metadata": {},
   "outputs": [],
   "source": [
    "import dspy\n",
    "from dspy.datasets import DataLoader\n",
    "import dspy\n",
    "import os\n",
    "import dotenv\n",
    "import requests\n",
    "import pydantic"
   ]
  },
  {
   "cell_type": "markdown",
   "metadata": {},
   "source": [
    "setup DSPy"
   ]
  },
  {
   "cell_type": "code",
   "execution_count": 3,
   "metadata": {},
   "outputs": [],
   "source": [
    "dotenv.load_dotenv()\n",
    "assert 'OPENAI_API_KEY' in os.environ\n",
    "llm = dspy.OpenAI(model='gpt-4o', max_tokens=4096, temperature=0.1)\n",
    "dspy.settings.configure(lm=llm)"
   ]
  },
  {
   "cell_type": "markdown",
   "metadata": {},
   "source": [
    "Download MMLU-Pro"
   ]
  },
  {
   "cell_type": "code",
   "execution_count": 4,
   "metadata": {},
   "outputs": [],
   "source": [
    "dl = DataLoader()\n",
    "mmlu_pro = dl.from_huggingface(\"TIGER-Lab/MMLU-Pro\")\n",
    "validation = mmlu_pro['validation']\n",
    "#display(validation)\n",
    "\n"
   ]
  },
  {
   "cell_type": "markdown",
   "metadata": {},
   "source": [
    "Get 10 random entries and format for DSPy "
   ]
  },
  {
   "cell_type": "code",
   "execution_count": 7,
   "metadata": {},
   "outputs": [
    {
     "data": {
      "text/plain": [
       "[Example({'question_id': 9, 'question': 'Why are parvoviruses a highly impactful parasite?', 'options': '[\"They are able to alter the host\\'s DNA\", \\'Because they have no nucleic acid\\', \\'They can survive in extreme temperatures\\', \\'Only replicate in dividing cells\\', \\'They can infect multiple species\\', \"They don\\'t require a host to survive\", \\'Can integrate into host chromosomes\\', \\'N/A\\', \\'N/A\\', \\'N/A\\']', 'answer': 'B', 'answer_index': '1', 'cot_content': \"A: Let's think step by step. We refer to Wikipedia articles on virology for help. Paroviruses are highly impactful because they do not have nucleic acid. The answer is (B).\", 'category': 'health', 'src': 'cot_lib-virology'}) (input_keys={'options', 'question'}),\n",
       " Example({'question_id': 11, 'question': 'Where do most short-period comets come from and how do we know?', 'options': \"['The Kuiper belt; short period comets tend to be in the plane of the solar system just like the Kuiper belt.', 'The asteroid belt; short period comets tend to come from random directions indicating a spherical distribution of comets called the asteroid belt.', 'The asteroid belt; short period comets tend to be in the plane of the solar system just like the asteroid belt.', 'The Oort cloud; short period comets have orbital periods similar to asteroids like Vesta and are found in the plane of the solar system just like the Oort cloud.', 'The Oort Cloud; short period comets tend to come from random directions indicating a spherical distribution of comets called the Oort Cloud.', 'The Oort cloud; short period comets tend to be in the plane of the solar system just like the Oort cloud.', 'The asteroid belt; short period comets have orbital periods similar to asteroids like Vesta and are found in the plane of the solar system just like the asteroid belt.', 'N/A', 'N/A', 'N/A']\", 'answer': 'A', 'answer_index': '0', 'cot_content': \"A: Let's think step by step. Most short-period comets come from the Kuiper belt, and we know because short period coments tend to be in the plane of the solar system, just like the Kuiper belt is. The answer is (A).\", 'category': 'physics', 'src': 'cot_lib-astronomy'}) (input_keys={'options', 'question'}),\n",
       " Example({'question_id': 38, 'question': 'Which of the following policies best describes supply-side fiscal policy?', 'options': \"['Higher taxes on household income', 'Increased government spending', 'Increased taxes on corporate profits', 'Increased import tariffs', 'Decreased interest rates', 'Lower taxes on consumer goods', 'Lower taxes on research and development of new technology', 'Reduced government spending', 'Higher taxes on capital gains', 'An increase in the money supply']\", 'answer': 'G', 'answer_index': '6', 'cot_content': \"A: Let's think step by step. We refer to Wikipedia articles on macroeconomics for help. Supply-side fiscal policy stimulates the economy by encouraging more production of goods and services through reduction in taxes and deregulation. The answer is (G).\", 'category': 'economics', 'src': 'cot_lib-high_school_macroeconomics'}) (input_keys={'options', 'question'}),\n",
       " Example({'question_id': 67, 'question': 'The ________ School of jurisprudence postulates that the law is based on what is \"correct.\"', 'options': \"['Legal Pragmatism', 'Legal Formalism', 'Comparative', 'Analytical', 'Sociological', 'Historical', 'Critical Legal Studies', 'Realist', 'Positivist', 'Natural Law']\", 'answer': 'J', 'answer_index': '9', 'cot_content': 'A: Let\\'s think step by step. We refer to Wikipedia articles on jurisprudence for help. Natural Law School of jurisprudence focuses on the laws of nature, and states that the law should be based on ethics, morals, and what is \"correct\". Analytical deals with the law as it already exists, Historical postulates that the law was found and not made, and Sociological studies how the law and society impact each other. The answer is (J).', 'category': 'law', 'src': 'cot_lib-jurisprudence'}) (input_keys={'options', 'question'}),\n",
       " Example({'question_id': 56, 'question': 'This question refers to the following information.\\nThe following excerpt is from a pamphlet.\\nYou will do me the justice to remember, that I have always strenuously supported the Right of every man to his own opinion, however different that opinion might be to mine. He who denies to another this right, makes a slave of himself to his present opinion, because he precludes himself the right of changing it.\\nThe most formidable weapon against errors of every kind is Reason. I have never used any other, and I trust I never shall.\\nThe circumstance that has now taken place in France of the total abolition of the whole national order of priesthood, and of everything appertaining to compulsive systems of religion, and compulsive articles of faith, has not only precipitated my intention, but rendered a work of this kind exceedingly necessary, lest in the general wreck of superstition, of false systems of government, and false theology, we lose sight of morality, of humanity, and of the theology that is true.\\nI believe in one God, and no more; and I hope for happiness beyond this life.\\nI believe in the equality of man; and I believe that religious duties consist in doing justice, loving mercy, and endeavoring to make our fellow-creatures happy.\\nI do not believe in the creed professed by the Jewish church, by the Roman church, by the Greek church, by the Turkish church, by the Protestant church, nor by any church that I know of. My own mind is my own church.\\nAll national institutions of churches, whether Jewish, Christian or Turkish, appear to me no other than human inventions, set up to terrify and enslave mankind, and monopolize power and profit.\\nI do not mean by this declaration to condemn those who believe otherwise; they have the same right to their belief as I have to mine.\\n—Thomas Paine, The Age of Reason, 1794–1795\\nWhich of the following Enlightenment philosophes designed a system of checks and balances for government to avoid abuses of power?', 'options': \"['Thomas Hobbes', 'Jean Jacques Rousseau', 'Baron Montesquieu', 'Voltaire', 'Denis Diderot', 'Immanuel Kant', 'David Hume', 'Mary Wollstonecraft', 'Adam Smith', 'John Locke']\", 'answer': 'C', 'answer_index': '2', 'cot_content': \"A: Let's think step by step. We refer to Wikipedia articles on european history for help. Baron Montesquieu was a 18th centrury French philsopher who wrote extensively against the monoplization of power and advocated for a system of checks and balances in government to prevent the rise of despotism. The answer is (C).\", 'category': 'history', 'src': 'cot_lib-high_school_european_history'}) (input_keys={'options', 'question'}),\n",
       " Example({'question_id': 62, 'question': 'According to the Individuals with Disabilities Education Improvement Act, which of the following must an educational agency do before it changes the educational placement of a student with a disability?', 'options': '[\\'Notify the parents in writing\\', \"Obtain the child\\'s consent\", \\'Obtain a court order\\', \"Conduct a new evaluation of the child\\'s disability\", \"Discuss with the child\\'s psychologist\", \\'Give the child a trial period in the new environment\\', \\'Obtain parental consent\\', \\'Notify the local education authority\\', \\'Arrange a meeting with all teachers and administrators\\', \\'Obtain school board approval\\']', 'answer': 'A', 'answer_index': '0', 'cot_content': \"A: Let's think step by step. We refer to Wikipedia articles on psychology for help. When the decision to change the educational placement of a student with a disability is made, the educational agency must notify the parents in writing on that date. The answer is (A).\", 'category': 'psychology', 'src': 'cot_lib-high_school_psychology'}) (input_keys={'options', 'question'}),\n",
       " Example({'question_id': 40, 'question': 'A point pole has a strength of 4π * 10^-4 weber. The force in newtons on a point pole of 4π * 1.5 * 10^-4 weber placed at a distance of 10 cm from it will be', 'options': \"['25 N.', '12.5 N.', '15 N.', '10 N.', '7.5 N.', '20 N.', '5 N.', '3.75 N.', 'N/A', 'N/A']\", 'answer': 'C', 'answer_index': '2', 'cot_content': \"A: Let's think step by step. The force between two point poles is given by m_1m_2/(mu_0 4 \\\\pi r^2), in analogy to Coulomb’s law. Plugging in the values given in the question, we calculate that the force is approximately 15 N. The answer is (C).\", 'category': 'engineering', 'src': 'cot_lib-electrical_engineering'}) (input_keys={'options', 'question'}),\n",
       " Example({'question_id': 55, 'question': 'This question refers to the following information.\\nIn Russia there was nothing going on well, and [Souvarine] was in despair over the news he had received. His old companions were all turning to the politicians; the famous Nihilists who made Europe tremble-sons of village priests, of the lower middle class, of tradesmen-could not rise above the idea of national liberation, and seemed to believe that the world would be delivered-when they had killed their despot&…\\n\"Foolery! They\\'ll never get out of it with their foolery.\"\\nThen, lowering his voice still more, in a few bitter words he described his old dream of fraternity. He had renounced his rank and his fortune; he had gone among workmen, only in the hope of seeing at last the foundation of a new society of labour in common. All the sous in his pockets had long gone to the urchins of the settlement; he had been as tender as a brother with the colliers, smiling at their suspicion, winning them over by his quiet workmanlike ways and his dislike of chattering. But decidedly the fusion had not taken place.\\nHis voice changed, his eyes grew bright, he fixed them on étienne, directly addressing him:\\n\"Now, do you understand that? These hatworkers at Marseilles who have won the great lottery prize of a hundred thousand francs have gone off at once and invested it, declaring that they are going to live without doing anything! Yes, that is your idea, all of you French workmen; you want to unearth a treasure in order to devour it alone afterwards in some lazy, selfish corner. You may cry out as much as you like against the rich, you haven\\'t got courage enough to give back to the poor the money that luck brings you. You will never be worthy of happiness as long as you own anything, and your hatred of the bourgeois proceeds solely from an angry desire to be bourgeois yourselves in their place.\"\\némile Zola, French writer, Germinal, 1885\\nThe passage displays the direct concern for the welfare of the working classes that was typically a part of which movement?', 'options': \"['Communist', 'Anarchist', 'Feminist', 'Fascist', 'Imperialist', 'Nationalist', 'Enlightenment', 'Existentialist', 'N/A', 'N/A']\", 'answer': 'A', 'answer_index': '0', 'cot_content': \"A: Let's think step by step. We refer to Wikipedia articles on european history for help. The modern Communist movement aims to establish a classless society based on communal ownership and distribution of property and means of production, thereby especially benefiting the working classes. The answer is (A).\", 'category': 'history', 'src': 'cot_lib-high_school_european_history'}) (input_keys={'options', 'question'}),\n",
       " Example({'question_id': 53, 'question': 'A woman who knows she has active herpes and untreated syphilis but continues to have sex without informing her partners of her condition has, in psychoanalytic terms:', 'options': \"['a weak conscious mind', 'a strong conscious mind', 'a weak id', 'a weak ego', 'a weak unconscious mind', 'a strong id', 'a strong ego', 'a strong superego', 'a strong preconscious mind', 'a weak superego']\", 'answer': 'J', 'answer_index': '9', 'cot_content': \"A: Let's think step by step. We refer to Wikipedia articles on human sexuality for help. A person with weak superego tends to be delinquent, criminal or have antisocial personality. The action of the woman who knows she has active venereal disease but still have sex with her partners indicate she may has antisocial personality. The answer is (J).\", 'category': 'other', 'src': 'cot_lib-human_sexuality'}) (input_keys={'options', 'question'}),\n",
       " Example({'question_id': 69, 'question': 'A state has recently enacted a statute prohibiting the disposal of any nuclear wastes within the state. This law does not contravene or conflict with any federal statutes. A man operates a company in the state that is engaged in the disposal of nuclear wastes. Subsequent to the passage of the state statute, the man, not yet aware of the new law, entered into contracts with many out-of-state firms to dispose of their nuclear wastes in the state. On account of this new law, however, the man will be unable to perform these contracts. Assume that the man has standing to challenge this state law. Which of the following presents his strongest constitutional grounds to challenge the state law prohibiting the disposal of nuclear wastes within the state?', 'options': \"['The second amendment - the right to bear arms.', 'The due process clause of the Fourteenth Amendment.', 'The tenth amendment - powers not delegated to the United States by the Constitution.', 'The first amendment - freedom of speech.', 'The privileges and immunities clause of Article IV, Section 2.', 'The commerce clause.', 'The sixth amendment - right to a fair trial.', 'The eighth amendment - prohibition of cruel and unusual punishment.', 'The equal protection clause of the Fourteenth Amendment.', 'N/A']\", 'answer': 'F', 'answer_index': '5', 'cot_content': \"A: Let's think step by step. We refer to Wikipedia articles on law for help. The commerce clause states that Congress shall have the power to regulate commerce with foreign Nations, and among the several States, and with the Indian Tribes. The statute affects inter-state commerce which puts it into question. Hence the man's strongest argument should be the commerce clause. The answer is (F).\", 'category': 'law', 'src': 'cot_lib-professional_law'}) (input_keys={'options', 'question'})]"
      ]
     },
     "metadata": {},
     "output_type": "display_data"
    }
   ],
   "source": [
    "import random\n",
    "\n",
    "try10 = random.sample(validation, 10)\n",
    "#display(try10)\n",
    "\n",
    "try10ex = [example.with_inputs(\"question\", \"options\") for example in random.sample(validation, 10)]\n",
    "for ex in try10ex:\n",
    "    ex['options'] = str(ex['options'])\n",
    "    ex['answer_index'] = str(ex['answer_index'])\n",
    "display(try10ex)\n"
   ]
  },
  {
   "cell_type": "markdown",
   "metadata": {},
   "source": [
    "maybe someday implement typed inputs...this caused too much trouble"
   ]
  },
  {
   "cell_type": "code",
   "execution_count": 57,
   "metadata": {},
   "outputs": [],
   "source": [
    "# from typing import List\n",
    "# from dspy.functional import TypedPredictor, TypedChainOfThought\n",
    "# from pydantic import BaseModel, Field\n",
    "\n",
    "# class Input(BaseModel):\n",
    "#     question: str = Field(description=\"The question.\")\n",
    "#     #options: List[str] = Field(description=\"A list of options.\")\n",
    "#     options: str = Field(description=\"A list of options.\")\n",
    "\n",
    "# class OutputCode(BaseModel):\n",
    "#     #answer: str = Field(description=\"must be one of the first ten letters in the English alphabet: A,B,C,D,E,F,G,H,I,J\")\n",
    "#     answer_index: str = Field(description=\"must be one of the first ten letters in the English alphabet: A,B,C,D,E,F,G,H,I,J\")\n",
    "#     cot_content: str = Field(description=\"your full rationale for why you chose the answer\")\n",
    "\n"
   ]
  },
  {
   "cell_type": "markdown",
   "metadata": {},
   "source": [
    "Make the signature and the module"
   ]
  },
  {
   "cell_type": "code",
   "execution_count": 8,
   "metadata": {},
   "outputs": [],
   "source": [
    "class MMLUPro(dspy.Signature):\n",
    "    \"\"\"Answer questions with a rationale and a multiple choice answer.\"\"\"\n",
    "\n",
    "    question = dspy.InputField()\n",
    "    options = dspy.InputField()\n",
    "    cot_content = dspy.OutputField(desc=\"your full rationale for why you chose the answer\")\n",
    "    answer_index = dspy.OutputField(desc=\"reply with the index of the correct answer from the options. you must reply with only one choice from 0-9\")\n",
    "    \n",
    "\n"
   ]
  },
  {
   "cell_type": "code",
   "execution_count": 9,
   "metadata": {},
   "outputs": [],
   "source": [
    "class CoTMMLU(dspy.Module):  # let's define a new module\n",
    "    def __init__(self):\n",
    "        super().__init__()\n",
    "       \n",
    "        self.signature = MMLUPro\n",
    "        self.predictor = dspy.ChainOfThought(self.signature)\n",
    "    \n",
    "    def forward(self, question, options):\n",
    "        result = self.predictor(question=question, options=options)\n",
    "        return dspy.Prediction(answer_index=str(result.answer_index), cot_content=str(result.cot_content))\n",
    "\n"
   ]
  },
  {
   "cell_type": "markdown",
   "metadata": {},
   "source": [
    "test just one question to be sure it works"
   ]
  },
  {
   "cell_type": "code",
   "execution_count": 13,
   "metadata": {},
   "outputs": [
    {
     "name": "stdout",
     "output_type": "stream",
     "text": [
      "Sample Question: Why are parvoviruses a highly impactful parasite?\n",
      "Options: [\"They are able to alter the host's DNA\", 'Because they have no nucleic acid', 'They can survive in extreme temperatures', 'Only replicate in dividing cells', 'They can infect multiple species', \"They don't require a host to survive\", 'Can integrate into host chromosomes', 'N/A', 'N/A', 'N/A']\n",
      "Answer Index: 1\n"
     ]
    }
   ],
   "source": [
    "sample_question = try10ex[0]['question']\n",
    "sample_options = try10ex[0]['options']\n",
    "sample_answer_index = try10ex[0]['answer_index']\n",
    "\n",
    "print(\"Sample Question:\", sample_question)\n",
    "print(\"Options:\", sample_options)\n",
    "print(\"Answer Index:\", sample_answer_index)\n",
    "\n",
    "\n"
   ]
  },
  {
   "cell_type": "code",
   "execution_count": 14,
   "metadata": {},
   "outputs": [
    {
     "data": {
      "text/plain": [
       "Prediction(\n",
       "    answer_index='3',\n",
       "    cot_content='Parvoviruses are highly impactful because they can only replicate in dividing cells. This dependency on host cell division means that they can cause significant damage to tissues where cells are rapidly dividing. For example, in dogs, canine parvovirus targets the rapidly dividing cells in the intestines, leading to severe gastrointestinal illness. In humans, parvovirus B19 targets erythroid progenitor cells in the bone marrow, which can lead to conditions like anemia. This specific replication requirement is a key factor in their pathogenicity.'\n",
       ")"
      ]
     },
     "metadata": {},
     "output_type": "display_data"
    }
   ],
   "source": [
    "uncompiled = CoTMMLU()\n",
    "response = uncompiled(question=sample_question, options=str(sample_options))\n",
    "display(response)\n",
    "\n",
    "\n"
   ]
  },
  {
   "cell_type": "code",
   "execution_count": null,
   "metadata": {},
   "outputs": [],
   "source": [
    "llm.inspect_history(n=1)"
   ]
  },
  {
   "cell_type": "markdown",
   "metadata": {},
   "source": [
    "bootstrapfewshot as a simple optimizer...later we can get crazy, just prove the workflow for now."
   ]
  },
  {
   "cell_type": "code",
   "execution_count": 15,
   "metadata": {},
   "outputs": [
    {
     "name": "stderr",
     "output_type": "stream",
     "text": [
      "  0%|          | 0/10 [00:00<?, ?it/s]"
     ]
    },
    {
     "name": "stderr",
     "output_type": "stream",
     "text": [
      " 50%|█████     | 5/10 [00:17<00:17,  3.51s/it]"
     ]
    },
    {
     "name": "stdout",
     "output_type": "stream",
     "text": [
      "Bootstrapped 4 full traces after 6 examples in round 0.\n"
     ]
    },
    {
     "name": "stderr",
     "output_type": "stream",
     "text": [
      "\n"
     ]
    }
   ],
   "source": [
    "from dspy.teleprompt import BootstrapFewShot\n",
    "\n",
    "def custom_answer_exact_match(prediction, example, trace=None):\n",
    "    return prediction.answer_index == example['answer_index']\n",
    "\n",
    "compiled = BootstrapFewShot(\n",
    "    metric=custom_answer_exact_match,\n",
    "    # num_threads=30,\n",
    "    # num_candidate_programs=5,\n",
    "    max_labeled_demos=8,\n",
    ").compile(\n",
    "    student=CoTMMLU(),\n",
    "    trainset=try10ex,\n",
    ")\n",
    "\n"
   ]
  },
  {
   "cell_type": "code",
   "execution_count": null,
   "metadata": {},
   "outputs": [],
   "source": [
    "llm.inspect_history(n=1)"
   ]
  },
  {
   "cell_type": "markdown",
   "metadata": {},
   "source": [
    "get 10 new questions "
   ]
  },
  {
   "cell_type": "code",
   "execution_count": 21,
   "metadata": {},
   "outputs": [
    {
     "data": {
      "text/plain": [
       "[Example({'question_id': 25, 'question': 'Predict the number of lines in the EPR spectrum of a solution of 13C-labelled methyl radical (13CH3•), assuming the lines do not overlap.', 'options': \"['10', '8', '4', '20', '12', '3', '16', '5', '24', '6']\", 'answer': 'B', 'answer_index': '1', 'cot_content': \"A: Let's think step by step. The electron paramagnetic resonance spectrum will be split by two forms of interactions. The first is the hyperfine interaction with the 13C (nuclear spin $I = \\nrac{1}{2}$) which will split the spectrum into 2 lines. This will be further split into 4 lines by the interaction with three equivalent 1H nuclei. The total number of lines is therefore $2 \\\\cdot 4 = 8$. The answer is (B).\", 'category': 'chemistry', 'src': 'cot_lib-college_chemistry'}) (input_keys={'options', 'question'}),\n",
       " Example({'question_id': 64, 'question': 'In terms of Hofstede’s (1980) five cultural dimensions, the United States scores at the top of the scale on:', 'options': \"['individualism and long-term orientation.', 'individualism and power distance.', 'uncertainty avoidance.', 'long-term orientation.', 'individualism.', 'individualism and masculinity.', 'long-term orientation and uncertainty avoidance.', 'power distance.', 'power distance and masculinity.', 'N/A']\", 'answer': 'E', 'answer_index': '4', 'cot_content': \"A: Let's think step by step. We refer to Wikipedia articles on psychology for help. US scores highest on individualism among the five cultural dimensions. The answer is (E).\", 'category': 'psychology', 'src': 'cot_lib-professional_psychology'}) (input_keys={'options', 'question'}),\n",
       " Example({'question_id': 4, 'question': 'A total of 30 players will play basketball at a park. There will be exactly 5 players on each team. Which statement correctly explains how to find the number of teams needed?', 'options': \"['Multiply 5 by 5 to find 25 teams.', 'Divide 30 by 5 to find 6 teams.', 'Add 5 to 30 to find 35 teams.', 'Subtract 30 from 5 to find -25 teams.', 'Divide 5 by 30 to find 0.1667 teams.', 'Add 5 to 30 then divide by 2 to find 17.5 teams.', 'N/A', 'N/A', 'N/A', 'N/A']\", 'answer': 'B', 'answer_index': '1', 'cot_content': \"A: Let's think step by step. We want to find the number of teams. We know that there are 5 players/team, and 30 players. Thus to get the number of teams we divide players by players/team, so 30 players / 5 players/team = 6 teams. The answer is (B).\", 'category': 'math', 'src': 'cot_lib-elementary_mathematics'}) (input_keys={'options', 'question'}),\n",
       " Example({'question_id': 34, 'question': 'In the program below, the initial value of X is 5 and the initial value of Y is 10.\\nIF (X < 0){\\n DISPLAY (\"Foxtrot\")\\n} ELSE {\\n IF (X > Y){\\n  DISPLAY (\"Hotel\")\\n } ELSE {\\n  IF (Y > 0){\\n   DISPLAY (\"November\")\\n  } ELSE {\\n   DISPLAY (\"Yankee\")\\n  }\\n }\\n}\\nWhat is displayed as a result of running the program?', 'options': \"['November', 'Foxtrot', 'Zulu', 'Alpha', 'Charlie', 'Bravo', 'Yankee', 'Echo', 'Hotel', 'Delta']\", 'answer': 'A', 'answer_index': '0', 'cot_content': 'A: Let\\'s think step by step. Because X has the value 5, the first conditional IF (X < 0) is false, so we move to the first ELSE clause. Because X is 5 and Y is 10, the second conditional IF (X > Y) is false, so we move to the following ELSE clause. Since Y is 10, the conditional IF (Y > 0) is true, so the command DISPLAY (\"November\") is executed. The answer is (A).', 'category': 'computer science', 'src': 'cot_lib-high_school_computer_science'}) (input_keys={'options', 'question'}),\n",
       " Example({'question_id': 3, 'question': 'A tank initially contains a salt solution of 3 grams of salt dissolved in 100 liters of water. A salt solution containing 0.02 grams of salt per liter of water is sprayed into the tank at a rate of 4 liters per minute. The sprayed solution is continually mixed with the salt solution in the tank, and the mixture flows out of the tank at a rate of 4 liters per minute. If the mixing is instantaneous, how many grams of salt are in the tank after 100 minutes have elapsed?', 'options': \"['3 + e^-2', '2 - e^-4', '2 - e^-2', '3 + e^-4', '2 + e^-3', '2 - e^-3', '3 - e^-2', '2 + e^-2', '2 + e^-4', '2']\", 'answer': 'I', 'answer_index': '8', 'cot_content': \"A: Let's think step by step. For all $t \\\\in \\\\mathbb{R}$, let $s(t)$ denote the number grams of salt in the tank at the $t$ minute mark. Then $s(0) = 3$.\\nWe use $s$ and $s(t)$ interchangeably. We also use $s^{\\\\prime}$ and $s^{\\\\prime}(t)$ interchangeably. The solution sprayed into the tank adds $(0.02) 4=2 / 25$ grams of salt per minute. There are always 100 liters of liquid in the tank, containing $s$ grams of salt. So the density of salt in the tank is $s / 100$ grams per liter. The flow of water out of the tank therefore subtracts $4(s / 100)=s / 25$ grams of salt per minute. Then, for all $t \\\\in \\\\mathbb{R}$, we have $s^{\\\\prime}(t)=(2 / 25)-(s / 25)=(2-s) / 25$, and so $[s(t)=2] \\\\Rightarrow\\\\left[s^{\\\\prime}(t)=0ight]$. For all $t \\\\in \\\\mathbb{R}$,\\n$$\\n\\x0crac{d}{d t}[\\\\ln (s-2)]=\\x0crac{s^{\\\\prime}}{s-2}=\\x0crac{-1}{25}=\\x0crac{d}{d t}\\\\left[-\\x0crac{t}{25}ight] .\\n$$\\nChoose $C \\\\in \\\\mathbb{R}$ such that, for all $t \\\\in \\\\mathbb{R}, \\\\ln ((s(t)-2))=-[t / 25]+C$. Let $K:=e^{C}$. Then, for all $t \\\\in \\\\mathbb{R}$, we have $(s(t))-2=K e^{-t / 25}$, and so $s(t)=2+K e^{-t / 25}$. Then $3=s(0)=2+K e^{0}=2+K$, so $K=1$. Then $s(100)=2+K e^{-100 / 25}=2+1 \\\\cdot e^{-4}=2+e^{-4}$. The answer is (I).\", 'category': 'math', 'src': 'cot_lib-college_mathematics'}) (input_keys={'options', 'question'}),\n",
       " Example({'question_id': 49, 'question': 'What is the sign of the covenant for Jewish males?', 'options': \"['Fasting on Yom Kippur', 'Lighting Shabbat candles', 'The rainbow', 'Circumcision', 'The Torah', 'Bar mitzvah', 'Keeping kosher', 'Wearing a kippah', 'A son', 'The Star of David']\", 'answer': 'D', 'answer_index': '3', 'cot_content': \"A: Let's think step by step. We refer to Wikipedia articles on world religions for help. In Judaism, the most distinctive sign of the covenant is circumcision (brit milah). The answer is (D).\", 'category': 'philosophy', 'src': 'cot_lib-world_religions'}) (input_keys={'options', 'question'}),\n",
       " Example({'question_id': 22, 'question': 'A mutation in a bacterial enzyme changed a previously polar amino acid into a nonpolar amino acid. This amino acid was located at a site distant from the enzyme’s active site. How might this mutation alter the enzyme’s substrate specificity?', 'options': '[\\'By changing the enzyme’s pH optimum\\', \"By changing the enzyme\\'s molecular weight\", \"An amino acid change away from the active site increases the enzyme\\'s substrate specificity.\", \\'By changing the shape of the protein\\', \"By changing the enzyme\\'s temperature optimum\", \"By altering the enzyme\\'s ability to be denatured\", \\'By changing the enzyme’s location in the cell\\', \"By changing the enzyme\\'s color\", \\'An amino acid change away from the active site cannot alter the enzyme’s substrate specificity.\\', \"By altering the enzyme\\'s rate of reaction\"]', 'answer': 'D', 'answer_index': '3', 'cot_content': \"A: Let's think step by step. A change in an amino acid leads to a change in the primary structure of the protein. A change in the primary structure may lead to a change in the secondary and the tertiary structure of the protein. A change in the tertiary structure means a change in the shape of the protein, so (C) has to be correct. Since the change does not affect the active site of the enzyme, we do not expect the activity of the enzyme to be affected. The answer is (D).\", 'category': 'biology', 'src': 'cot_lib-high_school_biology'}) (input_keys={'options', 'question'}),\n",
       " Example({'question_id': 2, 'question': 'Let A be the set of all ordered pairs of integers (m, n) such that 7m + 12n = 22. What is the greatest negative number in the set B = {m + n : (m, n) \\\\in A}?', 'options': \"['-5', '0', '-3', '-7', '-4', '-6', '-1', '-2', '-9', 'N/A']\", 'answer': 'E', 'answer_index': '4', 'cot_content': \"A: Let's think step by step. We have 12n = 22 - 7m and one of the solutions is $m = -2$, $n = 3$. Then $m + n = 1$, hence we need to look for smaller $m$ in order to make $m + n$ negative. The next solution is $m = -14$ and $n = 10$. For smaller $m$ we have $m + n$ smaller than $-4$. The answer is (E).\", 'category': 'math', 'src': 'cot_lib-college_mathematics'}) (input_keys={'options', 'question'}),\n",
       " Example({'question_id': 16, 'question': '_______ is the direct attempt to formally or informally manage ethical issues or problems, through specific policies, practices and programmes.', 'options': \"['Operational management', 'Corporate governance', 'Environmental management', 'Business ethics management', 'Sustainability', 'Stakeholder management', 'Social marketing', 'Human resource management', 'N/A', 'N/A']\", 'answer': 'D', 'answer_index': '3', 'cot_content': \"A: Let's think step by step. We refer to Wikipedia articles on business ethics for help. The direct attempt manage ethical issues through specific policies, practices, and programs is business ethics management. The answer is (D).\", 'category': 'business', 'src': 'cot_lib-business_ethics'}) (input_keys={'options', 'question'}),\n",
       " Example({'question_id': 19, 'question': 'In an organization, the group of people tasked with buying decisions is referred to as the _______________.', 'options': \"['Procurement centre.', 'Chief executive unit.', 'Resources allocation group.', 'Marketing department.', 'Purchasing department.', 'Supply chain management team.', 'Outsourcing unit.', 'Decision-making unit.', 'Operations unit.', 'Financial management team.']\", 'answer': 'H', 'answer_index': '7', 'cot_content': \"A: Let's think step by step. We refer to Wikipedia articles on marketing for help. In an organization, the group of the people tasked with buying decision is referred to as the decision-making unit. The answer is (H).\", 'category': 'business', 'src': 'cot_lib-marketing'}) (input_keys={'options', 'question'})]"
      ]
     },
     "metadata": {},
     "output_type": "display_data"
    }
   ],
   "source": [
    "import random\n",
    "try10 = random.sample(validation, 10)\n",
    "#display(try10)\n",
    "\n",
    "try10test = [example.with_inputs(\"question\", \"options\") for example in random.sample(validation, 10)]\n",
    "for ex in try10test:\n",
    "    ex['options'] = str(ex['options'])\n",
    "    ex['answer_index'] = str(ex['answer_index'])\n",
    "display(try10test)"
   ]
  },
  {
   "cell_type": "markdown",
   "metadata": {},
   "source": [
    "evaluate uncompiled vs compiled on the 10 new questions"
   ]
  },
  {
   "cell_type": "code",
   "execution_count": 17,
   "metadata": {},
   "outputs": [
    {
     "name": "stdout",
     "output_type": "stream",
     "text": [
      "uncompiled\n"
     ]
    },
    {
     "name": "stderr",
     "output_type": "stream",
     "text": [
      "Average Metric: 9 / 10  (90.0): 100%|██████████| 10/10 [00:38<00:00,  3.86s/it]\n"
     ]
    },
    {
     "name": "stdout",
     "output_type": "stream",
     "text": [
      "Average Metric: 9 / 10  (90.0%)\n",
      "---\n",
      "compiled\n"
     ]
    },
    {
     "name": "stderr",
     "output_type": "stream",
     "text": [
      "Average Metric: 9 / 10  (90.0): 100%|██████████| 10/10 [00:44<00:00,  4.46s/it]"
     ]
    },
    {
     "name": "stdout",
     "output_type": "stream",
     "text": [
      "Average Metric: 9 / 10  (90.0%)\n",
      "---\n"
     ]
    },
    {
     "name": "stderr",
     "output_type": "stream",
     "text": [
      "\n"
     ]
    }
   ],
   "source": [
    "from dspy.evaluate import Evaluate\n",
    "\n",
    "# Set up the evaluator, which can be re-used in your code.\n",
    "#evaluator = Evaluate(devset=try10test, num_threads=1, display_progress=True, display_table=5)\n",
    "evaluator = Evaluate(devset=try10test, num_threads=1, display_progress=True)\n",
    "\n",
    "# Launch evaluation.\n",
    "print(\"uncompiled\")\n",
    "evaluator(uncompiled, metric=custom_answer_exact_match)\n",
    "print(\"---\")\n",
    "print(\"compiled\")\n",
    "evaluator(compiled, metric=custom_answer_exact_match)\n",
    "print(\"---\")\n",
    "\n"
   ]
  },
  {
   "cell_type": "markdown",
   "metadata": {},
   "source": [
    "now we're going to try to use chris dossman's implementation of self-discover\n",
    "https://colab.research.google.com/drive/1GkAQKmw1XQgg5UNzzy8OncRe79V6pADB?usp=sharing\n",
    "https://arxiv.org/pdf/2402.03620.pdf"
   ]
  },
  {
   "cell_type": "code",
   "execution_count": 5,
   "metadata": {},
   "outputs": [],
   "source": [
    "# Usage example\n",
    "reasoning_modules = [\n",
    "    \"How could I devise an experiment to help solve that problem?\",\n",
    "    \"Make a list of ideas for solving this problem, and apply them one by one to the problem to see if any progress can be made.\",\n",
    "    \"How could I measure progress on this problem?\",\n",
    "    \"How can I simplify the problem so that it is easier to solve?\",\n",
    "    \"What are the key assumptions underlying this problem?\",\n",
    "    \"What are the potential risks and drawbacks of each solution?\",\n",
    "    \"What are the alternative perspectives or viewpoints on this problem?\",\n",
    "    \"What are the long-term implications of this problem and its solutions?\",\n",
    "    \"How can I break down this problem into smaller, more manageable parts?\",\n",
    "    \"Critical Thinking: This style involves analyzing the problem from different perspectives, questioning assumptions, and evaluating the evidence or information available. It focuses on logical reasoning, evidence-based decision-making, and identifying potential biases or flaws in thinking.\",\n",
    "    \"Try creative thinking, generate innovative and out-of-the-box ideas to solve the problem. Explore unconventional solutions, thinking beyond traditional boundaries, and encouraging imagination and originality.\",\n",
    "    \"Seek input and collaboration from others to solve the problem. Emphasize teamwork, open communication, and leveraging the diverse perspectives and expertise of a group to come up with effective solutions.\",\n",
    "    \"Use systems thinking: Consider the problem as part of a larger system and understanding the interconnectedness of various elements. Focuses on identifying the underlying causes, feedback loops, and interdependencies that influence the problem, and developing holistic solutions that address the system as a whole.\",\n",
    "    \"Use Risk Analysis: Evaluate potential risks, uncertainties, and tradeoffs associated with different solutions or approaches to a problem. Emphasize assessing the potential consequences and likelihood of success or failure, and making informed decisions based on a balanced analysis of risks and benefits.\",\n",
    "    \"Use Reflective Thinking: Step back from the problem, take the time for introspection and self-reflection. Examine personal biases, assumptions, and mental models that may influence problem-solving, and being open to learning from past experiences to improve future approaches.\",\n",
    "    \"What is the core issue or problem that needs to be addressed?\",\n",
    "    \"What are the underlying causes or factors contributing to the problem?\",\n",
    "    \"Are there any potential solutions or strategies that have been tried before? If yes, what were the outcomes and lessons learned?\",\n",
    "    \"What are the potential obstacles or challenges that might arise in solving this problem?\",\n",
    "    \"Are there any relevant data or information that can provide insights into the problem? If yes, what data sources are available, and how can they be analyzed?\",\n",
    "    \"Are there any stakeholders or individuals who are directly affected by the problem? What are their perspectives and needs?\",\n",
    "    \"What resources (financial, human, technological, etc.) are needed to tackle the problem effectively?\",\n",
    "    \"How can progress or success in solving the problem be measured or evaluated?\",\n",
    "    \"What indicators or metrics can be used?\",\n",
    "    \"Is the problem a technical or practical one that requires a specific expertise or skill set? Or is it more of a conceptual or theoretical problem?\",\n",
    "    \"Does the problem involve a physical constraint, such as limited resources, infrastructure, or space?\",\n",
    "    \"Is the problem related to human behavior, such as a social, cultural, or psychological issue?\",\n",
    "    \"Does the problem involve decision-making or planning, where choices need to be made under uncertainty or with competing objectives?\",\n",
    "    \"Is the problem an analytical one that requrires data analysis, modeling, or optimization techniques?\",\n",
    "    \"Is the problem a design challenge that requires creative solutions and innovation?\",\n",
    "    \"Does the problem require addressing systemic or structural issues rather than just individual instances?\",\n",
    "    \"Is the problem time-sensitive or urgent, requiring immediate attention and action?\",\n",
    "    \"What kinds of solution typically are produced for this kind of problem specification?\",\n",
    "    \"Given the problem specification and the current best solution, have a guess about other possible solutions.\",\n",
    "    \"Let’s imagine the current best solution is totally wrong, what other ways are there to think about the problem specification?\",\n",
    "    \"What is the best way to modify this current best solution, given what you know about these kinds of problem specification?\",\n",
    "    \"Ignoring the current best solution, create an entirely new solution to the problem.\",\n",
    "    \"Let’s think step by step.\",\n",
    "    \"Let’s make a step by step plan and implement it with good notion and explanation.\"\n",
    "]\n",
    "seed_modules_str = '\"'+ '\",\"'.join(reasoning_modules)  # for a newline-separated string"
   ]
  },
  {
   "cell_type": "markdown",
   "metadata": {},
   "source": [
    "# SelectModules\n",
    "### Purpose\n",
    "\n",
    "Selects appropriate reasoning modules from a predefined set based on the input task description.\n",
    "\n",
    "### Parameters\n",
    "\n",
    "question: The task or question to be solved.\n",
    "\n",
    "reasoning_modules: A list of available reasoning modules.\n",
    "\n",
    "### Returns\n",
    "\n",
    "A dictionary containing selected modules tailored to the task at hand."
   ]
  },
  {
   "cell_type": "code",
   "execution_count": 8,
   "metadata": {},
   "outputs": [
    {
     "name": "stderr",
     "output_type": "stream",
     "text": [
      " 25%|██▌       | 1/4 [00:18<00:56, 18.92s/it]"
     ]
    },
    {
     "name": "stdout",
     "output_type": "stream",
     "text": [
      "Failed to load predicted selected modules: Extra data: line 3 column 1 (char 493)\n"
     ]
    },
    {
     "name": "stderr",
     "output_type": "stream",
     "text": [
      " 50%|█████     | 2/4 [00:37<00:37, 18.96s/it]"
     ]
    },
    {
     "name": "stdout",
     "output_type": "stream",
     "text": [
      "Failed to load predicted selected modules: Extra data: line 3 column 1 (char 1131)\n"
     ]
    },
    {
     "name": "stderr",
     "output_type": "stream",
     "text": [
      " 75%|███████▌  | 3/4 [00:57<00:19, 19.26s/it]"
     ]
    },
    {
     "name": "stdout",
     "output_type": "stream",
     "text": [
      "Failed to load predicted selected modules: Extra data: line 3 column 1 (char 696)\n"
     ]
    },
    {
     "name": "stderr",
     "output_type": "stream",
     "text": [
      "100%|██████████| 4/4 [01:21<00:00, 20.36s/it]"
     ]
    },
    {
     "name": "stdout",
     "output_type": "stream",
     "text": [
      "Bootstrapped 0 full traces after 4 examples in round 0.\n"
     ]
    },
    {
     "name": "stderr",
     "output_type": "stream",
     "text": [
      "\n"
     ]
    }
   ],
   "source": [
    "import json\n",
    "from dspy.teleprompt import BootstrapFewShot\n",
    "# Define some example input-output pairs for module selection\n",
    "module_selection_examples = [\n",
    "    dspy.Example(\n",
    "        task_description=\"How to improve customer satisfaction for an online store?\",\n",
    "        seed_modules=json.dumps(reasoning_modules),\n",
    "        selected_modules=json.dumps([\n",
    "            \"Seek input and collaboration from others to solve the problem. Emphasize teamwork, open communication, and leveraging the diverse perspectives and expertise of a group to come up with effective solutions.\",\n",
    "            \"Use Reflective Thinking: Step back from the problem, take the time for introspection and self-reflection. Examine personal biases, assumptions, and mental models that may influence problem-solving, and being open to learning from past experiences to improve future approaches.\",\n",
    "            \"What are the underlying causes or factors contributing to the problem?\",\n",
    "            \"What are the potential obstacles or challenges that might arise in solving this problem?\"\n",
    "        ])\n",
    "    ).with_inputs('task_description', 'seed_modules'),\n",
    "    dspy.Example(\n",
    "        task_description=\"How to optimize the supply chain for a manufacturing company?\",\n",
    "        seed_modules=json.dumps(reasoning_modules),\n",
    "        selected_modules=json.dumps([\n",
    "            \"Use systems thinking: Consider the problem as part of a larger system and understanding the interconnectedness of various elements. Focuses on identifying the underlying causes, feedback loops, and interdependencies that influence the problem, and developing holistic solutions that address the system as a whole.\",\n",
    "            \"What are the key assumptions underlying this problem?\",\n",
    "            \"Is the problem an analytical one that requires data analysis, modeling, or optimization techniques?\",\n",
    "            \"Does the problem involve decision-making or planning, where choices need to be made under uncertainty or with competing objectives?\"\n",
    "        ])\n",
    "    ).with_inputs('task_description', 'seed_modules'),\n",
    "    dspy.Example(\n",
    "        task_description=\"How many numbers between 1 and 2005 are integer multiples of 3 or 4 but not 12?\",\n",
    "        seed_modules=json.dumps(reasoning_modules),\n",
    "        selected_modules=json.dumps([\n",
    "            \"What is the core issue or problem that needs to be addressed?\",\n",
    "            \"How can I measure progress on this problem?\",\n",
    "            \"What kinds of solution typically are produced for this kind of problem specification?\",\n",
    "            \"Given the problem specification and the current best solution, have a guess about other possible solutions.\",\n",
    "            \"Let’s think step by step.\",\n",
    "            \"Let’s make a step by step plan and implement it with good notion and explanation.\"\n",
    "        ])\n",
    "    ).with_inputs('task_description', 'seed_modules'),\n",
    "    dspy.Example(\n",
    "        task_description=\"How many numbers are in the list 6,7,10,11,14,15,..., 94,95,98?\",\n",
    "        seed_modules=json.dumps(reasoning_modules),\n",
    "        selected_modules=json.dumps([\n",
    "            \"What is the core issue or problem that needs to be addressed?\",\n",
    "            \"How can I simplify the problem so that it is easier to solve?\",\n",
    "            \"How can I measure progress on this problem?\",\n",
    "            \"What is the best way to modify this current best solution, given what you know about these kinds of problem specification?\",\n",
    "            \"Ignoring the current best solution, create an entirely new solution to the problem.\",\n",
    "            \"Let’s think step by step.\",\n",
    "            \"Let’s make a step by step plan and implement it with good notion and explanation.\"\n",
    "        ])\n",
    "    ).with_inputs('task_description', 'seed_modules')\n",
    "]\n",
    "# Update the signatures to include a mechanism for passing extra context\n",
    "class SelectModulesSignature(dspy.Signature):\n",
    "    \"\"\"\"Select several reasoning modules that are crucial to utilize in order to solve the given task, print the complete reasoning module to pass validation\"\"\"\n",
    "    task_description = dspy.InputField(prefix=\"Task(s) Description:\", desc=\"The task(s) to solve.\")\n",
    "    seed_modules = dspy.InputField(prefix=\"Relevant Reasoning Modules:\", desc=\"List of relevant reasoning modules to solve task(s) with.\")\n",
    "    selected_modules = dspy.OutputField(prefix=\"Selected Reasoning Modules (No Hallucinations and write out the whole reasoning module). DO NOT SOLVE THE PROBLEM:\", desc=\"['module_1', 'module_2', ...]\")\n",
    "\n",
    "# Module Selection\n",
    "class SelectModules(dspy.Module):\n",
    "    def __init__(self):\n",
    "        super().__init__()\n",
    "        self.select_modules = dspy.ChainOfThought(SelectModulesSignature)\n",
    "\n",
    "    def forward(self, task_description, seed_modules):\n",
    "        seed_modules_json = json.dumps(seed_modules)\n",
    "        prediction = self.select_modules(task_description=task_description, seed_modules=seed_modules_json)\n",
    "        selected_modules = prediction.selected_modules\n",
    "        # Assert that the selected_modules output is in JSON format\n",
    "\n",
    "        return dspy.Prediction(selected_modules=selected_modules)\n",
    "\n",
    "\n",
    "def validate_selected_modules_against_reasoning_modules(example, prediction, something_else):\n",
    "    # Convert reasoning_modules from JSON string to Python list\n",
    "    try:\n",
    "        predicted_selected_modules_list = json.loads(prediction.selected_modules)\n",
    "    except Exception as e:\n",
    "        print(f'Failed to load predicted selected modules: {e}')\n",
    "        return False\n",
    "    return all(module in reasoning_modules for module in predicted_selected_modules_list)\n",
    "\n",
    "# Set up a basic teleprompter for module selection\n",
    "teleprompter_selection = BootstrapFewShot(metric=validate_selected_modules_against_reasoning_modules)\n",
    "\n",
    "# Compile the SelectModules module\n",
    "compiled_select_modules = teleprompter_selection.compile(SelectModules(), trainset=module_selection_examples)"
   ]
  },
  {
   "cell_type": "markdown",
   "metadata": {},
   "source": [
    "TODO: solve for \"Failed to load predicted selected modules: Extra data: line 3 column 1 (char 696)\" with Pydantic typing...\n",
    "\n",
    "Test for select modules"
   ]
  },
  {
   "cell_type": "code",
   "execution_count": 9,
   "metadata": {},
   "outputs": [
    {
     "data": {
      "text/plain": [
       "'[\"What is the core issue or problem that needs to be addressed?\", \"How can I simplify the problem so that it is easier to solve?\", \"Critical Thinking: This style involves analyzing the problem from different perspectives, questioning assumptions, and evaluating the evidence or information available. It focuses on logical reasoning, evidence-based decision-making, and identifying potential biases or flaws in thinking.\", \"Let’s think step by step.\", \"Let’s make a step by step plan and implement it with good notion and explanation.\"]\\n\\n---'"
      ]
     },
     "execution_count": 9,
     "metadata": {},
     "output_type": "execute_result"
    }
   ],
   "source": [
    "task_description = 'How many primes are in the row of Pascal’s Triangle that starts with a 1 followed by a 6?'\n",
    "prediction = compiled_select_modules.forward(task_description=task_description, seed_modules=reasoning_modules)['selected_modules']\n",
    "prediction"
   ]
  },
  {
   "cell_type": "markdown",
   "metadata": {},
   "source": [
    "# AdaptModules\n",
    "### Purpose\n",
    "\n",
    "Adapts the selected reasoning modules to the specific context and requirements of the task.\n",
    "\n",
    "\n",
    "### Parameters\n",
    "\n",
    "selected_modules: The modules selected by the SelectModules component.\n",
    "\n",
    "question: The task or question to be solved.\n",
    "### Returns\n",
    " \n",
    "A dictionary of adapted modules ready for implementation in solving the task."
   ]
  },
  {
   "cell_type": "code",
   "execution_count": 10,
   "metadata": {},
   "outputs": [
    {
     "name": "stderr",
     "output_type": "stream",
     "text": [
      "100%|██████████| 3/3 [00:27<00:00,  9.01s/it]"
     ]
    },
    {
     "name": "stdout",
     "output_type": "stream",
     "text": [
      "Bootstrapped 3 full traces after 3 examples in round 0.\n"
     ]
    },
    {
     "name": "stderr",
     "output_type": "stream",
     "text": [
      "\n"
     ]
    }
   ],
   "source": [
    "# Define some example input-output pairs for module adaptation\n",
    "module_adaptation_examples = [\n",
    "    dspy.Example(\n",
    "        task_description=\"How many numbers between 1 and 2005 are integer multiples of 3 or 4 but not 12?\",\n",
    "        selected_modules=json.dumps([\n",
    "            \"What is the core issue or problem that needs to be addressed?\",\n",
    "            \"How can I measure progress on this problem?\",\n",
    "            \"What kinds of solution typically are produced for this kind of problem specification?\",\n",
    "            \"Given the problem specification and the current best solution, have a guess about other possible solutions.\",\n",
    "            \"Let’s think step by step.\",\n",
    "            \"Let’s make a step by step plan and implement it with good notion and explanation.\"\n",
    "        ]),\n",
    "        adapted_modules=json.dumps([\n",
    "            \"Identify the mathematical pattern or rule that defines the set of numbers.\",\n",
    "            \"Determine a method to count the numbers that fit the criteria without enumerating each one.\",\n",
    "            \"Consider the inclusion-exclusion principle to avoid overcounting numbers that are multiples of both 3 and 4.\",\n",
    "            \"Estimate the number of multiples within the range and adjust for the exclusion of multiples of 12.\",\n",
    "            \"Break down the problem into smaller parts: count multiples of 3, multiples of 4, and then exclude multiples of 12.\",\n",
    "            \"Implement a systematic approach to calculate the final count, ensuring all criteria are met.\"\n",
    "        ])\n",
    "    ).with_inputs('task_description', 'selected_modules'),\n",
    "    dspy.Example(\n",
    "        task_description=\"A restaurant offers three desserts, and exactly twice as many appetizers as main courses. A dinner consists of an appetizer, a main course, and a dessert. What is the least number of main courses that the restaurant should offer so that a customer could have a different dinner each night in the year 2003?\",\n",
    "        selected_modules=json.dumps([\n",
    "            \"What is the core issue or problem that needs to be addressed?\",\n",
    "            \"How can I simplify the problem so that it is easier to solve?\",\n",
    "            \"Is the problem an analytical one that requires data analysis, modeling, or optimization techniques?\",\n",
    "            \"Let’s think step by step.\",\n",
    "            \"Let’s make a step by step plan and implement it with good notion and explanation.\"\n",
    "        ]),\n",
    "        adapted_modules=json.dumps([\n",
    "            \"Determine the total number of dinner combinations needed to cover all nights in the year 2003.\",\n",
    "            \"Recognize that the number of dinners is the product of the number of choices for each course.\",\n",
    "            \"Formulate the problem as an equation based on the given ratios and the total number of combinations required.\",\n",
    "            \"Solve the equation to find the minimum number of main courses needed.\",\n",
    "            \"Verify the solution by ensuring that the number of possible dinners exceeds the number of days in the year 2003.\"\n",
    "        ])\n",
    "    ).with_inputs('task_description', 'selected_modules'),\n",
    "    dspy.Example(\n",
    "        task_description=\"How many ways are there to arrange 6 people around a circular table with 7 seats? (Two seatings are considered the same if one is a rotation of the other.)\",\n",
    "        selected_modules=json.dumps([\n",
    "            \"What is the core issue or problem that needs to be addressed?\",\n",
    "            \"Is the problem an analytical one that requires data analysis, modeling, or optimization techniques?\",\n",
    "            \"Let’s think step by step.\",\n",
    "            \"Let’s make a step by step plan and implement it with good notion and explanation.\"\n",
    "        ]),\n",
    "        adapted_modules=json.dumps([\n",
    "            \"Understand the concept of circular permutations and how they differ from linear permutations.\",\n",
    "            \"Recognize that one seat can be fixed to account for rotational symmetry, reducing the problem to a linear permutation.\",\n",
    "            \"Calculate the number of ways to arrange the remaining people in the available seats.\",\n",
    "            \"Consider any constraints or special cases that may affect the arrangement.\",\n",
    "            \"Conclude with the total number of distinct circular arrangements for the given scenario.\"\n",
    "        ])\n",
    "    ).with_inputs('task_description', 'selected_modules')\n",
    "    # Add more examples as needed\n",
    "]\n",
    "\n",
    "# Define the signature for module adaptation\n",
    "class AdaptModulesSignature(dspy.Signature):\n",
    "    \"\"\"Rephrase and specify each reasoning module so that it better helps solving the task.\"\"\"\n",
    "    selected_modules = dspy.InputField(prefix=\"Selected Reasoning Modukes:\", desc=\"The selected reasoning modules to use for the task.\")\n",
    "    task_description = dspy.InputField(prefix=\"Task(s) Description:\", desc=\"The task description.\")\n",
    "    adapted_modules = dspy.OutputField(prefix=\"Adapted Modules:\", desc=\"['adapted_reasoning_module_1','adapted_reasoning_module_2','adapted_reasoning_module_N']\")\n",
    "\n",
    "# Implement the module for adapting reasoning modules\n",
    "class AdaptModules(dspy.Module):\n",
    "    def __init__(self):\n",
    "        super().__init__()\n",
    "        self.adapt_modules = dspy.ChainOfThought(AdaptModulesSignature)\n",
    "\n",
    "    def forward(self, selected_modules, task_description):\n",
    "        selected_modules_json = json.dumps(selected_modules)\n",
    "        prediction = self.adapt_modules(selected_modules=selected_modules_json, task_description=task_description)\n",
    "        adapted_modules = []  # Initialize adapted_modules to an empty list\n",
    "        try:\n",
    "            cleaned_output = json.dumps(prediction.adapted_modules.strip())\n",
    "            adapted_modules = json.loads(cleaned_output)\n",
    "        except Exception as e:\n",
    "            print(f'Failed to load adapted modules: {e}')\n",
    "        return dspy.Prediction(adapted_modules=adapted_modules)\n",
    "\n",
    "# Validation logic for module adaptation\n",
    "def validate_adapted_modules(example, pred, trace=None):\n",
    "    # gold_adapted_modules = json.loads(example.adapted_modules)\n",
    "    # predicted_adapted_modules = pred.adapted_modules\n",
    "    return True# set(gold_adapted_modules) == set(predicted_adapted_modules)\n",
    "\n",
    "# Set up a basic teleprompter for module adaptation\n",
    "teleprompter_adaptation = BootstrapFewShot(metric=validate_adapted_modules)\n",
    "\n",
    "# Compile the AdaptModules module\n",
    "compiled_adapt_modules = teleprompter_adaptation.compile(AdaptModules(), trainset=module_adaptation_examples)"
   ]
  },
  {
   "cell_type": "markdown",
   "metadata": {},
   "source": [
    "Test for adapted Modules"
   ]
  },
  {
   "cell_type": "code",
   "execution_count": 11,
   "metadata": {},
   "outputs": [
    {
     "data": {
      "text/plain": [
       "\"1. **Identify the specific row in Pascal's Triangle**: Determine which row in Pascal's Triangle starts with 1 followed by 6.\\n2. **Calculate the binomial coefficients**: Compute the binomial coefficients for the identified row.\\n3. **Check for primality**: Determine which of the binomial coefficients are prime numbers.\\n4. **Count the prime numbers**: Count the number of prime numbers in the identified row.\\n5. **Verify the results**: Ensure that all steps are correctly followed and the count of prime numbers is accurate.\""
      ]
     },
     "execution_count": 11,
     "metadata": {},
     "output_type": "execute_result"
    }
   ],
   "source": [
    "task_description = 'How many primes are in the row of Pascal’s Triangle that starts with a 1 followed by a 6?'\n",
    "selected_modules = ['What is the core issue or problem that needs to be addressed?',\n",
    " 'Is the problem an analytical one that requires data analysis, modeling, or optimization techniques?',\n",
    " 'Let’s think step by step.',\n",
    " 'Let’s make a step by step plan and implement it with good notion and explanation.']\n",
    "\n",
    "prediction = compiled_adapt_modules.forward(task_description=task_description, selected_modules=selected_modules)\n",
    "prediction['adapted_modules']"
   ]
  },
  {
   "cell_type": "markdown",
   "metadata": {},
   "source": [
    "#ImplementStructure\n",
    "###Purpose\n",
    "\n",
    "Translates the adapted modules into a concrete, step-by-step reasoning structure in JSON format.\n",
    "\n",
    "\n",
    "###Parameters\n",
    "\n",
    "adapted_modules: Adapted modules from the AdaptModules component.\n",
    "\n",
    "task_description: Detailed description of the task to be solved.\n",
    "\n",
    "###Returns\n",
    "\n",
    "A JSON object detailing the step-by-step reasoning structure for solving the task."
   ]
  },
  {
   "cell_type": "code",
   "execution_count": 14,
   "metadata": {},
   "outputs": [
    {
     "name": "stderr",
     "output_type": "stream",
     "text": [
      "100%|██████████| 2/2 [00:00<00:00, 1546.57it/s]"
     ]
    },
    {
     "name": "stdout",
     "output_type": "stream",
     "text": [
      "Bootstrapped 2 full traces after 2 examples in round 0.\n"
     ]
    },
    {
     "name": "stderr",
     "output_type": "stream",
     "text": [
      "\n"
     ]
    }
   ],
   "source": [
    "import re\n",
    "implement_structure_examples = [\n",
    "    dspy.Example(\n",
    "        task_description='This SVG path element <path d=\"M 55.57,80.69 L 57.38,65.80 M 57.38,65.80 L 48.90,57.46 M 48.90,57.46 L 45.58,47.78 M 45.58,47.78 L 53.25,36.07 L 66.29,48.90 L 78.69,61.09 L 55.57,80.69\"/> draws a:(A) circle (B) heptagon (C) hexagon (D) kite (E) line (F) octagon (G) pentagon(H) rectangle (I) sector (J) triangle)',\n",
    "        adapted_modules=json.dumps([\n",
    "            \"Analyze the SVG path commands and coordinates to understand the shape being drawn.\",\n",
    "            \"Visualize the sequence of moves and lines to form a mental image of the resulting shape.\",\n",
    "            \"Compare the visualized shape with the characteristics of known geometric shapes to identify a match.\",\n",
    "            \"Use pattern recognition and knowledge of geometric properties to interpret the SVG path.\",\n",
    "            \"Verify the conclusion by sketching or digitally rendering the SVG path to ensure accuracy.\"\n",
    "        ]),\n",
    "        reasoning_structure=json.dumps({\n",
    "            \"steps\": [\n",
    "                {\n",
    "                    \"step\": 1,\n",
    "                    \"description\": \"Examine the SVG path commands and break them down into individual movements and lines.\",\n",
    "                    \"action\": \"Identify each command in the SVG path and understand its function, such as moving to a new starting point or drawing a line.\"\n",
    "                },\n",
    "                {\n",
    "                    \"step\": 2,\n",
    "                    \"description\": \"Analyze the Move to Command (M) and Line to Command (L) within the SVG path.\",\n",
    "                    \"action\": \"Determine the starting points and the end points of each line segment to visualize the shape being drawn.\"\n",
    "                },\n",
    "                {\n",
    "                    \"step\": 3,\n",
    "                    \"description\": \"Visualize the sequence of moves and lines to form a mental image of the resulting shape.\",\n",
    "                    \"action\": \"Use the coordinates provided by the path commands to plot the points and connect them in the order they appear.\"\n",
    "                },\n",
    "                {\n",
    "                    \"step\": 4,\n",
    "                    \"description\": \"Compare the visualized shape with the characteristics of known geometric shapes to identify a match.\",\n",
    "                    \"action\": \"Assess the number of sides, angles, and other geometric properties to classify the shape.\"\n",
    "                },\n",
    "                {\n",
    "                    \"step\": 5,\n",
    "                    \"description\": \"Use pattern recognition and knowledge of geometric properties to interpret the SVG path.\",\n",
    "                    \"action\": \"Apply knowledge of geometric shapes to determine if the path represents a common geometric figure.\"\n",
    "                },\n",
    "                {\n",
    "                    \"step\": 6,\n",
    "                    \"description\": \"Verify the conclusion by sketching or digitally rendering the SVG path to ensure accuracy.\",\n",
    "                    \"action\": \"Create a visual representation of the path to confirm the shape identified in the previous steps.\"\n",
    "                }\n",
    "            ],\n",
    "            \"conclusion\": {\n",
    "                \"description\": \"Synthesize the information from the analysis to determine the geometric shape represented by the SVG path.\",\n",
    "                \"action\": \"Review the visual representation and the properties of the shape to conclude the type of geometric figure it represents.\"\n",
    "            }\n",
    "        })\n",
    "    ).with_inputs('task_description', 'adapted_modules'),\n",
    "    dspy.Example(\n",
    "        task_description='A customer ordered 15 pieces of gourmet chocolate. The order can be packaged in small boxes that contain 1, 2 or 4 pieces of chocolate. Any box that is used must be full. How many different combinations of boxes can be used for the customer’s 15 chocolate pieces? One such combination to be included is to use seven 2-piece boxes and one 1-piece box.',\n",
    "        adapted_modules=json.dumps([\n",
    "            \"Identify the constraints on box sizes and the requirement for boxes to be full.\",\n",
    "            \"Systematically explore all combinations of box sizes that sum up to 15 pieces of chocolate.\",\n",
    "            \"Iterate through possible numbers of 4-piece boxes, adjusting for the remaining pieces.\",\n",
    "            \"For each number of 4-piece boxes, iterate through possible numbers of 2-piece boxes, adjusting for the remaining pieces.\",\n",
    "            \"Determine if the remaining pieces can be filled with 1-piece boxes for each combination of 4-piece and 2-piece boxes.\",\n",
    "            \"Ensure all possible combinations are accounted for without duplication.\"\n",
    "        ]),\n",
    "        reasoning_structure=json.dumps({\n",
    "            \"steps\": [\n",
    "                {\n",
    "                    \"step\": 1,\n",
    "                    \"description\": \"Identify the constraints on box sizes and the requirement for boxes to be full.\",\n",
    "                    \"action\": \"Note that boxes can only contain 1, 2, or 4 pieces of chocolate and must be full.\"\n",
    "                },\n",
    "                {\n",
    "                    \"step\": 2,\n",
    "                    \"description\": \"Systematically explore all combinations of box sizes that sum up to 15 pieces of chocolate.\",\n",
    "                    \"action\": \"Start with combinations involving the largest box size and work down to the smallest.\"\n",
    "                },\n",
    "                {\n",
    "                    \"step\": 3,\n",
    "                    \"description\": \"Iterate through possible numbers of 4-piece boxes, adjusting for the remaining pieces.\",\n",
    "                    \"action\": \"Calculate how many pieces are left after using 0, 1, 2, or 3 boxes of 4 pieces.\"\n",
    "                },\n",
    "                {\n",
    "                    \"step\": 4,\n",
    "                    \"description\": \"For each number of 4-piece boxes, iterate through possible numbers of 2-piece boxes, adjusting for the remaining pieces.\",\n",
    "                    \"action\": \"For each scenario from step 3, calculate how many 2-piece boxes can be used with the remaining pieces.\"\n",
    "                },\n",
    "                {\n",
    "                    \"step\": 5,\n",
    "                    \"description\": \"Determine if the remaining pieces can be filled with 1-piece boxes for each combination of 4-piece and 2-piece boxes.\",\n",
    "                    \"action\": \"Check if the remaining pieces after steps 3 and 4 can be exactly filled with 1-piece boxes.\"\n",
    "                },\n",
    "                {\n",
    "                    \"step\": 6,\n",
    "                    \"description\": \"Ensure all possible combinations are accounted for without duplication.\",\n",
    "                    \"action\": \"Review all generated combinations to ensure no duplicates and all possibilities are considered.\"\n",
    "                }\n",
    "            ],\n",
    "            \"conclusion\": {\n",
    "                \"description\": \"Calculate the total number of unique combinations that can be used to package the 15 pieces of chocolate.\",\n",
    "                \"action\": \"Summarize the findings and present the total number of distinct packaging combinations.\"\n",
    "            }\n",
    "        })\n",
    "    ).with_inputs('task_description', 'adapted_modules')\n",
    "]\n",
    "\n",
    "\n",
    "# Define the signature for implementing the reasoning structure\n",
    "class ImplementStructureSignature(dspy.Signature):\n",
    "    \"\"\"Operationalize the reasoning modules into a step-by-step reasoning plan in JSON format. Only output JSON no other text:\"\"\"\n",
    "    adapted_modules = dspy.InputField(prefix=\"Adapted Modules:\", desc=\"Adapted Modules\")\n",
    "    task_description = dspy.InputField(prefix=\"Task(s) Description:\", desc=\"The task description.\")\n",
    "    reasoning_structure = dspy.OutputField(prefix=\"Reasoning Structure JSON:\", desc=\"Implement a reasoning structure for solvers to follow step-by-step and arrive at the correct answers. just json no other text\")\n",
    "\n",
    "# Implement the module for creating a reasoning structure\n",
    "class ImplementStructure(dspy.Module):\n",
    "    def __init__(self):\n",
    "        super().__init__()\n",
    "        self.implement_structure = dspy.Predict(ImplementStructureSignature)\n",
    "\n",
    "    def forward(self, adapted_modules, task_description):\n",
    "        adapted_modules_json = json.dumps(adapted_modules)\n",
    "        prediction = self.implement_structure(adapted_modules=adapted_modules_json, task_description=task_description)\n",
    "        reasoning_structure = {}  # Initialize reasoning_structure to an empty dictionary\n",
    "        try:\n",
    "            reasoning_structure_output = prediction.reasoning_structure\n",
    "            reasoning_structure_cleaned = re.sub(r'^\\s*```json\\n|\\n```$', '', reasoning_structure_output, flags=re.MULTILINE).strip()\n",
    "            reasoning_structure = json.loads(reasoning_structure_cleaned)\n",
    "        except Exception as e:\n",
    "            print(f'Failed to load reasoning structure: {e}')\n",
    "        return dspy.Prediction(reasoning_structure=reasoning_structure)\n",
    "\n",
    "# Validation logic for module adaptation\n",
    "def validate_adapted_modules(example, pred, trace=None):\n",
    "\n",
    "    return True# set(gold_adapted_modules) == set(predicted_adapted_modules)\n",
    "\n",
    "# Compile the ImplementStructureSignature using the teleprompter\n",
    "teleprompter_implement_structure = BootstrapFewShot(metric=validate_adapted_modules)\n",
    "compiled_implement_structure = teleprompter_implement_structure.compile(ImplementStructure(), trainset=implement_structure_examples)"
   ]
  },
  {
   "cell_type": "code",
   "execution_count": 15,
   "metadata": {},
   "outputs": [
    {
     "name": "stdout",
     "output_type": "stream",
     "text": [
      "{'steps': [{'step': 1, 'description': \"Identify the specific row in Pascal's Triangle starting with 1 followed by a 6.\", 'action': \"Recognize that the row in Pascal's Triangle starting with 1 followed by a 6 is the 6th row (0-indexed).\"}, {'step': 2, 'description': 'Understand the definition of prime numbers and the criteria for identifying them.', 'action': 'Recall that a prime number is a natural number greater than 1 that has no positive divisors other than 1 and itself.'}, {'step': 3, 'description': \"List the elements of the 6th row of Pascal's Triangle.\", 'action': \"Generate the 6th row of Pascal's Triangle: [1, 6, 15, 20, 15, 6, 1].\"}, {'step': 4, 'description': 'Systematically check each number in the row (excluding the 1s) for primality.', 'action': 'Check the numbers 6, 15, 20, 15, and 6 for primality.'}, {'step': 5, 'description': 'Tally the numbers confirmed to be prime to answer the question.', 'action': 'Count the prime numbers identified in the row.'}], 'conclusion': {'description': \"Determine the number of prime numbers in the 6th row of Pascal's Triangle.\", 'action': 'Based on the primality check, conclude the number of prime numbers in the row.'}}\n"
     ]
    }
   ],
   "source": [
    "# Call the compiled ImplementStructure module with example inputs\n",
    "example_adapted_modules = '[\"Identify the specific row in Pascal\\'s Triangle starting with 1 followed by a 6.\", \"Understand the definition of prime numbers and the criteria for identifying them.\", \"Systematically check each number in the row (excluding the 1s) for primality.\", \"Tally the numbers confirmed to be prime to answer the question.\"]'\n",
    "\n",
    "task_description = 'How many primes are in the row of Pascal’s Triangle that starts with a 1 followed by a 6?'\n",
    "\n",
    "# Generate the reasoning structure\n",
    "reasoning_structure_prediction = compiled_implement_structure(adapted_modules=example_adapted_modules, task_description=task_description)\n",
    "\n",
    "# Print the reasoning structure\n",
    "print(reasoning_structure_prediction.reasoning_structure)"
   ]
  },
  {
   "cell_type": "markdown",
   "metadata": {},
   "source": [
    "#Solver\n",
    "###Purpose\n",
    "\n",
    "Applies the reasoning structure to generate a solution to the task.\n",
    "\n",
    "\n",
    "###Parameters\n",
    "\n",
    "question: The task or question to be solved.\n",
    "\n",
    "reasoning_structure: The step-by-step plan generated by the ImplementStructure component.\n",
    "###Returns\n",
    "\n",
    "The solution to the task as determined through the application of the reasoning structure."
   ]
  },
  {
   "cell_type": "code",
   "execution_count": 16,
   "metadata": {},
   "outputs": [
    {
     "name": "stderr",
     "output_type": "stream",
     "text": [
      "100%|██████████| 1/1 [00:15<00:00, 15.80s/it]"
     ]
    },
    {
     "name": "stdout",
     "output_type": "stream",
     "text": [
      "Bootstrapped 1 full traces after 1 examples in round 0.\n"
     ]
    },
    {
     "name": "stderr",
     "output_type": "stream",
     "text": [
      "\n"
     ]
    }
   ],
   "source": [
    "solver_examples = [\n",
    "    dspy.Example(\n",
    "        task_description=\"How many numbers between 1 and 2005 are integer multiples of 3 or 4 but not 12?\",\n",
    "        reasoning_structure=json.dumps({\n",
    "            \"steps\": [\n",
    "                {\n",
    "                    \"step\": 1,\n",
    "                    \"description\": \"Identify the mathematical pattern or rule that defines the set of numbers.\",\n",
    "                    \"action\": \"Determine the multiples of 3 and 4 up to 2005, excluding those that are multiples of 12.\"\n",
    "                },\n",
    "                {\n",
    "                    \"step\": 2,\n",
    "                    \"description\": \"Determine a method to count the numbers that fit the criteria without enumerating each one.\",\n",
    "                    \"action\": \"Use the inclusion-exclusion principle to calculate the count.\"\n",
    "                },\n",
    "                {\n",
    "                    \"step\": 3,\n",
    "                    \"description\": \"Estimate the number of multiples within the range and adjust for the exclusion of multiples of 12.\",\n",
    "                    \"action\": \"Subtract the count of multiples of 12 from the combined count of multiples of 3 and 4.\"\n",
    "                },\n",
    "                {\n",
    "                    \"step\": 4,\n",
    "                    \"description\": \"Break down the problem into smaller parts: count multiples of 3, multiples of 4, and then exclude multiples of 12.\",\n",
    "                    \"action\": \"Calculate the counts separately and then combine them according to the inclusion-exclusion principle.\"\n",
    "                },\n",
    "                {\n",
    "                    \"step\": 5,\n",
    "                    \"description\": \"Implement a systematic approach to calculate the final count, ensuring all criteria are met.\",\n",
    "                    \"action\": \"Verify the calculations and ensure no number is counted more than once.\"\n",
    "                }\n",
    "            ],\n",
    "            \"conclusion\": {\n",
    "                \"description\": \"Synthesize the information from the analysis to determine the final count of numbers.\",\n",
    "                \"action\": \"Combine the results from each step to arrive at the final answer.\"\n",
    "            }\n",
    "        }),\n",
    "        solution=json.dumps({\n",
    "            \"steps\": [\n",
    "                {\n",
    "                    \"step\": 1,\n",
    "                    \"answer\": \"There are 668 multiples of 3 and 501 multiples of 4 between 1 and 2005.\"\n",
    "                },\n",
    "                {\n",
    "                    \"step\": 2,\n",
    "                    \"answer\": \"Using the inclusion-exclusion principle, we can find the count without listing each number.\"\n",
    "                },\n",
    "                {\n",
    "                    \"step\": 3,\n",
    "                    \"answer\": \"There are 167 multiples of 12 between 1 and 2005.\"\n",
    "                },\n",
    "                {\n",
    "                    \"step\": 4,\n",
    "                    \"answer\": \"The combined count of multiples of 3 and 4 is 1169, but we must exclude the multiples of 12.\"\n",
    "                },\n",
    "                {\n",
    "                    \"step\": 5,\n",
    "                    \"answer\": \"After excluding multiples of 12, we are left with 1002 numbers.\"\n",
    "                }\n",
    "            ],\n",
    "            \"conclusion\": {\n",
    "                \"answer\": \"1002\"\n",
    "            }\n",
    "        })\n",
    "    ).with_inputs('task_description', 'reasoning_structure'),\n",
    "]\n",
    "\n",
    "# Define the signature for implementing the reasoning structure with answers\n",
    "class SolverSignature(dspy.Signature):\n",
    "    \"\"\"Operationalize the reasoning modules into a step-by-step reasoning plan with answers and a conclusion.\"\"\"\n",
    "    task_description = dspy.InputField(prefix=\"Adapted Modules:\", desc=\"The task description.\")\n",
    "    reasoning_structure = dspy.InputField(prefix=\"Reasoning Structure:\", desc=\"The reasoning structure\")\n",
    "    solution = dspy.OutputField(prefix=\"Solution:\", desc='The complete reasoning plan with answers and a conclusion in JSON format. example:\"{steps[{\"step\": N,\"answer\": \"ASNWER TEXT\"}],\"conclusion\": {\"answer\": \"ONLY ANSWER NO SUPPORTING TEXT\"}}')\n",
    "\n",
    "# Implement the solver module\n",
    "class Solver(dspy.Module):\n",
    "    def __init__(self):\n",
    "        super().__init__()\n",
    "        self.solve_task = dspy.Predict(SolverSignature)\n",
    "\n",
    "    def forward(self, task_description, reasoning_structure):\n",
    "        reasoning_structure_json = json.dumps(reasoning_structure)\n",
    "        prediction = self.solve_task(task_description=task_description, reasoning_structure=reasoning_structure_json)\n",
    "        solution = {}  # Initialize solution to an empty dictionary\n",
    "        try:\n",
    "            cleaned_output = re.sub(r'^\\s*```json\\n|\\n```$', '', prediction.solution, flags=re.MULTILINE).strip()\n",
    "            solution = json.loads(cleaned_output)\n",
    "        except Exception as e:\n",
    "            print(f'Failed to load solution: {e}')\n",
    "        return dspy.Prediction(solution=solution)\n",
    "\n",
    "# Validation logic for the solver\n",
    "def validate_solution(example, pred, trace=None):\n",
    "    # Here you would compare the predicted solution with the expected solution\n",
    "    # For simplicity, we are returning True\n",
    "    return True\n",
    "\n",
    "# Compile the Solver module using the teleprompter\n",
    "teleprompter_solver = BootstrapFewShot(metric=validate_solution)\n",
    "\n",
    "# Compile the Solver module\n",
    "compiled_solver = teleprompter_solver.compile(Solver(), trainset=solver_examples)"
   ]
  },
  {
   "cell_type": "code",
   "execution_count": 18,
   "metadata": {},
   "outputs": [
    {
     "data": {
      "text/plain": [
       "solve_task = Predict(SolverSignature(task_description, reasoning_structure -> solution\n",
       "    instructions='Operationalize the reasoning modules into a step-by-step reasoning plan with answers and a conclusion.'\n",
       "    task_description = Field(annotation=str required=True json_schema_extra={'prefix': 'Adapted Modules:', 'desc': 'The task description.', '__dspy_field_type': 'input'})\n",
       "    reasoning_structure = Field(annotation=str required=True json_schema_extra={'prefix': 'Reasoning Structure:', 'desc': 'The reasoning structure', '__dspy_field_type': 'input'})\n",
       "    solution = Field(annotation=str required=True json_schema_extra={'prefix': 'Solution:', 'desc': 'The complete reasoning plan with answers and a conclusion in JSON format. example:\"{steps[{\"step\": N,\"answer\": \"ASNWER TEXT\"}],\"conclusion\": {\"answer\": \"ONLY ANSWER NO SUPPORTING TEXT\"}}', '__dspy_field_type': 'output'})\n",
       "))"
      ]
     },
     "metadata": {},
     "output_type": "display_data"
    }
   ],
   "source": [
    "display(compiled_solver)\n",
    "\n"
   ]
  },
  {
   "cell_type": "code",
   "execution_count": 17,
   "metadata": {},
   "outputs": [
    {
     "name": "stdout",
     "output_type": "stream",
     "text": [
      "Predicted Solution: ```json\n",
      "{\n",
      "  \"steps\": [\n",
      "    {\n",
      "      \"step\": 1,\n",
      "      \"description\": \"Identify the constraints on box sizes and the requirement for boxes to be full.\",\n",
      "      \"action\": \"Note that boxes can only contain 1, 2, or 4 pieces of chocolate and must be full.\",\n",
      "      \"answer\": \"Boxes can contain 1, 2, or 4 pieces of chocolate.\"\n",
      "    },\n",
      "    {\n",
      "      \"step\": 2,\n",
      "      \"description\": \"Systematically explore all combinations of box sizes that sum up to 15 pieces of chocolate.\",\n",
      "      \"action\": \"Start with combinations involving the largest box size and work down to the smallest.\",\n",
      "      \"answer\": \"Explore combinations starting with 4-piece boxes, then 2-piece boxes, and finally 1-piece boxes.\"\n",
      "    },\n",
      "    {\n",
      "      \"step\": 3,\n",
      "      \"description\": \"Iterate through possible numbers of 4-piece boxes, adjusting for the remaining pieces.\",\n",
      "      \"action\": \"Calculate how many pieces are left after using 0, 1, 2, or 3 boxes of 4 pieces.\",\n",
      "      \"answer\": \"Possible numbers of 4-piece boxes: 0, 1, 2, 3.\"\n",
      "    },\n",
      "    {\n",
      "      \"step\": 4,\n",
      "      \"description\": \"For each number of 4-piece boxes, iterate through possible numbers of 2-piece boxes, adjusting for the remaining pieces.\",\n",
      "      \"action\": \"For each scenario from step 3, calculate how many 2-piece boxes can be used with the remaining pieces.\",\n",
      "      \"answer\": \"Calculate remaining pieces after using 4-piece boxes and determine possible 2-piece box combinations.\"\n",
      "    },\n",
      "    {\n",
      "      \"step\": 5,\n",
      "      \"description\": \"Determine if the remaining pieces can be filled with 1-piece boxes for each combination of 4-piece and 2-piece boxes.\",\n",
      "      \"action\": \"Check if the remaining pieces after steps 3 and 4 can be exactly filled with 1-piece boxes.\",\n",
      "      \"answer\": \"Check if remaining pieces can be filled with 1-piece boxes.\"\n",
      "    },\n",
      "    {\n",
      "      \"step\": 6,\n",
      "      \"description\": \"Ensure all possible combinations are accounted for without duplication.\",\n",
      "      \"action\": \"Review all generated combinations to ensure no duplicates and all possibilities are considered.\",\n",
      "      \"answer\": \"Review and list all unique combinations.\"\n",
      "    }\n",
      "  ],\n",
      "  \"conclusion\": {\n",
      "    \"answer\": \"17\"\n",
      "  }\n",
      "}\n",
      "```\n",
      "\n",
      "### Detailed Calculation:\n",
      "\n",
      "1. **0 boxes of 4 pieces:**\n",
      "   - 0 boxes of 4 pieces, 0 boxes of 2 pieces, 15 boxes of 1 piece.\n",
      "   - 0 boxes of 4 pieces, 1 box of 2 pieces, 13 boxes of 1 piece.\n",
      "   - 0 boxes of 4 pieces, 2 boxes of 2 pieces, 11 boxes of 1 piece.\n",
      "   - 0 boxes of 4 pieces, 3 boxes of 2 pieces, 9 boxes of 1 piece.\n",
      "   - 0 boxes of 4 pieces, 4 boxes of 2 pieces, 7 boxes of 1 piece.\n",
      "   - 0 boxes of 4 pieces, 5 boxes of 2 pieces, 5 boxes of 1 piece.\n",
      "   - 0 boxes of 4 pieces, 6 boxes of 2 pieces, 3 boxes of 1 piece.\n",
      "   - 0 boxes of 4 pieces, 7 boxes of 2 pieces, 1 box of 1 piece.\n",
      "\n",
      "2. **1 box of 4 pieces:**\n",
      "   - 1 box of 4 pieces, 0 boxes of 2 pieces, 11 boxes of 1 piece.\n",
      "   - 1 box of 4 pieces, 1 box of 2 pieces, 9 boxes of 1 piece.\n",
      "   - 1 box of 4 pieces, 2 boxes of 2 pieces, 7 boxes of 1 piece.\n",
      "   - 1 box of 4 pieces, 3 boxes of 2 pieces, 5 boxes of 1 piece.\n",
      "   - 1 box of 4 pieces, 4 boxes of 2 pieces, 3 boxes of 1 piece.\n",
      "   - 1 box of 4 pieces, 5 boxes of 2 pieces, 1 box of 1 piece.\n",
      "\n",
      "3. **2 boxes of 4 pieces:**\n",
      "   - 2 boxes of 4 pieces, 0 boxes of 2 pieces, 7 boxes of 1 piece.\n",
      "   - 2 boxes of 4 pieces, 1 box of 2 pieces, 5 boxes of 1 piece.\n",
      "   - 2 boxes of 4 pieces, 2 boxes of 2 pieces, 3 boxes of 1 piece.\n",
      "   - 2 boxes of 4 pieces, 3 boxes of 2 pieces, 1 box of 1 piece.\n",
      "\n",
      "4. **3 boxes of 4 pieces:**\n",
      "   - 3 boxes of 4 pieces, 0 boxes of 2 pieces, 3 boxes of 1 piece.\n",
      "   - 3 boxes of 4 pieces, 1 box of 2 pieces, 1 box of 1 piece.\n",
      "\n",
      "Summarizing all unique combinations, we get a total of 17 distinct ways to package the 15 pieces of chocolate.\n"
     ]
    }
   ],
   "source": [
    "# Function to call the compiled_solver with a new novel example input without the answers\n",
    "def call_solver_with_new_input(task_description, reasoning_structure):\n",
    "    # Convert the reasoning structure to JSON format for the solver input\n",
    "    reasoning_structure_json = json.dumps(reasoning_structure)\n",
    "\n",
    "    # Use the compiled solver to predict the solution for the new example input\n",
    "    prediction = compiled_solver.solve_task(task_description=task_description, reasoning_structure=reasoning_structure_json)\n",
    "\n",
    "    # Return the predicted solution\n",
    "    return prediction.solution\n",
    "\n",
    "# Example of calling the function with a new input\n",
    "new_example_input = {\n",
    "    \"task_description\": \"A customer ordered 15 pieces of gourmet chocolate. The order can be packaged in small boxes that contain 1, 2 or 4 pieces of chocolate. Any box that is used must be full. How many different combinations of boxes can be used for the customer’s 15 chocolate pieces? One such combination to be included is to use seven 2-piece boxes and one 1-piece box.\",\n",
    "    \"reasoning_structure\": {\n",
    "        \"steps\": [\n",
    "            {\n",
    "                \"step\": 1,\n",
    "                \"description\": \"Identify the constraints on box sizes and the requirement for boxes to be full.\",\n",
    "                \"action\": \"Note that boxes can only contain 1, 2, or 4 pieces of chocolate and must be full.\"\n",
    "            },\n",
    "            {\n",
    "                \"step\": 2,\n",
    "                \"description\": \"Systematically explore all combinations of box sizes that sum up to 15 pieces of chocolate.\",\n",
    "                \"action\": \"Start with combinations involving the largest box size and work down to the smallest.\"\n",
    "            },\n",
    "            {\n",
    "                \"step\": 3,\n",
    "                \"description\": \"Iterate through possible numbers of 4-piece boxes, adjusting for the remaining pieces.\",\n",
    "                \"action\": \"Calculate how many pieces are left after using 0, 1, 2, or 3 boxes of 4 pieces.\"\n",
    "            },\n",
    "            {\n",
    "                \"step\": 4,\n",
    "                \"description\": \"For each number of 4-piece boxes, iterate through possible numbers of 2-piece boxes, adjusting for the remaining pieces.\",\n",
    "                \"action\": \"For each scenario from step 3, calculate how many 2-piece boxes can be used with the remaining pieces.\"\n",
    "            },\n",
    "            {\n",
    "                \"step\": 5,\n",
    "                \"description\": \"Determine if the remaining pieces can be filled with 1-piece boxes for each combination of 4-piece and 2-piece boxes.\",\n",
    "                \"action\": \"Check if the remaining pieces after steps 3 and 4 can be exactly filled with 1-piece boxes.\"\n",
    "            },\n",
    "            {\n",
    "                \"step\": 6,\n",
    "                \"description\": \"Ensure all possible combinations are accounted for without duplication.\",\n",
    "                \"action\": \"Review all generated combinations to ensure no duplicates and all possibilities are considered.\"\n",
    "            }\n",
    "        ],\n",
    "        \"conclusion\": {\n",
    "            \"description\": \"Calculate the total number of unique combinations that can be used to package the 15 pieces of chocolate.\",\n",
    "            \"action\": \"Summarize the findings and present the total number of distinct packaging combinations.\"\n",
    "        }\n",
    "    }\n",
    "}\n",
    "\n",
    "# Example call to the function\n",
    "# Note: In a real scenario, the 'answer' fields would not be included in the input\n",
    "predicted_solution = call_solver_with_new_input(new_example_input['task_description'], new_example_input['reasoning_structure'])\n",
    "\n",
    "# Print the predicted solution\n",
    "print(\"Predicted Solution:\", predicted_solution)"
   ]
  },
  {
   "cell_type": "code",
   "execution_count": 22,
   "metadata": {},
   "outputs": [
    {
     "data": {
      "text/plain": [
       "[Example({'question_id': 25, 'question': 'Predict the number of lines in the EPR spectrum of a solution of 13C-labelled methyl radical (13CH3•), assuming the lines do not overlap.', 'options': \"['10', '8', '4', '20', '12', '3', '16', '5', '24', '6']\", 'answer': 'B', 'answer_index': '1', 'cot_content': \"A: Let's think step by step. The electron paramagnetic resonance spectrum will be split by two forms of interactions. The first is the hyperfine interaction with the 13C (nuclear spin $I = \\nrac{1}{2}$) which will split the spectrum into 2 lines. This will be further split into 4 lines by the interaction with three equivalent 1H nuclei. The total number of lines is therefore $2 \\\\cdot 4 = 8$. The answer is (B).\", 'category': 'chemistry', 'src': 'cot_lib-college_chemistry'}) (input_keys={'options', 'question'}),\n",
       " Example({'question_id': 64, 'question': 'In terms of Hofstede’s (1980) five cultural dimensions, the United States scores at the top of the scale on:', 'options': \"['individualism and long-term orientation.', 'individualism and power distance.', 'uncertainty avoidance.', 'long-term orientation.', 'individualism.', 'individualism and masculinity.', 'long-term orientation and uncertainty avoidance.', 'power distance.', 'power distance and masculinity.', 'N/A']\", 'answer': 'E', 'answer_index': '4', 'cot_content': \"A: Let's think step by step. We refer to Wikipedia articles on psychology for help. US scores highest on individualism among the five cultural dimensions. The answer is (E).\", 'category': 'psychology', 'src': 'cot_lib-professional_psychology'}) (input_keys={'options', 'question'}),\n",
       " Example({'question_id': 4, 'question': 'A total of 30 players will play basketball at a park. There will be exactly 5 players on each team. Which statement correctly explains how to find the number of teams needed?', 'options': \"['Multiply 5 by 5 to find 25 teams.', 'Divide 30 by 5 to find 6 teams.', 'Add 5 to 30 to find 35 teams.', 'Subtract 30 from 5 to find -25 teams.', 'Divide 5 by 30 to find 0.1667 teams.', 'Add 5 to 30 then divide by 2 to find 17.5 teams.', 'N/A', 'N/A', 'N/A', 'N/A']\", 'answer': 'B', 'answer_index': '1', 'cot_content': \"A: Let's think step by step. We want to find the number of teams. We know that there are 5 players/team, and 30 players. Thus to get the number of teams we divide players by players/team, so 30 players / 5 players/team = 6 teams. The answer is (B).\", 'category': 'math', 'src': 'cot_lib-elementary_mathematics'}) (input_keys={'options', 'question'}),\n",
       " Example({'question_id': 34, 'question': 'In the program below, the initial value of X is 5 and the initial value of Y is 10.\\nIF (X < 0){\\n DISPLAY (\"Foxtrot\")\\n} ELSE {\\n IF (X > Y){\\n  DISPLAY (\"Hotel\")\\n } ELSE {\\n  IF (Y > 0){\\n   DISPLAY (\"November\")\\n  } ELSE {\\n   DISPLAY (\"Yankee\")\\n  }\\n }\\n}\\nWhat is displayed as a result of running the program?', 'options': \"['November', 'Foxtrot', 'Zulu', 'Alpha', 'Charlie', 'Bravo', 'Yankee', 'Echo', 'Hotel', 'Delta']\", 'answer': 'A', 'answer_index': '0', 'cot_content': 'A: Let\\'s think step by step. Because X has the value 5, the first conditional IF (X < 0) is false, so we move to the first ELSE clause. Because X is 5 and Y is 10, the second conditional IF (X > Y) is false, so we move to the following ELSE clause. Since Y is 10, the conditional IF (Y > 0) is true, so the command DISPLAY (\"November\") is executed. The answer is (A).', 'category': 'computer science', 'src': 'cot_lib-high_school_computer_science'}) (input_keys={'options', 'question'}),\n",
       " Example({'question_id': 3, 'question': 'A tank initially contains a salt solution of 3 grams of salt dissolved in 100 liters of water. A salt solution containing 0.02 grams of salt per liter of water is sprayed into the tank at a rate of 4 liters per minute. The sprayed solution is continually mixed with the salt solution in the tank, and the mixture flows out of the tank at a rate of 4 liters per minute. If the mixing is instantaneous, how many grams of salt are in the tank after 100 minutes have elapsed?', 'options': \"['3 + e^-2', '2 - e^-4', '2 - e^-2', '3 + e^-4', '2 + e^-3', '2 - e^-3', '3 - e^-2', '2 + e^-2', '2 + e^-4', '2']\", 'answer': 'I', 'answer_index': '8', 'cot_content': \"A: Let's think step by step. For all $t \\\\in \\\\mathbb{R}$, let $s(t)$ denote the number grams of salt in the tank at the $t$ minute mark. Then $s(0) = 3$.\\nWe use $s$ and $s(t)$ interchangeably. We also use $s^{\\\\prime}$ and $s^{\\\\prime}(t)$ interchangeably. The solution sprayed into the tank adds $(0.02) 4=2 / 25$ grams of salt per minute. There are always 100 liters of liquid in the tank, containing $s$ grams of salt. So the density of salt in the tank is $s / 100$ grams per liter. The flow of water out of the tank therefore subtracts $4(s / 100)=s / 25$ grams of salt per minute. Then, for all $t \\\\in \\\\mathbb{R}$, we have $s^{\\\\prime}(t)=(2 / 25)-(s / 25)=(2-s) / 25$, and so $[s(t)=2] \\\\Rightarrow\\\\left[s^{\\\\prime}(t)=0ight]$. For all $t \\\\in \\\\mathbb{R}$,\\n$$\\n\\x0crac{d}{d t}[\\\\ln (s-2)]=\\x0crac{s^{\\\\prime}}{s-2}=\\x0crac{-1}{25}=\\x0crac{d}{d t}\\\\left[-\\x0crac{t}{25}ight] .\\n$$\\nChoose $C \\\\in \\\\mathbb{R}$ such that, for all $t \\\\in \\\\mathbb{R}, \\\\ln ((s(t)-2))=-[t / 25]+C$. Let $K:=e^{C}$. Then, for all $t \\\\in \\\\mathbb{R}$, we have $(s(t))-2=K e^{-t / 25}$, and so $s(t)=2+K e^{-t / 25}$. Then $3=s(0)=2+K e^{0}=2+K$, so $K=1$. Then $s(100)=2+K e^{-100 / 25}=2+1 \\\\cdot e^{-4}=2+e^{-4}$. The answer is (I).\", 'category': 'math', 'src': 'cot_lib-college_mathematics'}) (input_keys={'options', 'question'}),\n",
       " Example({'question_id': 49, 'question': 'What is the sign of the covenant for Jewish males?', 'options': \"['Fasting on Yom Kippur', 'Lighting Shabbat candles', 'The rainbow', 'Circumcision', 'The Torah', 'Bar mitzvah', 'Keeping kosher', 'Wearing a kippah', 'A son', 'The Star of David']\", 'answer': 'D', 'answer_index': '3', 'cot_content': \"A: Let's think step by step. We refer to Wikipedia articles on world religions for help. In Judaism, the most distinctive sign of the covenant is circumcision (brit milah). The answer is (D).\", 'category': 'philosophy', 'src': 'cot_lib-world_religions'}) (input_keys={'options', 'question'}),\n",
       " Example({'question_id': 22, 'question': 'A mutation in a bacterial enzyme changed a previously polar amino acid into a nonpolar amino acid. This amino acid was located at a site distant from the enzyme’s active site. How might this mutation alter the enzyme’s substrate specificity?', 'options': '[\\'By changing the enzyme’s pH optimum\\', \"By changing the enzyme\\'s molecular weight\", \"An amino acid change away from the active site increases the enzyme\\'s substrate specificity.\", \\'By changing the shape of the protein\\', \"By changing the enzyme\\'s temperature optimum\", \"By altering the enzyme\\'s ability to be denatured\", \\'By changing the enzyme’s location in the cell\\', \"By changing the enzyme\\'s color\", \\'An amino acid change away from the active site cannot alter the enzyme’s substrate specificity.\\', \"By altering the enzyme\\'s rate of reaction\"]', 'answer': 'D', 'answer_index': '3', 'cot_content': \"A: Let's think step by step. A change in an amino acid leads to a change in the primary structure of the protein. A change in the primary structure may lead to a change in the secondary and the tertiary structure of the protein. A change in the tertiary structure means a change in the shape of the protein, so (C) has to be correct. Since the change does not affect the active site of the enzyme, we do not expect the activity of the enzyme to be affected. The answer is (D).\", 'category': 'biology', 'src': 'cot_lib-high_school_biology'}) (input_keys={'options', 'question'}),\n",
       " Example({'question_id': 2, 'question': 'Let A be the set of all ordered pairs of integers (m, n) such that 7m + 12n = 22. What is the greatest negative number in the set B = {m + n : (m, n) \\\\in A}?', 'options': \"['-5', '0', '-3', '-7', '-4', '-6', '-1', '-2', '-9', 'N/A']\", 'answer': 'E', 'answer_index': '4', 'cot_content': \"A: Let's think step by step. We have 12n = 22 - 7m and one of the solutions is $m = -2$, $n = 3$. Then $m + n = 1$, hence we need to look for smaller $m$ in order to make $m + n$ negative. The next solution is $m = -14$ and $n = 10$. For smaller $m$ we have $m + n$ smaller than $-4$. The answer is (E).\", 'category': 'math', 'src': 'cot_lib-college_mathematics'}) (input_keys={'options', 'question'}),\n",
       " Example({'question_id': 16, 'question': '_______ is the direct attempt to formally or informally manage ethical issues or problems, through specific policies, practices and programmes.', 'options': \"['Operational management', 'Corporate governance', 'Environmental management', 'Business ethics management', 'Sustainability', 'Stakeholder management', 'Social marketing', 'Human resource management', 'N/A', 'N/A']\", 'answer': 'D', 'answer_index': '3', 'cot_content': \"A: Let's think step by step. We refer to Wikipedia articles on business ethics for help. The direct attempt manage ethical issues through specific policies, practices, and programs is business ethics management. The answer is (D).\", 'category': 'business', 'src': 'cot_lib-business_ethics'}) (input_keys={'options', 'question'}),\n",
       " Example({'question_id': 19, 'question': 'In an organization, the group of people tasked with buying decisions is referred to as the _______________.', 'options': \"['Procurement centre.', 'Chief executive unit.', 'Resources allocation group.', 'Marketing department.', 'Purchasing department.', 'Supply chain management team.', 'Outsourcing unit.', 'Decision-making unit.', 'Operations unit.', 'Financial management team.']\", 'answer': 'H', 'answer_index': '7', 'cot_content': \"A: Let's think step by step. We refer to Wikipedia articles on marketing for help. In an organization, the group of the people tasked with buying decision is referred to as the decision-making unit. The answer is (H).\", 'category': 'business', 'src': 'cot_lib-marketing'}) (input_keys={'options', 'question'})]"
      ]
     },
     "metadata": {},
     "output_type": "display_data"
    }
   ],
   "source": [
    "display(try10test)\n",
    "\n"
   ]
  },
  {
   "cell_type": "code",
   "execution_count": 24,
   "metadata": {},
   "outputs": [
    {
     "data": {
      "text/plain": [
       "{'steps': [{'step': 1,\n",
       "   'answer': 'The key assumptions are that the methyl radical is 13C-labelled (13CH3•) and that the EPR lines do not overlap.'},\n",
       "  {'step': 2,\n",
       "   'answer': 'The problem can be broken down into understanding the hyperfine interactions in the EPR spectrum, specifically the interactions between the unpaired electron and the nuclei (13C and 3 H).'},\n",
       "  {'step': 3,\n",
       "   'answer': 'Analyzing the problem, we know that 13C has a nuclear spin (I) of 1/2 and each hydrogen (H) has a nuclear spin (I) of 1/2. The hyperfine interaction will split the EPR signal based on these nuclear spins.'},\n",
       "  {'step': 4,\n",
       "   'answer': 'The underlying factors include the number of interacting nuclei and their respective nuclear spins. For 13CH3•, there is one 13C nucleus and three 1H nuclei.'},\n",
       "  {'step': 5,\n",
       "   'answer': 'Potential obstacles include the complexity of the hyperfine splitting patterns and ensuring that all possible interactions are considered.'},\n",
       "  {'step': 6,\n",
       "   'answer': 'The risks and drawbacks include the possibility of misinterpreting the number of lines due to overlapping or unresolved lines in practical scenarios, although the assumption here is that lines do not overlap.'},\n",
       "  {'step': 7,\n",
       "   'answer': 'Alternative perspectives could involve considering different isotopic labeling scenarios, such as using 12C instead of 13C, which would result in different hyperfine interactions.'},\n",
       "  {'step': 8,\n",
       "   'answer': 'The long-term implications include the impact on future EPR studies and the importance of accurately predicting and interpreting hyperfine splitting patterns for various radicals.'}],\n",
       " 'conclusion': {'answer': 'The number of lines in the EPR spectrum of a 13C-labelled methyl radical (13CH3•) is 8.'}}"
      ]
     },
     "metadata": {},
     "output_type": "display_data"
    }
   ],
   "source": [
    "from dspy.evaluate import Evaluate\n",
    "\n",
    "\n",
    "\n",
    "# def eval_metric(true, prediction, trace=None):\n",
    "#     true_answer = true.answer\n",
    "#     reasoning_structure = str(prediction['steps'])\n",
    "#     predicted_answer = prediction['conclusion']['answer']\n",
    "\n",
    "#     is_correct_pred = compiled_answer_evaluator(\n",
    "#         question=true.question, reasoning_structure=reasoning_structure,predicted_answer=predicted_answer, gold_answer=true_answer\n",
    "#     )\n",
    "#     if is_correct_pred.is_correct.lower() == \"true\":\n",
    "#         return True\n",
    "#     else:\n",
    "#         print(f'evaluation failed for {true.question}:')\n",
    "#         print(f'{predicted_answer} against {true_answer}')\n",
    "#         return False\n",
    "\n",
    "class CombinedModule(dspy.Module):\n",
    "    def __init__(self):\n",
    "        super().__init__()\n",
    "        self.select_modules = SelectModules()\n",
    "        self.adapt_modules = AdaptModules()\n",
    "        self.implement_structure = ImplementStructure()\n",
    "        self.solver = Solver()\n",
    "\n",
    "    def forward(self, question):\n",
    "        selected_modules = self.select_modules(question, reasoning_modules).selected_modules\n",
    "        adapted_modules = self.adapt_modules(selected_modules, question).adapted_modules\n",
    "        reasoning_structure = self.implement_structure(adapted_modules, question).reasoning_structure\n",
    "        solution = self.solver(question, reasoning_structure).solution\n",
    "        return solution\n",
    "\n",
    "combined_module = CombinedModule()\n",
    "\n",
    "try1 = combined_module(try10test[0].question)\n",
    "display(try1)\n",
    "\n",
    "# Evaluation code (same as before)\n",
    "# evaluate = Evaluate(devset=try10test, metric=custom_answer_exact_match, num_threads=25, display_progress=True, display_table=10)\n",
    "# evaluate(combined_module)"
   ]
  },
  {
   "cell_type": "markdown",
   "metadata": {},
   "source": [
    "future directions:"
   ]
  },
  {
   "cell_type": "markdown",
   "metadata": {},
   "source": [
    "does retrieving wikipedia colbert give better mmlupro results? a la https://github.com/stanfordnlp/dspy/blob/5db3e3461a5db8ddb0a03c8ae59e606f4efc1e95/intro.ipynb#L4"
   ]
  },
  {
   "cell_type": "markdown",
   "metadata": {},
   "source": [
    "score is number of tries to get the correct answer? or just exact match boolean 0 / 1?"
   ]
  },
  {
   "cell_type": "markdown",
   "metadata": {},
   "source": [
    "does training on mmlu give a smarter bot? need to make options optional. \n",
    "\n",
    "kind of like - are people that are really good at taking tests actually useful? are bots that are really good at benchmarks useful?"
   ]
  },
  {
   "cell_type": "markdown",
   "metadata": {},
   "source": [
    "proper optimizer copro / mipro, work up to using the full 70 in the validation set"
   ]
  }
 ],
 "metadata": {
  "kernelspec": {
   "display_name": "my-env310",
   "language": "python",
   "name": "python3"
  },
  "language_info": {
   "codemirror_mode": {
    "name": "ipython",
    "version": 3
   },
   "file_extension": ".py",
   "mimetype": "text/x-python",
   "name": "python",
   "nbconvert_exporter": "python",
   "pygments_lexer": "ipython3",
   "version": "3.10.0"
  }
 },
 "nbformat": 4,
 "nbformat_minor": 2
}
