{
 "cells": [
  {
   "cell_type": "markdown",
   "metadata": {},
   "source": [
    "mine-tune an AI program to respond using your \"brand voice\"."
   ]
  },
  {
   "cell_type": "code",
   "execution_count": null,
   "metadata": {},
   "outputs": [],
   "source": [
    "%pip install dspy\n",
    "%pip install ipywidgets\n",
    "%pip install IPython\n",
    "%pip install requests\n",
    "%pip install firecrawl-py\n",
    "%pip install beautifulsoup4\n",
    "%pip install markdownify\n",
    "\n"
   ]
  },
  {
   "cell_type": "code",
   "execution_count": 7,
   "metadata": {},
   "outputs": [],
   "source": [
    "import dspy\n",
    "import os\n",
    "import dotenv\n",
    "import pydantic\n",
    "\n",
    "dotenv.load_dotenv()\n",
    "assert 'OPENAI_API_KEY' in os.environ\n",
    "llm = dspy.OpenAI(model='gpt-4o', max_tokens=4096, temperature=0.1)\n",
    "dspy.settings.configure(lm=llm)"
   ]
  },
  {
   "cell_type": "markdown",
   "metadata": {},
   "source": [
    "set a URL directly or via input prompt"
   ]
  },
  {
   "cell_type": "code",
   "execution_count": 8,
   "metadata": {},
   "outputs": [],
   "source": [
    "url = 'https://polyspectra.com'\n",
    "#url = input(\"Enter a URL: \") "
   ]
  },
  {
   "cell_type": "markdown",
   "metadata": {},
   "source": [
    "preferred method:  use firecrawl to get content more reliably. sign up at https://www.firecrawl.dev/ and put your API key in .env or directly below"
   ]
  },
  {
   "cell_type": "code",
   "execution_count": null,
   "metadata": {},
   "outputs": [],
   "source": [
    "from firecrawl import FirecrawlApp\n",
    "\n",
    "# Initialize the FirecrawlApp with your API key\n",
    "#app = FirecrawlApp(api_key='your_api_key')\n",
    "FIRECRAWL_API_KEY = os.getenv(\"FIRECRAWL_API_KEY\")\n",
    "app = FirecrawlApp(api_key=FIRECRAWL_API_KEY)\n",
    "\n",
    "# Scrape a single URL\n",
    "\n",
    "scraped_data = app.scrape_url(url)\n",
    "display(scraped_data)\n"
   ]
  },
  {
   "cell_type": "markdown",
   "metadata": {},
   "source": [
    "fallback to beautifulsoup if you don't want to sign up for firecrawl. many websites (like mine) block this type of scraping."
   ]
  },
  {
   "cell_type": "code",
   "execution_count": 9,
   "metadata": {},
   "outputs": [
    {
     "data": {
      "text/plain": [
       "'\\nJust a moment...Enable JavaScript and cookies to continue'"
      ]
     },
     "metadata": {},
     "output_type": "display_data"
    }
   ],
   "source": [
    "from bs4 import BeautifulSoup\n",
    "import markdownify\n",
    "import ipywidgets as widgets\n",
    "from IPython.display import display\n",
    "import requests\n",
    "\n",
    "# Make a request to the URL\n",
    "response = requests.get(url)\n",
    "\n",
    "# Parse the HTML content\n",
    "soup = BeautifulSoup(response.content, 'html.parser')\n",
    "\n",
    "# Convert the HTML content to Markdown\n",
    "markdown_content = markdownify.markdownify(str(soup), heading_style=\"ATX\")\n",
    "\n",
    "display(markdown_content)\n",
    "\n",
    "\n"
   ]
  },
  {
   "cell_type": "markdown",
   "metadata": {},
   "source": [
    "choose what we are going to use as context (firecrawl or beautifulsoup)"
   ]
  },
  {
   "cell_type": "code",
   "execution_count": null,
   "metadata": {},
   "outputs": [],
   "source": [
    "from IPython.display import display, Markdown\n",
    "context = scraped_data['markdown']\n",
    "#context = markdown_content # or use beautifulsoup to convert to markdown\n",
    "display(Markdown(context))\n",
    "\n"
   ]
  },
  {
   "cell_type": "markdown",
   "metadata": {},
   "source": [
    "now we need a DSPy signature & module, and test it uncompiled (zero shot)"
   ]
  },
  {
   "cell_type": "code",
   "execution_count": 111,
   "metadata": {},
   "outputs": [
    {
     "data": {
      "text/plain": [
       "['polySpectra Executive Summary\\n\\npolySpectra is at the forefront of industrial additive manufacturing, specializing in the development and production of the world\\'s most rugged photopolymer resins. Our flagship products, including COR Alpha, COR Black, and COR Bio, are engineered to deliver unparalleled strength, durability, and impact resistance, making them the go-to choice for innovative engineers seeking reliable 3D printing solutions.\\n\\nOur proprietary Cyclic Olefin Resin (COR) technology sets a new standard in the industry, offering best-in-class thermomechanical performance, chemical resistance, and long-term durability. These resins are compatible with a wide array of industrial and desktop DLP & LCD resin 3D printers, ensuring that our customers can seamlessly integrate our materials into their existing workflows.\\n\\nAt polySpectra, we are committed to helping engineers \"Make It Real\" by providing comprehensive support throughout the 3D printing process. From printing and rinsing to thermal post-curing, our solutions are designed to maximize efficiency and return on investment. Our supaRinse cleaning fluid and waveCure heat transfer fluid further enhance the ease and reliability of using COR resins.\\n\\nTrusted by industry leaders such as NASA, Dayco, and Cerakote, polySpectra\\'s materials have been featured in prominent publications and platforms, including Netflix, Forbes, and Engineering.com. Our dedication to innovation and quality has earned us a reputation as a premier partner in the additive manufacturing space.\\n\\nWith a focus on overcoming the common pitfalls of traditional 3D printing, polySpectra empowers engineers to produce end-use components that withstand the most demanding applications. Join us in revolutionizing the future of manufacturing with the most rugged photopolymer resins on the market.\\n\\nMake it real with polySpectra. No more broken parts.']"
      ]
     },
     "metadata": {},
     "output_type": "display_data"
    }
   ],
   "source": [
    "class BrandVoice(dspy.Signature):\n",
    "    \"\"\"Consider the context and always respond to the user's query using the brand voice.\"\"\"\n",
    "\n",
    "    context = dspy.InputField(desc=\"This is a website of the brand that you are representing. Carefully analyze this to make sure your responses are branded and professional.\")\n",
    "    query = dspy.InputField()\n",
    "    response = dspy.OutputField()\n",
    "\n",
    "\n",
    "class BrandAmbassador(dspy.Module):  # let's define a new module\n",
    "    def __init__(self):\n",
    "        super().__init__()\n",
    "        self.n = 1\n",
    "        self.signature = BrandVoice\n",
    "        self.predictor = dspy.ChainOfThought(self.signature, n=self.n) #this can easily be subbed for something else\n",
    "    \n",
    "    def forward(self, query, context, num_generations = 1):\n",
    "        self.predictor = dspy.ChainOfThought(self.signature, n=num_generations)\n",
    "        result = self.predictor(query=query, context=context, n=num_generations)\n",
    "        return dspy.Prediction(response=[str(completion.response) for completion in result.completions])\n",
    "\n",
    "\n",
    "llm.temperature = 0.1\n",
    "dspy.settings.configure(lm=llm)\n",
    "uncompiled = BrandAmbassador()\n",
    "exec_summary = uncompiled(\"write an executive summary of polySpectra\", context)\n",
    "display(exec_summary.response)\n",
    "#print(len(exec_summary.response))\n"
   ]
  },
  {
   "cell_type": "markdown",
   "metadata": {},
   "source": [
    "this is pretty impressive already. but now what if we want to mine-tune it further?\n",
    "\n",
    "as a first example, we raise the temperature and generate 5 responses, which we will rate in the next cell"
   ]
  },
  {
   "cell_type": "code",
   "execution_count": 110,
   "metadata": {},
   "outputs": [
    {
     "data": {
      "text/plain": [
       "['🚗 Say goodbye to brittle components! COR Black by polySpectra is revolutionizing automotive manufacturing with its unmatched impact resistance and durability. Trust in the strength of our rugged photopolymer resins to keep your innovations on the road. #MakeItReal #3DPrinting #AutoInnovation 🔧✨',\n",
       " \"🚗🔧 Exciting news! #CORBlack is revolutionizing #automotive manufacturing with its unparalleled impact resistance and durability. Say goodbye to brittle parts and hello to robust, end-use components you can trust. #MakeItReal with polySpectra's toughest resin. 🌟\\n\\n#3DPrinting #AdditiveManufacturing #Innovation #polySpectra\",\n",
       " '🚗💪 Exciting news from the automotive world! COR Black by #polySpectra is revolutionizing manufacturing with its unparalleled impact resistance and durability. Perfect for the demanding underhood environments, COR Black ensures automotive components that last. Make it real with polySpectra! #3DPrinting #AutomotiveInnovation #MakeItReal',\n",
       " '🚗🔧 Revolutionizing automotive manufacturing with COR Black! Our rugged photopolymer resin offers unparalleled impact resistance and durability, perfect for under-the-hood applications. Say goodbye to brittle parts and hello to innovation! #3DPrinting #Automotive #MakeItReal #polySpectra',\n",
       " \"🚗🔧 Exciting news! COR Black is revolutionizing automotive manufacturing with its unmatched impact resistance and durability. Say goodbye to brittle parts and hello to rugged, reliable components. #MakeItReal with polySpectra's COR Black. 🏎️💥 #3DPrinting #AdditiveManufacturing #AutomotiveInnovation\"]"
      ]
     },
     "metadata": {},
     "output_type": "display_data"
    }
   ],
   "source": [
    "llm.temperature = 0.8\n",
    "dspy.settings.configure(lm=llm)\n",
    "test5_query = \"write a tweet about COR Black being used in automotive manufacturing\"\n",
    "test5_response = uncompiled(test5_query, context, num_generations=5)\n",
    "display(test5_response.response)\n",
    "\n"
   ]
  },
  {
   "cell_type": "markdown",
   "metadata": {},
   "source": [
    "run the next cell to rate each of the entries, and don't forget to provide feedback. this is the annoying \"upfront attention\" of mine-tuning."
   ]
  },
  {
   "cell_type": "code",
   "execution_count": 57,
   "metadata": {},
   "outputs": [
    {
     "data": {
      "application/vnd.jupyter.widget-view+json": {
       "model_id": "4ff10143beaa4b12baac8e6b81570c94",
       "version_major": 2,
       "version_minor": 0
      },
      "text/plain": [
       "HTML(value='<b>All responses have been rated. Thank you!</b>')"
      ]
     },
     "metadata": {},
     "output_type": "display_data"
    },
    {
     "data": {
      "text/plain": [
       "[{'query': 'write a tweet about COR Black being used in automotive manufacturing',\n",
       "  'response': \"This is the response to the user's query. Always use the brand voice.\\n\\n---\\n\\nCOR Black is revolutionizing automotive manufacturing with its unparalleled impact resistance and durability. 🚗🔧 Engineers now trust polySpectra's rugged photopolymer resins for parts that endure the toughest conditions. #MakeItReal #3DPrinting #Innovation #Automotive\\n\\n---\",\n",
       "  'rating': 1,\n",
       "  'feedback': 'only respond with the tweet. too many hashtags. this is bad.'},\n",
       " {'query': 'write a tweet about COR Black being used in automotive manufacturing',\n",
       "  'response': \"🚗💪 Elevate your automotive manufacturing game with #CORBlack! Engineered for superior impact resistance and durability, COR Black is the ultimate resin for high-performance, end-use automotive parts. #MakeItReal with polySpectra's rugged photopolymer resins. #3DPrinting #AutomotiveInnovation #AdditiveManufacturing\",\n",
       "  'rating': 3,\n",
       "  'feedback': 'this is ok. too many hashtags. just use #MakeItReal'},\n",
       " {'query': 'write a tweet about COR Black being used in automotive manufacturing',\n",
       "  'response': '🚗🔧 Dive into the future of automotive manufacturing with COR Black! Our rugged, impact-resistant photopolymer resin ensures every 3D printed component can withstand the toughest conditions. Make it real with polySpectra. 💪 #3DPrinting #AutomotiveInnovation #CORBlack #MakeItReal',\n",
       "  'rating': 3,\n",
       "  'feedback': 'Innovation is such a generic term. and \"dive into the future\" is kind of cheesy.'},\n",
       " {'query': 'write a tweet about COR Black being used in automotive manufacturing',\n",
       "  'response': '🚗✨ Exciting news! 🚀 COR Black is revolutionizing automotive manufacturing with its unparalleled impact resistance and durability. Say goodbye to brittle parts and hello to components that can withstand the toughest conditions. #3DPrinting #AutomotiveInnovation #MakeItReal #polySpectra',\n",
       "  'rating': 4,\n",
       "  'feedback': 'this is pretty good, except for the \"exciting news!\" part. and too many hashtags.'},\n",
       " {'query': 'write a tweet about COR Black being used in automotive manufacturing',\n",
       "  'response': '🚗 Accelerate your automotive manufacturing with COR Black! Engineered for exceptional impact resistance and durability, COR Black ensures your 3D printed components can withstand the toughest conditions. Drive innovation with the most rugged photopolymer resin on the market. #MakeItReal #3DPrinting #AutomotiveInnovation',\n",
       "  'rating': 4,\n",
       "  'feedback': 'the first sentence is good. only use #MakeItReal. stop saying \"innovation\".'}]"
      ]
     },
     "metadata": {},
     "output_type": "display_data"
    }
   ],
   "source": [
    "import ipywidgets as widgets\n",
    "from IPython.display import display, clear_output\n",
    "\n",
    "# Assuming test5.response contains the generated responses\n",
    "responses = test5.response\n",
    "\n",
    "# Initialize storage for ratings and feedback\n",
    "ratings_feedback = []\n",
    "\n",
    "# Variable to store the current index\n",
    "current_index = 0\n",
    "\n",
    "# Variable to store the selected rating\n",
    "selected_rating = None\n",
    "\n",
    "# Create buttons for ratings 1 to 5\n",
    "buttons = [widgets.Button(description=str(i)) for i in range(1, 6)]\n",
    "\n",
    "# Arrange the buttons horizontally and center them\n",
    "button_box = widgets.HBox(buttons, layout=widgets.Layout(justify_content='center'))\n",
    "\n",
    "# Create a Textarea widget for feedback\n",
    "feedback_area = widgets.Textarea(\n",
    "    value='',\n",
    "    placeholder='Type your feedback here',\n",
    "    description='Feedback:',\n",
    "    disabled=False,\n",
    "    layout=widgets.Layout(width='100%', height='100px')\n",
    ")\n",
    "\n",
    "# Create a submit button\n",
    "submit_button = widgets.Button(description=\"Submit\")\n",
    "\n",
    "# Center the submit button\n",
    "submit_button_box = widgets.HBox([submit_button], layout=widgets.Layout(justify_content='center'))\n",
    "\n",
    "# Function to display the current response and feedback widgets\n",
    "def display_current_response():\n",
    "    global current_index\n",
    "    clear_output()\n",
    "    \n",
    "    # Display the current response\n",
    "    display(widgets.HTML(f\"<b>Response {current_index + 1}:</b> {responses[current_index]}\"))\n",
    "    \n",
    "    # Display the rating buttons\n",
    "    display(button_box)\n",
    "    \n",
    "    # Display the feedback area\n",
    "    display(feedback_area)\n",
    "    \n",
    "    # Display the submit button\n",
    "    display(submit_button_box)\n",
    "\n",
    "# Function to handle submit button click\n",
    "def on_submit_click(b):\n",
    "    global current_index, selected_rating\n",
    "    \n",
    "    # Get the feedback text\n",
    "    feedback_text = feedback_area.value\n",
    "    \n",
    "    # Save the rating and feedback\n",
    "    ratings_feedback.append({\n",
    "        'query': test5_query,\n",
    "        'response': responses[current_index],\n",
    "        'rating': selected_rating,\n",
    "        'feedback': feedback_text\n",
    "    })\n",
    "    \n",
    "    # Move to the next response\n",
    "    current_index += 1\n",
    "    \n",
    "    # Reset the selected rating and feedback area\n",
    "    selected_rating = None\n",
    "    feedback_area.value = ''\n",
    "    \n",
    "    # Reset button styles\n",
    "    for button in buttons:\n",
    "        button.style.button_color = None\n",
    "    \n",
    "    # Check if there are more responses to rate\n",
    "    if current_index < len(responses):\n",
    "        display_current_response()\n",
    "    else:\n",
    "        clear_output()\n",
    "        display(widgets.HTML(\"<b>All responses have been rated. Thank you!</b>\"))\n",
    "        display(ratings_feedback)\n",
    "\n",
    "# Function to handle button click\n",
    "def on_button_click(b):\n",
    "    global selected_rating\n",
    "    selected_rating = int(b.description)\n",
    "    \n",
    "    # Reset button styles\n",
    "    for button in buttons:\n",
    "        button.style.button_color = None\n",
    "    \n",
    "    # Highlight the selected button\n",
    "    b.style.button_color = 'lightblue'\n",
    "    print(f\"Selected rating: {selected_rating}\")\n",
    "\n",
    "# Attach the button click event to each button\n",
    "for button in buttons:\n",
    "    button.on_click(on_button_click)\n",
    "\n",
    "# Attach the submit button click event\n",
    "submit_button.on_click(on_submit_click)\n",
    "\n",
    "# Display the first response\n",
    "display_current_response()"
   ]
  },
  {
   "cell_type": "markdown",
   "metadata": {},
   "source": [
    "you might want to save this somewhere, since you took the time to provide all of this thoughtful feedback."
   ]
  },
  {
   "cell_type": "code",
   "execution_count": 116,
   "metadata": {},
   "outputs": [
    {
     "data": {
      "text/plain": [
       "[{'query': 'write a tweet about COR Black being used in automotive manufacturing',\n",
       "  'response': \"This is the response to the user's query. Always use the brand voice.\\n\\n---\\n\\nCOR Black is revolutionizing automotive manufacturing with its unparalleled impact resistance and durability. 🚗🔧 Engineers now trust polySpectra's rugged photopolymer resins for parts that endure the toughest conditions. #MakeItReal #3DPrinting #Innovation #Automotive\\n\\n---\",\n",
       "  'rating': '1',\n",
       "  'feedback': 'only respond with the tweet. too many hashtags. this is bad.'},\n",
       " {'query': 'write a tweet about COR Black being used in automotive manufacturing',\n",
       "  'response': \"🚗💪 Elevate your automotive manufacturing game with #CORBlack! Engineered for superior impact resistance and durability, COR Black is the ultimate resin for high-performance, end-use automotive parts. #MakeItReal with polySpectra's rugged photopolymer resins. #3DPrinting #AutomotiveInnovation #AdditiveManufacturing\",\n",
       "  'rating': '3',\n",
       "  'feedback': 'this is ok. too many hashtags. just use #MakeItReal'},\n",
       " {'query': 'write a tweet about COR Black being used in automotive manufacturing',\n",
       "  'response': '🚗🔧 Dive into the future of automotive manufacturing with COR Black! Our rugged, impact-resistant photopolymer resin ensures every 3D printed component can withstand the toughest conditions. Make it real with polySpectra. 💪 #3DPrinting #AutomotiveInnovation #CORBlack #MakeItReal',\n",
       "  'rating': '3',\n",
       "  'feedback': 'Innovation is such a generic term. and \"dive into the future\" is kind of cheesy.'},\n",
       " {'query': 'write a tweet about COR Black being used in automotive manufacturing',\n",
       "  'response': '🚗✨ Exciting news! 🚀 COR Black is revolutionizing automotive manufacturing with its unparalleled impact resistance and durability. Say goodbye to brittle parts and hello to components that can withstand the toughest conditions. #3DPrinting #AutomotiveInnovation #MakeItReal #polySpectra',\n",
       "  'rating': '4',\n",
       "  'feedback': 'this is pretty good, except for the \"exciting news!\" part. and too many hashtags.'},\n",
       " {'query': 'write a tweet about COR Black being used in automotive manufacturing',\n",
       "  'response': '🚗 Accelerate your automotive manufacturing with COR Black! Engineered for exceptional impact resistance and durability, COR Black ensures your 3D printed components can withstand the toughest conditions. Drive innovation with the most rugged photopolymer resin on the market. #MakeItReal #3DPrinting #AutomotiveInnovation',\n",
       "  'rating': '4',\n",
       "  'feedback': 'the first sentence is good. only use #MakeItReal. stop saying \"innovation\".'}]"
      ]
     },
     "metadata": {},
     "output_type": "display_data"
    }
   ],
   "source": [
    "save = ratings_feedback\n",
    "display(save)\n",
    "import json\n",
    "\n",
    "with open('demo_ratings_feedback.json', 'w') as f:\n",
    "    json.dump(save, f)\n"
   ]
  },
  {
   "cell_type": "markdown",
   "metadata": {},
   "source": [
    "now we need to convert our feedback into a DSPy.example"
   ]
  },
  {
   "cell_type": "code",
   "execution_count": null,
   "metadata": {},
   "outputs": [],
   "source": [
    "# Append context to each item in ratings_feedback\n",
    "for item in ratings_feedback:\n",
    "    item['context'] = context\n",
    "    item['rating'] = str(item['rating'])\n",
    "\n",
    "#convert to a dspy.example\n",
    "from dspy import Example\n",
    "ratings_feedback_examples = [\n",
    "    Example(base=item).with_inputs('query','context') for item in ratings_feedback\n",
    "]\n",
    "#display(ratings_feedback_examples)"
   ]
  },
  {
   "cell_type": "markdown",
   "metadata": {},
   "source": [
    "let's try the bootstrapfewshot optimizer"
   ]
  },
  {
   "cell_type": "code",
   "execution_count": 118,
   "metadata": {},
   "outputs": [
    {
     "name": "stderr",
     "output_type": "stream",
     "text": [
      " 80%|████████  | 4/5 [00:00<00:00, 430.06it/s]"
     ]
    },
    {
     "name": "stdout",
     "output_type": "stream",
     "text": [
      "Bootstrapped 4 full traces after 5 examples in round 0.\n"
     ]
    },
    {
     "name": "stderr",
     "output_type": "stream",
     "text": [
      "\n"
     ]
    }
   ],
   "source": [
    "from dspy.teleprompt import BootstrapFewShot\n",
    "\n",
    "# def score(prediction, example, trace=None):\n",
    "#     score = str(float(example['rating']) / 5)\n",
    "#     print(score)\n",
    "#     return score\n",
    "\n",
    "compiled = BootstrapFewShot(\n",
    "    metric=lambda example, prediction, *args: str(float(example['rating'])/5),\n",
    "    max_labeled_demos=5,\n",
    ").compile(\n",
    "    student=BrandAmbassador(),\n",
    "    trainset=ratings_feedback_examples,\n",
    ")\n",
    "\n",
    "compiled.save('demo_compiled_first_try.json')"
   ]
  },
  {
   "cell_type": "markdown",
   "metadata": {},
   "source": [
    "test the bootstrapfewshot"
   ]
  },
  {
   "cell_type": "code",
   "execution_count": 120,
   "metadata": {},
   "outputs": [
    {
     "data": {
      "text/plain": [
       "['🚗💥 COR Black is revolutionizing automotive manufacturing! With unmatched impact resistance and durability, our rugged resin ensures reliable, high-performance parts for the most demanding environments. #MakeItReal #3DPrinting #AutomotiveInnovation #polySpectra',\n",
       " \"🚗💥 Drive innovation with polySpectra's COR Black! Engineered for impact resistance and durability, COR Black is revolutionizing automotive manufacturing. Make it real with the most rugged photopolymer resin on the market. #3DPrinting #Automotive #Innovation #MakeItReal #polySpectra\",\n",
       " '🚗🔧 COR Black is revolutionizing automotive manufacturing! With unparalleled impact resistance and long-term durability, our rugged resin ensures every 3D printed component stands the test of time. #MakeItReal #3DPrinting #AutomotiveInnovation #polySpectra',\n",
       " '🚗🔧 Excited to see COR Black revolutionizing automotive manufacturing! With unmatched impact resistance and durability, our rugged resin ensures every component stands up to the toughest conditions. Drive innovation with polySpectra. #3DPrinting #Automotive #CORBlack #MakeItReal',\n",
       " '🚗💪 Exciting to see #CORBlack making waves in automotive manufacturing! Our rugged, impact-resistant resin is driving innovation, ensuring components are stronger and more durable than ever. 🌟 #MakeItReal with polySpectra. #3DPrinting #AdditiveManufacturing #AutomotiveTech']"
      ]
     },
     "metadata": {},
     "output_type": "display_data"
    }
   ],
   "source": [
    "test5_now = compiled.forward(str(test5_query + \"_\"), context, num_generations=5)\n",
    "display(test5_now.response)"
   ]
  },
  {
   "cell_type": "markdown",
   "metadata": {},
   "source": [
    "these responses are ok...but not obviously better. let's inspect the history"
   ]
  },
  {
   "cell_type": "code",
   "execution_count": null,
   "metadata": {},
   "outputs": [],
   "source": [
    "llm.inspect_history(n=1)"
   ]
  },
  {
   "cell_type": "markdown",
   "metadata": {},
   "source": [
    "it looks like the prompt is getting flooded with the long context, what if we try replacing the context with a combination of:\n",
    "- a summary of the feedback\n",
    "- the executive summary\n",
    "\n",
    "note that both of these summaries are \"in the LM's own words\". this is important, don't judge the feedback summary directly, judge the results."
   ]
  },
  {
   "cell_type": "code",
   "execution_count": 130,
   "metadata": {},
   "outputs": [
    {
     "data": {
      "text/plain": [
       "['Thank you for the feedback on my past work as your brand ambassador. Here are my key takeaways and learnings:\\n\\n1. **Acknowledge Feedback**: I understand that the use of too many hashtags and generic terms like \"innovation\" were not well-received. Additionally, phrases like \"exciting news!\" and \"dive into the future\" were considered cheesy.\\n\\n2. **Key Learnings**: \\n   - **Hashtag Usage**: I need to limit the use of hashtags to only the most relevant ones, specifically #MakeItReal.\\n   - **Language Tone**: Avoid using overly generic terms and cheesy phrases. Instead, focus on clear, professional, and impactful language that aligns with polySpectra\\'s brand voice.\\n\\n3. **Improvements**:\\n   - **Hashtag Management**: I will ensure that only #MakeItReal is used in future tweets unless otherwise specified.\\n   - **Refined Language**: I will avoid generic terms and cheesy phrases, opting for more precise and professional language that highlights the unique strengths of polySpectra\\'s products.\\n\\n4. **Commitment to Excellence**: I am committed to incorporating this feedback into my future responses to strive for a 5-star rating. I will continuously review and refine my approach to ensure it aligns perfectly with polySpectra\\'s brand voice and standards.\\n\\nThank you for helping me improve. I look forward to delivering content that meets and exceeds your expectations. #MakeItReal']"
      ]
     },
     "metadata": {},
     "output_type": "display_data"
    }
   ],
   "source": [
    "ratings_feedback_str = \" \".join([str(item) for item in ratings_feedback])\n",
    "#print(ratings_feedback_str)\n",
    "\n",
    "feedback_summary = uncompiled(\"here is feedback on your past work as our brand ambassador. reply with your key takeaways and learnings. how will you make sure not to make the same mistakes again? you should be striving for a 5 star rating.\", ratings_feedback_str)\n",
    "display(feedback_summary.response)\n",
    "\n",
    "new_context = str(\"Here are your key takeways and notes on what a good response looks like:\\n\" + str(feedback_summary.response[0]) + \"\\n and here is an executive summary:\\n\" + exec_summary.response[0])\n",
    "\n",
    "#display(new_context)\n"
   ]
  },
  {
   "cell_type": "markdown",
   "metadata": {},
   "source": [
    "overwrite the context and make a new example set "
   ]
  },
  {
   "cell_type": "code",
   "execution_count": 131,
   "metadata": {},
   "outputs": [],
   "source": [
    "# overwrite the context to each item in ratings_feedback\n",
    "for item in ratings_feedback:\n",
    "    item['context'] = new_context\n",
    "    item['rating'] = str(item['rating'])\n",
    "\n",
    "from dspy import Example\n",
    "ratings_feedback_examples_new_context = [\n",
    "    Example(base=item).with_inputs('query','context') for item in ratings_feedback\n",
    "]\n",
    "#display(ratings_feedback_examples_new_context)"
   ]
  },
  {
   "cell_type": "markdown",
   "metadata": {},
   "source": [
    "recompile"
   ]
  },
  {
   "cell_type": "code",
   "execution_count": 132,
   "metadata": {},
   "outputs": [
    {
     "name": "stderr",
     "output_type": "stream",
     "text": [
      " 80%|████████  | 4/5 [00:02<00:00,  1.44it/s]"
     ]
    },
    {
     "name": "stdout",
     "output_type": "stream",
     "text": [
      "Bootstrapped 4 full traces after 5 examples in round 0.\n"
     ]
    },
    {
     "name": "stderr",
     "output_type": "stream",
     "text": [
      "\n"
     ]
    }
   ],
   "source": [
    "recompiled = BootstrapFewShot(\n",
    "    metric=lambda example, prediction, *args: str(float(example['rating'])/5),\n",
    "    max_labeled_demos=5,\n",
    ").compile(\n",
    "    student=BrandAmbassador(),\n",
    "    trainset=ratings_feedback_examples_new_context,\n",
    ")\n",
    "\n",
    "#maybe its even worth saving...\n",
    "recompiled.save(\"demo_recompiled_polySpectra_brand_ambassador.json\")\n"
   ]
  },
  {
   "cell_type": "code",
   "execution_count": 133,
   "metadata": {},
   "outputs": [
    {
     "data": {
      "text/plain": [
       "['🚗💥 COR Black is revolutionizing automotive manufacturing! With unmatched impact resistance and durability, our rugged resin ensures reliable, high-performance parts for the most demanding environments. #MakeItReal #3DPrinting #AutomotiveInnovation #polySpectra',\n",
       " \"🚗💥 Drive innovation with polySpectra's COR Black! Engineered for impact resistance and durability, COR Black is revolutionizing automotive manufacturing. Make it real with the most rugged photopolymer resin on the market. #3DPrinting #Automotive #Innovation #MakeItReal #polySpectra\",\n",
       " '🚗🔧 COR Black is revolutionizing automotive manufacturing! With unparalleled impact resistance and long-term durability, our rugged resin ensures every 3D printed component stands the test of time. #MakeItReal #3DPrinting #AutomotiveInnovation #polySpectra',\n",
       " '🚗🔧 Excited to see COR Black revolutionizing automotive manufacturing! With unmatched impact resistance and durability, our rugged resin ensures every component stands up to the toughest conditions. Drive innovation with polySpectra. #3DPrinting #Automotive #CORBlack #MakeItReal',\n",
       " '🚗💪 Exciting to see #CORBlack making waves in automotive manufacturing! Our rugged, impact-resistant resin is driving innovation, ensuring components are stronger and more durable than ever. 🌟 #MakeItReal with polySpectra. #3DPrinting #AdditiveManufacturing #AutomotiveTech']"
      ]
     },
     "metadata": {},
     "output_type": "display_data"
    }
   ],
   "source": [
    "test5_again = recompiled.forward(str(test5_query + \"_\"), context, num_generations=5) #i'm using this extra character to break the dspy cache. change it if the responses are cached.\n",
    "display(test5_again.response)"
   ]
  },
  {
   "cell_type": "markdown",
   "metadata": {},
   "source": [
    "this looks better. give it a try for your brand!\n",
    "\n",
    "some key takeaways: \n",
    "- yes, it is tedious to give AI feedback\n",
    "- it is very easy to make things worse with \"naive optimization\"\n",
    "- more is not always more\n",
    "- one of the key themes of mine-tuning (which is enabled by DSPy) is to get the LM to rephrase things \"in its own words\", while at the same time putting the human in charge of the feedback and the scoring metric. (vs letting the LM evaluate itself)\n",
    "\n",
    "next steps: \n",
    "- more examples\n",
    "- override the max tokens in bootstrapfewshot to stuff more shots into the prompt\n",
    "- fancier optimizers\n",
    "- fancier Predictors (not just CoT)\n",
    "- a module with multiple steps\n",
    "\n",
    "questions:\n",
    "- best practices for incorporating qualitative feedback in DSPy?\n",
    "  \n"
   ]
  }
 ],
 "metadata": {
  "kernelspec": {
   "display_name": "my-env310",
   "language": "python",
   "name": "python3"
  },
  "language_info": {
   "codemirror_mode": {
    "name": "ipython",
    "version": 3
   },
   "file_extension": ".py",
   "mimetype": "text/x-python",
   "name": "python",
   "nbconvert_exporter": "python",
   "pygments_lexer": "ipython3",
   "version": "3.10.0"
  }
 },
 "nbformat": 4,
 "nbformat_minor": 2
}
