{
 "cells": [
  {
   "cell_type": "markdown",
   "metadata": {},
   "source": [
    "mine-tune an AI program to respond using the \"brand voice\"."
   ]
  },
  {
   "cell_type": "code",
   "execution_count": 5,
   "metadata": {},
   "outputs": [
    {
     "name": "stdout",
     "output_type": "stream",
     "text": [
      "Requirement already satisfied: dspy in /Users/raymondweitekamp/.pyenv/versions/3.10.0/envs/my-env310/lib/python3.10/site-packages (0.1.5)\n",
      "Requirement already satisfied: dspy-ai==2.4.5 in /Users/raymondweitekamp/.pyenv/versions/3.10.0/envs/my-env310/lib/python3.10/site-packages (from dspy) (2.4.5)\n",
      "Requirement already satisfied: tqdm in /Users/raymondweitekamp/.pyenv/versions/3.10.0/envs/my-env310/lib/python3.10/site-packages (from dspy-ai==2.4.5->dspy) (4.66.2)\n",
      "Requirement already satisfied: datasets<3.0.0,~=2.14.6 in /Users/raymondweitekamp/.pyenv/versions/3.10.0/envs/my-env310/lib/python3.10/site-packages (from dspy-ai==2.4.5->dspy) (2.14.7)\n",
      "Requirement already satisfied: regex in /Users/raymondweitekamp/.pyenv/versions/3.10.0/envs/my-env310/lib/python3.10/site-packages (from dspy-ai==2.4.5->dspy) (2023.12.25)\n",
      "Requirement already satisfied: requests in /Users/raymondweitekamp/.pyenv/versions/3.10.0/envs/my-env310/lib/python3.10/site-packages (from dspy-ai==2.4.5->dspy) (2.31.0)\n",
      "Requirement already satisfied: optuna in /Users/raymondweitekamp/.pyenv/versions/3.10.0/envs/my-env310/lib/python3.10/site-packages (from dspy-ai==2.4.5->dspy) (3.6.1)\n",
      "Requirement already satisfied: openai<2.0.0,>=0.28.1 in /Users/raymondweitekamp/.pyenv/versions/3.10.0/envs/my-env310/lib/python3.10/site-packages (from dspy-ai==2.4.5->dspy) (1.13.3)\n",
      "Requirement already satisfied: pydantic==2.5.0 in /Users/raymondweitekamp/.pyenv/versions/3.10.0/envs/my-env310/lib/python3.10/site-packages (from dspy-ai==2.4.5->dspy) (2.5.0)\n",
      "Requirement already satisfied: backoff~=2.2.1 in /Users/raymondweitekamp/.pyenv/versions/3.10.0/envs/my-env310/lib/python3.10/site-packages (from dspy-ai==2.4.5->dspy) (2.2.1)\n",
      "Requirement already satisfied: ujson in /Users/raymondweitekamp/.pyenv/versions/3.10.0/envs/my-env310/lib/python3.10/site-packages (from dspy-ai==2.4.5->dspy) (5.9.0)\n",
      "Requirement already satisfied: joblib~=1.3.2 in /Users/raymondweitekamp/.pyenv/versions/3.10.0/envs/my-env310/lib/python3.10/site-packages (from dspy-ai==2.4.5->dspy) (1.3.2)\n",
      "Requirement already satisfied: pandas in /Users/raymondweitekamp/.pyenv/versions/3.10.0/envs/my-env310/lib/python3.10/site-packages (from dspy-ai==2.4.5->dspy) (2.2.1)\n",
      "Requirement already satisfied: pydantic-core==2.14.1 in /Users/raymondweitekamp/.pyenv/versions/3.10.0/envs/my-env310/lib/python3.10/site-packages (from pydantic==2.5.0->dspy-ai==2.4.5->dspy) (2.14.1)\n",
      "Requirement already satisfied: typing-extensions>=4.6.1 in /Users/raymondweitekamp/.pyenv/versions/3.10.0/envs/my-env310/lib/python3.10/site-packages (from pydantic==2.5.0->dspy-ai==2.4.5->dspy) (4.10.0)\n",
      "Requirement already satisfied: annotated-types>=0.4.0 in /Users/raymondweitekamp/.pyenv/versions/3.10.0/envs/my-env310/lib/python3.10/site-packages (from pydantic==2.5.0->dspy-ai==2.4.5->dspy) (0.6.0)\n",
      "Requirement already satisfied: pyyaml>=5.1 in /Users/raymondweitekamp/.pyenv/versions/3.10.0/envs/my-env310/lib/python3.10/site-packages (from datasets<3.0.0,~=2.14.6->dspy-ai==2.4.5->dspy) (6.0.1)\n",
      "Requirement already satisfied: numpy>=1.17 in /Users/raymondweitekamp/.pyenv/versions/3.10.0/envs/my-env310/lib/python3.10/site-packages (from datasets<3.0.0,~=2.14.6->dspy-ai==2.4.5->dspy) (1.26.4)\n",
      "Requirement already satisfied: pyarrow>=8.0.0 in /Users/raymondweitekamp/.pyenv/versions/3.10.0/envs/my-env310/lib/python3.10/site-packages (from datasets<3.0.0,~=2.14.6->dspy-ai==2.4.5->dspy) (16.0.0)\n",
      "Requirement already satisfied: multiprocess in /Users/raymondweitekamp/.pyenv/versions/3.10.0/envs/my-env310/lib/python3.10/site-packages (from datasets<3.0.0,~=2.14.6->dspy-ai==2.4.5->dspy) (0.70.15)\n",
      "Requirement already satisfied: packaging in /Users/raymondweitekamp/.pyenv/versions/3.10.0/envs/my-env310/lib/python3.10/site-packages (from datasets<3.0.0,~=2.14.6->dspy-ai==2.4.5->dspy) (23.2)\n",
      "Requirement already satisfied: pyarrow-hotfix in /Users/raymondweitekamp/.pyenv/versions/3.10.0/envs/my-env310/lib/python3.10/site-packages (from datasets<3.0.0,~=2.14.6->dspy-ai==2.4.5->dspy) (0.6)\n",
      "Requirement already satisfied: huggingface-hub<1.0.0,>=0.14.0 in /Users/raymondweitekamp/.pyenv/versions/3.10.0/envs/my-env310/lib/python3.10/site-packages (from datasets<3.0.0,~=2.14.6->dspy-ai==2.4.5->dspy) (0.21.3)\n",
      "Requirement already satisfied: fsspec[http]<=2023.10.0,>=2023.1.0 in /Users/raymondweitekamp/.pyenv/versions/3.10.0/envs/my-env310/lib/python3.10/site-packages (from datasets<3.0.0,~=2.14.6->dspy-ai==2.4.5->dspy) (2023.10.0)\n",
      "Requirement already satisfied: dill<0.3.8,>=0.3.0 in /Users/raymondweitekamp/.pyenv/versions/3.10.0/envs/my-env310/lib/python3.10/site-packages (from datasets<3.0.0,~=2.14.6->dspy-ai==2.4.5->dspy) (0.3.7)\n",
      "Requirement already satisfied: aiohttp in /Users/raymondweitekamp/.pyenv/versions/3.10.0/envs/my-env310/lib/python3.10/site-packages (from datasets<3.0.0,~=2.14.6->dspy-ai==2.4.5->dspy) (3.9.3)\n",
      "Requirement already satisfied: xxhash in /Users/raymondweitekamp/.pyenv/versions/3.10.0/envs/my-env310/lib/python3.10/site-packages (from datasets<3.0.0,~=2.14.6->dspy-ai==2.4.5->dspy) (3.4.1)\n",
      "Requirement already satisfied: frozenlist>=1.1.1 in /Users/raymondweitekamp/.pyenv/versions/3.10.0/envs/my-env310/lib/python3.10/site-packages (from aiohttp->datasets<3.0.0,~=2.14.6->dspy-ai==2.4.5->dspy) (1.4.1)\n",
      "Requirement already satisfied: aiosignal>=1.1.2 in /Users/raymondweitekamp/.pyenv/versions/3.10.0/envs/my-env310/lib/python3.10/site-packages (from aiohttp->datasets<3.0.0,~=2.14.6->dspy-ai==2.4.5->dspy) (1.3.1)\n",
      "Requirement already satisfied: multidict<7.0,>=4.5 in /Users/raymondweitekamp/.pyenv/versions/3.10.0/envs/my-env310/lib/python3.10/site-packages (from aiohttp->datasets<3.0.0,~=2.14.6->dspy-ai==2.4.5->dspy) (6.0.5)\n",
      "Requirement already satisfied: yarl<2.0,>=1.0 in /Users/raymondweitekamp/.pyenv/versions/3.10.0/envs/my-env310/lib/python3.10/site-packages (from aiohttp->datasets<3.0.0,~=2.14.6->dspy-ai==2.4.5->dspy) (1.9.4)\n",
      "Requirement already satisfied: async-timeout<5.0,>=4.0 in /Users/raymondweitekamp/.pyenv/versions/3.10.0/envs/my-env310/lib/python3.10/site-packages (from aiohttp->datasets<3.0.0,~=2.14.6->dspy-ai==2.4.5->dspy) (4.0.3)\n",
      "Requirement already satisfied: attrs>=17.3.0 in /Users/raymondweitekamp/.pyenv/versions/3.10.0/envs/my-env310/lib/python3.10/site-packages (from aiohttp->datasets<3.0.0,~=2.14.6->dspy-ai==2.4.5->dspy) (23.2.0)\n",
      "Requirement already satisfied: filelock in /Users/raymondweitekamp/.pyenv/versions/3.10.0/envs/my-env310/lib/python3.10/site-packages (from huggingface-hub<1.0.0,>=0.14.0->datasets<3.0.0,~=2.14.6->dspy-ai==2.4.5->dspy) (3.13.1)\n",
      "Requirement already satisfied: sniffio in /Users/raymondweitekamp/.pyenv/versions/3.10.0/envs/my-env310/lib/python3.10/site-packages (from openai<2.0.0,>=0.28.1->dspy-ai==2.4.5->dspy) (1.3.1)\n",
      "Requirement already satisfied: httpx<1,>=0.23.0 in /Users/raymondweitekamp/.pyenv/versions/3.10.0/envs/my-env310/lib/python3.10/site-packages (from openai<2.0.0,>=0.28.1->dspy-ai==2.4.5->dspy) (0.27.0)\n",
      "Requirement already satisfied: anyio<5,>=3.5.0 in /Users/raymondweitekamp/.pyenv/versions/3.10.0/envs/my-env310/lib/python3.10/site-packages (from openai<2.0.0,>=0.28.1->dspy-ai==2.4.5->dspy) (4.3.0)\n",
      "Requirement already satisfied: distro<2,>=1.7.0 in /Users/raymondweitekamp/.pyenv/versions/3.10.0/envs/my-env310/lib/python3.10/site-packages (from openai<2.0.0,>=0.28.1->dspy-ai==2.4.5->dspy) (1.9.0)\n",
      "Requirement already satisfied: exceptiongroup>=1.0.2 in /Users/raymondweitekamp/.pyenv/versions/3.10.0/envs/my-env310/lib/python3.10/site-packages (from anyio<5,>=3.5.0->openai<2.0.0,>=0.28.1->dspy-ai==2.4.5->dspy) (1.2.0)\n",
      "Requirement already satisfied: idna>=2.8 in /Users/raymondweitekamp/.pyenv/versions/3.10.0/envs/my-env310/lib/python3.10/site-packages (from anyio<5,>=3.5.0->openai<2.0.0,>=0.28.1->dspy-ai==2.4.5->dspy) (3.6)\n",
      "Requirement already satisfied: certifi in /Users/raymondweitekamp/.pyenv/versions/3.10.0/envs/my-env310/lib/python3.10/site-packages (from httpx<1,>=0.23.0->openai<2.0.0,>=0.28.1->dspy-ai==2.4.5->dspy) (2024.2.2)\n",
      "Requirement already satisfied: httpcore==1.* in /Users/raymondweitekamp/.pyenv/versions/3.10.0/envs/my-env310/lib/python3.10/site-packages (from httpx<1,>=0.23.0->openai<2.0.0,>=0.28.1->dspy-ai==2.4.5->dspy) (1.0.4)\n",
      "Requirement already satisfied: h11<0.15,>=0.13 in /Users/raymondweitekamp/.pyenv/versions/3.10.0/envs/my-env310/lib/python3.10/site-packages (from httpcore==1.*->httpx<1,>=0.23.0->openai<2.0.0,>=0.28.1->dspy-ai==2.4.5->dspy) (0.14.0)\n",
      "Requirement already satisfied: urllib3<3,>=1.21.1 in /Users/raymondweitekamp/.pyenv/versions/3.10.0/envs/my-env310/lib/python3.10/site-packages (from requests->dspy-ai==2.4.5->dspy) (2.2.1)\n",
      "Requirement already satisfied: charset-normalizer<4,>=2 in /Users/raymondweitekamp/.pyenv/versions/3.10.0/envs/my-env310/lib/python3.10/site-packages (from requests->dspy-ai==2.4.5->dspy) (3.3.2)\n",
      "Requirement already satisfied: sqlalchemy>=1.3.0 in /Users/raymondweitekamp/.pyenv/versions/3.10.0/envs/my-env310/lib/python3.10/site-packages (from optuna->dspy-ai==2.4.5->dspy) (2.0.28)\n",
      "Requirement already satisfied: colorlog in /Users/raymondweitekamp/.pyenv/versions/3.10.0/envs/my-env310/lib/python3.10/site-packages (from optuna->dspy-ai==2.4.5->dspy) (6.8.2)\n",
      "Requirement already satisfied: alembic>=1.5.0 in /Users/raymondweitekamp/.pyenv/versions/3.10.0/envs/my-env310/lib/python3.10/site-packages (from optuna->dspy-ai==2.4.5->dspy) (1.13.1)\n",
      "Requirement already satisfied: Mako in /Users/raymondweitekamp/.pyenv/versions/3.10.0/envs/my-env310/lib/python3.10/site-packages (from alembic>=1.5.0->optuna->dspy-ai==2.4.5->dspy) (1.3.3)\n",
      "Requirement already satisfied: MarkupSafe>=0.9.2 in /Users/raymondweitekamp/.pyenv/versions/3.10.0/envs/my-env310/lib/python3.10/site-packages (from Mako->alembic>=1.5.0->optuna->dspy-ai==2.4.5->dspy) (2.1.5)\n",
      "Requirement already satisfied: pytz>=2020.1 in /Users/raymondweitekamp/.pyenv/versions/3.10.0/envs/my-env310/lib/python3.10/site-packages (from pandas->dspy-ai==2.4.5->dspy) (2024.1)\n",
      "Requirement already satisfied: python-dateutil>=2.8.2 in /Users/raymondweitekamp/.pyenv/versions/3.10.0/envs/my-env310/lib/python3.10/site-packages (from pandas->dspy-ai==2.4.5->dspy) (2.9.0.post0)\n",
      "Requirement already satisfied: tzdata>=2022.7 in /Users/raymondweitekamp/.pyenv/versions/3.10.0/envs/my-env310/lib/python3.10/site-packages (from pandas->dspy-ai==2.4.5->dspy) (2024.1)\n",
      "Requirement already satisfied: six>=1.5 in /Users/raymondweitekamp/.pyenv/versions/3.10.0/envs/my-env310/lib/python3.10/site-packages (from python-dateutil>=2.8.2->pandas->dspy-ai==2.4.5->dspy) (1.16.0)\n",
      "\u001b[33mWARNING: You are using pip version 21.2.3; however, version 24.0 is available.\n",
      "You should consider upgrading via the '/Users/raymondweitekamp/.pyenv/versions/3.10.0/envs/my-env310/bin/python -m pip install --upgrade pip' command.\u001b[0m\n",
      "Note: you may need to restart the kernel to use updated packages.\n",
      "Requirement already satisfied: ipywidgets in /Users/raymondweitekamp/.pyenv/versions/3.10.0/envs/my-env310/lib/python3.10/site-packages (8.1.2)\n",
      "Requirement already satisfied: widgetsnbextension~=4.0.10 in /Users/raymondweitekamp/.pyenv/versions/3.10.0/envs/my-env310/lib/python3.10/site-packages (from ipywidgets) (4.0.10)\n",
      "Requirement already satisfied: traitlets>=4.3.1 in /Users/raymondweitekamp/.pyenv/versions/3.10.0/envs/my-env310/lib/python3.10/site-packages (from ipywidgets) (5.14.3)\n",
      "Requirement already satisfied: ipython>=6.1.0 in /Users/raymondweitekamp/.pyenv/versions/3.10.0/envs/my-env310/lib/python3.10/site-packages (from ipywidgets) (8.24.0)\n",
      "Requirement already satisfied: jupyterlab-widgets~=3.0.10 in /Users/raymondweitekamp/.pyenv/versions/3.10.0/envs/my-env310/lib/python3.10/site-packages (from ipywidgets) (3.0.10)\n",
      "Requirement already satisfied: comm>=0.1.3 in /Users/raymondweitekamp/.pyenv/versions/3.10.0/envs/my-env310/lib/python3.10/site-packages (from ipywidgets) (0.2.2)\n",
      "Requirement already satisfied: prompt-toolkit<3.1.0,>=3.0.41 in /Users/raymondweitekamp/.pyenv/versions/3.10.0/envs/my-env310/lib/python3.10/site-packages (from ipython>=6.1.0->ipywidgets) (3.0.43)\n",
      "Requirement already satisfied: stack-data in /Users/raymondweitekamp/.pyenv/versions/3.10.0/envs/my-env310/lib/python3.10/site-packages (from ipython>=6.1.0->ipywidgets) (0.6.3)\n",
      "Requirement already satisfied: pexpect>4.3 in /Users/raymondweitekamp/.pyenv/versions/3.10.0/envs/my-env310/lib/python3.10/site-packages (from ipython>=6.1.0->ipywidgets) (4.9.0)\n",
      "Requirement already satisfied: exceptiongroup in /Users/raymondweitekamp/.pyenv/versions/3.10.0/envs/my-env310/lib/python3.10/site-packages (from ipython>=6.1.0->ipywidgets) (1.2.0)\n",
      "Requirement already satisfied: pygments>=2.4.0 in /Users/raymondweitekamp/.pyenv/versions/3.10.0/envs/my-env310/lib/python3.10/site-packages (from ipython>=6.1.0->ipywidgets) (2.17.2)\n",
      "Requirement already satisfied: jedi>=0.16 in /Users/raymondweitekamp/.pyenv/versions/3.10.0/envs/my-env310/lib/python3.10/site-packages (from ipython>=6.1.0->ipywidgets) (0.19.1)\n",
      "Requirement already satisfied: typing-extensions>=4.6 in /Users/raymondweitekamp/.pyenv/versions/3.10.0/envs/my-env310/lib/python3.10/site-packages (from ipython>=6.1.0->ipywidgets) (4.10.0)\n",
      "Requirement already satisfied: matplotlib-inline in /Users/raymondweitekamp/.pyenv/versions/3.10.0/envs/my-env310/lib/python3.10/site-packages (from ipython>=6.1.0->ipywidgets) (0.1.7)\n",
      "Requirement already satisfied: decorator in /Users/raymondweitekamp/.pyenv/versions/3.10.0/envs/my-env310/lib/python3.10/site-packages (from ipython>=6.1.0->ipywidgets) (5.1.1)\n",
      "Requirement already satisfied: parso<0.9.0,>=0.8.3 in /Users/raymondweitekamp/.pyenv/versions/3.10.0/envs/my-env310/lib/python3.10/site-packages (from jedi>=0.16->ipython>=6.1.0->ipywidgets) (0.8.4)\n",
      "Requirement already satisfied: ptyprocess>=0.5 in /Users/raymondweitekamp/.pyenv/versions/3.10.0/envs/my-env310/lib/python3.10/site-packages (from pexpect>4.3->ipython>=6.1.0->ipywidgets) (0.7.0)\n",
      "Requirement already satisfied: wcwidth in /Users/raymondweitekamp/.pyenv/versions/3.10.0/envs/my-env310/lib/python3.10/site-packages (from prompt-toolkit<3.1.0,>=3.0.41->ipython>=6.1.0->ipywidgets) (0.2.13)\n",
      "Requirement already satisfied: executing>=1.2.0 in /Users/raymondweitekamp/.pyenv/versions/3.10.0/envs/my-env310/lib/python3.10/site-packages (from stack-data->ipython>=6.1.0->ipywidgets) (2.0.1)\n",
      "Requirement already satisfied: asttokens>=2.1.0 in /Users/raymondweitekamp/.pyenv/versions/3.10.0/envs/my-env310/lib/python3.10/site-packages (from stack-data->ipython>=6.1.0->ipywidgets) (2.4.1)\n",
      "Requirement already satisfied: pure-eval in /Users/raymondweitekamp/.pyenv/versions/3.10.0/envs/my-env310/lib/python3.10/site-packages (from stack-data->ipython>=6.1.0->ipywidgets) (0.2.2)\n",
      "Requirement already satisfied: six>=1.12.0 in /Users/raymondweitekamp/.pyenv/versions/3.10.0/envs/my-env310/lib/python3.10/site-packages (from asttokens>=2.1.0->stack-data->ipython>=6.1.0->ipywidgets) (1.16.0)\n",
      "\u001b[33mWARNING: You are using pip version 21.2.3; however, version 24.0 is available.\n",
      "You should consider upgrading via the '/Users/raymondweitekamp/.pyenv/versions/3.10.0/envs/my-env310/bin/python -m pip install --upgrade pip' command.\u001b[0m\n",
      "Note: you may need to restart the kernel to use updated packages.\n",
      "Requirement already satisfied: IPython in /Users/raymondweitekamp/.pyenv/versions/3.10.0/envs/my-env310/lib/python3.10/site-packages (8.24.0)\n",
      "Requirement already satisfied: traitlets>=5.13.0 in /Users/raymondweitekamp/.pyenv/versions/3.10.0/envs/my-env310/lib/python3.10/site-packages (from IPython) (5.14.3)\n",
      "Requirement already satisfied: exceptiongroup in /Users/raymondweitekamp/.pyenv/versions/3.10.0/envs/my-env310/lib/python3.10/site-packages (from IPython) (1.2.0)\n",
      "Requirement already satisfied: jedi>=0.16 in /Users/raymondweitekamp/.pyenv/versions/3.10.0/envs/my-env310/lib/python3.10/site-packages (from IPython) (0.19.1)\n",
      "Requirement already satisfied: stack-data in /Users/raymondweitekamp/.pyenv/versions/3.10.0/envs/my-env310/lib/python3.10/site-packages (from IPython) (0.6.3)\n",
      "Requirement already satisfied: decorator in /Users/raymondweitekamp/.pyenv/versions/3.10.0/envs/my-env310/lib/python3.10/site-packages (from IPython) (5.1.1)\n",
      "Requirement already satisfied: pexpect>4.3 in /Users/raymondweitekamp/.pyenv/versions/3.10.0/envs/my-env310/lib/python3.10/site-packages (from IPython) (4.9.0)\n",
      "Requirement already satisfied: pygments>=2.4.0 in /Users/raymondweitekamp/.pyenv/versions/3.10.0/envs/my-env310/lib/python3.10/site-packages (from IPython) (2.17.2)\n",
      "Requirement already satisfied: typing-extensions>=4.6 in /Users/raymondweitekamp/.pyenv/versions/3.10.0/envs/my-env310/lib/python3.10/site-packages (from IPython) (4.10.0)\n",
      "Requirement already satisfied: prompt-toolkit<3.1.0,>=3.0.41 in /Users/raymondweitekamp/.pyenv/versions/3.10.0/envs/my-env310/lib/python3.10/site-packages (from IPython) (3.0.43)\n",
      "Requirement already satisfied: matplotlib-inline in /Users/raymondweitekamp/.pyenv/versions/3.10.0/envs/my-env310/lib/python3.10/site-packages (from IPython) (0.1.7)\n",
      "Requirement already satisfied: parso<0.9.0,>=0.8.3 in /Users/raymondweitekamp/.pyenv/versions/3.10.0/envs/my-env310/lib/python3.10/site-packages (from jedi>=0.16->IPython) (0.8.4)\n",
      "Requirement already satisfied: ptyprocess>=0.5 in /Users/raymondweitekamp/.pyenv/versions/3.10.0/envs/my-env310/lib/python3.10/site-packages (from pexpect>4.3->IPython) (0.7.0)\n",
      "Requirement already satisfied: wcwidth in /Users/raymondweitekamp/.pyenv/versions/3.10.0/envs/my-env310/lib/python3.10/site-packages (from prompt-toolkit<3.1.0,>=3.0.41->IPython) (0.2.13)\n",
      "Requirement already satisfied: asttokens>=2.1.0 in /Users/raymondweitekamp/.pyenv/versions/3.10.0/envs/my-env310/lib/python3.10/site-packages (from stack-data->IPython) (2.4.1)\n",
      "Requirement already satisfied: pure-eval in /Users/raymondweitekamp/.pyenv/versions/3.10.0/envs/my-env310/lib/python3.10/site-packages (from stack-data->IPython) (0.2.2)\n",
      "Requirement already satisfied: executing>=1.2.0 in /Users/raymondweitekamp/.pyenv/versions/3.10.0/envs/my-env310/lib/python3.10/site-packages (from stack-data->IPython) (2.0.1)\n",
      "Requirement already satisfied: six>=1.12.0 in /Users/raymondweitekamp/.pyenv/versions/3.10.0/envs/my-env310/lib/python3.10/site-packages (from asttokens>=2.1.0->stack-data->IPython) (1.16.0)\n",
      "\u001b[33mWARNING: You are using pip version 21.2.3; however, version 24.0 is available.\n",
      "You should consider upgrading via the '/Users/raymondweitekamp/.pyenv/versions/3.10.0/envs/my-env310/bin/python -m pip install --upgrade pip' command.\u001b[0m\n",
      "Note: you may need to restart the kernel to use updated packages.\n",
      "Requirement already satisfied: requests in /Users/raymondweitekamp/.pyenv/versions/3.10.0/envs/my-env310/lib/python3.10/site-packages (2.31.0)\n",
      "Requirement already satisfied: urllib3<3,>=1.21.1 in /Users/raymondweitekamp/.pyenv/versions/3.10.0/envs/my-env310/lib/python3.10/site-packages (from requests) (2.2.1)\n",
      "Requirement already satisfied: charset-normalizer<4,>=2 in /Users/raymondweitekamp/.pyenv/versions/3.10.0/envs/my-env310/lib/python3.10/site-packages (from requests) (3.3.2)\n",
      "Requirement already satisfied: certifi>=2017.4.17 in /Users/raymondweitekamp/.pyenv/versions/3.10.0/envs/my-env310/lib/python3.10/site-packages (from requests) (2024.2.2)\n",
      "Requirement already satisfied: idna<4,>=2.5 in /Users/raymondweitekamp/.pyenv/versions/3.10.0/envs/my-env310/lib/python3.10/site-packages (from requests) (3.6)\n",
      "\u001b[33mWARNING: You are using pip version 21.2.3; however, version 24.0 is available.\n",
      "You should consider upgrading via the '/Users/raymondweitekamp/.pyenv/versions/3.10.0/envs/my-env310/bin/python -m pip install --upgrade pip' command.\u001b[0m\n",
      "Note: you may need to restart the kernel to use updated packages.\n",
      "Requirement already satisfied: firecrawl-py in /Users/raymondweitekamp/.pyenv/versions/3.10.0/envs/my-env310/lib/python3.10/site-packages (0.0.9)\n",
      "Requirement already satisfied: requests in /Users/raymondweitekamp/.pyenv/versions/3.10.0/envs/my-env310/lib/python3.10/site-packages (from firecrawl-py) (2.31.0)\n",
      "Requirement already satisfied: certifi>=2017.4.17 in /Users/raymondweitekamp/.pyenv/versions/3.10.0/envs/my-env310/lib/python3.10/site-packages (from requests->firecrawl-py) (2024.2.2)\n",
      "Requirement already satisfied: idna<4,>=2.5 in /Users/raymondweitekamp/.pyenv/versions/3.10.0/envs/my-env310/lib/python3.10/site-packages (from requests->firecrawl-py) (3.6)\n",
      "Requirement already satisfied: urllib3<3,>=1.21.1 in /Users/raymondweitekamp/.pyenv/versions/3.10.0/envs/my-env310/lib/python3.10/site-packages (from requests->firecrawl-py) (2.2.1)\n",
      "Requirement already satisfied: charset-normalizer<4,>=2 in /Users/raymondweitekamp/.pyenv/versions/3.10.0/envs/my-env310/lib/python3.10/site-packages (from requests->firecrawl-py) (3.3.2)\n",
      "\u001b[33mWARNING: You are using pip version 21.2.3; however, version 24.0 is available.\n",
      "You should consider upgrading via the '/Users/raymondweitekamp/.pyenv/versions/3.10.0/envs/my-env310/bin/python -m pip install --upgrade pip' command.\u001b[0m\n",
      "Note: you may need to restart the kernel to use updated packages.\n",
      "Requirement already satisfied: beautifulsoup4 in /Users/raymondweitekamp/.pyenv/versions/3.10.0/envs/my-env310/lib/python3.10/site-packages (4.12.3)\n",
      "Requirement already satisfied: soupsieve>1.2 in /Users/raymondweitekamp/.pyenv/versions/3.10.0/envs/my-env310/lib/python3.10/site-packages (from beautifulsoup4) (2.5)\n",
      "\u001b[33mWARNING: You are using pip version 21.2.3; however, version 24.0 is available.\n",
      "You should consider upgrading via the '/Users/raymondweitekamp/.pyenv/versions/3.10.0/envs/my-env310/bin/python -m pip install --upgrade pip' command.\u001b[0m\n",
      "Note: you may need to restart the kernel to use updated packages.\n",
      "Collecting markdownify\n",
      "  Downloading markdownify-0.12.1-py3-none-any.whl (16 kB)\n",
      "Requirement already satisfied: beautifulsoup4<5,>=4.9 in /Users/raymondweitekamp/.pyenv/versions/3.10.0/envs/my-env310/lib/python3.10/site-packages (from markdownify) (4.12.3)\n",
      "Requirement already satisfied: six<2,>=1.15 in /Users/raymondweitekamp/.pyenv/versions/3.10.0/envs/my-env310/lib/python3.10/site-packages (from markdownify) (1.16.0)\n",
      "Requirement already satisfied: soupsieve>1.2 in /Users/raymondweitekamp/.pyenv/versions/3.10.0/envs/my-env310/lib/python3.10/site-packages (from beautifulsoup4<5,>=4.9->markdownify) (2.5)\n",
      "Installing collected packages: markdownify\n",
      "Successfully installed markdownify-0.12.1\n",
      "\u001b[33mWARNING: You are using pip version 21.2.3; however, version 24.0 is available.\n",
      "You should consider upgrading via the '/Users/raymondweitekamp/.pyenv/versions/3.10.0/envs/my-env310/bin/python -m pip install --upgrade pip' command.\u001b[0m\n",
      "Note: you may need to restart the kernel to use updated packages.\n"
     ]
    }
   ],
   "source": [
    "%pip install dspy\n",
    "%pip install ipywidgets\n",
    "%pip install IPython\n",
    "%pip install requests\n",
    "%pip install firecrawl-py\n",
    "%pip install beautifulsoup4\n",
    "%pip install markdownify\n",
    "\n"
   ]
  },
  {
   "cell_type": "code",
   "execution_count": 7,
   "metadata": {},
   "outputs": [],
   "source": [
    "import dspy\n",
    "import os\n",
    "import dotenv\n",
    "import pydantic\n",
    "\n",
    "dotenv.load_dotenv()\n",
    "assert 'OPENAI_API_KEY' in os.environ\n",
    "llm = dspy.OpenAI(model='gpt-4o', max_tokens=4096, temperature=0.1)\n",
    "dspy.settings.configure(lm=llm)"
   ]
  },
  {
   "cell_type": "markdown",
   "metadata": {},
   "source": [
    "set a URL directly or via input prompt"
   ]
  },
  {
   "cell_type": "code",
   "execution_count": 8,
   "metadata": {},
   "outputs": [],
   "source": [
    "url = 'https://polyspectra.com'\n",
    "#url = input(\"Enter a URL: \") "
   ]
  },
  {
   "cell_type": "markdown",
   "metadata": {},
   "source": [
    "preferred use firecrawl to get content more reliably. sign up at https://www.firecrawl.dev/ and put your API key in .env or directly below"
   ]
  },
  {
   "cell_type": "code",
   "execution_count": 10,
   "metadata": {},
   "outputs": [
    {
     "data": {
      "text/plain": [
       "{'content': '[polySpectra turns seven! Let’s celebrate.](https://polyspectra.com/blog/polyspectra-turns-seven)\\n\\n[![polySpectra | Make it real. | The strongest resin for 3D printing](https://polyspectra.com/images/logo_hu2f53e225e5f62e17c67df107ccbafcf3_3012_113x0_resize_box.png)](/)\\n\\n*   [COR Alpha](/alpha/)\\n    \\n*   [COR Black](/black/)\\n    \\n*   [COR Bio](/bio/)\\n    \\n*   [Docs](https://docs.polyspectra.com/)\\n    \\n*   [Shop](https://shop.polyspectra.com/)\\n    \\n\\nSearch...\\n\\nCTRLK\\n\\n[Start Here](/start-here)\\n\\nMake It Real.\\n\\nRugged Resins For Industrial Additive Manufacturing\\n===================================================\\n\\nWe help innovative engineers 3D print end-use components that they can trust, using the world’s most rugged photopolymer resins.\\n\\n[Start Here](/start-here)\\n Feel the Strength\\n\\n![COR Alpha crushes the competition](https://polyspectra.com/images/COR-Alpha-Blender-450comp.webp)\\n\\n![Clients Image](https://polyspectra.com/images/trustedby/nasa.png)\\n\\n![Clients Image](https://polyspectra.com/images/trustedby/ssys.png)\\n\\n![Clients Image](https://polyspectra.com/images/trustedby/dayco.png)\\n\\n![Clients Image](https://polyspectra.com/images/trustedby/cerakote.png)\\n\\nCyclic Olefin Resins are…\\n-------------------------\\n\\n![Clients Image](https://polyspectra.com/images/COR-Alpha-BendBar_400.webp)\\n\\nStrong & Durable\\n\\n![Clients Image](https://polyspectra.com/images/COR-Black-Impact_400.webp)\\n\\nImpact Resistant\\n\\n![Clients Image](https://polyspectra.com/images/COR-Bio-Boil_400.webp)\\n\\nHeat/Fluid Resistant\\n\\n#### Discover the 5 Pitfalls to Additive Manufacturing (And The Solutions Every Engineer Needs To Know)\\n\\nAvoid the Pitfalls\\n\\nHow COR Works\\n\\nPrinting Rugged Resin in 3 Steps\\n--------------------------------\\n\\nCyclic Olefin Resin (COR) photopolymers feature best-in-class thermomechanical performance, chemical resistance, long-term durability, and impact strength.  \\n**You choose the printer, we’ll help you make it real.**\\n\\n![how it works image](https://polyspectra.com/images/how-it-works/COR-Alpha-Printing-Lattices.webp)\\n\\n01\\n\\n### Step 1: Print\\n\\nCOR photopolymers are compatible with a wide array of industrial and desktop DLP & LCD resin 3D printers. You choose the printer that meets your requirements. COR will dramatically increase your ROI.\\n\\n[Get Started](/start-here)\\n\\n![how it works image](https://polyspectra.com/images/how-it-works/supaRinse-animation.webp)\\n\\n02\\n\\n### Step 2: Rinse\\n\\nCompared to most photopolymers, COR is incredibly easy to clean, due to its extremely low viscosity. polySpectra’s supaRinse cleaning fluid is a safe and reliable solution for washing away uncured COR.\\n\\n[Try It Today](/start-here)\\n\\n![how it works image](https://polyspectra.com/images/how-it-works/waveCure-animation.webp)\\n\\n03\\n\\n### Step 3: Bake\\n\\nCyclic Olefin Resins have incredibly high working temperatures, requiring a thermal post-cure. polySpectra waveCure is a proprietary heat transfer fluid that can fully cure COR parts in a consumer microwave, in just a few minutes!\\n\\n[Make it Real](/start-here)\\n\\nAvailable for leading printers at every price point, including…\\n---------------------------------------------------------------\\n\\n![Partners Image](https://polyspectra.com/images/partners/ssys.png)\\n\\n![Partners Image](https://polyspectra.com/images/partners/asiga.png)\\n\\n![Partners Image](https://polyspectra.com/images/partners/Nexa3D.png)\\n\\n![Partners Image](https://polyspectra.com/images/partners/anycubic.webp)\\n\\nThe Most Rugged Photopolymer Resins On The Market\\n-------------------------------------------------\\n\\nFrustrated with brittle 3D printed prototypes, we use Nobel-winning chemistry to deliver the most rugged resins on the market.\\n\\n[Learn more about COR Alpha](/alpha/)\\n\\n![video thumbnail](https://polyspectra.com/images/about-video-thumb_huc5e53593075216a43859008c46bf21c1_426198_8df0f718d9bb76fec9ce4a69aceb0fac.webp)\\n\\nFeatured by…\\n------------\\n\\n![Clients Image](https://polyspectra.com/images/featured/netflix.png)\\n\\n![Clients Image](https://polyspectra.com/images/featured/forbes.png)\\n\\n![Clients Image](https://polyspectra.com/images/featured/cen.png)\\n\\n![Clients Image](https://polyspectra.com/images/featured/engineeringcom.png)\\n\\n![Clients Image](https://polyspectra.com/images/featured/tct.png)\\n\\n![Clients Image](https://polyspectra.com/images/featured/sme.webp)\\n\\nOur Services\\n\\nWhat polySpectra  \\nCan Do For You\\n---------------------------------\\n\\n![Service icon](https://polyspectra.com/images/products/Alpha/V2A-1X-CA-405NM-HQ_hu3c1ca4fbcb6fde672bc333d5842956ec_1002162_260x0_resize_q100_box.jpg)\\n\\n### 3D Printer Resin\\n\\nNow you can 3D print with confidence, using the most rugged and durable photopolymer resin on the market.\\n\\n[Tour 3D Printer Resin](/resin/)\\n\\n![Service icon](https://polyspectra.com/images/services/parts_hu094baf51bd3f325bff75e4d7b8563d9c_69652_260x0_resize_box_2.png)\\n\\n### 3D Printed Parts\\n\\nDone with brittle 3D printed parts? We produce rugged parts designed to last—even in the most challenging environments.\\n\\n[Explore 3D Printing Services](/parts/)\\n\\n![Service icon](https://polyspectra.com/images/services/design_hu3fbaf71b092efe150c2a0211861bbe52_86667_260x0_resize_box_2.png)\\n\\n### Design For Additive Manufacturing\\n\\nDesign for Additive Manufacturing (DfAM) is an emerging discipline which requires a fundamentally different mindset than traditional manufacturing. Our engineers specialize in DfAM.\\n\\n[Discover Design Services](/design/)\\n\\nI’ve been waiting for a material like this..\\n\\nWhat People Are Saying About polySpectra\\n----------------------------------------\\n\\n![how it works image](https://polyspectra.com/images/testimonials/06_huca870ad11fa47931adb1191ba65b75c1_11139_80x0_resize_q100_h2_box.webp)\\n\\n\"With COR Alpha’s ability to withstand shear forces while maintaining its lightweight properties, we were able to model a concept for a functional design optimizing for both terrestrial and space efficiencies. polySpectra helped alleviate the challenge of producing an ultimately lightweight precision component that allows for a strong and robust breakthrough wearable technology innovation.\"\\n\\n——\\n\\nYvonne Cagle\\n\\nFormer NASA Astronaut, The WrapEZe Team\\n\\n![how it works image](https://polyspectra.com/images/testimonials/logo-06_hu5f8affac7652167ec6f6e8198354f309_3977_100x0_resize_q100_h2_box.webp)\\n\\n![how it works image](https://polyspectra.com/images/testimonials/05_hu6a8854bc167e8916046b5b248a88a1ef_1864_80x0_resize_q100_h2_box.webp)\\n\\n\"We searched for years to find a resin that could handle underhood temperatures while being able to be printed to the accuracy and surface finish we required. Polyspectra is the first place we have been able to find that combination. The resin properties combined with their willingness to find the printer settings to achieve our requirements have made them a premier partner to work with for 3D printing needs.\"\\n\\n——\\n\\nMatt Gilmer\\n\\nEngineering Manager, Dayco\\n\\n![how it works image](https://polyspectra.com/images/testimonials/logo-05_huf81412fc4bcb0ba73301563006a82074_2643_100x0_resize_q100_h2_box_2.webp)\\n\\n![how it works image](https://polyspectra.com/images/testimonials/02_hua6ed73cc0962ed9a74d2c0a5afae2b3b_5306_80x0_resize_q100_h2_box.webp)\\n\\n\"Incumbent polymer AM systems still suffer from relatively high costs, poor surface finishes, and anisotropic mechanical properties… Test data suggests that COR Alpha and the VP process can provide a significant improvement over these incumbent systems for many applications.\"\\n\\n——\\n\\nJohn E. Barnes\\n\\nFounder Of The Barnes Group\\n\\n![how it works image](https://polyspectra.com/images/testimonials/logo-02_huf288e91bbcffafed944a8de4b0738b4f_2654_100x0_resize_q100_h2_box_2.webp)\\n\\n![how it works image](https://polyspectra.com/images/testimonials/01_hu5b89dd1d414b2b268d83ad1daf587f48_10089_80x0_resize_q100_h2_box.webp)\\n\\n\"Working with PolySpectra and COR Alpha has truly been a game-changer – the strength and durability of COR Alpha have catapulted my prosthetic arm to the next level!\"\\n\\n——\\n\\nBenjamin Choi\\n\\nInventor, Regeneron Award Winner\\n\\n![how it works image](https://polyspectra.com/images/testimonials/logo-01_hua6eac998d6c3091e5ba624d889b4b876_11978_100x0_resize_q100_h2_box_2.webp)\\n\\n![how it works image](https://polyspectra.com/images/testimonials/03_hufbe1b613141cff9d72aaee8e48bcf98a_10118_80x0_resize_q100_h2_box.webp)\\n\\n\"I’ve been waiting for a material like this for a very long time.\"\\n\\n——\\n\\nHeath Townsend\\n\\nFounder EVOL Components\\n\\n![how it works image](https://polyspectra.com/images/testimonials/logo-03_hue348ed30c63b3bc4ae3f5beda231f2cc_4509_100x0_resize_q100_h2_box_2.webp)\\n\\n![how it works image](https://polyspectra.com/images/testimonials/04_hu908c00dff057c2f5d8ca369310642a0e_7554_80x0_resize_q100_h2_box.webp)\\n\\n\"It’s one of the most significant developments in the history of additive manufacturing.\"\\n\\n——\\n\\nJustin Elsey\\n\\nFounder and Managing Director, Asiga\\n\\n![how it works image](https://polyspectra.com/images/testimonials/logo-04_hu66460d636f0ccc8b2fff399f1af33091_1365_100x0_resize_q100_h2_box_2.webp)\\n\\nArticles by polySpectra\\n\\nBlog\\n----\\n\\nLearn about the latest advances in 3D printing technology  \\nand additive manufacturing.\\n\\n[See All Blog Posts](blog)\\n\\n![post-thumb](https://polyspectra.com/images/blog/3D-printed-birthday-cake_hu68f56e9e4e51cdababcf595df3605e71_1864173_370x200_fill_q100_h2_box_smart1_2.webp) [News](https://polyspectra.com/categories/news)\\n\\n*   ![author image](https://polyspectra.com/images/raymond_hu4afa5d5b8b994954476237835f7b2613_27398_28x28_fill_q100_h2_box_smart1.webp) [Raymond](/author/raymond-weitekamp/)\\n    \\n*   .\\n*   05 Dec, 2023\\n\\n### [polySpectra Turns Seven](/blog/polyspectra-turns-seven/)\\n\\nSeven reflections to commemorate seven years of polySpectra. 1. Make it real. The founding mantra of …\\n\\n[Read The Blog](/blog/polyspectra-turns-seven/)\\n\\n![post-thumb](https://polyspectra.com/images/blog/sad_hu826798a0cb2944c2621228aa0d00ea6c_167507_370x200_fill_q100_h2_box_smart1.webp)\\n\\n*   ![author image](https://polyspectra.com/images/polyspectra_huf4cf595686ec2218b56eab2b8d89b17d_32373_28x28_fill_q100_h2_box_smart1.webp) [polySpectra](/author/polyspectra/)\\n    \\n*   .\\n*   14 Nov, 2023\\n\\n### [Common Failures of Traditional Products for Resin 3D Printing](/blog/common-failures-traditional-resin-3d-printing/)\\n\\nIntroduction Resin 3D printing, also known as stereolithography (SLA), is a form of additive manufacturing …\\n\\n[Read The Blog](/blog/common-failures-traditional-resin-3d-printing/)\\n\\n![post-thumb](https://polyspectra.com/images/blog/resina-02-cropped-aspect_huc3311b0ccdd8d1c889a7bc6e6604d183_222840_370x200_fill_q100_h2_box_smart1.webp) [News](https://polyspectra.com/categories/news)\\n\\n*   ![author image](https://polyspectra.com/images/polyspectra_huf4cf595686ec2218b56eab2b8d89b17d_32373_28x28_fill_q100_h2_box_smart1.webp) [polySpectra](/author/polyspectra/)\\n    \\n*   .\\n*   24 Oct, 2023\\n\\n### [Two New AI Chat Bots to Accelerate Your Resin 3D Printing Journey](/blog/two-new-ai-chat-bots-to-accelerate-your-resin-3d-printing-journey/)\\n\\nIntroducing Resina and pSai: Our Resin 3D Printing AI Chatbots Today we are extremely excited to announce two …\\n\\n[Read The Blog](/blog/two-new-ai-chat-bots-to-accelerate-your-resin-3d-printing-journey/)\\n\\n×\\n\\n##### Access the Technical Data Sheet\\n\\nSign up to receive the COR Alpha TDS by email.\\n\\nAccess the Data Sheet\\xa0\\n\\n![COR Alpha has one of the highest glass transition temperatures of any photopolymer resin.](https://polyspectra.com/images/COR-Alpha-Oven.webp)\\n\\nMake it real.\\n\\nNo more broken parts.\\n---------------------\\n\\nInnovative engineers trust Cyclic Olefin Resins for the most demanding applications.\\n\\n[Start Here](/start-here/)\\n\\n[![polySpectra | Make it real. | The strongest resin for 3D printing](https://polyspectra.com/images/logo_hu2f53e225e5f62e17c67df107ccbafcf3_3012_113x0_resize_box.png)](/)\\n\\npolySpectra helps innovative engineers 3D print end-use components that they can trust, using the world’s most rugged photopolymer resins.\\n\\n*   [](https://www.linkedin.com/company/polyspectra)\\n    \\n*   [](https://www.instagram.com/polyspectra/)\\n    \\n*   [](https://twitter.com/polyspectra)\\n    \\n\\n#### Products & Services\\n\\n*   [COR Alpha](/alpha/)\\n    \\n*   [COR Black](/black/)\\n    \\n*   [COR Bio](/bio/)\\n    \\n*   [Resin](/resin/)\\n    \\n*   [Parts](/parts/)\\n    \\n*   [Design](/design/)\\n    \\n\\n#### Quick Links\\n\\n*   [Contact](/contact/)\\n    \\n*   [Shop](https://shop.polyspectra.com/)\\n    \\n*   [Blog](/blog/)\\n    \\n*   [About](/about/)\\n    \\n*   [Our Team](/team/)\\n    \\n*   [Careers](https://jobs.lever.co/polyspectra)\\n    \\n*   [Massless](https://massless.dev)\\n    \\n\\n#### Discover the 5 Pitfalls to Additive Manufacturing (And The Solutions Every Engineer Needs To Know)\\n\\nAvoid the Pitfalls\\n\\n[](#top \"Scroll to top\")\\n\\npolySpectra © \\xa0All Rights Reserved\\n\\n×\\n\\n##### Feel the Strength of COR\\n\\nGet Your FREE COR Alpha Bend Bar!\\n\\n![Feel the Strength of COR](https://polyspectra.com/images/bendbar.gif)\\n\\n[Feel the Strength](https://shop.polyspectra.com/cart/42328974000293:1?discount=FEEL-THE-STRENGTH&utm_source=feelthestrengthbutton)',\n",
       " 'markdown': '[polySpectra turns seven! Let’s celebrate.](https://polyspectra.com/blog/polyspectra-turns-seven)\\n\\n[![polySpectra | Make it real. | The strongest resin for 3D printing](/images/logo_hu2f53e225e5f62e17c67df107ccbafcf3_3012_113x0_resize_box.png)](/)\\n\\n*   [COR Alpha](/alpha/)\\n    \\n*   [COR Black](/black/)\\n    \\n*   [COR Bio](/bio/)\\n    \\n*   [Docs](https://docs.polyspectra.com/)\\n    \\n*   [Shop](https://shop.polyspectra.com/)\\n    \\n\\nSearch...\\n\\nCTRLK\\n\\n[Start Here](/start-here)\\n\\nMake It Real.\\n\\nRugged Resins For Industrial Additive Manufacturing\\n===================================================\\n\\nWe help innovative engineers 3D print end-use components that they can trust, using the world’s most rugged photopolymer resins.\\n\\n[Start Here](/start-here)\\n Feel the Strength\\n\\n![COR Alpha crushes the competition](/images/COR-Alpha-Blender-450comp.webp)\\n\\n![Clients Image](/images/trustedby/nasa.png)\\n\\n![Clients Image](/images/trustedby/ssys.png)\\n\\n![Clients Image](/images/trustedby/dayco.png)\\n\\n![Clients Image](/images/trustedby/cerakote.png)\\n\\nCyclic Olefin Resins are…\\n-------------------------\\n\\n![Clients Image](/images/COR-Alpha-BendBar_400.webp)\\n\\nStrong & Durable\\n\\n![Clients Image](/images/COR-Black-Impact_400.webp)\\n\\nImpact Resistant\\n\\n![Clients Image](/images/COR-Bio-Boil_400.webp)\\n\\nHeat/Fluid Resistant\\n\\n#### Discover the 5 Pitfalls to Additive Manufacturing (And The Solutions Every Engineer Needs To Know)\\n\\nAvoid the Pitfalls\\n\\nHow COR Works\\n\\nPrinting Rugged Resin in 3 Steps\\n--------------------------------\\n\\nCyclic Olefin Resin (COR) photopolymers feature best-in-class thermomechanical performance, chemical resistance, long-term durability, and impact strength.  \\n**You choose the printer, we’ll help you make it real.**\\n\\n![how it works image](/images/how-it-works/COR-Alpha-Printing-Lattices.webp)\\n\\n01\\n\\n### Step 1: Print\\n\\nCOR photopolymers are compatible with a wide array of industrial and desktop DLP & LCD resin 3D printers. You choose the printer that meets your requirements. COR will dramatically increase your ROI.\\n\\n[Get Started](/start-here)\\n\\n![how it works image](/images/how-it-works/supaRinse-animation.webp)\\n\\n02\\n\\n### Step 2: Rinse\\n\\nCompared to most photopolymers, COR is incredibly easy to clean, due to its extremely low viscosity. polySpectra’s supaRinse cleaning fluid is a safe and reliable solution for washing away uncured COR.\\n\\n[Try It Today](/start-here)\\n\\n![how it works image](/images/how-it-works/waveCure-animation.webp)\\n\\n03\\n\\n### Step 3: Bake\\n\\nCyclic Olefin Resins have incredibly high working temperatures, requiring a thermal post-cure. polySpectra waveCure is a proprietary heat transfer fluid that can fully cure COR parts in a consumer microwave, in just a few minutes!\\n\\n[Make it Real](/start-here)\\n\\nAvailable for leading printers at every price point, including…\\n---------------------------------------------------------------\\n\\n![Partners Image](/images/partners/ssys.png)\\n\\n![Partners Image](/images/partners/asiga.png)\\n\\n![Partners Image](/images/partners/Nexa3D.png)\\n\\n![Partners Image](/images/partners/anycubic.webp)\\n\\nThe Most Rugged Photopolymer Resins On The Market\\n-------------------------------------------------\\n\\nFrustrated with brittle 3D printed prototypes, we use Nobel-winning chemistry to deliver the most rugged resins on the market.\\n\\n[Learn more about COR Alpha](/alpha/)\\n\\n![video thumbnail](/images/about-video-thumb_huc5e53593075216a43859008c46bf21c1_426198_8df0f718d9bb76fec9ce4a69aceb0fac.webp)\\n\\nFeatured by…\\n------------\\n\\n![Clients Image](/images/featured/netflix.png)\\n\\n![Clients Image](/images/featured/forbes.png)\\n\\n![Clients Image](/images/featured/cen.png)\\n\\n![Clients Image](/images/featured/engineeringcom.png)\\n\\n![Clients Image](/images/featured/tct.png)\\n\\n![Clients Image](/images/featured/sme.webp)\\n\\nOur Services\\n\\nWhat polySpectra  \\nCan Do For You\\n---------------------------------\\n\\n![Service icon](/images/products/Alpha/V2A-1X-CA-405NM-HQ_hu3c1ca4fbcb6fde672bc333d5842956ec_1002162_260x0_resize_q100_box.jpg)\\n\\n### 3D Printer Resin\\n\\nNow you can 3D print with confidence, using the most rugged and durable photopolymer resin on the market.\\n\\n[Tour 3D Printer Resin](/resin/)\\n\\n![Service icon](/images/services/parts_hu094baf51bd3f325bff75e4d7b8563d9c_69652_260x0_resize_box_2.png)\\n\\n### 3D Printed Parts\\n\\nDone with brittle 3D printed parts? We produce rugged parts designed to last—even in the most challenging environments.\\n\\n[Explore 3D Printing Services](/parts/)\\n\\n![Service icon](/images/services/design_hu3fbaf71b092efe150c2a0211861bbe52_86667_260x0_resize_box_2.png)\\n\\n### Design For Additive Manufacturing\\n\\nDesign for Additive Manufacturing (DfAM) is an emerging discipline which requires a fundamentally different mindset than traditional manufacturing. Our engineers specialize in DfAM.\\n\\n[Discover Design Services](/design/)\\n\\nI’ve been waiting for a material like this..\\n\\nWhat People Are Saying About polySpectra\\n----------------------------------------\\n\\n![how it works image](/images/testimonials/06_huca870ad11fa47931adb1191ba65b75c1_11139_80x0_resize_q100_h2_box.webp)\\n\\n\"With COR Alpha’s ability to withstand shear forces while maintaining its lightweight properties, we were able to model a concept for a functional design optimizing for both terrestrial and space efficiencies. polySpectra helped alleviate the challenge of producing an ultimately lightweight precision component that allows for a strong and robust breakthrough wearable technology innovation.\"\\n\\n——\\n\\nYvonne Cagle\\n\\nFormer NASA Astronaut, The WrapEZe Team\\n\\n![how it works image](/images/testimonials/logo-06_hu5f8affac7652167ec6f6e8198354f309_3977_100x0_resize_q100_h2_box.webp)\\n\\n![how it works image](/images/testimonials/05_hu6a8854bc167e8916046b5b248a88a1ef_1864_80x0_resize_q100_h2_box.webp)\\n\\n\"We searched for years to find a resin that could handle underhood temperatures while being able to be printed to the accuracy and surface finish we required. Polyspectra is the first place we have been able to find that combination. The resin properties combined with their willingness to find the printer settings to achieve our requirements have made them a premier partner to work with for 3D printing needs.\"\\n\\n——\\n\\nMatt Gilmer\\n\\nEngineering Manager, Dayco\\n\\n![how it works image](/images/testimonials/logo-05_huf81412fc4bcb0ba73301563006a82074_2643_100x0_resize_q100_h2_box_2.webp)\\n\\n![how it works image](/images/testimonials/02_hua6ed73cc0962ed9a74d2c0a5afae2b3b_5306_80x0_resize_q100_h2_box.webp)\\n\\n\"Incumbent polymer AM systems still suffer from relatively high costs, poor surface finishes, and anisotropic mechanical properties… Test data suggests that COR Alpha and the VP process can provide a significant improvement over these incumbent systems for many applications.\"\\n\\n——\\n\\nJohn E. Barnes\\n\\nFounder Of The Barnes Group\\n\\n![how it works image](/images/testimonials/logo-02_huf288e91bbcffafed944a8de4b0738b4f_2654_100x0_resize_q100_h2_box_2.webp)\\n\\n![how it works image](/images/testimonials/01_hu5b89dd1d414b2b268d83ad1daf587f48_10089_80x0_resize_q100_h2_box.webp)\\n\\n\"Working with PolySpectra and COR Alpha has truly been a game-changer – the strength and durability of COR Alpha have catapulted my prosthetic arm to the next level!\"\\n\\n——\\n\\nBenjamin Choi\\n\\nInventor, Regeneron Award Winner\\n\\n![how it works image](/images/testimonials/logo-01_hua6eac998d6c3091e5ba624d889b4b876_11978_100x0_resize_q100_h2_box_2.webp)\\n\\n![how it works image](/images/testimonials/03_hufbe1b613141cff9d72aaee8e48bcf98a_10118_80x0_resize_q100_h2_box.webp)\\n\\n\"I’ve been waiting for a material like this for a very long time.\"\\n\\n——\\n\\nHeath Townsend\\n\\nFounder EVOL Components\\n\\n![how it works image](/images/testimonials/logo-03_hue348ed30c63b3bc4ae3f5beda231f2cc_4509_100x0_resize_q100_h2_box_2.webp)\\n\\n![how it works image](/images/testimonials/04_hu908c00dff057c2f5d8ca369310642a0e_7554_80x0_resize_q100_h2_box.webp)\\n\\n\"It’s one of the most significant developments in the history of additive manufacturing.\"\\n\\n——\\n\\nJustin Elsey\\n\\nFounder and Managing Director, Asiga\\n\\n![how it works image](/images/testimonials/logo-04_hu66460d636f0ccc8b2fff399f1af33091_1365_100x0_resize_q100_h2_box_2.webp)\\n\\nArticles by polySpectra\\n\\nBlog\\n----\\n\\nLearn about the latest advances in 3D printing technology  \\nand additive manufacturing.\\n\\n[See All Blog Posts](blog)\\n\\n![post-thumb](/images/blog/3D-printed-birthday-cake_hu68f56e9e4e51cdababcf595df3605e71_1864173_370x200_fill_q100_h2_box_smart1_2.webp) [News](https://polyspectra.com/categories/news)\\n\\n*   ![author image](/images/raymond_hu4afa5d5b8b994954476237835f7b2613_27398_28x28_fill_q100_h2_box_smart1.webp) [Raymond](/author/raymond-weitekamp/)\\n    \\n*   .\\n*   05 Dec, 2023\\n\\n### [polySpectra Turns Seven](/blog/polyspectra-turns-seven/)\\n\\nSeven reflections to commemorate seven years of polySpectra. 1. Make it real. The founding mantra of …\\n\\n[Read The Blog](/blog/polyspectra-turns-seven/)\\n\\n![post-thumb](/images/blog/sad_hu826798a0cb2944c2621228aa0d00ea6c_167507_370x200_fill_q100_h2_box_smart1.webp)\\n\\n*   ![author image](/images/polyspectra_huf4cf595686ec2218b56eab2b8d89b17d_32373_28x28_fill_q100_h2_box_smart1.webp) [polySpectra](/author/polyspectra/)\\n    \\n*   .\\n*   14 Nov, 2023\\n\\n### [Common Failures of Traditional Products for Resin 3D Printing](/blog/common-failures-traditional-resin-3d-printing/)\\n\\nIntroduction Resin 3D printing, also known as stereolithography (SLA), is a form of additive manufacturing …\\n\\n[Read The Blog](/blog/common-failures-traditional-resin-3d-printing/)\\n\\n![post-thumb](/images/blog/resina-02-cropped-aspect_huc3311b0ccdd8d1c889a7bc6e6604d183_222840_370x200_fill_q100_h2_box_smart1.webp) [News](https://polyspectra.com/categories/news)\\n\\n*   ![author image](/images/polyspectra_huf4cf595686ec2218b56eab2b8d89b17d_32373_28x28_fill_q100_h2_box_smart1.webp) [polySpectra](/author/polyspectra/)\\n    \\n*   .\\n*   24 Oct, 2023\\n\\n### [Two New AI Chat Bots to Accelerate Your Resin 3D Printing Journey](/blog/two-new-ai-chat-bots-to-accelerate-your-resin-3d-printing-journey/)\\n\\nIntroducing Resina and pSai: Our Resin 3D Printing AI Chatbots Today we are extremely excited to announce two …\\n\\n[Read The Blog](/blog/two-new-ai-chat-bots-to-accelerate-your-resin-3d-printing-journey/)\\n\\n×\\n\\n##### Access the Technical Data Sheet\\n\\nSign up to receive the COR Alpha TDS by email.\\n\\nAccess the Data Sheet\\xa0\\n\\n![COR Alpha has one of the highest glass transition temperatures of any photopolymer resin.](/images/COR-Alpha-Oven.webp)\\n\\nMake it real.\\n\\nNo more broken parts.\\n---------------------\\n\\nInnovative engineers trust Cyclic Olefin Resins for the most demanding applications.\\n\\n[Start Here](/start-here/)\\n\\n[![polySpectra | Make it real. | The strongest resin for 3D printing](/images/logo_hu2f53e225e5f62e17c67df107ccbafcf3_3012_113x0_resize_box.png)](/)\\n\\npolySpectra helps innovative engineers 3D print end-use components that they can trust, using the world’s most rugged photopolymer resins.\\n\\n*   [](https://www.linkedin.com/company/polyspectra)\\n    \\n*   [](https://www.instagram.com/polyspectra/)\\n    \\n*   [](https://twitter.com/polyspectra)\\n    \\n\\n#### Products & Services\\n\\n*   [COR Alpha](/alpha/)\\n    \\n*   [COR Black](/black/)\\n    \\n*   [COR Bio](/bio/)\\n    \\n*   [Resin](/resin/)\\n    \\n*   [Parts](/parts/)\\n    \\n*   [Design](/design/)\\n    \\n\\n#### Quick Links\\n\\n*   [Contact](/contact/)\\n    \\n*   [Shop](https://shop.polyspectra.com/)\\n    \\n*   [Blog](/blog/)\\n    \\n*   [About](/about/)\\n    \\n*   [Our Team](/team/)\\n    \\n*   [Careers](https://jobs.lever.co/polyspectra)\\n    \\n*   [Massless](https://massless.dev)\\n    \\n\\n#### Discover the 5 Pitfalls to Additive Manufacturing (And The Solutions Every Engineer Needs To Know)\\n\\nAvoid the Pitfalls\\n\\n[](#top \"Scroll to top\")\\n\\npolySpectra © \\xa0All Rights Reserved\\n\\n×\\n\\n##### Feel the Strength of COR\\n\\nGet Your FREE COR Alpha Bend Bar!\\n\\n![Feel the Strength of COR](/images/bendbar.gif)\\n\\n[Feel the Strength](https://shop.polyspectra.com/cart/42328974000293:1?discount=FEEL-THE-STRENGTH&utm_source=feelthestrengthbutton)',\n",
       " 'metadata': {'title': 'polySpectra | Make it real. | The strongest resin for 3D printing',\n",
       "  'description': \"polySpectra makes the world's most rugged photopolymer resins for additive manufacturing. COR is the strongest resin for 3D printing. Feel the strength yourself!\",\n",
       "  'ogDescription': \"polySpectra makes the world's most rugged photopolymer resins for additive manufacturing. COR is the strongest resin for 3D printing. Feel the strength yourself!\",\n",
       "  'ogUrl': 'https://polyspectra.com/',\n",
       "  'ogImage': 'https://polyspectra.com/images/logo.webp',\n",
       "  'ogLocaleAlternate': [],\n",
       "  'sourceURL': 'https://polyspectra.com'}}"
      ]
     },
     "metadata": {},
     "output_type": "display_data"
    }
   ],
   "source": [
    "from firecrawl import FirecrawlApp\n",
    "\n",
    "# Initialize the FirecrawlApp with your API key\n",
    "#app = FirecrawlApp(api_key='your_api_key')\n",
    "FIRECRAWL_API_KEY = os.getenv(\"FIRECRAWL_API_KEY\")\n",
    "app = FirecrawlApp(api_key=FIRECRAWL_API_KEY)\n",
    "\n",
    "# Scrape a single URL\n",
    "\n",
    "scraped_data = app.scrape_url(url)\n",
    "display(scraped_data)\n"
   ]
  },
  {
   "cell_type": "markdown",
   "metadata": {},
   "source": [
    "fallback to beautifulsoup if you don't want to sign up for firecrawl. many websites (like mine) block this type of scraping."
   ]
  },
  {
   "cell_type": "code",
   "execution_count": 9,
   "metadata": {},
   "outputs": [
    {
     "data": {
      "text/plain": [
       "'\\nJust a moment...Enable JavaScript and cookies to continue'"
      ]
     },
     "metadata": {},
     "output_type": "display_data"
    }
   ],
   "source": [
    "from bs4 import BeautifulSoup\n",
    "import markdownify\n",
    "import ipywidgets as widgets\n",
    "from IPython.display import display\n",
    "import requests\n",
    "\n",
    "# Make a request to the URL\n",
    "response = requests.get(url)\n",
    "\n",
    "# Parse the HTML content\n",
    "soup = BeautifulSoup(response.content, 'html.parser')\n",
    "\n",
    "# Convert the HTML content to Markdown\n",
    "markdown_content = markdownify.markdownify(str(soup), heading_style=\"ATX\")\n",
    "\n",
    "display(markdown_content)\n",
    "\n",
    "\n"
   ]
  },
  {
   "cell_type": "markdown",
   "metadata": {},
   "source": [
    "choose what we are going to use as context"
   ]
  },
  {
   "cell_type": "code",
   "execution_count": null,
   "metadata": {},
   "outputs": [],
   "source": [
    "from IPython.display import display, Markdown\n",
    "context = scraped_data['markdown']\n",
    "#context = markdown_content # or use beautifulsoup to convert to markdown\n",
    "display(Markdown(context))\n",
    "\n"
   ]
  },
  {
   "cell_type": "markdown",
   "metadata": {},
   "source": [
    "now we need a DSPy signature & module, and test it uncompiled (zero shot)"
   ]
  },
  {
   "cell_type": "code",
   "execution_count": 19,
   "metadata": {},
   "outputs": [
    {
     "data": {
      "text/markdown": [
       "polySpectra Executive Summary\n",
       "\n",
       "polySpectra is at the forefront of industrial additive manufacturing, empowering innovative engineers to 3D print end-use components with unparalleled confidence. Our mission is to \"Make it Real\" by providing the world's most rugged photopolymer resins, known for their exceptional strength, durability, and impact resistance. \n",
       "\n",
       "Our flagship products, including COR Alpha, COR Black, and COR Bio, are engineered to meet the most demanding industrial applications. These Cyclic Olefin Resins (COR) offer best-in-class thermomechanical performance, chemical resistance, and long-term durability, making them the go-to choice for engineers frustrated with brittle 3D printed prototypes.\n",
       "\n",
       "polySpectra's commitment to excellence is reflected in our streamlined 3-step printing process: Print, Rinse, and Bake. This process ensures that our resins are not only easy to use but also deliver superior results. Our proprietary solutions, such as supaRinse cleaning fluid and waveCure heat transfer fluid, further enhance the user experience by simplifying post-processing.\n",
       "\n",
       "Trusted by industry leaders like NASA, Dayco, and Asiga, polySpectra has established itself as a premier partner in the 3D printing landscape. Our resins have been featured in prominent publications and platforms, including Netflix, Forbes, and Engineering.com, underscoring our impact on the field of additive manufacturing.\n",
       "\n",
       "At polySpectra, we don't just provide materials; we offer comprehensive services, including 3D printed parts and Design for Additive Manufacturing (DfAM) expertise. Our team of engineers is dedicated to helping clients overcome the common pitfalls of traditional manufacturing, ensuring that every component produced is robust and reliable.\n",
       "\n",
       "Join us in revolutionizing 3D printing with the most rugged photopolymer resins on the market. Feel the strength of COR and make your innovations real with polySpectra.\n",
       "\n",
       "Make it real. No more broken parts."
      ],
      "text/plain": [
       "<IPython.core.display.Markdown object>"
      ]
     },
     "metadata": {},
     "output_type": "display_data"
    }
   ],
   "source": [
    "class BrandVoice(dspy.Signature):\n",
    "    \"\"\"Always respond to the user using the brand voice.\"\"\"\n",
    "\n",
    "    context = dspy.InputField(desc=\"This is a website of the brand that you are representing. Carefully analyze this to make sure your responses are branded and professional.\")\n",
    "    query = dspy.InputField()\n",
    "    response = dspy.OutputField(desc=\"This is the response to the user's query. Always use the brand voice.\")\n",
    "\n",
    "\n",
    "class BrandAmbassador(dspy.Module):  # let's define a new module\n",
    "    def __init__(self):\n",
    "        super().__init__()\n",
    "       \n",
    "        self.signature = BrandVoice\n",
    "        self.predictor = dspy.ChainOfThought(self.signature) #this can easily be subbed for something else\n",
    "    \n",
    "    def forward(self, query, context):\n",
    "        result = self.predictor(query=query, context=context)\n",
    "        return dspy.Prediction(response=str(result.response))\n",
    "\n",
    "\n",
    "uncompiled = BrandAmbassador()\n",
    "test = uncompiled(\"write an executive summary of polySpectra\", context)\n",
    "display(Markdown(test.response))\n"
   ]
  }
 ],
 "metadata": {
  "kernelspec": {
   "display_name": "my-env310",
   "language": "python",
   "name": "python3"
  },
  "language_info": {
   "codemirror_mode": {
    "name": "ipython",
    "version": 3
   },
   "file_extension": ".py",
   "mimetype": "text/x-python",
   "name": "python",
   "nbconvert_exporter": "python",
   "pygments_lexer": "ipython3",
   "version": "3.10.0"
  }
 },
 "nbformat": 4,
 "nbformat_minor": 2
}
