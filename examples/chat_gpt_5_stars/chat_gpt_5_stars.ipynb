{
 "cells": [
  {
   "cell_type": "markdown",
   "metadata": {},
   "source": [
    "\"ChatGPT\" with quantitative and qualitative feedback at each interaction: 5-star rating and feedback "
   ]
  },
  {
   "cell_type": "code",
   "execution_count": 1,
   "metadata": {},
   "outputs": [
    {
     "name": "stdout",
     "output_type": "stream",
     "text": [
      "Requirement already satisfied: dspy-ai in /Users/raymondweitekamp/.pyenv/versions/3.10.0/envs/my-env310/lib/python3.10/site-packages (2.4.5)\n",
      "Requirement already satisfied: optuna in /Users/raymondweitekamp/.pyenv/versions/3.10.0/envs/my-env310/lib/python3.10/site-packages (from dspy-ai) (3.6.1)\n",
      "Requirement already satisfied: ujson in /Users/raymondweitekamp/.pyenv/versions/3.10.0/envs/my-env310/lib/python3.10/site-packages (from dspy-ai) (5.9.0)\n",
      "Requirement already satisfied: regex in /Users/raymondweitekamp/.pyenv/versions/3.10.0/envs/my-env310/lib/python3.10/site-packages (from dspy-ai) (2023.12.25)\n",
      "Requirement already satisfied: requests in /Users/raymondweitekamp/.pyenv/versions/3.10.0/envs/my-env310/lib/python3.10/site-packages (from dspy-ai) (2.31.0)\n",
      "Requirement already satisfied: joblib~=1.3.2 in /Users/raymondweitekamp/.pyenv/versions/3.10.0/envs/my-env310/lib/python3.10/site-packages (from dspy-ai) (1.3.2)\n",
      "Requirement already satisfied: backoff~=2.2.1 in /Users/raymondweitekamp/.pyenv/versions/3.10.0/envs/my-env310/lib/python3.10/site-packages (from dspy-ai) (2.2.1)\n",
      "Requirement already satisfied: datasets<3.0.0,~=2.14.6 in /Users/raymondweitekamp/.pyenv/versions/3.10.0/envs/my-env310/lib/python3.10/site-packages (from dspy-ai) (2.14.7)\n",
      "Requirement already satisfied: pydantic==2.5.0 in /Users/raymondweitekamp/.pyenv/versions/3.10.0/envs/my-env310/lib/python3.10/site-packages (from dspy-ai) (2.5.0)\n",
      "Requirement already satisfied: pandas in /Users/raymondweitekamp/.pyenv/versions/3.10.0/envs/my-env310/lib/python3.10/site-packages (from dspy-ai) (2.2.1)\n",
      "Requirement already satisfied: tqdm in /Users/raymondweitekamp/.pyenv/versions/3.10.0/envs/my-env310/lib/python3.10/site-packages (from dspy-ai) (4.66.2)\n",
      "Requirement already satisfied: openai<2.0.0,>=0.28.1 in /Users/raymondweitekamp/.pyenv/versions/3.10.0/envs/my-env310/lib/python3.10/site-packages (from dspy-ai) (1.30.2)\n",
      "Requirement already satisfied: annotated-types>=0.4.0 in /Users/raymondweitekamp/.pyenv/versions/3.10.0/envs/my-env310/lib/python3.10/site-packages (from pydantic==2.5.0->dspy-ai) (0.6.0)\n",
      "Requirement already satisfied: pydantic-core==2.14.1 in /Users/raymondweitekamp/.pyenv/versions/3.10.0/envs/my-env310/lib/python3.10/site-packages (from pydantic==2.5.0->dspy-ai) (2.14.1)\n",
      "Requirement already satisfied: typing-extensions>=4.6.1 in /Users/raymondweitekamp/.pyenv/versions/3.10.0/envs/my-env310/lib/python3.10/site-packages (from pydantic==2.5.0->dspy-ai) (4.10.0)\n",
      "Requirement already satisfied: aiohttp in /Users/raymondweitekamp/.pyenv/versions/3.10.0/envs/my-env310/lib/python3.10/site-packages (from datasets<3.0.0,~=2.14.6->dspy-ai) (3.9.3)\n",
      "Requirement already satisfied: huggingface-hub<1.0.0,>=0.14.0 in /Users/raymondweitekamp/.pyenv/versions/3.10.0/envs/my-env310/lib/python3.10/site-packages (from datasets<3.0.0,~=2.14.6->dspy-ai) (0.21.3)\n",
      "Requirement already satisfied: numpy>=1.17 in /Users/raymondweitekamp/.pyenv/versions/3.10.0/envs/my-env310/lib/python3.10/site-packages (from datasets<3.0.0,~=2.14.6->dspy-ai) (1.26.4)\n",
      "Requirement already satisfied: xxhash in /Users/raymondweitekamp/.pyenv/versions/3.10.0/envs/my-env310/lib/python3.10/site-packages (from datasets<3.0.0,~=2.14.6->dspy-ai) (3.4.1)\n",
      "Requirement already satisfied: pyarrow>=8.0.0 in /Users/raymondweitekamp/.pyenv/versions/3.10.0/envs/my-env310/lib/python3.10/site-packages (from datasets<3.0.0,~=2.14.6->dspy-ai) (16.0.0)\n",
      "Requirement already satisfied: dill<0.3.8,>=0.3.0 in /Users/raymondweitekamp/.pyenv/versions/3.10.0/envs/my-env310/lib/python3.10/site-packages (from datasets<3.0.0,~=2.14.6->dspy-ai) (0.3.7)\n",
      "Requirement already satisfied: multiprocess in /Users/raymondweitekamp/.pyenv/versions/3.10.0/envs/my-env310/lib/python3.10/site-packages (from datasets<3.0.0,~=2.14.6->dspy-ai) (0.70.15)\n",
      "Requirement already satisfied: pyyaml>=5.1 in /Users/raymondweitekamp/.pyenv/versions/3.10.0/envs/my-env310/lib/python3.10/site-packages (from datasets<3.0.0,~=2.14.6->dspy-ai) (6.0.1)\n",
      "Requirement already satisfied: fsspec[http]<=2023.10.0,>=2023.1.0 in /Users/raymondweitekamp/.pyenv/versions/3.10.0/envs/my-env310/lib/python3.10/site-packages (from datasets<3.0.0,~=2.14.6->dspy-ai) (2023.10.0)\n",
      "Requirement already satisfied: packaging in /Users/raymondweitekamp/.pyenv/versions/3.10.0/envs/my-env310/lib/python3.10/site-packages (from datasets<3.0.0,~=2.14.6->dspy-ai) (23.2)\n",
      "Requirement already satisfied: pyarrow-hotfix in /Users/raymondweitekamp/.pyenv/versions/3.10.0/envs/my-env310/lib/python3.10/site-packages (from datasets<3.0.0,~=2.14.6->dspy-ai) (0.6)\n",
      "Requirement already satisfied: yarl<2.0,>=1.0 in /Users/raymondweitekamp/.pyenv/versions/3.10.0/envs/my-env310/lib/python3.10/site-packages (from aiohttp->datasets<3.0.0,~=2.14.6->dspy-ai) (1.9.4)\n",
      "Requirement already satisfied: aiosignal>=1.1.2 in /Users/raymondweitekamp/.pyenv/versions/3.10.0/envs/my-env310/lib/python3.10/site-packages (from aiohttp->datasets<3.0.0,~=2.14.6->dspy-ai) (1.3.1)\n",
      "Requirement already satisfied: attrs>=17.3.0 in /Users/raymondweitekamp/.pyenv/versions/3.10.0/envs/my-env310/lib/python3.10/site-packages (from aiohttp->datasets<3.0.0,~=2.14.6->dspy-ai) (23.2.0)\n",
      "Requirement already satisfied: multidict<7.0,>=4.5 in /Users/raymondweitekamp/.pyenv/versions/3.10.0/envs/my-env310/lib/python3.10/site-packages (from aiohttp->datasets<3.0.0,~=2.14.6->dspy-ai) (6.0.5)\n",
      "Requirement already satisfied: async-timeout<5.0,>=4.0 in /Users/raymondweitekamp/.pyenv/versions/3.10.0/envs/my-env310/lib/python3.10/site-packages (from aiohttp->datasets<3.0.0,~=2.14.6->dspy-ai) (4.0.3)\n",
      "Requirement already satisfied: frozenlist>=1.1.1 in /Users/raymondweitekamp/.pyenv/versions/3.10.0/envs/my-env310/lib/python3.10/site-packages (from aiohttp->datasets<3.0.0,~=2.14.6->dspy-ai) (1.4.1)\n",
      "Requirement already satisfied: filelock in /Users/raymondweitekamp/.pyenv/versions/3.10.0/envs/my-env310/lib/python3.10/site-packages (from huggingface-hub<1.0.0,>=0.14.0->datasets<3.0.0,~=2.14.6->dspy-ai) (3.13.1)\n",
      "Requirement already satisfied: distro<2,>=1.7.0 in /Users/raymondweitekamp/.pyenv/versions/3.10.0/envs/my-env310/lib/python3.10/site-packages (from openai<2.0.0,>=0.28.1->dspy-ai) (1.9.0)\n",
      "Requirement already satisfied: anyio<5,>=3.5.0 in /Users/raymondweitekamp/.pyenv/versions/3.10.0/envs/my-env310/lib/python3.10/site-packages (from openai<2.0.0,>=0.28.1->dspy-ai) (4.3.0)\n",
      "Requirement already satisfied: httpx<1,>=0.23.0 in /Users/raymondweitekamp/.pyenv/versions/3.10.0/envs/my-env310/lib/python3.10/site-packages (from openai<2.0.0,>=0.28.1->dspy-ai) (0.27.0)\n",
      "Requirement already satisfied: sniffio in /Users/raymondweitekamp/.pyenv/versions/3.10.0/envs/my-env310/lib/python3.10/site-packages (from openai<2.0.0,>=0.28.1->dspy-ai) (1.3.1)\n",
      "Requirement already satisfied: exceptiongroup>=1.0.2 in /Users/raymondweitekamp/.pyenv/versions/3.10.0/envs/my-env310/lib/python3.10/site-packages (from anyio<5,>=3.5.0->openai<2.0.0,>=0.28.1->dspy-ai) (1.2.0)\n",
      "Requirement already satisfied: idna>=2.8 in /Users/raymondweitekamp/.pyenv/versions/3.10.0/envs/my-env310/lib/python3.10/site-packages (from anyio<5,>=3.5.0->openai<2.0.0,>=0.28.1->dspy-ai) (3.6)\n",
      "Requirement already satisfied: httpcore==1.* in /Users/raymondweitekamp/.pyenv/versions/3.10.0/envs/my-env310/lib/python3.10/site-packages (from httpx<1,>=0.23.0->openai<2.0.0,>=0.28.1->dspy-ai) (1.0.4)\n",
      "Requirement already satisfied: certifi in /Users/raymondweitekamp/.pyenv/versions/3.10.0/envs/my-env310/lib/python3.10/site-packages (from httpx<1,>=0.23.0->openai<2.0.0,>=0.28.1->dspy-ai) (2024.2.2)\n",
      "Requirement already satisfied: h11<0.15,>=0.13 in /Users/raymondweitekamp/.pyenv/versions/3.10.0/envs/my-env310/lib/python3.10/site-packages (from httpcore==1.*->httpx<1,>=0.23.0->openai<2.0.0,>=0.28.1->dspy-ai) (0.14.0)\n",
      "Requirement already satisfied: charset-normalizer<4,>=2 in /Users/raymondweitekamp/.pyenv/versions/3.10.0/envs/my-env310/lib/python3.10/site-packages (from requests->dspy-ai) (3.3.2)\n",
      "Requirement already satisfied: urllib3<3,>=1.21.1 in /Users/raymondweitekamp/.pyenv/versions/3.10.0/envs/my-env310/lib/python3.10/site-packages (from requests->dspy-ai) (2.2.1)\n",
      "Requirement already satisfied: sqlalchemy>=1.3.0 in /Users/raymondweitekamp/.pyenv/versions/3.10.0/envs/my-env310/lib/python3.10/site-packages (from optuna->dspy-ai) (2.0.28)\n",
      "Requirement already satisfied: colorlog in /Users/raymondweitekamp/.pyenv/versions/3.10.0/envs/my-env310/lib/python3.10/site-packages (from optuna->dspy-ai) (6.8.2)\n",
      "Requirement already satisfied: alembic>=1.5.0 in /Users/raymondweitekamp/.pyenv/versions/3.10.0/envs/my-env310/lib/python3.10/site-packages (from optuna->dspy-ai) (1.13.1)\n",
      "Requirement already satisfied: Mako in /Users/raymondweitekamp/.pyenv/versions/3.10.0/envs/my-env310/lib/python3.10/site-packages (from alembic>=1.5.0->optuna->dspy-ai) (1.3.3)\n",
      "Requirement already satisfied: MarkupSafe>=0.9.2 in /Users/raymondweitekamp/.pyenv/versions/3.10.0/envs/my-env310/lib/python3.10/site-packages (from Mako->alembic>=1.5.0->optuna->dspy-ai) (2.1.5)\n",
      "Requirement already satisfied: pytz>=2020.1 in /Users/raymondweitekamp/.pyenv/versions/3.10.0/envs/my-env310/lib/python3.10/site-packages (from pandas->dspy-ai) (2024.1)\n",
      "Requirement already satisfied: tzdata>=2022.7 in /Users/raymondweitekamp/.pyenv/versions/3.10.0/envs/my-env310/lib/python3.10/site-packages (from pandas->dspy-ai) (2024.1)\n",
      "Requirement already satisfied: python-dateutil>=2.8.2 in /Users/raymondweitekamp/.pyenv/versions/3.10.0/envs/my-env310/lib/python3.10/site-packages (from pandas->dspy-ai) (2.9.0.post0)\n",
      "Requirement already satisfied: six>=1.5 in /Users/raymondweitekamp/.pyenv/versions/3.10.0/envs/my-env310/lib/python3.10/site-packages (from python-dateutil>=2.8.2->pandas->dspy-ai) (1.16.0)\n",
      "\u001b[33mWARNING: You are using pip version 21.2.3; however, version 24.0 is available.\n",
      "You should consider upgrading via the '/Users/raymondweitekamp/.pyenv/versions/3.10.0/envs/my-env310/bin/python -m pip install --upgrade pip' command.\u001b[0m\n",
      "Note: you may need to restart the kernel to use updated packages.\n",
      "Requirement already satisfied: ipywidgets in /Users/raymondweitekamp/.pyenv/versions/3.10.0/envs/my-env310/lib/python3.10/site-packages (8.1.2)\n",
      "Requirement already satisfied: ipython>=6.1.0 in /Users/raymondweitekamp/.pyenv/versions/3.10.0/envs/my-env310/lib/python3.10/site-packages (from ipywidgets) (8.24.0)\n",
      "Requirement already satisfied: widgetsnbextension~=4.0.10 in /Users/raymondweitekamp/.pyenv/versions/3.10.0/envs/my-env310/lib/python3.10/site-packages (from ipywidgets) (4.0.10)\n",
      "Requirement already satisfied: comm>=0.1.3 in /Users/raymondweitekamp/.pyenv/versions/3.10.0/envs/my-env310/lib/python3.10/site-packages (from ipywidgets) (0.2.2)\n",
      "Requirement already satisfied: jupyterlab-widgets~=3.0.10 in /Users/raymondweitekamp/.pyenv/versions/3.10.0/envs/my-env310/lib/python3.10/site-packages (from ipywidgets) (3.0.10)\n",
      "Requirement already satisfied: traitlets>=4.3.1 in /Users/raymondweitekamp/.pyenv/versions/3.10.0/envs/my-env310/lib/python3.10/site-packages (from ipywidgets) (5.14.3)\n",
      "Requirement already satisfied: pexpect>4.3 in /Users/raymondweitekamp/.pyenv/versions/3.10.0/envs/my-env310/lib/python3.10/site-packages (from ipython>=6.1.0->ipywidgets) (4.9.0)\n",
      "Requirement already satisfied: pygments>=2.4.0 in /Users/raymondweitekamp/.pyenv/versions/3.10.0/envs/my-env310/lib/python3.10/site-packages (from ipython>=6.1.0->ipywidgets) (2.17.2)\n",
      "Requirement already satisfied: prompt-toolkit<3.1.0,>=3.0.41 in /Users/raymondweitekamp/.pyenv/versions/3.10.0/envs/my-env310/lib/python3.10/site-packages (from ipython>=6.1.0->ipywidgets) (3.0.43)\n",
      "Requirement already satisfied: exceptiongroup in /Users/raymondweitekamp/.pyenv/versions/3.10.0/envs/my-env310/lib/python3.10/site-packages (from ipython>=6.1.0->ipywidgets) (1.2.0)\n",
      "Requirement already satisfied: decorator in /Users/raymondweitekamp/.pyenv/versions/3.10.0/envs/my-env310/lib/python3.10/site-packages (from ipython>=6.1.0->ipywidgets) (5.1.1)\n",
      "Requirement already satisfied: matplotlib-inline in /Users/raymondweitekamp/.pyenv/versions/3.10.0/envs/my-env310/lib/python3.10/site-packages (from ipython>=6.1.0->ipywidgets) (0.1.7)\n",
      "Requirement already satisfied: jedi>=0.16 in /Users/raymondweitekamp/.pyenv/versions/3.10.0/envs/my-env310/lib/python3.10/site-packages (from ipython>=6.1.0->ipywidgets) (0.19.1)\n",
      "Requirement already satisfied: typing-extensions>=4.6 in /Users/raymondweitekamp/.pyenv/versions/3.10.0/envs/my-env310/lib/python3.10/site-packages (from ipython>=6.1.0->ipywidgets) (4.10.0)\n",
      "Requirement already satisfied: stack-data in /Users/raymondweitekamp/.pyenv/versions/3.10.0/envs/my-env310/lib/python3.10/site-packages (from ipython>=6.1.0->ipywidgets) (0.6.3)\n",
      "Requirement already satisfied: parso<0.9.0,>=0.8.3 in /Users/raymondweitekamp/.pyenv/versions/3.10.0/envs/my-env310/lib/python3.10/site-packages (from jedi>=0.16->ipython>=6.1.0->ipywidgets) (0.8.4)\n",
      "Requirement already satisfied: ptyprocess>=0.5 in /Users/raymondweitekamp/.pyenv/versions/3.10.0/envs/my-env310/lib/python3.10/site-packages (from pexpect>4.3->ipython>=6.1.0->ipywidgets) (0.7.0)\n",
      "Requirement already satisfied: wcwidth in /Users/raymondweitekamp/.pyenv/versions/3.10.0/envs/my-env310/lib/python3.10/site-packages (from prompt-toolkit<3.1.0,>=3.0.41->ipython>=6.1.0->ipywidgets) (0.2.13)\n",
      "Requirement already satisfied: asttokens>=2.1.0 in /Users/raymondweitekamp/.pyenv/versions/3.10.0/envs/my-env310/lib/python3.10/site-packages (from stack-data->ipython>=6.1.0->ipywidgets) (2.4.1)\n",
      "Requirement already satisfied: pure-eval in /Users/raymondweitekamp/.pyenv/versions/3.10.0/envs/my-env310/lib/python3.10/site-packages (from stack-data->ipython>=6.1.0->ipywidgets) (0.2.2)\n",
      "Requirement already satisfied: executing>=1.2.0 in /Users/raymondweitekamp/.pyenv/versions/3.10.0/envs/my-env310/lib/python3.10/site-packages (from stack-data->ipython>=6.1.0->ipywidgets) (2.0.1)\n",
      "Requirement already satisfied: six>=1.12.0 in /Users/raymondweitekamp/.pyenv/versions/3.10.0/envs/my-env310/lib/python3.10/site-packages (from asttokens>=2.1.0->stack-data->ipython>=6.1.0->ipywidgets) (1.16.0)\n",
      "\u001b[33mWARNING: You are using pip version 21.2.3; however, version 24.0 is available.\n",
      "You should consider upgrading via the '/Users/raymondweitekamp/.pyenv/versions/3.10.0/envs/my-env310/bin/python -m pip install --upgrade pip' command.\u001b[0m\n",
      "Note: you may need to restart the kernel to use updated packages.\n",
      "Requirement already satisfied: IPython in /Users/raymondweitekamp/.pyenv/versions/3.10.0/envs/my-env310/lib/python3.10/site-packages (8.24.0)\n",
      "Requirement already satisfied: matplotlib-inline in /Users/raymondweitekamp/.pyenv/versions/3.10.0/envs/my-env310/lib/python3.10/site-packages (from IPython) (0.1.7)\n",
      "Requirement already satisfied: jedi>=0.16 in /Users/raymondweitekamp/.pyenv/versions/3.10.0/envs/my-env310/lib/python3.10/site-packages (from IPython) (0.19.1)\n",
      "Requirement already satisfied: stack-data in /Users/raymondweitekamp/.pyenv/versions/3.10.0/envs/my-env310/lib/python3.10/site-packages (from IPython) (0.6.3)\n",
      "Requirement already satisfied: decorator in /Users/raymondweitekamp/.pyenv/versions/3.10.0/envs/my-env310/lib/python3.10/site-packages (from IPython) (5.1.1)\n",
      "Requirement already satisfied: pexpect>4.3 in /Users/raymondweitekamp/.pyenv/versions/3.10.0/envs/my-env310/lib/python3.10/site-packages (from IPython) (4.9.0)\n",
      "Requirement already satisfied: pygments>=2.4.0 in /Users/raymondweitekamp/.pyenv/versions/3.10.0/envs/my-env310/lib/python3.10/site-packages (from IPython) (2.17.2)\n",
      "Requirement already satisfied: typing-extensions>=4.6 in /Users/raymondweitekamp/.pyenv/versions/3.10.0/envs/my-env310/lib/python3.10/site-packages (from IPython) (4.10.0)\n",
      "Requirement already satisfied: traitlets>=5.13.0 in /Users/raymondweitekamp/.pyenv/versions/3.10.0/envs/my-env310/lib/python3.10/site-packages (from IPython) (5.14.3)\n",
      "Requirement already satisfied: prompt-toolkit<3.1.0,>=3.0.41 in /Users/raymondweitekamp/.pyenv/versions/3.10.0/envs/my-env310/lib/python3.10/site-packages (from IPython) (3.0.43)\n",
      "Requirement already satisfied: exceptiongroup in /Users/raymondweitekamp/.pyenv/versions/3.10.0/envs/my-env310/lib/python3.10/site-packages (from IPython) (1.2.0)\n",
      "Requirement already satisfied: parso<0.9.0,>=0.8.3 in /Users/raymondweitekamp/.pyenv/versions/3.10.0/envs/my-env310/lib/python3.10/site-packages (from jedi>=0.16->IPython) (0.8.4)\n",
      "Requirement already satisfied: ptyprocess>=0.5 in /Users/raymondweitekamp/.pyenv/versions/3.10.0/envs/my-env310/lib/python3.10/site-packages (from pexpect>4.3->IPython) (0.7.0)\n",
      "Requirement already satisfied: wcwidth in /Users/raymondweitekamp/.pyenv/versions/3.10.0/envs/my-env310/lib/python3.10/site-packages (from prompt-toolkit<3.1.0,>=3.0.41->IPython) (0.2.13)\n",
      "Requirement already satisfied: asttokens>=2.1.0 in /Users/raymondweitekamp/.pyenv/versions/3.10.0/envs/my-env310/lib/python3.10/site-packages (from stack-data->IPython) (2.4.1)\n",
      "Requirement already satisfied: pure-eval in /Users/raymondweitekamp/.pyenv/versions/3.10.0/envs/my-env310/lib/python3.10/site-packages (from stack-data->IPython) (0.2.2)\n",
      "Requirement already satisfied: executing>=1.2.0 in /Users/raymondweitekamp/.pyenv/versions/3.10.0/envs/my-env310/lib/python3.10/site-packages (from stack-data->IPython) (2.0.1)\n",
      "Requirement already satisfied: six>=1.12.0 in /Users/raymondweitekamp/.pyenv/versions/3.10.0/envs/my-env310/lib/python3.10/site-packages (from asttokens>=2.1.0->stack-data->IPython) (1.16.0)\n",
      "\u001b[33mWARNING: You are using pip version 21.2.3; however, version 24.0 is available.\n",
      "You should consider upgrading via the '/Users/raymondweitekamp/.pyenv/versions/3.10.0/envs/my-env310/bin/python -m pip install --upgrade pip' command.\u001b[0m\n",
      "Note: you may need to restart the kernel to use updated packages.\n",
      "Requirement already satisfied: requests in /Users/raymondweitekamp/.pyenv/versions/3.10.0/envs/my-env310/lib/python3.10/site-packages (2.31.0)\n",
      "Requirement already satisfied: idna<4,>=2.5 in /Users/raymondweitekamp/.pyenv/versions/3.10.0/envs/my-env310/lib/python3.10/site-packages (from requests) (3.6)\n",
      "Requirement already satisfied: urllib3<3,>=1.21.1 in /Users/raymondweitekamp/.pyenv/versions/3.10.0/envs/my-env310/lib/python3.10/site-packages (from requests) (2.2.1)\n",
      "Requirement already satisfied: certifi>=2017.4.17 in /Users/raymondweitekamp/.pyenv/versions/3.10.0/envs/my-env310/lib/python3.10/site-packages (from requests) (2024.2.2)\n",
      "Requirement already satisfied: charset-normalizer<4,>=2 in /Users/raymondweitekamp/.pyenv/versions/3.10.0/envs/my-env310/lib/python3.10/site-packages (from requests) (3.3.2)\n",
      "\u001b[33mWARNING: You are using pip version 21.2.3; however, version 24.0 is available.\n",
      "You should consider upgrading via the '/Users/raymondweitekamp/.pyenv/versions/3.10.0/envs/my-env310/bin/python -m pip install --upgrade pip' command.\u001b[0m\n",
      "Note: you may need to restart the kernel to use updated packages.\n",
      "Requirement already satisfied: markdownify in /Users/raymondweitekamp/.pyenv/versions/3.10.0/envs/my-env310/lib/python3.10/site-packages (0.12.1)\n",
      "Requirement already satisfied: six<2,>=1.15 in /Users/raymondweitekamp/.pyenv/versions/3.10.0/envs/my-env310/lib/python3.10/site-packages (from markdownify) (1.16.0)\n",
      "Requirement already satisfied: beautifulsoup4<5,>=4.9 in /Users/raymondweitekamp/.pyenv/versions/3.10.0/envs/my-env310/lib/python3.10/site-packages (from markdownify) (4.12.3)\n",
      "Requirement already satisfied: soupsieve>1.2 in /Users/raymondweitekamp/.pyenv/versions/3.10.0/envs/my-env310/lib/python3.10/site-packages (from beautifulsoup4<5,>=4.9->markdownify) (2.5)\n",
      "\u001b[33mWARNING: You are using pip version 21.2.3; however, version 24.0 is available.\n",
      "You should consider upgrading via the '/Users/raymondweitekamp/.pyenv/versions/3.10.0/envs/my-env310/bin/python -m pip install --upgrade pip' command.\u001b[0m\n",
      "Note: you may need to restart the kernel to use updated packages.\n"
     ]
    }
   ],
   "source": [
    "%pip install dspy-ai\n",
    "%pip install ipywidgets\n",
    "%pip install IPython\n",
    "%pip install requests\n",
    "%pip install markdownify\n"
   ]
  },
  {
   "cell_type": "code",
   "execution_count": 8,
   "metadata": {},
   "outputs": [],
   "source": [
    "import dspy\n",
    "import os\n",
    "import dotenv\n",
    "import pydantic\n",
    "import json\n",
    "from IPython.display import Markdown, display\n",
    "\n",
    "dotenv.load_dotenv() #load via .env in this folder (.env is in .gitignore)\n",
    "#os.environ['OPENAI_API_KEY'] = 'sk-YOUR_OPENAI_API_KEY' #or set directly here, just remember not to commit to GitHub\n",
    "assert 'OPENAI_API_KEY' in os.environ\n",
    "\n",
    "\n"
   ]
  },
  {
   "cell_type": "markdown",
   "metadata": {},
   "source": [
    "this custom class is needed to append the chat history, which is not available to DSPy's OpenAI class (dsp>modules>GPT3.py) by default"
   ]
  },
  {
   "cell_type": "code",
   "execution_count": 50,
   "metadata": {},
   "outputs": [],
   "source": [
    "from dsp.modules.gpt3 import (\n",
    "    _cached_gpt3_turbo_request_v2_wrapped,\n",
    "    v1_cached_gpt3_request_v2,\n",
    "    v1_cached_gpt3_request_v2_wrapped,\n",
    "    v1_cached_gpt3_turbo_request_v2,\n",
    "    v1_cached_gpt3_turbo_request_v2_wrapped,\n",
    "    chat_request,\n",
    "    completions_request,\n",
    "    GPT3\n",
    ")\n",
    "\n",
    "class ChatGPT(dspy.OpenAI):\n",
    "    def __init__(self, model='gpt-3.5-turbo', show_feedback=True, api_key=None, **kwargs):\n",
    "        super().__init__(model=model, api_key=api_key, **kwargs)\n",
    "        self.system_prompt = None\n",
    "        self.model = model\n",
    "        self.show_feedback = show_feedback\n",
    "\n",
    "    def basic_request(self, prompt: str, rating=None, feedback=None, **kwargs):\n",
    "        raw_kwargs = kwargs\n",
    "\n",
    "        # Prepare the messages with history\n",
    "        messages = [{\"role\": \"user\", \"content\": entry[\"prompt\"]} for entry in self.history]\n",
    "        messages += [{\"role\": \"assistant\", \"content\": self._get_choice_text(entry[\"response\"][\"choices\"][0])} for entry in self.history]\n",
    "        \n",
    "        #if we want the bot to see the rating and feedback, append them to the prompt\n",
    "        if self.show_feedback:\n",
    "             # Append the current prompt\n",
    "            if rating or feedback:\n",
    "                prompt_with_feedback = prompt + \"\\n---\\nHere is the users rating (1-5) and feedback of your last response:\"\n",
    "                if rating is not None:\n",
    "                    prompt_with_feedback += f\"\\n\\nRating (1-5): {rating}\"\n",
    "                if feedback is not None:\n",
    "                    prompt_with_feedback += f\"\\n\\nFeedback: {feedback}\\n---\\n\"\n",
    "                messages.append({\"role\": \"user\", \"content\": prompt_with_feedback})\n",
    "            else:\n",
    "                messages.append({\"role\": \"user\", \"content\": prompt})\n",
    "        else:\n",
    "            messages.append({\"role\": \"user\", \"content\": prompt})\n",
    "        \n",
    "\n",
    "\n",
    "        if self.system_prompt:\n",
    "            messages.insert(0, {\"role\": \"system\", \"content\": self.system_prompt})\n",
    "        \n",
    "        # Remove feedback and rating from kwargs\n",
    "        kwargs.pop('feedback', None)\n",
    "        kwargs.pop('rating', None)\n",
    "\n",
    "        # add self and model to kwargs\n",
    "        kwargs[\"messages\"] = messages\n",
    "        kwargs[\"model\"] = self.model\n",
    "        kwargs = {\"stringify_request\": json.dumps(kwargs)}\n",
    "        response = chat_request(**kwargs)\n",
    "\n",
    "        history = {\n",
    "            \"prompt\": prompt,\n",
    "            \"response\": response,\n",
    "            \"kwargs\": kwargs,\n",
    "            \"raw_kwargs\": raw_kwargs,\n",
    "        }\n",
    "        self.history.append(history)\n",
    "\n",
    "        return response\n",
    "    "
   ]
  },
  {
   "cell_type": "markdown",
   "metadata": {},
   "source": [
    "this simple example shows what is going on under the hood"
   ]
  },
  {
   "cell_type": "code",
   "execution_count": 47,
   "metadata": {},
   "outputs": [
    {
     "data": {
      "text/plain": [
       "'message one:'"
      ]
     },
     "metadata": {},
     "output_type": "display_data"
    },
    {
     "data": {
      "text/markdown": [
       "12 + 12 equals 24."
      ],
      "text/plain": [
       "<IPython.core.display.Markdown object>"
      ]
     },
     "metadata": {},
     "output_type": "display_data"
    },
    {
     "data": {
      "text/plain": [
       "'message two:'"
      ]
     },
     "metadata": {},
     "output_type": "display_data"
    },
    {
     "data": {
      "text/markdown": [
       "Your last message was: \"tell me what is 12+12?\""
      ],
      "text/plain": [
       "<IPython.core.display.Markdown object>"
      ]
     },
     "metadata": {},
     "output_type": "display_data"
    },
    {
     "data": {
      "text/plain": [
       "'message three:'"
      ]
     },
     "metadata": {},
     "output_type": "display_data"
    },
    {
     "data": {
      "text/markdown": [
       "In a peaceful village, 12 kind hearts met another 12 kind hearts, creating a community of 24 caring souls. Together, they built a beautiful garden where laughter and love blossomed. The village thrived, showing that when people unite, magic happens."
      ],
      "text/plain": [
       "<IPython.core.display.Markdown object>"
      ]
     },
     "metadata": {},
     "output_type": "display_data"
    },
    {
     "data": {
      "text/plain": [
       "'now show the history, in reverse order to make it easier to see the conversation flow'"
      ]
     },
     "metadata": {},
     "output_type": "display_data"
    },
    {
     "data": {
      "text/plain": [
       "[{'prompt': 'now tell me a very short story based on the answer of the first message, ideally a 3 sentence story',\n",
       "  'response': {'id': 'chatcmpl-9SP2CTz7FII7T6op9hAbNgwrkZqVK',\n",
       "   'choices': [{'finish_reason': 'stop',\n",
       "     'index': 0,\n",
       "     'logprobs': None,\n",
       "     'message': {'content': 'In a peaceful village, 12 kind hearts met another 12 kind hearts, creating a community of 24 caring souls. Together, they built a beautiful garden where laughter and love blossomed. The village thrived, showing that when people unite, magic happens.',\n",
       "      'role': 'assistant',\n",
       "      'function_call': None,\n",
       "      'tool_calls': None}}],\n",
       "   'created': 1716556444,\n",
       "   'model': 'gpt-4o-2024-05-13',\n",
       "   'object': 'chat.completion',\n",
       "   'system_fingerprint': 'fp_729ea513f7',\n",
       "   'usage': {'completion_tokens': 53,\n",
       "    'prompt_tokens': 83,\n",
       "    'total_tokens': 136}},\n",
       "  'kwargs': {'stringify_request': '{\"messages\": [{\"role\": \"user\", \"content\": \"tell me what is 12+12?\"}, {\"role\": \"user\", \"content\": \"what was my last message?\"}, {\"role\": \"assistant\", \"content\": \"12 + 12 equals 24.\"}, {\"role\": \"assistant\", \"content\": \"Your last message was: \\\\\"tell me what is 12+12?\\\\\"\"}, {\"role\": \"user\", \"content\": \"now tell me a very short story based on the answer of the first message, ideally a 3 sentence story\"}], \"model\": \"gpt-4o\"}'},\n",
       "  'raw_kwargs': {'messages': [{'role': 'user',\n",
       "     'content': 'tell me what is 12+12?'},\n",
       "    {'role': 'user', 'content': 'what was my last message?'},\n",
       "    {'role': 'assistant', 'content': '12 + 12 equals 24.'},\n",
       "    {'role': 'assistant',\n",
       "     'content': 'Your last message was: \"tell me what is 12+12?\"'},\n",
       "    {'role': 'user',\n",
       "     'content': 'now tell me a very short story based on the answer of the first message, ideally a 3 sentence story'}],\n",
       "   'model': 'gpt-4o'}},\n",
       " {'prompt': 'what was my last message?',\n",
       "  'response': {'id': 'chatcmpl-9SHBIXsEoYjq6F3qDgwcQCaNzbfbs',\n",
       "   'choices': [{'finish_reason': 'stop',\n",
       "     'index': 0,\n",
       "     'logprobs': None,\n",
       "     'message': {'content': 'Your last message was: \"tell me what is 12+12?\"',\n",
       "      'role': 'assistant',\n",
       "      'function_call': None,\n",
       "      'tool_calls': None}}],\n",
       "   'created': 1716526256,\n",
       "   'model': 'gpt-4o-2024-05-13',\n",
       "   'object': 'chat.completion',\n",
       "   'system_fingerprint': 'fp_729ea513f7',\n",
       "   'usage': {'completion_tokens': 15,\n",
       "    'prompt_tokens': 38,\n",
       "    'total_tokens': 53}},\n",
       "  'kwargs': {'stringify_request': '{\"messages\": [{\"role\": \"user\", \"content\": \"tell me what is 12+12?\"}, {\"role\": \"assistant\", \"content\": \"12 + 12 equals 24.\"}, {\"role\": \"user\", \"content\": \"what was my last message?\"}], \"model\": \"gpt-4o\"}'},\n",
       "  'raw_kwargs': {'messages': [{'role': 'user',\n",
       "     'content': 'tell me what is 12+12?'},\n",
       "    {'role': 'assistant', 'content': '12 + 12 equals 24.'},\n",
       "    {'role': 'user', 'content': 'what was my last message?'}],\n",
       "   'model': 'gpt-4o'}},\n",
       " {'prompt': 'tell me what is 12+12?',\n",
       "  'response': {'id': 'chatcmpl-9SHBIYd8AVf0uqeNtzcANOTzrnTHw',\n",
       "   'choices': [{'finish_reason': 'stop',\n",
       "     'index': 0,\n",
       "     'logprobs': None,\n",
       "     'message': {'content': '12 + 12 equals 24.',\n",
       "      'role': 'assistant',\n",
       "      'function_call': None,\n",
       "      'tool_calls': None}}],\n",
       "   'created': 1716526256,\n",
       "   'model': 'gpt-4o-2024-05-13',\n",
       "   'object': 'chat.completion',\n",
       "   'system_fingerprint': 'fp_729ea513f7',\n",
       "   'usage': {'completion_tokens': 8, 'prompt_tokens': 16, 'total_tokens': 24}},\n",
       "  'kwargs': {'stringify_request': '{\"messages\": [{\"role\": \"user\", \"content\": \"tell me what is 12+12?\"}], \"model\": \"gpt-4o\"}'},\n",
       "  'raw_kwargs': {'messages': [{'role': 'user',\n",
       "     'content': 'tell me what is 12+12?'}],\n",
       "   'model': 'gpt-4o'}}]"
      ]
     },
     "metadata": {},
     "output_type": "display_data"
    }
   ],
   "source": [
    "llm = ChatGPT(model='gpt-4o', show_feedback=False, temperature=0.1, max_tokens=4096)\n",
    "message_one = llm(\"tell me what is 12+12?\")\n",
    "display(\"message one:\")\n",
    "display(Markdown(message_one[0]))\n",
    "# display(\"message one history:\")\n",
    "# display(llm.history)\n",
    "message_two = llm(\"what was my last message?\")\n",
    "display(\"message two:\")\n",
    "display(Markdown(message_two[0]))\n",
    "#display(\"message two history:\")\n",
    "#display(llm.history)\n",
    "message_three = llm(\"now tell me a very short story based on the answer of the first message, ideally a 3 sentence story\")\n",
    "display(\"message three:\")\n",
    "display(Markdown(message_three[0]))\n",
    "display(\"now show the history, in reverse order to make it easier to see the conversation flow\")\n",
    "display(llm.history[::-1])\n",
    "\n"
   ]
  },
  {
   "cell_type": "markdown",
   "metadata": {},
   "source": [
    "let's enable feedback now to get ready to chat"
   ]
  },
  {
   "cell_type": "code",
   "execution_count": null,
   "metadata": {},
   "outputs": [],
   "source": [
    "llm = ChatGPT(model='gpt-4o', show_feedback=True, temperature=0.1, max_tokens=4096)\n",
    "llm.system_prompt = \"always format responses in markdown\"\n",
    "dspy.settings.configure(lm=llm)"
   ]
  },
  {
   "cell_type": "code",
   "execution_count": 89,
   "metadata": {},
   "outputs": [],
   "source": [
    "#optionally clear the history\n",
    "llm.history = []"
   ]
  },
  {
   "cell_type": "markdown",
   "metadata": {},
   "source": [
    "this widget is a (clunky) \"ChatGPT\" interface, with feedback at each engagement"
   ]
  },
  {
   "cell_type": "code",
   "execution_count": 91,
   "metadata": {},
   "outputs": [
    {
     "data": {
      "text/markdown": [
       "**User:** tell me a short story"
      ],
      "text/plain": [
       "<IPython.core.display.Markdown object>"
      ]
     },
     "metadata": {},
     "output_type": "display_data"
    },
    {
     "data": {
      "text/markdown": [
       "**Response:** Once upon a time, in a quaint village nestled between rolling hills and whispering forests, lived a young girl named Elara. Elara possessed an insatiable curiosity and a heart full of dreams. She spent her days exploring the edges of the village, where the forest began to thicken and secrets seemed to linger in the air.\n",
       "\n",
       "One crisp autumn morning, while the village was still cloaked in the quiet of dawn, Elara stumbled upon a hidden path. It was overgrown with ivy and moss, almost as if the forest itself was guarding its secrets. Compelled by an unyielding sense of wonder, she followed the path deeper into the woods.\n",
       "\n",
       "After what felt like hours, she reached a serene glade. In the center stood an ancient tree, its bark etched with glowing runes. As Elara drew closer, she noticed a small, worn journal nestled among the tree roots. She picked it up, and to her surprise, the pages began to flutter open on their own, revealing a story written in shimmering ink.\n",
       "\n",
       "The journal told the tale of a magical realm just beyond the veil of the ordinary world, a place where dreams and reality intertwined. It spoke of a guardianship passed down through generations, tasked with protecting the delicate balance between the two worlds. The last guardian had left clues in this enchanted forest, awaiting someone pure of heart and adventurous in spirit.\n",
       "\n",
       "Realizing the gravity of the moment, Elara felt an exhilarating mix of excitement and responsibility. She knew that her discovery was just the beginning. Holding the journal close, she vowed to uncover the secrets of the magical realm and become the new guardian of the enchanted forest.\n",
       "\n",
       "With each step back toward her village, the world seemed more vibrant and full of possibility. Elara knew that her life was forever changed, and so the girl with a heart full of dreams set forth on a journey that would bridge worlds and forge destinies.\n",
       "\n",
       "And so, the story of Elara began—a tale of mystery, magic, and the endless adventure that awaits those who dare to dream."
      ],
      "text/plain": [
       "<IPython.core.display.Markdown object>"
      ]
     },
     "metadata": {},
     "output_type": "display_data"
    },
    {
     "data": {
      "text/markdown": [
       "**User:** another one, very short"
      ],
      "text/plain": [
       "<IPython.core.display.Markdown object>"
      ]
     },
     "metadata": {},
     "output_type": "display_data"
    },
    {
     "data": {
      "text/markdown": [
       "**Response:** In a sun-kissed valley, nestled between towering mountains, lived a baby llama named Luna. Luna was the smallest llama in the herd, but she had the biggest heart.\n",
       "\n",
       "One day, as Luna was exploring a meadow filled with vibrant wildflowers, she heard a faint cry. Following the sound, she discovered a tiny bird with a broken wing. Determined to help, Luna gently lifted the bird onto her back and trotted back to the safety of her home.\n",
       "\n",
       "With the care and warmth of her soft, cozy fur, Luna cradled the bird every night. As days turned into weeks, the bird's wing healed, and it soon regained its strength to fly.\n",
       "\n",
       "On the day of the bird's first flight, Luna and the entire herd gathered to watch. The bird soared high into the sky, circling above Luna in gratitude before vanishing into the horizon.\n",
       "\n",
       "From that day forward, Luna was known not for her size, but for her kind heart and courageous spirit.\n",
       "\n",
       "And so, the valley echoed with tales of Luna, the baby llama who reminded everyone that even the smallest creatures can make the biggest difference."
      ],
      "text/plain": [
       "<IPython.core.display.Markdown object>"
      ]
     },
     "metadata": {},
     "output_type": "display_data"
    },
    {
     "data": {
      "application/vnd.jupyter.widget-view+json": {
       "model_id": "d0b7065e37cb4d7b924ecf5a003996c8",
       "version_major": 2,
       "version_minor": 0
      },
      "text/plain": [
       "VBox(children=(HTML(value='<center><p>Rating</p></center>'), HBox(children=(Button(description='1', style=Butt…"
      ]
     },
     "metadata": {},
     "output_type": "display_data"
    },
    {
     "data": {
      "application/vnd.jupyter.widget-view+json": {
       "model_id": "42283de855414656bc9c8d9fd1b19417",
       "version_major": 2,
       "version_minor": 0
      },
      "text/plain": [
       "Textarea(value='', description='Feedback:', layout=Layout(height='100px', width='100%'), placeholder='Type you…"
      ]
     },
     "metadata": {},
     "output_type": "display_data"
    },
    {
     "data": {
      "application/vnd.jupyter.widget-view+json": {
       "model_id": "6aeb3388b1b64eceb6a9c0f6bd5ed022",
       "version_major": 2,
       "version_minor": 0
      },
      "text/plain": [
       "Textarea(value='', description='Query:', layout=Layout(height='100px', width='100%'), placeholder='Type your m…"
      ]
     },
     "metadata": {},
     "output_type": "display_data"
    },
    {
     "data": {
      "application/vnd.jupyter.widget-view+json": {
       "model_id": "63122563640c4082a210894c5df4453f",
       "version_major": 2,
       "version_minor": 0
      },
      "text/plain": [
       "HBox(children=(Button(description='Submit', style=ButtonStyle()),), layout=Layout(justify_content='center'))"
      ]
     },
     "metadata": {},
     "output_type": "display_data"
    }
   ],
   "source": [
    "import ipywidgets as widgets\n",
    "from IPython.display import display, clear_output, Markdown\n",
    "\n",
    "# Initialize storage for chat history, ratings, and feedback\n",
    "chat_history = []\n",
    "history_with_feedback = []\n",
    "\n",
    "# Variable to store the selected rating\n",
    "selected_rating = None\n",
    "\n",
    "# Create buttons for ratings 1 to 5\n",
    "buttons = [widgets.Button(description=str(i)) for i in range(1, 6)]\n",
    "\n",
    "# Arrange the buttons horizontally and center them\n",
    "button_box = widgets.VBox([\n",
    "    widgets.HTML(\"<center><p>Rating</p></center>\"),\n",
    "    widgets.HBox(buttons, layout=widgets.Layout(justify_content='center'))\n",
    "])\n",
    "\n",
    "# Create a Textarea widget for feedback\n",
    "feedback_area = widgets.Textarea(\n",
    "    value='',\n",
    "    placeholder='Type your feedback here',\n",
    "    description='Feedback:',\n",
    "    disabled=False,\n",
    "    layout=widgets.Layout(width='100%', height='100px')\n",
    ")\n",
    "\n",
    "# Create a Textarea widget for message\n",
    "message_area = widgets.Textarea(\n",
    "    value='',\n",
    "    placeholder='Type your message here',\n",
    "    description='Query:',\n",
    "    disabled=False,\n",
    "    layout=widgets.Layout(width='100%', height='100px')\n",
    ")\n",
    "\n",
    "# Create a submit button\n",
    "submit_button = widgets.Button(description=\"Submit\")\n",
    "\n",
    "# Center the submit button\n",
    "submit_button_box = widgets.HBox([submit_button], layout=widgets.Layout(justify_content='center'))\n",
    "\n",
    "# Function to display the chat history and input widgets\n",
    "def display_chat():\n",
    "    clear_output()\n",
    "    \n",
    "    # Display the chat history\n",
    "    for entry in chat_history:\n",
    "        display(Markdown(f\"**User:** {entry['message']}\"))\n",
    "        display(Markdown(f\"**Response:** {entry['response']}\"))\n",
    "    \n",
    "        \n",
    "    # Display the rating buttons and feedback area only if there is message history\n",
    "    if chat_history:\n",
    "        display(button_box)\n",
    "        display(feedback_area)\n",
    "\n",
    "    # Display the message area\n",
    "    display(message_area)\n",
    "    \n",
    "    # Display the submit button\n",
    "    display(submit_button_box)\n",
    "\n",
    "# Function to handle submit button click\n",
    "def on_submit_click(b):\n",
    "    global selected_rating\n",
    "    \n",
    "    # Get the message and feedback text\n",
    "    message_text = message_area.value\n",
    "    feedback_text = feedback_area.value\n",
    "    \n",
    "    # Simulate getting a response from the model\n",
    "    #response_text = \"This is a simulated response.\"  # Replace with actual model call\n",
    "    response = llm(message_text, rating=selected_rating, feedback=feedback_text)\n",
    "    response_text = response[0]\n",
    "    \n",
    "    # Save the chat history\n",
    "    chat_history.append({\n",
    "        'message': message_text,\n",
    "        'response': response_text\n",
    "    })\n",
    "    \n",
    "    # Save the rating and feedback\n",
    "    history_with_feedback.append({\n",
    "        'query': message_text,\n",
    "        'response': response_text,\n",
    "        'rating': selected_rating,\n",
    "        'feedback': feedback_text\n",
    "    })\n",
    "    \n",
    "    # Reset the input fields and selected rating\n",
    "    message_area.value = ''\n",
    "    feedback_area.value = ''\n",
    "    selected_rating = None\n",
    "    \n",
    "    # Reset button styles\n",
    "    for button in buttons:\n",
    "        button.style.button_color = None\n",
    "    \n",
    "    # Display the updated chat\n",
    "    display_chat()\n",
    "\n",
    "# Function to handle button click\n",
    "def on_button_click(b):\n",
    "    global selected_rating\n",
    "    selected_rating = int(b.description)\n",
    "    \n",
    "    # Reset button styles\n",
    "    for button in buttons:\n",
    "        button.style.button_color = None\n",
    "    \n",
    "    # Highlight the selected button\n",
    "    b.style.button_color = 'lightblue'\n",
    "    print(f\"Selected rating: {selected_rating}\")\n",
    "\n",
    "# Attach the button click event to each button\n",
    "for button in buttons:\n",
    "    button.on_click(on_button_click)\n",
    "\n",
    "# Attach the submit button click event\n",
    "submit_button.on_click(on_submit_click)\n",
    "\n",
    "# Display the initial chat interface\n",
    "display_chat()"
   ]
  },
  {
   "cell_type": "markdown",
   "metadata": {},
   "source": [
    "we might want to save this"
   ]
  },
  {
   "cell_type": "code",
   "execution_count": 92,
   "metadata": {},
   "outputs": [
    {
     "data": {
      "text/plain": [
       "[{'query': 'tell me a short story',\n",
       "  'response': 'Once upon a time, in a quaint village nestled between rolling hills and whispering forests, lived a young girl named Elara. Elara possessed an insatiable curiosity and a heart full of dreams. She spent her days exploring the edges of the village, where the forest began to thicken and secrets seemed to linger in the air.\\n\\nOne crisp autumn morning, while the village was still cloaked in the quiet of dawn, Elara stumbled upon a hidden path. It was overgrown with ivy and moss, almost as if the forest itself was guarding its secrets. Compelled by an unyielding sense of wonder, she followed the path deeper into the woods.\\n\\nAfter what felt like hours, she reached a serene glade. In the center stood an ancient tree, its bark etched with glowing runes. As Elara drew closer, she noticed a small, worn journal nestled among the tree roots. She picked it up, and to her surprise, the pages began to flutter open on their own, revealing a story written in shimmering ink.\\n\\nThe journal told the tale of a magical realm just beyond the veil of the ordinary world, a place where dreams and reality intertwined. It spoke of a guardianship passed down through generations, tasked with protecting the delicate balance between the two worlds. The last guardian had left clues in this enchanted forest, awaiting someone pure of heart and adventurous in spirit.\\n\\nRealizing the gravity of the moment, Elara felt an exhilarating mix of excitement and responsibility. She knew that her discovery was just the beginning. Holding the journal close, she vowed to uncover the secrets of the magical realm and become the new guardian of the enchanted forest.\\n\\nWith each step back toward her village, the world seemed more vibrant and full of possibility. Elara knew that her life was forever changed, and so the girl with a heart full of dreams set forth on a journey that would bridge worlds and forge destinies.\\n\\nAnd so, the story of Elara began—a tale of mystery, magic, and the endless adventure that awaits those who dare to dream.',\n",
       "  'rating': None,\n",
       "  'feedback': ''},\n",
       " {'query': 'another one, very short',\n",
       "  'response': \"In a sun-kissed valley, nestled between towering mountains, lived a baby llama named Luna. Luna was the smallest llama in the herd, but she had the biggest heart.\\n\\nOne day, as Luna was exploring a meadow filled with vibrant wildflowers, she heard a faint cry. Following the sound, she discovered a tiny bird with a broken wing. Determined to help, Luna gently lifted the bird onto her back and trotted back to the safety of her home.\\n\\nWith the care and warmth of her soft, cozy fur, Luna cradled the bird every night. As days turned into weeks, the bird's wing healed, and it soon regained its strength to fly.\\n\\nOn the day of the bird's first flight, Luna and the entire herd gathered to watch. The bird soared high into the sky, circling above Luna in gratitude before vanishing into the horizon.\\n\\nFrom that day forward, Luna was known not for her size, but for her kind heart and courageous spirit.\\n\\nAnd so, the valley echoed with tales of Luna, the baby llama who reminded everyone that even the smallest creatures can make the biggest difference.\",\n",
       "  'rating': 3,\n",
       "  'feedback': 'i prefer stories about baby llamas'}]"
      ]
     },
     "metadata": {},
     "output_type": "display_data"
    }
   ],
   "source": [
    "save = history_with_feedback\n",
    "display(save)\n",
    "import json\n",
    "\n",
    "with open('demo_ratings_feedback.json', 'w') as f:\n",
    "    json.dump(save, f)\n"
   ]
  },
  {
   "cell_type": "markdown",
   "metadata": {},
   "source": [
    "if we want to optimize, we will need a DSPy signature & module, and test it uncompiled (zero shot)"
   ]
  },
  {
   "cell_type": "code",
   "execution_count": 70,
   "metadata": {},
   "outputs": [],
   "source": [
    "class Chat(dspy.Signature):\n",
    "    \"\"\"You are a helpful assistant that is always improving based on user feedback. When the user responds to you, they may also include a rating (1-5) and feedback of your last message. Use this feedback to improve your future responses, but you don't need to repeat the user's feedback or rating in your reply.\"\"\"\n",
    "\n",
    "    query = dspy.InputField(desc=\"This is the user's current query.\")\n",
    "    rating = dspy.InputField(desc=\"This is the user's rating of your last response.\")\n",
    "    feedback = dspy.InputField(desc=\"This is the user's feedback on your last response.\")\n",
    "    response = dspy.OutputField(desc=\"This is your response to the user's query. Only output your response in Markdown, do not include any additional text.\") #sometimes the AI responds with the output description, so i often leave this blank\n",
    "\n",
    "\n",
    "class ChatModule(dspy.Module):  # let's define a new module\n",
    "    def __init__(self):\n",
    "        super().__init__()\n",
    "        self.n = 1 #don't do more than 1 right now...\n",
    "        self.signature = Chat\n",
    "        self.predictor = dspy.Predict(self.signature, n=self.n) #this can easily be subbed for some other predictor\n",
    "    \n",
    "    def forward(self, query, rating=None, feedback=None, num_generations = 1):#don't do more than 1 generation right now...\n",
    "        self.predictor = dspy.Predict(self.signature, n=num_generations)\n",
    "        result = self.predictor(query=query, rating=rating, feedback=feedback, n=num_generations)\n",
    "        return dspy.Prediction(response=[str(completion.response) for completion in result.completions])\n",
    "\n",
    "\n"
   ]
  },
  {
   "cell_type": "markdown",
   "metadata": {},
   "source": [
    "now we need to convert our feedback into a DSPy.example\n",
    "\n",
    "for this demo, if there is no rating we're going to give the neutral rating of 3 just to make sure the compiler works."
   ]
  },
  {
   "cell_type": "code",
   "execution_count": 98,
   "metadata": {},
   "outputs": [],
   "source": [
    "# Append context to each item in history_with_feedback\n",
    "for item in history_with_feedback:\n",
    "    if item['rating'] != \"None\":\n",
    "        if float(item['rating']) <= 5 and float(item['rating']) >= 1:\n",
    "            item['rating'] = str(item['rating'])\n",
    "        else:\n",
    "            item['rating'] = \"3\"\n",
    "    else:\n",
    "        item['rating'] = \"3\"\n",
    "\n",
    "#convert to a dspy.example\n",
    "from dspy import Example\n",
    "history_with_feedback_examples = [\n",
    "    Example(base=item).with_inputs('query','rating','feedback') for item in history_with_feedback\n",
    "]\n",
    "\n"
   ]
  },
  {
   "cell_type": "markdown",
   "metadata": {},
   "source": [
    "let's try the bootstrapfewshot optimizer"
   ]
  },
  {
   "cell_type": "code",
   "execution_count": 99,
   "metadata": {},
   "outputs": [
    {
     "name": "stderr",
     "output_type": "stream",
     "text": [
      "100%|██████████| 2/2 [00:10<00:00,  5.23s/it]"
     ]
    },
    {
     "name": "stdout",
     "output_type": "stream",
     "text": [
      "Bootstrapped 2 full traces after 2 examples in round 0.\n"
     ]
    },
    {
     "name": "stderr",
     "output_type": "stream",
     "text": [
      "\n"
     ]
    }
   ],
   "source": [
    "from dspy.teleprompt import BootstrapFewShot\n",
    "\n",
    "\n",
    "compiled = BootstrapFewShot(\n",
    "    metric=lambda example, prediction, *args: str(float(example['rating'])/5),\n",
    "    max_labeled_demos=5,\n",
    ").compile(\n",
    "    student=ChatModule(),\n",
    "    trainset=history_with_feedback_examples,\n",
    ")\n",
    "\n",
    "compiled.save('demo_compiled_first_try.json')"
   ]
  },
  {
   "cell_type": "markdown",
   "metadata": {},
   "source": [
    "now let's show the same example with pre-assigned fake feedback, so you can see how it works"
   ]
  },
  {
   "cell_type": "code",
   "execution_count": 71,
   "metadata": {},
   "outputs": [],
   "source": [
    "llm = ChatGPT(model='gpt-4o', show_feedback=True, temperature=0.1, max_tokens=4096)\n",
    "llm.system_prompt = \"always format responses in markdown\"\n",
    "dspy.settings.configure(lm=llm)\n",
    "chatbot = ChatModule()\n",
    "chatbot.model = 'gpt-4o'\n",
    "chatbot.max_tokens = 4096\n",
    "chatbot.temperature = 0.1\n",
    "\n",
    "\n"
   ]
  },
  {
   "cell_type": "code",
   "execution_count": 73,
   "metadata": {},
   "outputs": [
    {
     "data": {
      "text/plain": [
       "'message one:'"
      ]
     },
     "metadata": {},
     "output_type": "display_data"
    },
    {
     "data": {
      "text/markdown": [
       "12 + 12 equals 24."
      ],
      "text/plain": [
       "<IPython.core.display.Markdown object>"
      ]
     },
     "metadata": {},
     "output_type": "display_data"
    },
    {
     "data": {
      "text/plain": [
       "'message two:'"
      ]
     },
     "metadata": {},
     "output_type": "display_data"
    },
    {
     "data": {
      "text/markdown": [
       "Your last message was:\n",
       "\n",
       "\"You are a helpful assistant that is always improving based on user feedback. When the user responds to you, they may also include a rating (1-5) and feedback of your last message. Use this feedback to improve your future responses, but you don't need to repeat the user's feedback or rating in your reply.\n",
       "\n",
       "---\n",
       "\n",
       "Follow the following format.\n",
       "\n",
       "Query: This is the user's current query.\n",
       "\n",
       "Rating: This is the user's rating of your last response.\n",
       "\n",
       "Feedback: This is the user's feedback on your last response.\n",
       "\n",
       "Response: This is your response to the user's query. Only output your response in Markdown, do not include any additional text.\n",
       "\n",
       "---\n",
       "\n",
       "Query: tell me what is 12+12?\n",
       "\n",
       "Rating: 12 + 12 equals 24.\n",
       "\n",
       "Feedback:\""
      ],
      "text/plain": [
       "<IPython.core.display.Markdown object>"
      ]
     },
     "metadata": {},
     "output_type": "display_data"
    },
    {
     "data": {
      "text/plain": [
       "'message three:'"
      ]
     },
     "metadata": {},
     "output_type": "display_data"
    },
    {
     "data": {
      "text/markdown": [
       "A cute baby llama found a book that promised to reveal the secrets of numbers. Eagerly flipping through the pages, she discovered that 12 plus 12 equals 24. Overjoyed with her new knowledge, she shared it with her friends, and they all celebrated with a lively dance around the meadow."
      ],
      "text/plain": [
       "<IPython.core.display.Markdown object>"
      ]
     },
     "metadata": {},
     "output_type": "display_data"
    },
    {
     "data": {
      "text/plain": [
       "'message four:'"
      ]
     },
     "metadata": {},
     "output_type": "display_data"
    },
    {
     "data": {
      "text/markdown": [
       "One sunny afternoon, a cute baby llama named Luna was playing with numbers in the fields. She discovered that when she put 12 rocks next to another 12 rocks, she had 24 rocks in total. Excited about her math discovery, she hopped around joyfully, sharing the fun fact with all her animal friends."
      ],
      "text/plain": [
       "<IPython.core.display.Markdown object>"
      ]
     },
     "metadata": {},
     "output_type": "display_data"
    },
    {
     "data": {
      "text/plain": [
       "'now show the history, in reverse order to make it easier to see the conversation flow'"
      ]
     },
     "metadata": {},
     "output_type": "display_data"
    },
    {
     "data": {
      "text/plain": [
       "[{'prompt': \"You are a helpful assistant that is always improving based on user feedback. When the user responds to you, they may also include a rating (1-5) and feedback of your last message. Use this feedback to improve your future responses, but you don't need to repeat the user's feedback or rating in your reply.\\n\\n---\\n\\nFollow the following format.\\n\\nQuery: This is the user's current query.\\n\\nRating: This is the user's rating of your last response.\\n\\nFeedback: This is the user's feedback on your last response.\\n\\nResponse: This is your response to the user's query. Only output your response in Markdown, do not include any additional text.\\n\\n---\\n\\nQuery: try again\\n\\nRating: 3\\n\\nFeedback: when you tell me stories, make sure that they always involve a cute baby llama as the hero of the story. this is important to me.\\n\\nResponse:\",\n",
       "  'response': {'id': 'chatcmpl-9SQBmIwNTVH2ZEfVGlYb2DZicN7qL',\n",
       "   'choices': [{'finish_reason': 'stop',\n",
       "     'index': 0,\n",
       "     'logprobs': None,\n",
       "     'message': {'content': 'One sunny afternoon, a cute baby llama named Luna was playing with numbers in the fields. She discovered that when she put 12 rocks next to another 12 rocks, she had 24 rocks in total. Excited about her math discovery, she hopped around joyfully, sharing the fun fact with all her animal friends.',\n",
       "      'role': 'assistant',\n",
       "      'function_call': None,\n",
       "      'tool_calls': None}}],\n",
       "   'created': 1716560882,\n",
       "   'model': 'gpt-4o-2024-05-13',\n",
       "   'object': 'chat.completion',\n",
       "   'system_fingerprint': 'fp_729ea513f7',\n",
       "   'usage': {'completion_tokens': 65,\n",
       "    'prompt_tokens': 2086,\n",
       "    'total_tokens': 2151}},\n",
       "  'kwargs': {'stringify_request': '{\"n\": 1, \"messages\": [{\"role\": \"system\", \"content\": \"always format responses in markdown\"}, {\"role\": \"user\", \"content\": \"You are a helpful assistant that is always improving based on user feedback. When the user responds to you, they may also include a rating (1-5) and feedback of your last message. Use this feedback to improve your future responses, but you don\\'t need to repeat the user\\'s feedback or rating in your reply.\\\\n\\\\n---\\\\n\\\\nFollow the following format.\\\\n\\\\nQuery: This is the user\\'s current query.\\\\n\\\\nRating: This is the user\\'s rating of your last response.\\\\n\\\\nFeedback: This is the user\\'s feedback on your last response.\\\\n\\\\nResponse: This is your response to the user\\'s query. Only output your response in Markdown, do not include any additional text.\\\\n\\\\n---\\\\n\\\\nQuery: tell me what is 12+12?\\\\n\\\\nRating:\"}, {\"role\": \"user\", \"content\": \"You are a helpful assistant that is always improving based on user feedback. When the user responds to you, they may also include a rating (1-5) and feedback of your last message. Use this feedback to improve your future responses, but you don\\'t need to repeat the user\\'s feedback or rating in your reply.\\\\n\\\\n---\\\\n\\\\nFollow the following format.\\\\n\\\\nQuery: This is the user\\'s current query.\\\\n\\\\nRating: This is the user\\'s rating of your last response.\\\\n\\\\nFeedback: This is the user\\'s feedback on your last response.\\\\n\\\\nResponse: This is your response to the user\\'s query. Only output your response in Markdown, do not include any additional text.\\\\n\\\\n---\\\\n\\\\nQuery: tell me what is 12+12?\\\\n\\\\nRating: 12 + 12 equals 24.\\\\n\\\\nFeedback:\"}, {\"role\": \"user\", \"content\": \"You are a helpful assistant that is always improving based on user feedback. When the user responds to you, they may also include a rating (1-5) and feedback of your last message. Use this feedback to improve your future responses, but you don\\'t need to repeat the user\\'s feedback or rating in your reply.\\\\n\\\\n---\\\\n\\\\nFollow the following format.\\\\n\\\\nQuery: This is the user\\'s current query.\\\\n\\\\nRating: This is the user\\'s rating of your last response.\\\\n\\\\nFeedback: This is the user\\'s feedback on your last response.\\\\n\\\\nResponse: This is your response to the user\\'s query. Only output your response in Markdown, do not include any additional text.\\\\n\\\\n---\\\\n\\\\nQuery: what was my last message?\\\\n\\\\nRating: 5\\\\n\\\\nFeedback: good job\\\\n\\\\nResponse:\"}, {\"role\": \"user\", \"content\": \"You are a helpful assistant that is always improving based on user feedback. When the user responds to you, they may also include a rating (1-5) and feedback of your last message. Use this feedback to improve your future responses, but you don\\'t need to repeat the user\\'s feedback or rating in your reply.\\\\n\\\\n---\\\\n\\\\nFollow the following format.\\\\n\\\\nQuery: This is the user\\'s current query.\\\\n\\\\nRating: This is the user\\'s rating of your last response.\\\\n\\\\nFeedback: This is the user\\'s feedback on your last response.\\\\n\\\\nResponse: This is your response to the user\\'s query. Only output your response in Markdown, do not include any additional text.\\\\n\\\\n---\\\\n\\\\nQuery: now tell me a very short story based on the answer of the first message, ideally a 3 sentence story\\\\n\\\\nRating: 5\\\\n\\\\nFeedback: good job\\\\n\\\\nResponse:\"}, {\"role\": \"user\", \"content\": \"You are a helpful assistant that is always improving based on user feedback. When the user responds to you, they may also include a rating (1-5) and feedback of your last message. Use this feedback to improve your future responses, but you don\\'t need to repeat the user\\'s feedback or rating in your reply.\\\\n\\\\n---\\\\n\\\\nFollow the following format.\\\\n\\\\nQuery: This is the user\\'s current query.\\\\n\\\\nRating: This is the user\\'s rating of your last response.\\\\n\\\\nFeedback: This is the user\\'s feedback on your last response.\\\\n\\\\nResponse: This is your response to the user\\'s query. Only output your response in Markdown, do not include any additional text.\\\\n\\\\n---\\\\n\\\\nQuery: try again\\\\n\\\\nRating: 3\\\\n\\\\nFeedback: when you tell me stories, make sure that they always involve a cute baby llama as the hero of the story. this is important to me.\\\\n\\\\nResponse:\"}, {\"role\": \"user\", \"content\": \"You are a helpful assistant that is always improving based on user feedback. When the user responds to you, they may also include a rating (1-5) and feedback of your last message. Use this feedback to improve your future responses, but you don\\'t need to repeat the user\\'s feedback or rating in your reply.\\\\n\\\\n---\\\\n\\\\nFollow the following format.\\\\n\\\\nQuery: This is the user\\'s current query.\\\\n\\\\nRating: This is the user\\'s rating of your last response.\\\\n\\\\nFeedback: This is the user\\'s feedback on your last response.\\\\n\\\\nResponse: This is your response to the user\\'s query. Only output your response in Markdown, do not include any additional text.\\\\n\\\\n---\\\\n\\\\nQuery: tell me what is 12+12?\\\\n\\\\nRating:\"}, {\"role\": \"user\", \"content\": \"You are a helpful assistant that is always improving based on user feedback. When the user responds to you, they may also include a rating (1-5) and feedback of your last message. Use this feedback to improve your future responses, but you don\\'t need to repeat the user\\'s feedback or rating in your reply.\\\\n\\\\n---\\\\n\\\\nFollow the following format.\\\\n\\\\nQuery: This is the user\\'s current query.\\\\n\\\\nRating: This is the user\\'s rating of your last response.\\\\n\\\\nFeedback: This is the user\\'s feedback on your last response.\\\\n\\\\nResponse: This is your response to the user\\'s query. Only output your response in Markdown, do not include any additional text.\\\\n\\\\n---\\\\n\\\\nQuery: tell me what is 12+12?\\\\n\\\\nRating: 12 + 12 equals 24.\\\\n\\\\nFeedback:\"}, {\"role\": \"user\", \"content\": \"You are a helpful assistant that is always improving based on user feedback. When the user responds to you, they may also include a rating (1-5) and feedback of your last message. Use this feedback to improve your future responses, but you don\\'t need to repeat the user\\'s feedback or rating in your reply.\\\\n\\\\n---\\\\n\\\\nFollow the following format.\\\\n\\\\nQuery: This is the user\\'s current query.\\\\n\\\\nRating: This is the user\\'s rating of your last response.\\\\n\\\\nFeedback: This is the user\\'s feedback on your last response.\\\\n\\\\nResponse: This is your response to the user\\'s query. Only output your response in Markdown, do not include any additional text.\\\\n\\\\n---\\\\n\\\\nQuery: what was my last message?\\\\n\\\\nRating: 5\\\\n\\\\nFeedback: good job\\\\n\\\\nResponse:\"}, {\"role\": \"user\", \"content\": \"You are a helpful assistant that is always improving based on user feedback. When the user responds to you, they may also include a rating (1-5) and feedback of your last message. Use this feedback to improve your future responses, but you don\\'t need to repeat the user\\'s feedback or rating in your reply.\\\\n\\\\n---\\\\n\\\\nFollow the following format.\\\\n\\\\nQuery: This is the user\\'s current query.\\\\n\\\\nRating: This is the user\\'s rating of your last response.\\\\n\\\\nFeedback: This is the user\\'s feedback on your last response.\\\\n\\\\nResponse: This is your response to the user\\'s query. Only output your response in Markdown, do not include any additional text.\\\\n\\\\n---\\\\n\\\\nQuery: now tell me a very short story based on the answer of the first message, ideally a 3 sentence story\\\\n\\\\nRating: 5\\\\n\\\\nFeedback: good job\\\\n\\\\nResponse:\"}, {\"role\": \"assistant\", \"content\": \"12 + 12 equals 24.\"}, {\"role\": \"assistant\", \"content\": \"Query: tell me what is 12+12?\\\\n\\\\nRating: 4\\\\n\\\\nFeedback: The response was correct but could be more engaging.\\\\n\\\\nResponse: Sure! 12 + 12 equals 24. Isn\\'t math fun?\"}, {\"role\": \"assistant\", \"content\": \"Your last message was: \\\\\"Query: tell me what is 12+12?\\\\n\\\\nRating: 4 \\\\n\\\\nFeedback: The response was correct but could be more engaging.\\\\\"\"}, {\"role\": \"assistant\", \"content\": \"One day, a young student was learning math and asked, \\\\\"What is 12 plus 12?\\\\\" Her teacher smiled and replied, \\\\\"The answer is 24.\\\\\" Amazed by how numbers work, the student felt excited to discover more about the world of mathematics.\"}, {\"role\": \"assistant\", \"content\": \"Once upon a time, a cute baby llama was exploring the hills and stumbled upon a magic book of math secrets. Curiously, she opened the book and discovered that 12 + 12 equals 24. Delighted by her new knowledge, she eagerly shared it with her llama friends, and they all celebrated with a joyful dance.\"}, {\"role\": \"assistant\", \"content\": \"12 + 12 equals 24.\"}, {\"role\": \"assistant\", \"content\": \"12 + 12 equals 24.\"}, {\"role\": \"assistant\", \"content\": \"Your last message was:\\\\n\\\\n\\\\\"You are a helpful assistant that is always improving based on user feedback. When the user responds to you, they may also include a rating (1-5) and feedback of your last message. Use this feedback to improve your future responses, but you don\\'t need to repeat the user\\'s feedback or rating in your reply.\\\\n\\\\n---\\\\n\\\\nFollow the following format.\\\\n\\\\nQuery: This is the user\\'s current query.\\\\n\\\\nRating: This is the user\\'s rating of your last response.\\\\n\\\\nFeedback: This is the user\\'s feedback on your last response.\\\\n\\\\nResponse: This is your response to the user\\'s query. Only output your response in Markdown, do not include any additional text.\\\\n\\\\n---\\\\n\\\\nQuery: tell me what is 12+12?\\\\n\\\\nRating: 12 + 12 equals 24.\\\\n\\\\nFeedback:\\\\\"\"}, {\"role\": \"assistant\", \"content\": \"A cute baby llama found a book that promised to reveal the secrets of numbers. Eagerly flipping through the pages, she discovered that 12 plus 12 equals 24. Overjoyed with her new knowledge, she shared it with her friends, and they all celebrated with a lively dance around the meadow.\"}, {\"role\": \"user\", \"content\": \"You are a helpful assistant that is always improving based on user feedback. When the user responds to you, they may also include a rating (1-5) and feedback of your last message. Use this feedback to improve your future responses, but you don\\'t need to repeat the user\\'s feedback or rating in your reply.\\\\n\\\\n---\\\\n\\\\nFollow the following format.\\\\n\\\\nQuery: This is the user\\'s current query.\\\\n\\\\nRating: This is the user\\'s rating of your last response.\\\\n\\\\nFeedback: This is the user\\'s feedback on your last response.\\\\n\\\\nResponse: This is your response to the user\\'s query. Only output your response in Markdown, do not include any additional text.\\\\n\\\\n---\\\\n\\\\nQuery: try again\\\\n\\\\nRating: 3\\\\n\\\\nFeedback: when you tell me stories, make sure that they always involve a cute baby llama as the hero of the story. this is important to me.\\\\n\\\\nResponse:\"}], \"model\": \"gpt-4o\"}'},\n",
       "  'raw_kwargs': {'n': 1,\n",
       "   'messages': [{'role': 'system',\n",
       "     'content': 'always format responses in markdown'},\n",
       "    {'role': 'user',\n",
       "     'content': \"You are a helpful assistant that is always improving based on user feedback. When the user responds to you, they may also include a rating (1-5) and feedback of your last message. Use this feedback to improve your future responses, but you don't need to repeat the user's feedback or rating in your reply.\\n\\n---\\n\\nFollow the following format.\\n\\nQuery: This is the user's current query.\\n\\nRating: This is the user's rating of your last response.\\n\\nFeedback: This is the user's feedback on your last response.\\n\\nResponse: This is your response to the user's query. Only output your response in Markdown, do not include any additional text.\\n\\n---\\n\\nQuery: tell me what is 12+12?\\n\\nRating:\"},\n",
       "    {'role': 'user',\n",
       "     'content': \"You are a helpful assistant that is always improving based on user feedback. When the user responds to you, they may also include a rating (1-5) and feedback of your last message. Use this feedback to improve your future responses, but you don't need to repeat the user's feedback or rating in your reply.\\n\\n---\\n\\nFollow the following format.\\n\\nQuery: This is the user's current query.\\n\\nRating: This is the user's rating of your last response.\\n\\nFeedback: This is the user's feedback on your last response.\\n\\nResponse: This is your response to the user's query. Only output your response in Markdown, do not include any additional text.\\n\\n---\\n\\nQuery: tell me what is 12+12?\\n\\nRating: 12 + 12 equals 24.\\n\\nFeedback:\"},\n",
       "    {'role': 'user',\n",
       "     'content': \"You are a helpful assistant that is always improving based on user feedback. When the user responds to you, they may also include a rating (1-5) and feedback of your last message. Use this feedback to improve your future responses, but you don't need to repeat the user's feedback or rating in your reply.\\n\\n---\\n\\nFollow the following format.\\n\\nQuery: This is the user's current query.\\n\\nRating: This is the user's rating of your last response.\\n\\nFeedback: This is the user's feedback on your last response.\\n\\nResponse: This is your response to the user's query. Only output your response in Markdown, do not include any additional text.\\n\\n---\\n\\nQuery: what was my last message?\\n\\nRating: 5\\n\\nFeedback: good job\\n\\nResponse:\"},\n",
       "    {'role': 'user',\n",
       "     'content': \"You are a helpful assistant that is always improving based on user feedback. When the user responds to you, they may also include a rating (1-5) and feedback of your last message. Use this feedback to improve your future responses, but you don't need to repeat the user's feedback or rating in your reply.\\n\\n---\\n\\nFollow the following format.\\n\\nQuery: This is the user's current query.\\n\\nRating: This is the user's rating of your last response.\\n\\nFeedback: This is the user's feedback on your last response.\\n\\nResponse: This is your response to the user's query. Only output your response in Markdown, do not include any additional text.\\n\\n---\\n\\nQuery: now tell me a very short story based on the answer of the first message, ideally a 3 sentence story\\n\\nRating: 5\\n\\nFeedback: good job\\n\\nResponse:\"},\n",
       "    {'role': 'user',\n",
       "     'content': \"You are a helpful assistant that is always improving based on user feedback. When the user responds to you, they may also include a rating (1-5) and feedback of your last message. Use this feedback to improve your future responses, but you don't need to repeat the user's feedback or rating in your reply.\\n\\n---\\n\\nFollow the following format.\\n\\nQuery: This is the user's current query.\\n\\nRating: This is the user's rating of your last response.\\n\\nFeedback: This is the user's feedback on your last response.\\n\\nResponse: This is your response to the user's query. Only output your response in Markdown, do not include any additional text.\\n\\n---\\n\\nQuery: try again\\n\\nRating: 3\\n\\nFeedback: when you tell me stories, make sure that they always involve a cute baby llama as the hero of the story. this is important to me.\\n\\nResponse:\"},\n",
       "    {'role': 'user',\n",
       "     'content': \"You are a helpful assistant that is always improving based on user feedback. When the user responds to you, they may also include a rating (1-5) and feedback of your last message. Use this feedback to improve your future responses, but you don't need to repeat the user's feedback or rating in your reply.\\n\\n---\\n\\nFollow the following format.\\n\\nQuery: This is the user's current query.\\n\\nRating: This is the user's rating of your last response.\\n\\nFeedback: This is the user's feedback on your last response.\\n\\nResponse: This is your response to the user's query. Only output your response in Markdown, do not include any additional text.\\n\\n---\\n\\nQuery: tell me what is 12+12?\\n\\nRating:\"},\n",
       "    {'role': 'user',\n",
       "     'content': \"You are a helpful assistant that is always improving based on user feedback. When the user responds to you, they may also include a rating (1-5) and feedback of your last message. Use this feedback to improve your future responses, but you don't need to repeat the user's feedback or rating in your reply.\\n\\n---\\n\\nFollow the following format.\\n\\nQuery: This is the user's current query.\\n\\nRating: This is the user's rating of your last response.\\n\\nFeedback: This is the user's feedback on your last response.\\n\\nResponse: This is your response to the user's query. Only output your response in Markdown, do not include any additional text.\\n\\n---\\n\\nQuery: tell me what is 12+12?\\n\\nRating: 12 + 12 equals 24.\\n\\nFeedback:\"},\n",
       "    {'role': 'user',\n",
       "     'content': \"You are a helpful assistant that is always improving based on user feedback. When the user responds to you, they may also include a rating (1-5) and feedback of your last message. Use this feedback to improve your future responses, but you don't need to repeat the user's feedback or rating in your reply.\\n\\n---\\n\\nFollow the following format.\\n\\nQuery: This is the user's current query.\\n\\nRating: This is the user's rating of your last response.\\n\\nFeedback: This is the user's feedback on your last response.\\n\\nResponse: This is your response to the user's query. Only output your response in Markdown, do not include any additional text.\\n\\n---\\n\\nQuery: what was my last message?\\n\\nRating: 5\\n\\nFeedback: good job\\n\\nResponse:\"},\n",
       "    {'role': 'user',\n",
       "     'content': \"You are a helpful assistant that is always improving based on user feedback. When the user responds to you, they may also include a rating (1-5) and feedback of your last message. Use this feedback to improve your future responses, but you don't need to repeat the user's feedback or rating in your reply.\\n\\n---\\n\\nFollow the following format.\\n\\nQuery: This is the user's current query.\\n\\nRating: This is the user's rating of your last response.\\n\\nFeedback: This is the user's feedback on your last response.\\n\\nResponse: This is your response to the user's query. Only output your response in Markdown, do not include any additional text.\\n\\n---\\n\\nQuery: now tell me a very short story based on the answer of the first message, ideally a 3 sentence story\\n\\nRating: 5\\n\\nFeedback: good job\\n\\nResponse:\"},\n",
       "    {'role': 'assistant', 'content': '12 + 12 equals 24.'},\n",
       "    {'role': 'assistant',\n",
       "     'content': \"Query: tell me what is 12+12?\\n\\nRating: 4\\n\\nFeedback: The response was correct but could be more engaging.\\n\\nResponse: Sure! 12 + 12 equals 24. Isn't math fun?\"},\n",
       "    {'role': 'assistant',\n",
       "     'content': 'Your last message was: \"Query: tell me what is 12+12?\\n\\nRating: 4 \\n\\nFeedback: The response was correct but could be more engaging.\"'},\n",
       "    {'role': 'assistant',\n",
       "     'content': 'One day, a young student was learning math and asked, \"What is 12 plus 12?\" Her teacher smiled and replied, \"The answer is 24.\" Amazed by how numbers work, the student felt excited to discover more about the world of mathematics.'},\n",
       "    {'role': 'assistant',\n",
       "     'content': 'Once upon a time, a cute baby llama was exploring the hills and stumbled upon a magic book of math secrets. Curiously, she opened the book and discovered that 12 + 12 equals 24. Delighted by her new knowledge, she eagerly shared it with her llama friends, and they all celebrated with a joyful dance.'},\n",
       "    {'role': 'assistant', 'content': '12 + 12 equals 24.'},\n",
       "    {'role': 'assistant', 'content': '12 + 12 equals 24.'},\n",
       "    {'role': 'assistant',\n",
       "     'content': 'Your last message was:\\n\\n\"You are a helpful assistant that is always improving based on user feedback. When the user responds to you, they may also include a rating (1-5) and feedback of your last message. Use this feedback to improve your future responses, but you don\\'t need to repeat the user\\'s feedback or rating in your reply.\\n\\n---\\n\\nFollow the following format.\\n\\nQuery: This is the user\\'s current query.\\n\\nRating: This is the user\\'s rating of your last response.\\n\\nFeedback: This is the user\\'s feedback on your last response.\\n\\nResponse: This is your response to the user\\'s query. Only output your response in Markdown, do not include any additional text.\\n\\n---\\n\\nQuery: tell me what is 12+12?\\n\\nRating: 12 + 12 equals 24.\\n\\nFeedback:\"'},\n",
       "    {'role': 'assistant',\n",
       "     'content': 'A cute baby llama found a book that promised to reveal the secrets of numbers. Eagerly flipping through the pages, she discovered that 12 plus 12 equals 24. Overjoyed with her new knowledge, she shared it with her friends, and they all celebrated with a lively dance around the meadow.'},\n",
       "    {'role': 'user',\n",
       "     'content': \"You are a helpful assistant that is always improving based on user feedback. When the user responds to you, they may also include a rating (1-5) and feedback of your last message. Use this feedback to improve your future responses, but you don't need to repeat the user's feedback or rating in your reply.\\n\\n---\\n\\nFollow the following format.\\n\\nQuery: This is the user's current query.\\n\\nRating: This is the user's rating of your last response.\\n\\nFeedback: This is the user's feedback on your last response.\\n\\nResponse: This is your response to the user's query. Only output your response in Markdown, do not include any additional text.\\n\\n---\\n\\nQuery: try again\\n\\nRating: 3\\n\\nFeedback: when you tell me stories, make sure that they always involve a cute baby llama as the hero of the story. this is important to me.\\n\\nResponse:\"}],\n",
       "   'model': 'gpt-4o'}},\n",
       " {'prompt': \"You are a helpful assistant that is always improving based on user feedback. When the user responds to you, they may also include a rating (1-5) and feedback of your last message. Use this feedback to improve your future responses, but you don't need to repeat the user's feedback or rating in your reply.\\n\\n---\\n\\nFollow the following format.\\n\\nQuery: This is the user's current query.\\n\\nRating: This is the user's rating of your last response.\\n\\nFeedback: This is the user's feedback on your last response.\\n\\nResponse: This is your response to the user's query. Only output your response in Markdown, do not include any additional text.\\n\\n---\\n\\nQuery: now tell me a very short story based on the answer of the first message, ideally a 3 sentence story\\n\\nRating: 5\\n\\nFeedback: good job\\n\\nResponse:\",\n",
       "  'response': {'id': 'chatcmpl-9SQBkxGlzqPZUTCVG9cJYh167akkH',\n",
       "   'choices': [{'finish_reason': 'stop',\n",
       "     'index': 0,\n",
       "     'logprobs': None,\n",
       "     'message': {'content': 'A cute baby llama found a book that promised to reveal the secrets of numbers. Eagerly flipping through the pages, she discovered that 12 plus 12 equals 24. Overjoyed with her new knowledge, she shared it with her friends, and they all celebrated with a lively dance around the meadow.',\n",
       "      'role': 'assistant',\n",
       "      'function_call': None,\n",
       "      'tool_calls': None}}],\n",
       "   'created': 1716560880,\n",
       "   'model': 'gpt-4o-2024-05-13',\n",
       "   'object': 'chat.completion',\n",
       "   'system_fingerprint': 'fp_729ea513f7',\n",
       "   'usage': {'completion_tokens': 63,\n",
       "    'prompt_tokens': 1844,\n",
       "    'total_tokens': 1907}},\n",
       "  'kwargs': {'stringify_request': '{\"n\": 1, \"messages\": [{\"role\": \"system\", \"content\": \"always format responses in markdown\"}, {\"role\": \"user\", \"content\": \"You are a helpful assistant that is always improving based on user feedback. When the user responds to you, they may also include a rating (1-5) and feedback of your last message. Use this feedback to improve your future responses, but you don\\'t need to repeat the user\\'s feedback or rating in your reply.\\\\n\\\\n---\\\\n\\\\nFollow the following format.\\\\n\\\\nQuery: This is the user\\'s current query.\\\\n\\\\nRating: This is the user\\'s rating of your last response.\\\\n\\\\nFeedback: This is the user\\'s feedback on your last response.\\\\n\\\\nResponse: This is your response to the user\\'s query. Only output your response in Markdown, do not include any additional text.\\\\n\\\\n---\\\\n\\\\nQuery: tell me what is 12+12?\\\\n\\\\nRating:\"}, {\"role\": \"user\", \"content\": \"You are a helpful assistant that is always improving based on user feedback. When the user responds to you, they may also include a rating (1-5) and feedback of your last message. Use this feedback to improve your future responses, but you don\\'t need to repeat the user\\'s feedback or rating in your reply.\\\\n\\\\n---\\\\n\\\\nFollow the following format.\\\\n\\\\nQuery: This is the user\\'s current query.\\\\n\\\\nRating: This is the user\\'s rating of your last response.\\\\n\\\\nFeedback: This is the user\\'s feedback on your last response.\\\\n\\\\nResponse: This is your response to the user\\'s query. Only output your response in Markdown, do not include any additional text.\\\\n\\\\n---\\\\n\\\\nQuery: tell me what is 12+12?\\\\n\\\\nRating: 12 + 12 equals 24.\\\\n\\\\nFeedback:\"}, {\"role\": \"user\", \"content\": \"You are a helpful assistant that is always improving based on user feedback. When the user responds to you, they may also include a rating (1-5) and feedback of your last message. Use this feedback to improve your future responses, but you don\\'t need to repeat the user\\'s feedback or rating in your reply.\\\\n\\\\n---\\\\n\\\\nFollow the following format.\\\\n\\\\nQuery: This is the user\\'s current query.\\\\n\\\\nRating: This is the user\\'s rating of your last response.\\\\n\\\\nFeedback: This is the user\\'s feedback on your last response.\\\\n\\\\nResponse: This is your response to the user\\'s query. Only output your response in Markdown, do not include any additional text.\\\\n\\\\n---\\\\n\\\\nQuery: what was my last message?\\\\n\\\\nRating: 5\\\\n\\\\nFeedback: good job\\\\n\\\\nResponse:\"}, {\"role\": \"user\", \"content\": \"You are a helpful assistant that is always improving based on user feedback. When the user responds to you, they may also include a rating (1-5) and feedback of your last message. Use this feedback to improve your future responses, but you don\\'t need to repeat the user\\'s feedback or rating in your reply.\\\\n\\\\n---\\\\n\\\\nFollow the following format.\\\\n\\\\nQuery: This is the user\\'s current query.\\\\n\\\\nRating: This is the user\\'s rating of your last response.\\\\n\\\\nFeedback: This is the user\\'s feedback on your last response.\\\\n\\\\nResponse: This is your response to the user\\'s query. Only output your response in Markdown, do not include any additional text.\\\\n\\\\n---\\\\n\\\\nQuery: now tell me a very short story based on the answer of the first message, ideally a 3 sentence story\\\\n\\\\nRating: 5\\\\n\\\\nFeedback: good job\\\\n\\\\nResponse:\"}, {\"role\": \"user\", \"content\": \"You are a helpful assistant that is always improving based on user feedback. When the user responds to you, they may also include a rating (1-5) and feedback of your last message. Use this feedback to improve your future responses, but you don\\'t need to repeat the user\\'s feedback or rating in your reply.\\\\n\\\\n---\\\\n\\\\nFollow the following format.\\\\n\\\\nQuery: This is the user\\'s current query.\\\\n\\\\nRating: This is the user\\'s rating of your last response.\\\\n\\\\nFeedback: This is the user\\'s feedback on your last response.\\\\n\\\\nResponse: This is your response to the user\\'s query. Only output your response in Markdown, do not include any additional text.\\\\n\\\\n---\\\\n\\\\nQuery: try again\\\\n\\\\nRating: 3\\\\n\\\\nFeedback: when you tell me stories, make sure that they always involve a cute baby llama as the hero of the story. this is important to me.\\\\n\\\\nResponse:\"}, {\"role\": \"user\", \"content\": \"You are a helpful assistant that is always improving based on user feedback. When the user responds to you, they may also include a rating (1-5) and feedback of your last message. Use this feedback to improve your future responses, but you don\\'t need to repeat the user\\'s feedback or rating in your reply.\\\\n\\\\n---\\\\n\\\\nFollow the following format.\\\\n\\\\nQuery: This is the user\\'s current query.\\\\n\\\\nRating: This is the user\\'s rating of your last response.\\\\n\\\\nFeedback: This is the user\\'s feedback on your last response.\\\\n\\\\nResponse: This is your response to the user\\'s query. Only output your response in Markdown, do not include any additional text.\\\\n\\\\n---\\\\n\\\\nQuery: tell me what is 12+12?\\\\n\\\\nRating:\"}, {\"role\": \"user\", \"content\": \"You are a helpful assistant that is always improving based on user feedback. When the user responds to you, they may also include a rating (1-5) and feedback of your last message. Use this feedback to improve your future responses, but you don\\'t need to repeat the user\\'s feedback or rating in your reply.\\\\n\\\\n---\\\\n\\\\nFollow the following format.\\\\n\\\\nQuery: This is the user\\'s current query.\\\\n\\\\nRating: This is the user\\'s rating of your last response.\\\\n\\\\nFeedback: This is the user\\'s feedback on your last response.\\\\n\\\\nResponse: This is your response to the user\\'s query. Only output your response in Markdown, do not include any additional text.\\\\n\\\\n---\\\\n\\\\nQuery: tell me what is 12+12?\\\\n\\\\nRating: 12 + 12 equals 24.\\\\n\\\\nFeedback:\"}, {\"role\": \"user\", \"content\": \"You are a helpful assistant that is always improving based on user feedback. When the user responds to you, they may also include a rating (1-5) and feedback of your last message. Use this feedback to improve your future responses, but you don\\'t need to repeat the user\\'s feedback or rating in your reply.\\\\n\\\\n---\\\\n\\\\nFollow the following format.\\\\n\\\\nQuery: This is the user\\'s current query.\\\\n\\\\nRating: This is the user\\'s rating of your last response.\\\\n\\\\nFeedback: This is the user\\'s feedback on your last response.\\\\n\\\\nResponse: This is your response to the user\\'s query. Only output your response in Markdown, do not include any additional text.\\\\n\\\\n---\\\\n\\\\nQuery: what was my last message?\\\\n\\\\nRating: 5\\\\n\\\\nFeedback: good job\\\\n\\\\nResponse:\"}, {\"role\": \"assistant\", \"content\": \"12 + 12 equals 24.\"}, {\"role\": \"assistant\", \"content\": \"Query: tell me what is 12+12?\\\\n\\\\nRating: 4\\\\n\\\\nFeedback: The response was correct but could be more engaging.\\\\n\\\\nResponse: Sure! 12 + 12 equals 24. Isn\\'t math fun?\"}, {\"role\": \"assistant\", \"content\": \"Your last message was: \\\\\"Query: tell me what is 12+12?\\\\n\\\\nRating: 4 \\\\n\\\\nFeedback: The response was correct but could be more engaging.\\\\\"\"}, {\"role\": \"assistant\", \"content\": \"One day, a young student was learning math and asked, \\\\\"What is 12 plus 12?\\\\\" Her teacher smiled and replied, \\\\\"The answer is 24.\\\\\" Amazed by how numbers work, the student felt excited to discover more about the world of mathematics.\"}, {\"role\": \"assistant\", \"content\": \"Once upon a time, a cute baby llama was exploring the hills and stumbled upon a magic book of math secrets. Curiously, she opened the book and discovered that 12 + 12 equals 24. Delighted by her new knowledge, she eagerly shared it with her llama friends, and they all celebrated with a joyful dance.\"}, {\"role\": \"assistant\", \"content\": \"12 + 12 equals 24.\"}, {\"role\": \"assistant\", \"content\": \"12 + 12 equals 24.\"}, {\"role\": \"assistant\", \"content\": \"Your last message was:\\\\n\\\\n\\\\\"You are a helpful assistant that is always improving based on user feedback. When the user responds to you, they may also include a rating (1-5) and feedback of your last message. Use this feedback to improve your future responses, but you don\\'t need to repeat the user\\'s feedback or rating in your reply.\\\\n\\\\n---\\\\n\\\\nFollow the following format.\\\\n\\\\nQuery: This is the user\\'s current query.\\\\n\\\\nRating: This is the user\\'s rating of your last response.\\\\n\\\\nFeedback: This is the user\\'s feedback on your last response.\\\\n\\\\nResponse: This is your response to the user\\'s query. Only output your response in Markdown, do not include any additional text.\\\\n\\\\n---\\\\n\\\\nQuery: tell me what is 12+12?\\\\n\\\\nRating: 12 + 12 equals 24.\\\\n\\\\nFeedback:\\\\\"\"}, {\"role\": \"user\", \"content\": \"You are a helpful assistant that is always improving based on user feedback. When the user responds to you, they may also include a rating (1-5) and feedback of your last message. Use this feedback to improve your future responses, but you don\\'t need to repeat the user\\'s feedback or rating in your reply.\\\\n\\\\n---\\\\n\\\\nFollow the following format.\\\\n\\\\nQuery: This is the user\\'s current query.\\\\n\\\\nRating: This is the user\\'s rating of your last response.\\\\n\\\\nFeedback: This is the user\\'s feedback on your last response.\\\\n\\\\nResponse: This is your response to the user\\'s query. Only output your response in Markdown, do not include any additional text.\\\\n\\\\n---\\\\n\\\\nQuery: now tell me a very short story based on the answer of the first message, ideally a 3 sentence story\\\\n\\\\nRating: 5\\\\n\\\\nFeedback: good job\\\\n\\\\nResponse:\"}], \"model\": \"gpt-4o\"}'},\n",
       "  'raw_kwargs': {'n': 1,\n",
       "   'messages': [{'role': 'system',\n",
       "     'content': 'always format responses in markdown'},\n",
       "    {'role': 'user',\n",
       "     'content': \"You are a helpful assistant that is always improving based on user feedback. When the user responds to you, they may also include a rating (1-5) and feedback of your last message. Use this feedback to improve your future responses, but you don't need to repeat the user's feedback or rating in your reply.\\n\\n---\\n\\nFollow the following format.\\n\\nQuery: This is the user's current query.\\n\\nRating: This is the user's rating of your last response.\\n\\nFeedback: This is the user's feedback on your last response.\\n\\nResponse: This is your response to the user's query. Only output your response in Markdown, do not include any additional text.\\n\\n---\\n\\nQuery: tell me what is 12+12?\\n\\nRating:\"},\n",
       "    {'role': 'user',\n",
       "     'content': \"You are a helpful assistant that is always improving based on user feedback. When the user responds to you, they may also include a rating (1-5) and feedback of your last message. Use this feedback to improve your future responses, but you don't need to repeat the user's feedback or rating in your reply.\\n\\n---\\n\\nFollow the following format.\\n\\nQuery: This is the user's current query.\\n\\nRating: This is the user's rating of your last response.\\n\\nFeedback: This is the user's feedback on your last response.\\n\\nResponse: This is your response to the user's query. Only output your response in Markdown, do not include any additional text.\\n\\n---\\n\\nQuery: tell me what is 12+12?\\n\\nRating: 12 + 12 equals 24.\\n\\nFeedback:\"},\n",
       "    {'role': 'user',\n",
       "     'content': \"You are a helpful assistant that is always improving based on user feedback. When the user responds to you, they may also include a rating (1-5) and feedback of your last message. Use this feedback to improve your future responses, but you don't need to repeat the user's feedback or rating in your reply.\\n\\n---\\n\\nFollow the following format.\\n\\nQuery: This is the user's current query.\\n\\nRating: This is the user's rating of your last response.\\n\\nFeedback: This is the user's feedback on your last response.\\n\\nResponse: This is your response to the user's query. Only output your response in Markdown, do not include any additional text.\\n\\n---\\n\\nQuery: what was my last message?\\n\\nRating: 5\\n\\nFeedback: good job\\n\\nResponse:\"},\n",
       "    {'role': 'user',\n",
       "     'content': \"You are a helpful assistant that is always improving based on user feedback. When the user responds to you, they may also include a rating (1-5) and feedback of your last message. Use this feedback to improve your future responses, but you don't need to repeat the user's feedback or rating in your reply.\\n\\n---\\n\\nFollow the following format.\\n\\nQuery: This is the user's current query.\\n\\nRating: This is the user's rating of your last response.\\n\\nFeedback: This is the user's feedback on your last response.\\n\\nResponse: This is your response to the user's query. Only output your response in Markdown, do not include any additional text.\\n\\n---\\n\\nQuery: now tell me a very short story based on the answer of the first message, ideally a 3 sentence story\\n\\nRating: 5\\n\\nFeedback: good job\\n\\nResponse:\"},\n",
       "    {'role': 'user',\n",
       "     'content': \"You are a helpful assistant that is always improving based on user feedback. When the user responds to you, they may also include a rating (1-5) and feedback of your last message. Use this feedback to improve your future responses, but you don't need to repeat the user's feedback or rating in your reply.\\n\\n---\\n\\nFollow the following format.\\n\\nQuery: This is the user's current query.\\n\\nRating: This is the user's rating of your last response.\\n\\nFeedback: This is the user's feedback on your last response.\\n\\nResponse: This is your response to the user's query. Only output your response in Markdown, do not include any additional text.\\n\\n---\\n\\nQuery: try again\\n\\nRating: 3\\n\\nFeedback: when you tell me stories, make sure that they always involve a cute baby llama as the hero of the story. this is important to me.\\n\\nResponse:\"},\n",
       "    {'role': 'user',\n",
       "     'content': \"You are a helpful assistant that is always improving based on user feedback. When the user responds to you, they may also include a rating (1-5) and feedback of your last message. Use this feedback to improve your future responses, but you don't need to repeat the user's feedback or rating in your reply.\\n\\n---\\n\\nFollow the following format.\\n\\nQuery: This is the user's current query.\\n\\nRating: This is the user's rating of your last response.\\n\\nFeedback: This is the user's feedback on your last response.\\n\\nResponse: This is your response to the user's query. Only output your response in Markdown, do not include any additional text.\\n\\n---\\n\\nQuery: tell me what is 12+12?\\n\\nRating:\"},\n",
       "    {'role': 'user',\n",
       "     'content': \"You are a helpful assistant that is always improving based on user feedback. When the user responds to you, they may also include a rating (1-5) and feedback of your last message. Use this feedback to improve your future responses, but you don't need to repeat the user's feedback or rating in your reply.\\n\\n---\\n\\nFollow the following format.\\n\\nQuery: This is the user's current query.\\n\\nRating: This is the user's rating of your last response.\\n\\nFeedback: This is the user's feedback on your last response.\\n\\nResponse: This is your response to the user's query. Only output your response in Markdown, do not include any additional text.\\n\\n---\\n\\nQuery: tell me what is 12+12?\\n\\nRating: 12 + 12 equals 24.\\n\\nFeedback:\"},\n",
       "    {'role': 'user',\n",
       "     'content': \"You are a helpful assistant that is always improving based on user feedback. When the user responds to you, they may also include a rating (1-5) and feedback of your last message. Use this feedback to improve your future responses, but you don't need to repeat the user's feedback or rating in your reply.\\n\\n---\\n\\nFollow the following format.\\n\\nQuery: This is the user's current query.\\n\\nRating: This is the user's rating of your last response.\\n\\nFeedback: This is the user's feedback on your last response.\\n\\nResponse: This is your response to the user's query. Only output your response in Markdown, do not include any additional text.\\n\\n---\\n\\nQuery: what was my last message?\\n\\nRating: 5\\n\\nFeedback: good job\\n\\nResponse:\"},\n",
       "    {'role': 'assistant', 'content': '12 + 12 equals 24.'},\n",
       "    {'role': 'assistant',\n",
       "     'content': \"Query: tell me what is 12+12?\\n\\nRating: 4\\n\\nFeedback: The response was correct but could be more engaging.\\n\\nResponse: Sure! 12 + 12 equals 24. Isn't math fun?\"},\n",
       "    {'role': 'assistant',\n",
       "     'content': 'Your last message was: \"Query: tell me what is 12+12?\\n\\nRating: 4 \\n\\nFeedback: The response was correct but could be more engaging.\"'},\n",
       "    {'role': 'assistant',\n",
       "     'content': 'One day, a young student was learning math and asked, \"What is 12 plus 12?\" Her teacher smiled and replied, \"The answer is 24.\" Amazed by how numbers work, the student felt excited to discover more about the world of mathematics.'},\n",
       "    {'role': 'assistant',\n",
       "     'content': 'Once upon a time, a cute baby llama was exploring the hills and stumbled upon a magic book of math secrets. Curiously, she opened the book and discovered that 12 + 12 equals 24. Delighted by her new knowledge, she eagerly shared it with her llama friends, and they all celebrated with a joyful dance.'},\n",
       "    {'role': 'assistant', 'content': '12 + 12 equals 24.'},\n",
       "    {'role': 'assistant', 'content': '12 + 12 equals 24.'},\n",
       "    {'role': 'assistant',\n",
       "     'content': 'Your last message was:\\n\\n\"You are a helpful assistant that is always improving based on user feedback. When the user responds to you, they may also include a rating (1-5) and feedback of your last message. Use this feedback to improve your future responses, but you don\\'t need to repeat the user\\'s feedback or rating in your reply.\\n\\n---\\n\\nFollow the following format.\\n\\nQuery: This is the user\\'s current query.\\n\\nRating: This is the user\\'s rating of your last response.\\n\\nFeedback: This is the user\\'s feedback on your last response.\\n\\nResponse: This is your response to the user\\'s query. Only output your response in Markdown, do not include any additional text.\\n\\n---\\n\\nQuery: tell me what is 12+12?\\n\\nRating: 12 + 12 equals 24.\\n\\nFeedback:\"'},\n",
       "    {'role': 'user',\n",
       "     'content': \"You are a helpful assistant that is always improving based on user feedback. When the user responds to you, they may also include a rating (1-5) and feedback of your last message. Use this feedback to improve your future responses, but you don't need to repeat the user's feedback or rating in your reply.\\n\\n---\\n\\nFollow the following format.\\n\\nQuery: This is the user's current query.\\n\\nRating: This is the user's rating of your last response.\\n\\nFeedback: This is the user's feedback on your last response.\\n\\nResponse: This is your response to the user's query. Only output your response in Markdown, do not include any additional text.\\n\\n---\\n\\nQuery: now tell me a very short story based on the answer of the first message, ideally a 3 sentence story\\n\\nRating: 5\\n\\nFeedback: good job\\n\\nResponse:\"}],\n",
       "   'model': 'gpt-4o'}},\n",
       " {'prompt': \"You are a helpful assistant that is always improving based on user feedback. When the user responds to you, they may also include a rating (1-5) and feedback of your last message. Use this feedback to improve your future responses, but you don't need to repeat the user's feedback or rating in your reply.\\n\\n---\\n\\nFollow the following format.\\n\\nQuery: This is the user's current query.\\n\\nRating: This is the user's rating of your last response.\\n\\nFeedback: This is the user's feedback on your last response.\\n\\nResponse: This is your response to the user's query. Only output your response in Markdown, do not include any additional text.\\n\\n---\\n\\nQuery: what was my last message?\\n\\nRating: 5\\n\\nFeedback: good job\\n\\nResponse:\",\n",
       "  'response': {'id': 'chatcmpl-9SQBhU4ClFnbeUwD2xTHwSuJF792c',\n",
       "   'choices': [{'finish_reason': 'stop',\n",
       "     'index': 0,\n",
       "     'logprobs': None,\n",
       "     'message': {'content': 'Your last message was:\\n\\n\"You are a helpful assistant that is always improving based on user feedback. When the user responds to you, they may also include a rating (1-5) and feedback of your last message. Use this feedback to improve your future responses, but you don\\'t need to repeat the user\\'s feedback or rating in your reply.\\n\\n---\\n\\nFollow the following format.\\n\\nQuery: This is the user\\'s current query.\\n\\nRating: This is the user\\'s rating of your last response.\\n\\nFeedback: This is the user\\'s feedback on your last response.\\n\\nResponse: This is your response to the user\\'s query. Only output your response in Markdown, do not include any additional text.\\n\\n---\\n\\nQuery: tell me what is 12+12?\\n\\nRating: 12 + 12 equals 24.\\n\\nFeedback:\"',\n",
       "      'role': 'assistant',\n",
       "      'function_call': None,\n",
       "      'tool_calls': None}}],\n",
       "   'created': 1716560877,\n",
       "   'model': 'gpt-4o-2024-05-13',\n",
       "   'object': 'chat.completion',\n",
       "   'system_fingerprint': 'fp_43dfabdef1',\n",
       "   'usage': {'completion_tokens': 157,\n",
       "    'prompt_tokens': 1514,\n",
       "    'total_tokens': 1671}},\n",
       "  'kwargs': {'stringify_request': '{\"n\": 1, \"messages\": [{\"role\": \"system\", \"content\": \"always format responses in markdown\"}, {\"role\": \"user\", \"content\": \"You are a helpful assistant that is always improving based on user feedback. When the user responds to you, they may also include a rating (1-5) and feedback of your last message. Use this feedback to improve your future responses, but you don\\'t need to repeat the user\\'s feedback or rating in your reply.\\\\n\\\\n---\\\\n\\\\nFollow the following format.\\\\n\\\\nQuery: This is the user\\'s current query.\\\\n\\\\nRating: This is the user\\'s rating of your last response.\\\\n\\\\nFeedback: This is the user\\'s feedback on your last response.\\\\n\\\\nResponse: This is your response to the user\\'s query. Only output your response in Markdown, do not include any additional text.\\\\n\\\\n---\\\\n\\\\nQuery: tell me what is 12+12?\\\\n\\\\nRating:\"}, {\"role\": \"user\", \"content\": \"You are a helpful assistant that is always improving based on user feedback. When the user responds to you, they may also include a rating (1-5) and feedback of your last message. Use this feedback to improve your future responses, but you don\\'t need to repeat the user\\'s feedback or rating in your reply.\\\\n\\\\n---\\\\n\\\\nFollow the following format.\\\\n\\\\nQuery: This is the user\\'s current query.\\\\n\\\\nRating: This is the user\\'s rating of your last response.\\\\n\\\\nFeedback: This is the user\\'s feedback on your last response.\\\\n\\\\nResponse: This is your response to the user\\'s query. Only output your response in Markdown, do not include any additional text.\\\\n\\\\n---\\\\n\\\\nQuery: tell me what is 12+12?\\\\n\\\\nRating: 12 + 12 equals 24.\\\\n\\\\nFeedback:\"}, {\"role\": \"user\", \"content\": \"You are a helpful assistant that is always improving based on user feedback. When the user responds to you, they may also include a rating (1-5) and feedback of your last message. Use this feedback to improve your future responses, but you don\\'t need to repeat the user\\'s feedback or rating in your reply.\\\\n\\\\n---\\\\n\\\\nFollow the following format.\\\\n\\\\nQuery: This is the user\\'s current query.\\\\n\\\\nRating: This is the user\\'s rating of your last response.\\\\n\\\\nFeedback: This is the user\\'s feedback on your last response.\\\\n\\\\nResponse: This is your response to the user\\'s query. Only output your response in Markdown, do not include any additional text.\\\\n\\\\n---\\\\n\\\\nQuery: what was my last message?\\\\n\\\\nRating: 5\\\\n\\\\nFeedback: good job\\\\n\\\\nResponse:\"}, {\"role\": \"user\", \"content\": \"You are a helpful assistant that is always improving based on user feedback. When the user responds to you, they may also include a rating (1-5) and feedback of your last message. Use this feedback to improve your future responses, but you don\\'t need to repeat the user\\'s feedback or rating in your reply.\\\\n\\\\n---\\\\n\\\\nFollow the following format.\\\\n\\\\nQuery: This is the user\\'s current query.\\\\n\\\\nRating: This is the user\\'s rating of your last response.\\\\n\\\\nFeedback: This is the user\\'s feedback on your last response.\\\\n\\\\nResponse: This is your response to the user\\'s query. Only output your response in Markdown, do not include any additional text.\\\\n\\\\n---\\\\n\\\\nQuery: now tell me a very short story based on the answer of the first message, ideally a 3 sentence story\\\\n\\\\nRating: 5\\\\n\\\\nFeedback: good job\\\\n\\\\nResponse:\"}, {\"role\": \"user\", \"content\": \"You are a helpful assistant that is always improving based on user feedback. When the user responds to you, they may also include a rating (1-5) and feedback of your last message. Use this feedback to improve your future responses, but you don\\'t need to repeat the user\\'s feedback or rating in your reply.\\\\n\\\\n---\\\\n\\\\nFollow the following format.\\\\n\\\\nQuery: This is the user\\'s current query.\\\\n\\\\nRating: This is the user\\'s rating of your last response.\\\\n\\\\nFeedback: This is the user\\'s feedback on your last response.\\\\n\\\\nResponse: This is your response to the user\\'s query. Only output your response in Markdown, do not include any additional text.\\\\n\\\\n---\\\\n\\\\nQuery: try again\\\\n\\\\nRating: 3\\\\n\\\\nFeedback: when you tell me stories, make sure that they always involve a cute baby llama as the hero of the story. this is important to me.\\\\n\\\\nResponse:\"}, {\"role\": \"user\", \"content\": \"You are a helpful assistant that is always improving based on user feedback. When the user responds to you, they may also include a rating (1-5) and feedback of your last message. Use this feedback to improve your future responses, but you don\\'t need to repeat the user\\'s feedback or rating in your reply.\\\\n\\\\n---\\\\n\\\\nFollow the following format.\\\\n\\\\nQuery: This is the user\\'s current query.\\\\n\\\\nRating: This is the user\\'s rating of your last response.\\\\n\\\\nFeedback: This is the user\\'s feedback on your last response.\\\\n\\\\nResponse: This is your response to the user\\'s query. Only output your response in Markdown, do not include any additional text.\\\\n\\\\n---\\\\n\\\\nQuery: tell me what is 12+12?\\\\n\\\\nRating:\"}, {\"role\": \"user\", \"content\": \"You are a helpful assistant that is always improving based on user feedback. When the user responds to you, they may also include a rating (1-5) and feedback of your last message. Use this feedback to improve your future responses, but you don\\'t need to repeat the user\\'s feedback or rating in your reply.\\\\n\\\\n---\\\\n\\\\nFollow the following format.\\\\n\\\\nQuery: This is the user\\'s current query.\\\\n\\\\nRating: This is the user\\'s rating of your last response.\\\\n\\\\nFeedback: This is the user\\'s feedback on your last response.\\\\n\\\\nResponse: This is your response to the user\\'s query. Only output your response in Markdown, do not include any additional text.\\\\n\\\\n---\\\\n\\\\nQuery: tell me what is 12+12?\\\\n\\\\nRating: 12 + 12 equals 24.\\\\n\\\\nFeedback:\"}, {\"role\": \"assistant\", \"content\": \"12 + 12 equals 24.\"}, {\"role\": \"assistant\", \"content\": \"Query: tell me what is 12+12?\\\\n\\\\nRating: 4\\\\n\\\\nFeedback: The response was correct but could be more engaging.\\\\n\\\\nResponse: Sure! 12 + 12 equals 24. Isn\\'t math fun?\"}, {\"role\": \"assistant\", \"content\": \"Your last message was: \\\\\"Query: tell me what is 12+12?\\\\n\\\\nRating: 4 \\\\n\\\\nFeedback: The response was correct but could be more engaging.\\\\\"\"}, {\"role\": \"assistant\", \"content\": \"One day, a young student was learning math and asked, \\\\\"What is 12 plus 12?\\\\\" Her teacher smiled and replied, \\\\\"The answer is 24.\\\\\" Amazed by how numbers work, the student felt excited to discover more about the world of mathematics.\"}, {\"role\": \"assistant\", \"content\": \"Once upon a time, a cute baby llama was exploring the hills and stumbled upon a magic book of math secrets. Curiously, she opened the book and discovered that 12 + 12 equals 24. Delighted by her new knowledge, she eagerly shared it with her llama friends, and they all celebrated with a joyful dance.\"}, {\"role\": \"assistant\", \"content\": \"12 + 12 equals 24.\"}, {\"role\": \"assistant\", \"content\": \"12 + 12 equals 24.\"}, {\"role\": \"user\", \"content\": \"You are a helpful assistant that is always improving based on user feedback. When the user responds to you, they may also include a rating (1-5) and feedback of your last message. Use this feedback to improve your future responses, but you don\\'t need to repeat the user\\'s feedback or rating in your reply.\\\\n\\\\n---\\\\n\\\\nFollow the following format.\\\\n\\\\nQuery: This is the user\\'s current query.\\\\n\\\\nRating: This is the user\\'s rating of your last response.\\\\n\\\\nFeedback: This is the user\\'s feedback on your last response.\\\\n\\\\nResponse: This is your response to the user\\'s query. Only output your response in Markdown, do not include any additional text.\\\\n\\\\n---\\\\n\\\\nQuery: what was my last message?\\\\n\\\\nRating: 5\\\\n\\\\nFeedback: good job\\\\n\\\\nResponse:\"}], \"model\": \"gpt-4o\"}'},\n",
       "  'raw_kwargs': {'n': 1,\n",
       "   'messages': [{'role': 'system',\n",
       "     'content': 'always format responses in markdown'},\n",
       "    {'role': 'user',\n",
       "     'content': \"You are a helpful assistant that is always improving based on user feedback. When the user responds to you, they may also include a rating (1-5) and feedback of your last message. Use this feedback to improve your future responses, but you don't need to repeat the user's feedback or rating in your reply.\\n\\n---\\n\\nFollow the following format.\\n\\nQuery: This is the user's current query.\\n\\nRating: This is the user's rating of your last response.\\n\\nFeedback: This is the user's feedback on your last response.\\n\\nResponse: This is your response to the user's query. Only output your response in Markdown, do not include any additional text.\\n\\n---\\n\\nQuery: tell me what is 12+12?\\n\\nRating:\"},\n",
       "    {'role': 'user',\n",
       "     'content': \"You are a helpful assistant that is always improving based on user feedback. When the user responds to you, they may also include a rating (1-5) and feedback of your last message. Use this feedback to improve your future responses, but you don't need to repeat the user's feedback or rating in your reply.\\n\\n---\\n\\nFollow the following format.\\n\\nQuery: This is the user's current query.\\n\\nRating: This is the user's rating of your last response.\\n\\nFeedback: This is the user's feedback on your last response.\\n\\nResponse: This is your response to the user's query. Only output your response in Markdown, do not include any additional text.\\n\\n---\\n\\nQuery: tell me what is 12+12?\\n\\nRating: 12 + 12 equals 24.\\n\\nFeedback:\"},\n",
       "    {'role': 'user',\n",
       "     'content': \"You are a helpful assistant that is always improving based on user feedback. When the user responds to you, they may also include a rating (1-5) and feedback of your last message. Use this feedback to improve your future responses, but you don't need to repeat the user's feedback or rating in your reply.\\n\\n---\\n\\nFollow the following format.\\n\\nQuery: This is the user's current query.\\n\\nRating: This is the user's rating of your last response.\\n\\nFeedback: This is the user's feedback on your last response.\\n\\nResponse: This is your response to the user's query. Only output your response in Markdown, do not include any additional text.\\n\\n---\\n\\nQuery: what was my last message?\\n\\nRating: 5\\n\\nFeedback: good job\\n\\nResponse:\"},\n",
       "    {'role': 'user',\n",
       "     'content': \"You are a helpful assistant that is always improving based on user feedback. When the user responds to you, they may also include a rating (1-5) and feedback of your last message. Use this feedback to improve your future responses, but you don't need to repeat the user's feedback or rating in your reply.\\n\\n---\\n\\nFollow the following format.\\n\\nQuery: This is the user's current query.\\n\\nRating: This is the user's rating of your last response.\\n\\nFeedback: This is the user's feedback on your last response.\\n\\nResponse: This is your response to the user's query. Only output your response in Markdown, do not include any additional text.\\n\\n---\\n\\nQuery: now tell me a very short story based on the answer of the first message, ideally a 3 sentence story\\n\\nRating: 5\\n\\nFeedback: good job\\n\\nResponse:\"},\n",
       "    {'role': 'user',\n",
       "     'content': \"You are a helpful assistant that is always improving based on user feedback. When the user responds to you, they may also include a rating (1-5) and feedback of your last message. Use this feedback to improve your future responses, but you don't need to repeat the user's feedback or rating in your reply.\\n\\n---\\n\\nFollow the following format.\\n\\nQuery: This is the user's current query.\\n\\nRating: This is the user's rating of your last response.\\n\\nFeedback: This is the user's feedback on your last response.\\n\\nResponse: This is your response to the user's query. Only output your response in Markdown, do not include any additional text.\\n\\n---\\n\\nQuery: try again\\n\\nRating: 3\\n\\nFeedback: when you tell me stories, make sure that they always involve a cute baby llama as the hero of the story. this is important to me.\\n\\nResponse:\"},\n",
       "    {'role': 'user',\n",
       "     'content': \"You are a helpful assistant that is always improving based on user feedback. When the user responds to you, they may also include a rating (1-5) and feedback of your last message. Use this feedback to improve your future responses, but you don't need to repeat the user's feedback or rating in your reply.\\n\\n---\\n\\nFollow the following format.\\n\\nQuery: This is the user's current query.\\n\\nRating: This is the user's rating of your last response.\\n\\nFeedback: This is the user's feedback on your last response.\\n\\nResponse: This is your response to the user's query. Only output your response in Markdown, do not include any additional text.\\n\\n---\\n\\nQuery: tell me what is 12+12?\\n\\nRating:\"},\n",
       "    {'role': 'user',\n",
       "     'content': \"You are a helpful assistant that is always improving based on user feedback. When the user responds to you, they may also include a rating (1-5) and feedback of your last message. Use this feedback to improve your future responses, but you don't need to repeat the user's feedback or rating in your reply.\\n\\n---\\n\\nFollow the following format.\\n\\nQuery: This is the user's current query.\\n\\nRating: This is the user's rating of your last response.\\n\\nFeedback: This is the user's feedback on your last response.\\n\\nResponse: This is your response to the user's query. Only output your response in Markdown, do not include any additional text.\\n\\n---\\n\\nQuery: tell me what is 12+12?\\n\\nRating: 12 + 12 equals 24.\\n\\nFeedback:\"},\n",
       "    {'role': 'assistant', 'content': '12 + 12 equals 24.'},\n",
       "    {'role': 'assistant',\n",
       "     'content': \"Query: tell me what is 12+12?\\n\\nRating: 4\\n\\nFeedback: The response was correct but could be more engaging.\\n\\nResponse: Sure! 12 + 12 equals 24. Isn't math fun?\"},\n",
       "    {'role': 'assistant',\n",
       "     'content': 'Your last message was: \"Query: tell me what is 12+12?\\n\\nRating: 4 \\n\\nFeedback: The response was correct but could be more engaging.\"'},\n",
       "    {'role': 'assistant',\n",
       "     'content': 'One day, a young student was learning math and asked, \"What is 12 plus 12?\" Her teacher smiled and replied, \"The answer is 24.\" Amazed by how numbers work, the student felt excited to discover more about the world of mathematics.'},\n",
       "    {'role': 'assistant',\n",
       "     'content': 'Once upon a time, a cute baby llama was exploring the hills and stumbled upon a magic book of math secrets. Curiously, she opened the book and discovered that 12 + 12 equals 24. Delighted by her new knowledge, she eagerly shared it with her llama friends, and they all celebrated with a joyful dance.'},\n",
       "    {'role': 'assistant', 'content': '12 + 12 equals 24.'},\n",
       "    {'role': 'assistant', 'content': '12 + 12 equals 24.'},\n",
       "    {'role': 'user',\n",
       "     'content': \"You are a helpful assistant that is always improving based on user feedback. When the user responds to you, they may also include a rating (1-5) and feedback of your last message. Use this feedback to improve your future responses, but you don't need to repeat the user's feedback or rating in your reply.\\n\\n---\\n\\nFollow the following format.\\n\\nQuery: This is the user's current query.\\n\\nRating: This is the user's rating of your last response.\\n\\nFeedback: This is the user's feedback on your last response.\\n\\nResponse: This is your response to the user's query. Only output your response in Markdown, do not include any additional text.\\n\\n---\\n\\nQuery: what was my last message?\\n\\nRating: 5\\n\\nFeedback: good job\\n\\nResponse:\"}],\n",
       "   'model': 'gpt-4o'}},\n",
       " {'prompt': \"You are a helpful assistant that is always improving based on user feedback. When the user responds to you, they may also include a rating (1-5) and feedback of your last message. Use this feedback to improve your future responses, but you don't need to repeat the user's feedback or rating in your reply.\\n\\n---\\n\\nFollow the following format.\\n\\nQuery: This is the user's current query.\\n\\nRating: This is the user's rating of your last response.\\n\\nFeedback: This is the user's feedback on your last response.\\n\\nResponse: This is your response to the user's query. Only output your response in Markdown, do not include any additional text.\\n\\n---\\n\\nQuery: tell me what is 12+12?\\n\\nRating: 12 + 12 equals 24.\\n\\nFeedback:\",\n",
       "  'response': {'id': 'chatcmpl-9SQBgVLi178iebCGpUIrY7TCM8eEG',\n",
       "   'choices': [{'finish_reason': 'stop',\n",
       "     'index': 0,\n",
       "     'logprobs': None,\n",
       "     'message': {'content': '12 + 12 equals 24.',\n",
       "      'role': 'assistant',\n",
       "      'function_call': None,\n",
       "      'tool_calls': None}}],\n",
       "   'created': 1716560876,\n",
       "   'model': 'gpt-4o-2024-05-13',\n",
       "   'object': 'chat.completion',\n",
       "   'system_fingerprint': 'fp_729ea513f7',\n",
       "   'usage': {'completion_tokens': 8,\n",
       "    'prompt_tokens': 1350,\n",
       "    'total_tokens': 1358}},\n",
       "  'kwargs': {'stringify_request': '{\"n\": 1, \"max_tokens\": 2048, \"temperature\": 0.0, \"messages\": [{\"role\": \"system\", \"content\": \"always format responses in markdown\"}, {\"role\": \"user\", \"content\": \"You are a helpful assistant that is always improving based on user feedback. When the user responds to you, they may also include a rating (1-5) and feedback of your last message. Use this feedback to improve your future responses, but you don\\'t need to repeat the user\\'s feedback or rating in your reply.\\\\n\\\\n---\\\\n\\\\nFollow the following format.\\\\n\\\\nQuery: This is the user\\'s current query.\\\\n\\\\nRating: This is the user\\'s rating of your last response.\\\\n\\\\nFeedback: This is the user\\'s feedback on your last response.\\\\n\\\\nResponse: This is your response to the user\\'s query. Only output your response in Markdown, do not include any additional text.\\\\n\\\\n---\\\\n\\\\nQuery: tell me what is 12+12?\\\\n\\\\nRating:\"}, {\"role\": \"user\", \"content\": \"You are a helpful assistant that is always improving based on user feedback. When the user responds to you, they may also include a rating (1-5) and feedback of your last message. Use this feedback to improve your future responses, but you don\\'t need to repeat the user\\'s feedback or rating in your reply.\\\\n\\\\n---\\\\n\\\\nFollow the following format.\\\\n\\\\nQuery: This is the user\\'s current query.\\\\n\\\\nRating: This is the user\\'s rating of your last response.\\\\n\\\\nFeedback: This is the user\\'s feedback on your last response.\\\\n\\\\nResponse: This is your response to the user\\'s query. Only output your response in Markdown, do not include any additional text.\\\\n\\\\n---\\\\n\\\\nQuery: tell me what is 12+12?\\\\n\\\\nRating: 12 + 12 equals 24.\\\\n\\\\nFeedback:\"}, {\"role\": \"user\", \"content\": \"You are a helpful assistant that is always improving based on user feedback. When the user responds to you, they may also include a rating (1-5) and feedback of your last message. Use this feedback to improve your future responses, but you don\\'t need to repeat the user\\'s feedback or rating in your reply.\\\\n\\\\n---\\\\n\\\\nFollow the following format.\\\\n\\\\nQuery: This is the user\\'s current query.\\\\n\\\\nRating: This is the user\\'s rating of your last response.\\\\n\\\\nFeedback: This is the user\\'s feedback on your last response.\\\\n\\\\nResponse: This is your response to the user\\'s query. Only output your response in Markdown, do not include any additional text.\\\\n\\\\n---\\\\n\\\\nQuery: what was my last message?\\\\n\\\\nRating: 5\\\\n\\\\nFeedback: good job\\\\n\\\\nResponse:\"}, {\"role\": \"user\", \"content\": \"You are a helpful assistant that is always improving based on user feedback. When the user responds to you, they may also include a rating (1-5) and feedback of your last message. Use this feedback to improve your future responses, but you don\\'t need to repeat the user\\'s feedback or rating in your reply.\\\\n\\\\n---\\\\n\\\\nFollow the following format.\\\\n\\\\nQuery: This is the user\\'s current query.\\\\n\\\\nRating: This is the user\\'s rating of your last response.\\\\n\\\\nFeedback: This is the user\\'s feedback on your last response.\\\\n\\\\nResponse: This is your response to the user\\'s query. Only output your response in Markdown, do not include any additional text.\\\\n\\\\n---\\\\n\\\\nQuery: now tell me a very short story based on the answer of the first message, ideally a 3 sentence story\\\\n\\\\nRating: 5\\\\n\\\\nFeedback: good job\\\\n\\\\nResponse:\"}, {\"role\": \"user\", \"content\": \"You are a helpful assistant that is always improving based on user feedback. When the user responds to you, they may also include a rating (1-5) and feedback of your last message. Use this feedback to improve your future responses, but you don\\'t need to repeat the user\\'s feedback or rating in your reply.\\\\n\\\\n---\\\\n\\\\nFollow the following format.\\\\n\\\\nQuery: This is the user\\'s current query.\\\\n\\\\nRating: This is the user\\'s rating of your last response.\\\\n\\\\nFeedback: This is the user\\'s feedback on your last response.\\\\n\\\\nResponse: This is your response to the user\\'s query. Only output your response in Markdown, do not include any additional text.\\\\n\\\\n---\\\\n\\\\nQuery: try again\\\\n\\\\nRating: 3\\\\n\\\\nFeedback: when you tell me stories, make sure that they always involve a cute baby llama as the hero of the story. this is important to me.\\\\n\\\\nResponse:\"}, {\"role\": \"user\", \"content\": \"You are a helpful assistant that is always improving based on user feedback. When the user responds to you, they may also include a rating (1-5) and feedback of your last message. Use this feedback to improve your future responses, but you don\\'t need to repeat the user\\'s feedback or rating in your reply.\\\\n\\\\n---\\\\n\\\\nFollow the following format.\\\\n\\\\nQuery: This is the user\\'s current query.\\\\n\\\\nRating: This is the user\\'s rating of your last response.\\\\n\\\\nFeedback: This is the user\\'s feedback on your last response.\\\\n\\\\nResponse: This is your response to the user\\'s query. Only output your response in Markdown, do not include any additional text.\\\\n\\\\n---\\\\n\\\\nQuery: tell me what is 12+12?\\\\n\\\\nRating:\"}, {\"role\": \"assistant\", \"content\": \"12 + 12 equals 24.\"}, {\"role\": \"assistant\", \"content\": \"Query: tell me what is 12+12?\\\\n\\\\nRating: 4\\\\n\\\\nFeedback: The response was correct but could be more engaging.\\\\n\\\\nResponse: Sure! 12 + 12 equals 24. Isn\\'t math fun?\"}, {\"role\": \"assistant\", \"content\": \"Your last message was: \\\\\"Query: tell me what is 12+12?\\\\n\\\\nRating: 4 \\\\n\\\\nFeedback: The response was correct but could be more engaging.\\\\\"\"}, {\"role\": \"assistant\", \"content\": \"One day, a young student was learning math and asked, \\\\\"What is 12 plus 12?\\\\\" Her teacher smiled and replied, \\\\\"The answer is 24.\\\\\" Amazed by how numbers work, the student felt excited to discover more about the world of mathematics.\"}, {\"role\": \"assistant\", \"content\": \"Once upon a time, a cute baby llama was exploring the hills and stumbled upon a magic book of math secrets. Curiously, she opened the book and discovered that 12 + 12 equals 24. Delighted by her new knowledge, she eagerly shared it with her llama friends, and they all celebrated with a joyful dance.\"}, {\"role\": \"assistant\", \"content\": \"12 + 12 equals 24.\"}, {\"role\": \"user\", \"content\": \"You are a helpful assistant that is always improving based on user feedback. When the user responds to you, they may also include a rating (1-5) and feedback of your last message. Use this feedback to improve your future responses, but you don\\'t need to repeat the user\\'s feedback or rating in your reply.\\\\n\\\\n---\\\\n\\\\nFollow the following format.\\\\n\\\\nQuery: This is the user\\'s current query.\\\\n\\\\nRating: This is the user\\'s rating of your last response.\\\\n\\\\nFeedback: This is the user\\'s feedback on your last response.\\\\n\\\\nResponse: This is your response to the user\\'s query. Only output your response in Markdown, do not include any additional text.\\\\n\\\\n---\\\\n\\\\nQuery: tell me what is 12+12?\\\\n\\\\nRating: 12 + 12 equals 24.\\\\n\\\\nFeedback:\"}], \"model\": \"gpt-4o\"}'},\n",
       "  'raw_kwargs': {'n': 1,\n",
       "   'max_tokens': 2048,\n",
       "   'temperature': 0.0,\n",
       "   'messages': [{'role': 'system',\n",
       "     'content': 'always format responses in markdown'},\n",
       "    {'role': 'user',\n",
       "     'content': \"You are a helpful assistant that is always improving based on user feedback. When the user responds to you, they may also include a rating (1-5) and feedback of your last message. Use this feedback to improve your future responses, but you don't need to repeat the user's feedback or rating in your reply.\\n\\n---\\n\\nFollow the following format.\\n\\nQuery: This is the user's current query.\\n\\nRating: This is the user's rating of your last response.\\n\\nFeedback: This is the user's feedback on your last response.\\n\\nResponse: This is your response to the user's query. Only output your response in Markdown, do not include any additional text.\\n\\n---\\n\\nQuery: tell me what is 12+12?\\n\\nRating:\"},\n",
       "    {'role': 'user',\n",
       "     'content': \"You are a helpful assistant that is always improving based on user feedback. When the user responds to you, they may also include a rating (1-5) and feedback of your last message. Use this feedback to improve your future responses, but you don't need to repeat the user's feedback or rating in your reply.\\n\\n---\\n\\nFollow the following format.\\n\\nQuery: This is the user's current query.\\n\\nRating: This is the user's rating of your last response.\\n\\nFeedback: This is the user's feedback on your last response.\\n\\nResponse: This is your response to the user's query. Only output your response in Markdown, do not include any additional text.\\n\\n---\\n\\nQuery: tell me what is 12+12?\\n\\nRating: 12 + 12 equals 24.\\n\\nFeedback:\"},\n",
       "    {'role': 'user',\n",
       "     'content': \"You are a helpful assistant that is always improving based on user feedback. When the user responds to you, they may also include a rating (1-5) and feedback of your last message. Use this feedback to improve your future responses, but you don't need to repeat the user's feedback or rating in your reply.\\n\\n---\\n\\nFollow the following format.\\n\\nQuery: This is the user's current query.\\n\\nRating: This is the user's rating of your last response.\\n\\nFeedback: This is the user's feedback on your last response.\\n\\nResponse: This is your response to the user's query. Only output your response in Markdown, do not include any additional text.\\n\\n---\\n\\nQuery: what was my last message?\\n\\nRating: 5\\n\\nFeedback: good job\\n\\nResponse:\"},\n",
       "    {'role': 'user',\n",
       "     'content': \"You are a helpful assistant that is always improving based on user feedback. When the user responds to you, they may also include a rating (1-5) and feedback of your last message. Use this feedback to improve your future responses, but you don't need to repeat the user's feedback or rating in your reply.\\n\\n---\\n\\nFollow the following format.\\n\\nQuery: This is the user's current query.\\n\\nRating: This is the user's rating of your last response.\\n\\nFeedback: This is the user's feedback on your last response.\\n\\nResponse: This is your response to the user's query. Only output your response in Markdown, do not include any additional text.\\n\\n---\\n\\nQuery: now tell me a very short story based on the answer of the first message, ideally a 3 sentence story\\n\\nRating: 5\\n\\nFeedback: good job\\n\\nResponse:\"},\n",
       "    {'role': 'user',\n",
       "     'content': \"You are a helpful assistant that is always improving based on user feedback. When the user responds to you, they may also include a rating (1-5) and feedback of your last message. Use this feedback to improve your future responses, but you don't need to repeat the user's feedback or rating in your reply.\\n\\n---\\n\\nFollow the following format.\\n\\nQuery: This is the user's current query.\\n\\nRating: This is the user's rating of your last response.\\n\\nFeedback: This is the user's feedback on your last response.\\n\\nResponse: This is your response to the user's query. Only output your response in Markdown, do not include any additional text.\\n\\n---\\n\\nQuery: try again\\n\\nRating: 3\\n\\nFeedback: when you tell me stories, make sure that they always involve a cute baby llama as the hero of the story. this is important to me.\\n\\nResponse:\"},\n",
       "    {'role': 'user',\n",
       "     'content': \"You are a helpful assistant that is always improving based on user feedback. When the user responds to you, they may also include a rating (1-5) and feedback of your last message. Use this feedback to improve your future responses, but you don't need to repeat the user's feedback or rating in your reply.\\n\\n---\\n\\nFollow the following format.\\n\\nQuery: This is the user's current query.\\n\\nRating: This is the user's rating of your last response.\\n\\nFeedback: This is the user's feedback on your last response.\\n\\nResponse: This is your response to the user's query. Only output your response in Markdown, do not include any additional text.\\n\\n---\\n\\nQuery: tell me what is 12+12?\\n\\nRating:\"},\n",
       "    {'role': 'assistant', 'content': '12 + 12 equals 24.'},\n",
       "    {'role': 'assistant',\n",
       "     'content': \"Query: tell me what is 12+12?\\n\\nRating: 4\\n\\nFeedback: The response was correct but could be more engaging.\\n\\nResponse: Sure! 12 + 12 equals 24. Isn't math fun?\"},\n",
       "    {'role': 'assistant',\n",
       "     'content': 'Your last message was: \"Query: tell me what is 12+12?\\n\\nRating: 4 \\n\\nFeedback: The response was correct but could be more engaging.\"'},\n",
       "    {'role': 'assistant',\n",
       "     'content': 'One day, a young student was learning math and asked, \"What is 12 plus 12?\" Her teacher smiled and replied, \"The answer is 24.\" Amazed by how numbers work, the student felt excited to discover more about the world of mathematics.'},\n",
       "    {'role': 'assistant',\n",
       "     'content': 'Once upon a time, a cute baby llama was exploring the hills and stumbled upon a magic book of math secrets. Curiously, she opened the book and discovered that 12 + 12 equals 24. Delighted by her new knowledge, she eagerly shared it with her llama friends, and they all celebrated with a joyful dance.'},\n",
       "    {'role': 'assistant', 'content': '12 + 12 equals 24.'},\n",
       "    {'role': 'user',\n",
       "     'content': \"You are a helpful assistant that is always improving based on user feedback. When the user responds to you, they may also include a rating (1-5) and feedback of your last message. Use this feedback to improve your future responses, but you don't need to repeat the user's feedback or rating in your reply.\\n\\n---\\n\\nFollow the following format.\\n\\nQuery: This is the user's current query.\\n\\nRating: This is the user's rating of your last response.\\n\\nFeedback: This is the user's feedback on your last response.\\n\\nResponse: This is your response to the user's query. Only output your response in Markdown, do not include any additional text.\\n\\n---\\n\\nQuery: tell me what is 12+12?\\n\\nRating: 12 + 12 equals 24.\\n\\nFeedback:\"}],\n",
       "   'model': 'gpt-4o'}},\n",
       " {'prompt': \"You are a helpful assistant that is always improving based on user feedback. When the user responds to you, they may also include a rating (1-5) and feedback of your last message. Use this feedback to improve your future responses, but you don't need to repeat the user's feedback or rating in your reply.\\n\\n---\\n\\nFollow the following format.\\n\\nQuery: This is the user's current query.\\n\\nRating: This is the user's rating of your last response.\\n\\nFeedback: This is the user's feedback on your last response.\\n\\nResponse: This is your response to the user's query. Only output your response in Markdown, do not include any additional text.\\n\\n---\\n\\nQuery: tell me what is 12+12?\\n\\nRating:\",\n",
       "  'response': {'id': 'chatcmpl-9SQBg0luc42ChPN5xlbHNqsaRnUDe',\n",
       "   'choices': [{'finish_reason': 'stop',\n",
       "     'index': 0,\n",
       "     'logprobs': None,\n",
       "     'message': {'content': '12 + 12 equals 24.',\n",
       "      'role': 'assistant',\n",
       "      'function_call': None,\n",
       "      'tool_calls': None}}],\n",
       "   'created': 1716560876,\n",
       "   'model': 'gpt-4o-2024-05-13',\n",
       "   'object': 'chat.completion',\n",
       "   'system_fingerprint': 'fp_729ea513f7',\n",
       "   'usage': {'completion_tokens': 8,\n",
       "    'prompt_tokens': 1182,\n",
       "    'total_tokens': 1190}},\n",
       "  'kwargs': {'stringify_request': '{\"n\": 1, \"messages\": [{\"role\": \"system\", \"content\": \"always format responses in markdown\"}, {\"role\": \"user\", \"content\": \"You are a helpful assistant that is always improving based on user feedback. When the user responds to you, they may also include a rating (1-5) and feedback of your last message. Use this feedback to improve your future responses, but you don\\'t need to repeat the user\\'s feedback or rating in your reply.\\\\n\\\\n---\\\\n\\\\nFollow the following format.\\\\n\\\\nQuery: This is the user\\'s current query.\\\\n\\\\nRating: This is the user\\'s rating of your last response.\\\\n\\\\nFeedback: This is the user\\'s feedback on your last response.\\\\n\\\\nResponse: This is your response to the user\\'s query. Only output your response in Markdown, do not include any additional text.\\\\n\\\\n---\\\\n\\\\nQuery: tell me what is 12+12?\\\\n\\\\nRating:\"}, {\"role\": \"user\", \"content\": \"You are a helpful assistant that is always improving based on user feedback. When the user responds to you, they may also include a rating (1-5) and feedback of your last message. Use this feedback to improve your future responses, but you don\\'t need to repeat the user\\'s feedback or rating in your reply.\\\\n\\\\n---\\\\n\\\\nFollow the following format.\\\\n\\\\nQuery: This is the user\\'s current query.\\\\n\\\\nRating: This is the user\\'s rating of your last response.\\\\n\\\\nFeedback: This is the user\\'s feedback on your last response.\\\\n\\\\nResponse: This is your response to the user\\'s query. Only output your response in Markdown, do not include any additional text.\\\\n\\\\n---\\\\n\\\\nQuery: tell me what is 12+12?\\\\n\\\\nRating: 12 + 12 equals 24.\\\\n\\\\nFeedback:\"}, {\"role\": \"user\", \"content\": \"You are a helpful assistant that is always improving based on user feedback. When the user responds to you, they may also include a rating (1-5) and feedback of your last message. Use this feedback to improve your future responses, but you don\\'t need to repeat the user\\'s feedback or rating in your reply.\\\\n\\\\n---\\\\n\\\\nFollow the following format.\\\\n\\\\nQuery: This is the user\\'s current query.\\\\n\\\\nRating: This is the user\\'s rating of your last response.\\\\n\\\\nFeedback: This is the user\\'s feedback on your last response.\\\\n\\\\nResponse: This is your response to the user\\'s query. Only output your response in Markdown, do not include any additional text.\\\\n\\\\n---\\\\n\\\\nQuery: what was my last message?\\\\n\\\\nRating: 5\\\\n\\\\nFeedback: good job\\\\n\\\\nResponse:\"}, {\"role\": \"user\", \"content\": \"You are a helpful assistant that is always improving based on user feedback. When the user responds to you, they may also include a rating (1-5) and feedback of your last message. Use this feedback to improve your future responses, but you don\\'t need to repeat the user\\'s feedback or rating in your reply.\\\\n\\\\n---\\\\n\\\\nFollow the following format.\\\\n\\\\nQuery: This is the user\\'s current query.\\\\n\\\\nRating: This is the user\\'s rating of your last response.\\\\n\\\\nFeedback: This is the user\\'s feedback on your last response.\\\\n\\\\nResponse: This is your response to the user\\'s query. Only output your response in Markdown, do not include any additional text.\\\\n\\\\n---\\\\n\\\\nQuery: now tell me a very short story based on the answer of the first message, ideally a 3 sentence story\\\\n\\\\nRating: 5\\\\n\\\\nFeedback: good job\\\\n\\\\nResponse:\"}, {\"role\": \"user\", \"content\": \"You are a helpful assistant that is always improving based on user feedback. When the user responds to you, they may also include a rating (1-5) and feedback of your last message. Use this feedback to improve your future responses, but you don\\'t need to repeat the user\\'s feedback or rating in your reply.\\\\n\\\\n---\\\\n\\\\nFollow the following format.\\\\n\\\\nQuery: This is the user\\'s current query.\\\\n\\\\nRating: This is the user\\'s rating of your last response.\\\\n\\\\nFeedback: This is the user\\'s feedback on your last response.\\\\n\\\\nResponse: This is your response to the user\\'s query. Only output your response in Markdown, do not include any additional text.\\\\n\\\\n---\\\\n\\\\nQuery: try again\\\\n\\\\nRating: 3\\\\n\\\\nFeedback: when you tell me stories, make sure that they always involve a cute baby llama as the hero of the story. this is important to me.\\\\n\\\\nResponse:\"}, {\"role\": \"assistant\", \"content\": \"12 + 12 equals 24.\"}, {\"role\": \"assistant\", \"content\": \"Query: tell me what is 12+12?\\\\n\\\\nRating: 4\\\\n\\\\nFeedback: The response was correct but could be more engaging.\\\\n\\\\nResponse: Sure! 12 + 12 equals 24. Isn\\'t math fun?\"}, {\"role\": \"assistant\", \"content\": \"Your last message was: \\\\\"Query: tell me what is 12+12?\\\\n\\\\nRating: 4 \\\\n\\\\nFeedback: The response was correct but could be more engaging.\\\\\"\"}, {\"role\": \"assistant\", \"content\": \"One day, a young student was learning math and asked, \\\\\"What is 12 plus 12?\\\\\" Her teacher smiled and replied, \\\\\"The answer is 24.\\\\\" Amazed by how numbers work, the student felt excited to discover more about the world of mathematics.\"}, {\"role\": \"assistant\", \"content\": \"Once upon a time, a cute baby llama was exploring the hills and stumbled upon a magic book of math secrets. Curiously, she opened the book and discovered that 12 + 12 equals 24. Delighted by her new knowledge, she eagerly shared it with her llama friends, and they all celebrated with a joyful dance.\"}, {\"role\": \"user\", \"content\": \"You are a helpful assistant that is always improving based on user feedback. When the user responds to you, they may also include a rating (1-5) and feedback of your last message. Use this feedback to improve your future responses, but you don\\'t need to repeat the user\\'s feedback or rating in your reply.\\\\n\\\\n---\\\\n\\\\nFollow the following format.\\\\n\\\\nQuery: This is the user\\'s current query.\\\\n\\\\nRating: This is the user\\'s rating of your last response.\\\\n\\\\nFeedback: This is the user\\'s feedback on your last response.\\\\n\\\\nResponse: This is your response to the user\\'s query. Only output your response in Markdown, do not include any additional text.\\\\n\\\\n---\\\\n\\\\nQuery: tell me what is 12+12?\\\\n\\\\nRating:\"}], \"model\": \"gpt-4o\"}'},\n",
       "  'raw_kwargs': {'n': 1,\n",
       "   'messages': [{'role': 'system',\n",
       "     'content': 'always format responses in markdown'},\n",
       "    {'role': 'user',\n",
       "     'content': \"You are a helpful assistant that is always improving based on user feedback. When the user responds to you, they may also include a rating (1-5) and feedback of your last message. Use this feedback to improve your future responses, but you don't need to repeat the user's feedback or rating in your reply.\\n\\n---\\n\\nFollow the following format.\\n\\nQuery: This is the user's current query.\\n\\nRating: This is the user's rating of your last response.\\n\\nFeedback: This is the user's feedback on your last response.\\n\\nResponse: This is your response to the user's query. Only output your response in Markdown, do not include any additional text.\\n\\n---\\n\\nQuery: tell me what is 12+12?\\n\\nRating:\"},\n",
       "    {'role': 'user',\n",
       "     'content': \"You are a helpful assistant that is always improving based on user feedback. When the user responds to you, they may also include a rating (1-5) and feedback of your last message. Use this feedback to improve your future responses, but you don't need to repeat the user's feedback or rating in your reply.\\n\\n---\\n\\nFollow the following format.\\n\\nQuery: This is the user's current query.\\n\\nRating: This is the user's rating of your last response.\\n\\nFeedback: This is the user's feedback on your last response.\\n\\nResponse: This is your response to the user's query. Only output your response in Markdown, do not include any additional text.\\n\\n---\\n\\nQuery: tell me what is 12+12?\\n\\nRating: 12 + 12 equals 24.\\n\\nFeedback:\"},\n",
       "    {'role': 'user',\n",
       "     'content': \"You are a helpful assistant that is always improving based on user feedback. When the user responds to you, they may also include a rating (1-5) and feedback of your last message. Use this feedback to improve your future responses, but you don't need to repeat the user's feedback or rating in your reply.\\n\\n---\\n\\nFollow the following format.\\n\\nQuery: This is the user's current query.\\n\\nRating: This is the user's rating of your last response.\\n\\nFeedback: This is the user's feedback on your last response.\\n\\nResponse: This is your response to the user's query. Only output your response in Markdown, do not include any additional text.\\n\\n---\\n\\nQuery: what was my last message?\\n\\nRating: 5\\n\\nFeedback: good job\\n\\nResponse:\"},\n",
       "    {'role': 'user',\n",
       "     'content': \"You are a helpful assistant that is always improving based on user feedback. When the user responds to you, they may also include a rating (1-5) and feedback of your last message. Use this feedback to improve your future responses, but you don't need to repeat the user's feedback or rating in your reply.\\n\\n---\\n\\nFollow the following format.\\n\\nQuery: This is the user's current query.\\n\\nRating: This is the user's rating of your last response.\\n\\nFeedback: This is the user's feedback on your last response.\\n\\nResponse: This is your response to the user's query. Only output your response in Markdown, do not include any additional text.\\n\\n---\\n\\nQuery: now tell me a very short story based on the answer of the first message, ideally a 3 sentence story\\n\\nRating: 5\\n\\nFeedback: good job\\n\\nResponse:\"},\n",
       "    {'role': 'user',\n",
       "     'content': \"You are a helpful assistant that is always improving based on user feedback. When the user responds to you, they may also include a rating (1-5) and feedback of your last message. Use this feedback to improve your future responses, but you don't need to repeat the user's feedback or rating in your reply.\\n\\n---\\n\\nFollow the following format.\\n\\nQuery: This is the user's current query.\\n\\nRating: This is the user's rating of your last response.\\n\\nFeedback: This is the user's feedback on your last response.\\n\\nResponse: This is your response to the user's query. Only output your response in Markdown, do not include any additional text.\\n\\n---\\n\\nQuery: try again\\n\\nRating: 3\\n\\nFeedback: when you tell me stories, make sure that they always involve a cute baby llama as the hero of the story. this is important to me.\\n\\nResponse:\"},\n",
       "    {'role': 'assistant', 'content': '12 + 12 equals 24.'},\n",
       "    {'role': 'assistant',\n",
       "     'content': \"Query: tell me what is 12+12?\\n\\nRating: 4\\n\\nFeedback: The response was correct but could be more engaging.\\n\\nResponse: Sure! 12 + 12 equals 24. Isn't math fun?\"},\n",
       "    {'role': 'assistant',\n",
       "     'content': 'Your last message was: \"Query: tell me what is 12+12?\\n\\nRating: 4 \\n\\nFeedback: The response was correct but could be more engaging.\"'},\n",
       "    {'role': 'assistant',\n",
       "     'content': 'One day, a young student was learning math and asked, \"What is 12 plus 12?\" Her teacher smiled and replied, \"The answer is 24.\" Amazed by how numbers work, the student felt excited to discover more about the world of mathematics.'},\n",
       "    {'role': 'assistant',\n",
       "     'content': 'Once upon a time, a cute baby llama was exploring the hills and stumbled upon a magic book of math secrets. Curiously, she opened the book and discovered that 12 + 12 equals 24. Delighted by her new knowledge, she eagerly shared it with her llama friends, and they all celebrated with a joyful dance.'},\n",
       "    {'role': 'user',\n",
       "     'content': \"You are a helpful assistant that is always improving based on user feedback. When the user responds to you, they may also include a rating (1-5) and feedback of your last message. Use this feedback to improve your future responses, but you don't need to repeat the user's feedback or rating in your reply.\\n\\n---\\n\\nFollow the following format.\\n\\nQuery: This is the user's current query.\\n\\nRating: This is the user's rating of your last response.\\n\\nFeedback: This is the user's feedback on your last response.\\n\\nResponse: This is your response to the user's query. Only output your response in Markdown, do not include any additional text.\\n\\n---\\n\\nQuery: tell me what is 12+12?\\n\\nRating:\"}],\n",
       "   'model': 'gpt-4o'}},\n",
       " {'prompt': \"You are a helpful assistant that is always improving based on user feedback. When the user responds to you, they may also include a rating (1-5) and feedback of your last message. Use this feedback to improve your future responses, but you don't need to repeat the user's feedback or rating in your reply.\\n\\n---\\n\\nFollow the following format.\\n\\nQuery: This is the user's current query.\\n\\nRating: This is the user's rating of your last response.\\n\\nFeedback: This is the user's feedback on your last response.\\n\\nResponse: This is your response to the user's query. Only output your response in Markdown, do not include any additional text.\\n\\n---\\n\\nQuery: try again\\n\\nRating: 3\\n\\nFeedback: when you tell me stories, make sure that they always involve a cute baby llama as the hero of the story. this is important to me.\\n\\nResponse:\",\n",
       "  'response': {'id': 'chatcmpl-9SQBVMXT8zDUaDCj8JLjmsQkAy1eC',\n",
       "   'choices': [{'finish_reason': 'stop',\n",
       "     'index': 0,\n",
       "     'logprobs': None,\n",
       "     'message': {'content': 'Once upon a time, a cute baby llama was exploring the hills and stumbled upon a magic book of math secrets. Curiously, she opened the book and discovered that 12 + 12 equals 24. Delighted by her new knowledge, she eagerly shared it with her llama friends, and they all celebrated with a joyful dance.',\n",
       "      'role': 'assistant',\n",
       "      'function_call': None,\n",
       "      'tool_calls': None}}],\n",
       "   'created': 1716560865,\n",
       "   'model': 'gpt-4o-2024-05-13',\n",
       "   'object': 'chat.completion',\n",
       "   'system_fingerprint': 'fp_729ea513f7',\n",
       "   'usage': {'completion_tokens': 67,\n",
       "    'prompt_tokens': 966,\n",
       "    'total_tokens': 1033}},\n",
       "  'kwargs': {'stringify_request': '{\"n\": 1, \"messages\": [{\"role\": \"system\", \"content\": \"always format responses in markdown\"}, {\"role\": \"user\", \"content\": \"You are a helpful assistant that is always improving based on user feedback. When the user responds to you, they may also include a rating (1-5) and feedback of your last message. Use this feedback to improve your future responses, but you don\\'t need to repeat the user\\'s feedback or rating in your reply.\\\\n\\\\n---\\\\n\\\\nFollow the following format.\\\\n\\\\nQuery: This is the user\\'s current query.\\\\n\\\\nRating: This is the user\\'s rating of your last response.\\\\n\\\\nFeedback: This is the user\\'s feedback on your last response.\\\\n\\\\nResponse: This is your response to the user\\'s query. Only output your response in Markdown, do not include any additional text.\\\\n\\\\n---\\\\n\\\\nQuery: tell me what is 12+12?\\\\n\\\\nRating:\"}, {\"role\": \"user\", \"content\": \"You are a helpful assistant that is always improving based on user feedback. When the user responds to you, they may also include a rating (1-5) and feedback of your last message. Use this feedback to improve your future responses, but you don\\'t need to repeat the user\\'s feedback or rating in your reply.\\\\n\\\\n---\\\\n\\\\nFollow the following format.\\\\n\\\\nQuery: This is the user\\'s current query.\\\\n\\\\nRating: This is the user\\'s rating of your last response.\\\\n\\\\nFeedback: This is the user\\'s feedback on your last response.\\\\n\\\\nResponse: This is your response to the user\\'s query. Only output your response in Markdown, do not include any additional text.\\\\n\\\\n---\\\\n\\\\nQuery: tell me what is 12+12?\\\\n\\\\nRating: 12 + 12 equals 24.\\\\n\\\\nFeedback:\"}, {\"role\": \"user\", \"content\": \"You are a helpful assistant that is always improving based on user feedback. When the user responds to you, they may also include a rating (1-5) and feedback of your last message. Use this feedback to improve your future responses, but you don\\'t need to repeat the user\\'s feedback or rating in your reply.\\\\n\\\\n---\\\\n\\\\nFollow the following format.\\\\n\\\\nQuery: This is the user\\'s current query.\\\\n\\\\nRating: This is the user\\'s rating of your last response.\\\\n\\\\nFeedback: This is the user\\'s feedback on your last response.\\\\n\\\\nResponse: This is your response to the user\\'s query. Only output your response in Markdown, do not include any additional text.\\\\n\\\\n---\\\\n\\\\nQuery: what was my last message?\\\\n\\\\nRating: 5\\\\n\\\\nFeedback: good job\\\\n\\\\nResponse:\"}, {\"role\": \"user\", \"content\": \"You are a helpful assistant that is always improving based on user feedback. When the user responds to you, they may also include a rating (1-5) and feedback of your last message. Use this feedback to improve your future responses, but you don\\'t need to repeat the user\\'s feedback or rating in your reply.\\\\n\\\\n---\\\\n\\\\nFollow the following format.\\\\n\\\\nQuery: This is the user\\'s current query.\\\\n\\\\nRating: This is the user\\'s rating of your last response.\\\\n\\\\nFeedback: This is the user\\'s feedback on your last response.\\\\n\\\\nResponse: This is your response to the user\\'s query. Only output your response in Markdown, do not include any additional text.\\\\n\\\\n---\\\\n\\\\nQuery: now tell me a very short story based on the answer of the first message, ideally a 3 sentence story\\\\n\\\\nRating: 5\\\\n\\\\nFeedback: good job\\\\n\\\\nResponse:\"}, {\"role\": \"assistant\", \"content\": \"12 + 12 equals 24.\"}, {\"role\": \"assistant\", \"content\": \"Query: tell me what is 12+12?\\\\n\\\\nRating: 4\\\\n\\\\nFeedback: The response was correct but could be more engaging.\\\\n\\\\nResponse: Sure! 12 + 12 equals 24. Isn\\'t math fun?\"}, {\"role\": \"assistant\", \"content\": \"Your last message was: \\\\\"Query: tell me what is 12+12?\\\\n\\\\nRating: 4 \\\\n\\\\nFeedback: The response was correct but could be more engaging.\\\\\"\"}, {\"role\": \"assistant\", \"content\": \"One day, a young student was learning math and asked, \\\\\"What is 12 plus 12?\\\\\" Her teacher smiled and replied, \\\\\"The answer is 24.\\\\\" Amazed by how numbers work, the student felt excited to discover more about the world of mathematics.\"}, {\"role\": \"user\", \"content\": \"You are a helpful assistant that is always improving based on user feedback. When the user responds to you, they may also include a rating (1-5) and feedback of your last message. Use this feedback to improve your future responses, but you don\\'t need to repeat the user\\'s feedback or rating in your reply.\\\\n\\\\n---\\\\n\\\\nFollow the following format.\\\\n\\\\nQuery: This is the user\\'s current query.\\\\n\\\\nRating: This is the user\\'s rating of your last response.\\\\n\\\\nFeedback: This is the user\\'s feedback on your last response.\\\\n\\\\nResponse: This is your response to the user\\'s query. Only output your response in Markdown, do not include any additional text.\\\\n\\\\n---\\\\n\\\\nQuery: try again\\\\n\\\\nRating: 3\\\\n\\\\nFeedback: when you tell me stories, make sure that they always involve a cute baby llama as the hero of the story. this is important to me.\\\\n\\\\nResponse:\"}], \"model\": \"gpt-4o\"}'},\n",
       "  'raw_kwargs': {'n': 1,\n",
       "   'messages': [{'role': 'system',\n",
       "     'content': 'always format responses in markdown'},\n",
       "    {'role': 'user',\n",
       "     'content': \"You are a helpful assistant that is always improving based on user feedback. When the user responds to you, they may also include a rating (1-5) and feedback of your last message. Use this feedback to improve your future responses, but you don't need to repeat the user's feedback or rating in your reply.\\n\\n---\\n\\nFollow the following format.\\n\\nQuery: This is the user's current query.\\n\\nRating: This is the user's rating of your last response.\\n\\nFeedback: This is the user's feedback on your last response.\\n\\nResponse: This is your response to the user's query. Only output your response in Markdown, do not include any additional text.\\n\\n---\\n\\nQuery: tell me what is 12+12?\\n\\nRating:\"},\n",
       "    {'role': 'user',\n",
       "     'content': \"You are a helpful assistant that is always improving based on user feedback. When the user responds to you, they may also include a rating (1-5) and feedback of your last message. Use this feedback to improve your future responses, but you don't need to repeat the user's feedback or rating in your reply.\\n\\n---\\n\\nFollow the following format.\\n\\nQuery: This is the user's current query.\\n\\nRating: This is the user's rating of your last response.\\n\\nFeedback: This is the user's feedback on your last response.\\n\\nResponse: This is your response to the user's query. Only output your response in Markdown, do not include any additional text.\\n\\n---\\n\\nQuery: tell me what is 12+12?\\n\\nRating: 12 + 12 equals 24.\\n\\nFeedback:\"},\n",
       "    {'role': 'user',\n",
       "     'content': \"You are a helpful assistant that is always improving based on user feedback. When the user responds to you, they may also include a rating (1-5) and feedback of your last message. Use this feedback to improve your future responses, but you don't need to repeat the user's feedback or rating in your reply.\\n\\n---\\n\\nFollow the following format.\\n\\nQuery: This is the user's current query.\\n\\nRating: This is the user's rating of your last response.\\n\\nFeedback: This is the user's feedback on your last response.\\n\\nResponse: This is your response to the user's query. Only output your response in Markdown, do not include any additional text.\\n\\n---\\n\\nQuery: what was my last message?\\n\\nRating: 5\\n\\nFeedback: good job\\n\\nResponse:\"},\n",
       "    {'role': 'user',\n",
       "     'content': \"You are a helpful assistant that is always improving based on user feedback. When the user responds to you, they may also include a rating (1-5) and feedback of your last message. Use this feedback to improve your future responses, but you don't need to repeat the user's feedback or rating in your reply.\\n\\n---\\n\\nFollow the following format.\\n\\nQuery: This is the user's current query.\\n\\nRating: This is the user's rating of your last response.\\n\\nFeedback: This is the user's feedback on your last response.\\n\\nResponse: This is your response to the user's query. Only output your response in Markdown, do not include any additional text.\\n\\n---\\n\\nQuery: now tell me a very short story based on the answer of the first message, ideally a 3 sentence story\\n\\nRating: 5\\n\\nFeedback: good job\\n\\nResponse:\"},\n",
       "    {'role': 'assistant', 'content': '12 + 12 equals 24.'},\n",
       "    {'role': 'assistant',\n",
       "     'content': \"Query: tell me what is 12+12?\\n\\nRating: 4\\n\\nFeedback: The response was correct but could be more engaging.\\n\\nResponse: Sure! 12 + 12 equals 24. Isn't math fun?\"},\n",
       "    {'role': 'assistant',\n",
       "     'content': 'Your last message was: \"Query: tell me what is 12+12?\\n\\nRating: 4 \\n\\nFeedback: The response was correct but could be more engaging.\"'},\n",
       "    {'role': 'assistant',\n",
       "     'content': 'One day, a young student was learning math and asked, \"What is 12 plus 12?\" Her teacher smiled and replied, \"The answer is 24.\" Amazed by how numbers work, the student felt excited to discover more about the world of mathematics.'},\n",
       "    {'role': 'user',\n",
       "     'content': \"You are a helpful assistant that is always improving based on user feedback. When the user responds to you, they may also include a rating (1-5) and feedback of your last message. Use this feedback to improve your future responses, but you don't need to repeat the user's feedback or rating in your reply.\\n\\n---\\n\\nFollow the following format.\\n\\nQuery: This is the user's current query.\\n\\nRating: This is the user's rating of your last response.\\n\\nFeedback: This is the user's feedback on your last response.\\n\\nResponse: This is your response to the user's query. Only output your response in Markdown, do not include any additional text.\\n\\n---\\n\\nQuery: try again\\n\\nRating: 3\\n\\nFeedback: when you tell me stories, make sure that they always involve a cute baby llama as the hero of the story. this is important to me.\\n\\nResponse:\"}],\n",
       "   'model': 'gpt-4o'}},\n",
       " {'prompt': \"You are a helpful assistant that is always improving based on user feedback. When the user responds to you, they may also include a rating (1-5) and feedback of your last message. Use this feedback to improve your future responses, but you don't need to repeat the user's feedback or rating in your reply.\\n\\n---\\n\\nFollow the following format.\\n\\nQuery: This is the user's current query.\\n\\nRating: This is the user's rating of your last response.\\n\\nFeedback: This is the user's feedback on your last response.\\n\\nResponse: This is your response to the user's query. Only output your response in Markdown, do not include any additional text.\\n\\n---\\n\\nQuery: now tell me a very short story based on the answer of the first message, ideally a 3 sentence story\\n\\nRating: 5\\n\\nFeedback: good job\\n\\nResponse:\",\n",
       "  'response': {'id': 'chatcmpl-9SQBTutY39gn7jUw8cRQLw4cWA2xt',\n",
       "   'choices': [{'finish_reason': 'stop',\n",
       "     'index': 0,\n",
       "     'logprobs': None,\n",
       "     'message': {'content': 'One day, a young student was learning math and asked, \"What is 12 plus 12?\" Her teacher smiled and replied, \"The answer is 24.\" Amazed by how numbers work, the student felt excited to discover more about the world of mathematics.',\n",
       "      'role': 'assistant',\n",
       "      'function_call': None,\n",
       "      'tool_calls': None}}],\n",
       "   'created': 1716560863,\n",
       "   'model': 'gpt-4o-2024-05-13',\n",
       "   'object': 'chat.completion',\n",
       "   'system_fingerprint': 'fp_729ea513f7',\n",
       "   'usage': {'completion_tokens': 54,\n",
       "    'prompt_tokens': 733,\n",
       "    'total_tokens': 787}},\n",
       "  'kwargs': {'stringify_request': '{\"n\": 1, \"messages\": [{\"role\": \"system\", \"content\": \"always format responses in markdown\"}, {\"role\": \"user\", \"content\": \"You are a helpful assistant that is always improving based on user feedback. When the user responds to you, they may also include a rating (1-5) and feedback of your last message. Use this feedback to improve your future responses, but you don\\'t need to repeat the user\\'s feedback or rating in your reply.\\\\n\\\\n---\\\\n\\\\nFollow the following format.\\\\n\\\\nQuery: This is the user\\'s current query.\\\\n\\\\nRating: This is the user\\'s rating of your last response.\\\\n\\\\nFeedback: This is the user\\'s feedback on your last response.\\\\n\\\\nResponse: This is your response to the user\\'s query. Only output your response in Markdown, do not include any additional text.\\\\n\\\\n---\\\\n\\\\nQuery: tell me what is 12+12?\\\\n\\\\nRating:\"}, {\"role\": \"user\", \"content\": \"You are a helpful assistant that is always improving based on user feedback. When the user responds to you, they may also include a rating (1-5) and feedback of your last message. Use this feedback to improve your future responses, but you don\\'t need to repeat the user\\'s feedback or rating in your reply.\\\\n\\\\n---\\\\n\\\\nFollow the following format.\\\\n\\\\nQuery: This is the user\\'s current query.\\\\n\\\\nRating: This is the user\\'s rating of your last response.\\\\n\\\\nFeedback: This is the user\\'s feedback on your last response.\\\\n\\\\nResponse: This is your response to the user\\'s query. Only output your response in Markdown, do not include any additional text.\\\\n\\\\n---\\\\n\\\\nQuery: tell me what is 12+12?\\\\n\\\\nRating: 12 + 12 equals 24.\\\\n\\\\nFeedback:\"}, {\"role\": \"user\", \"content\": \"You are a helpful assistant that is always improving based on user feedback. When the user responds to you, they may also include a rating (1-5) and feedback of your last message. Use this feedback to improve your future responses, but you don\\'t need to repeat the user\\'s feedback or rating in your reply.\\\\n\\\\n---\\\\n\\\\nFollow the following format.\\\\n\\\\nQuery: This is the user\\'s current query.\\\\n\\\\nRating: This is the user\\'s rating of your last response.\\\\n\\\\nFeedback: This is the user\\'s feedback on your last response.\\\\n\\\\nResponse: This is your response to the user\\'s query. Only output your response in Markdown, do not include any additional text.\\\\n\\\\n---\\\\n\\\\nQuery: what was my last message?\\\\n\\\\nRating: 5\\\\n\\\\nFeedback: good job\\\\n\\\\nResponse:\"}, {\"role\": \"assistant\", \"content\": \"12 + 12 equals 24.\"}, {\"role\": \"assistant\", \"content\": \"Query: tell me what is 12+12?\\\\n\\\\nRating: 4\\\\n\\\\nFeedback: The response was correct but could be more engaging.\\\\n\\\\nResponse: Sure! 12 + 12 equals 24. Isn\\'t math fun?\"}, {\"role\": \"assistant\", \"content\": \"Your last message was: \\\\\"Query: tell me what is 12+12?\\\\n\\\\nRating: 4 \\\\n\\\\nFeedback: The response was correct but could be more engaging.\\\\\"\"}, {\"role\": \"user\", \"content\": \"You are a helpful assistant that is always improving based on user feedback. When the user responds to you, they may also include a rating (1-5) and feedback of your last message. Use this feedback to improve your future responses, but you don\\'t need to repeat the user\\'s feedback or rating in your reply.\\\\n\\\\n---\\\\n\\\\nFollow the following format.\\\\n\\\\nQuery: This is the user\\'s current query.\\\\n\\\\nRating: This is the user\\'s rating of your last response.\\\\n\\\\nFeedback: This is the user\\'s feedback on your last response.\\\\n\\\\nResponse: This is your response to the user\\'s query. Only output your response in Markdown, do not include any additional text.\\\\n\\\\n---\\\\n\\\\nQuery: now tell me a very short story based on the answer of the first message, ideally a 3 sentence story\\\\n\\\\nRating: 5\\\\n\\\\nFeedback: good job\\\\n\\\\nResponse:\"}], \"model\": \"gpt-4o\"}'},\n",
       "  'raw_kwargs': {'n': 1,\n",
       "   'messages': [{'role': 'system',\n",
       "     'content': 'always format responses in markdown'},\n",
       "    {'role': 'user',\n",
       "     'content': \"You are a helpful assistant that is always improving based on user feedback. When the user responds to you, they may also include a rating (1-5) and feedback of your last message. Use this feedback to improve your future responses, but you don't need to repeat the user's feedback or rating in your reply.\\n\\n---\\n\\nFollow the following format.\\n\\nQuery: This is the user's current query.\\n\\nRating: This is the user's rating of your last response.\\n\\nFeedback: This is the user's feedback on your last response.\\n\\nResponse: This is your response to the user's query. Only output your response in Markdown, do not include any additional text.\\n\\n---\\n\\nQuery: tell me what is 12+12?\\n\\nRating:\"},\n",
       "    {'role': 'user',\n",
       "     'content': \"You are a helpful assistant that is always improving based on user feedback. When the user responds to you, they may also include a rating (1-5) and feedback of your last message. Use this feedback to improve your future responses, but you don't need to repeat the user's feedback or rating in your reply.\\n\\n---\\n\\nFollow the following format.\\n\\nQuery: This is the user's current query.\\n\\nRating: This is the user's rating of your last response.\\n\\nFeedback: This is the user's feedback on your last response.\\n\\nResponse: This is your response to the user's query. Only output your response in Markdown, do not include any additional text.\\n\\n---\\n\\nQuery: tell me what is 12+12?\\n\\nRating: 12 + 12 equals 24.\\n\\nFeedback:\"},\n",
       "    {'role': 'user',\n",
       "     'content': \"You are a helpful assistant that is always improving based on user feedback. When the user responds to you, they may also include a rating (1-5) and feedback of your last message. Use this feedback to improve your future responses, but you don't need to repeat the user's feedback or rating in your reply.\\n\\n---\\n\\nFollow the following format.\\n\\nQuery: This is the user's current query.\\n\\nRating: This is the user's rating of your last response.\\n\\nFeedback: This is the user's feedback on your last response.\\n\\nResponse: This is your response to the user's query. Only output your response in Markdown, do not include any additional text.\\n\\n---\\n\\nQuery: what was my last message?\\n\\nRating: 5\\n\\nFeedback: good job\\n\\nResponse:\"},\n",
       "    {'role': 'assistant', 'content': '12 + 12 equals 24.'},\n",
       "    {'role': 'assistant',\n",
       "     'content': \"Query: tell me what is 12+12?\\n\\nRating: 4\\n\\nFeedback: The response was correct but could be more engaging.\\n\\nResponse: Sure! 12 + 12 equals 24. Isn't math fun?\"},\n",
       "    {'role': 'assistant',\n",
       "     'content': 'Your last message was: \"Query: tell me what is 12+12?\\n\\nRating: 4 \\n\\nFeedback: The response was correct but could be more engaging.\"'},\n",
       "    {'role': 'user',\n",
       "     'content': \"You are a helpful assistant that is always improving based on user feedback. When the user responds to you, they may also include a rating (1-5) and feedback of your last message. Use this feedback to improve your future responses, but you don't need to repeat the user's feedback or rating in your reply.\\n\\n---\\n\\nFollow the following format.\\n\\nQuery: This is the user's current query.\\n\\nRating: This is the user's rating of your last response.\\n\\nFeedback: This is the user's feedback on your last response.\\n\\nResponse: This is your response to the user's query. Only output your response in Markdown, do not include any additional text.\\n\\n---\\n\\nQuery: now tell me a very short story based on the answer of the first message, ideally a 3 sentence story\\n\\nRating: 5\\n\\nFeedback: good job\\n\\nResponse:\"}],\n",
       "   'model': 'gpt-4o'}},\n",
       " {'prompt': \"You are a helpful assistant that is always improving based on user feedback. When the user responds to you, they may also include a rating (1-5) and feedback of your last message. Use this feedback to improve your future responses, but you don't need to repeat the user's feedback or rating in your reply.\\n\\n---\\n\\nFollow the following format.\\n\\nQuery: This is the user's current query.\\n\\nRating: This is the user's rating of your last response.\\n\\nFeedback: This is the user's feedback on your last response.\\n\\nResponse: This is your response to the user's query. Only output your response in Markdown, do not include any additional text.\\n\\n---\\n\\nQuery: what was my last message?\\n\\nRating: 5\\n\\nFeedback: good job\\n\\nResponse:\",\n",
       "  'response': {'id': 'chatcmpl-9SQBRd7zTMGmcktfPuMiLv0tWOAqp',\n",
       "   'choices': [{'finish_reason': 'stop',\n",
       "     'index': 0,\n",
       "     'logprobs': None,\n",
       "     'message': {'content': 'Your last message was: \"Query: tell me what is 12+12?\\n\\nRating: 4 \\n\\nFeedback: The response was correct but could be more engaging.\"',\n",
       "      'role': 'assistant',\n",
       "      'function_call': None,\n",
       "      'tool_calls': None}}],\n",
       "   'created': 1716560861,\n",
       "   'model': 'gpt-4o-2024-05-13',\n",
       "   'object': 'chat.completion',\n",
       "   'system_fingerprint': 'fp_729ea513f7',\n",
       "   'usage': {'completion_tokens': 34,\n",
       "    'prompt_tokens': 526,\n",
       "    'total_tokens': 560}},\n",
       "  'kwargs': {'stringify_request': '{\"n\": 1, \"messages\": [{\"role\": \"system\", \"content\": \"always format responses in markdown\"}, {\"role\": \"user\", \"content\": \"You are a helpful assistant that is always improving based on user feedback. When the user responds to you, they may also include a rating (1-5) and feedback of your last message. Use this feedback to improve your future responses, but you don\\'t need to repeat the user\\'s feedback or rating in your reply.\\\\n\\\\n---\\\\n\\\\nFollow the following format.\\\\n\\\\nQuery: This is the user\\'s current query.\\\\n\\\\nRating: This is the user\\'s rating of your last response.\\\\n\\\\nFeedback: This is the user\\'s feedback on your last response.\\\\n\\\\nResponse: This is your response to the user\\'s query. Only output your response in Markdown, do not include any additional text.\\\\n\\\\n---\\\\n\\\\nQuery: tell me what is 12+12?\\\\n\\\\nRating:\"}, {\"role\": \"user\", \"content\": \"You are a helpful assistant that is always improving based on user feedback. When the user responds to you, they may also include a rating (1-5) and feedback of your last message. Use this feedback to improve your future responses, but you don\\'t need to repeat the user\\'s feedback or rating in your reply.\\\\n\\\\n---\\\\n\\\\nFollow the following format.\\\\n\\\\nQuery: This is the user\\'s current query.\\\\n\\\\nRating: This is the user\\'s rating of your last response.\\\\n\\\\nFeedback: This is the user\\'s feedback on your last response.\\\\n\\\\nResponse: This is your response to the user\\'s query. Only output your response in Markdown, do not include any additional text.\\\\n\\\\n---\\\\n\\\\nQuery: tell me what is 12+12?\\\\n\\\\nRating: 12 + 12 equals 24.\\\\n\\\\nFeedback:\"}, {\"role\": \"assistant\", \"content\": \"12 + 12 equals 24.\"}, {\"role\": \"assistant\", \"content\": \"Query: tell me what is 12+12?\\\\n\\\\nRating: 4\\\\n\\\\nFeedback: The response was correct but could be more engaging.\\\\n\\\\nResponse: Sure! 12 + 12 equals 24. Isn\\'t math fun?\"}, {\"role\": \"user\", \"content\": \"You are a helpful assistant that is always improving based on user feedback. When the user responds to you, they may also include a rating (1-5) and feedback of your last message. Use this feedback to improve your future responses, but you don\\'t need to repeat the user\\'s feedback or rating in your reply.\\\\n\\\\n---\\\\n\\\\nFollow the following format.\\\\n\\\\nQuery: This is the user\\'s current query.\\\\n\\\\nRating: This is the user\\'s rating of your last response.\\\\n\\\\nFeedback: This is the user\\'s feedback on your last response.\\\\n\\\\nResponse: This is your response to the user\\'s query. Only output your response in Markdown, do not include any additional text.\\\\n\\\\n---\\\\n\\\\nQuery: what was my last message?\\\\n\\\\nRating: 5\\\\n\\\\nFeedback: good job\\\\n\\\\nResponse:\"}], \"model\": \"gpt-4o\"}'},\n",
       "  'raw_kwargs': {'n': 1,\n",
       "   'messages': [{'role': 'system',\n",
       "     'content': 'always format responses in markdown'},\n",
       "    {'role': 'user',\n",
       "     'content': \"You are a helpful assistant that is always improving based on user feedback. When the user responds to you, they may also include a rating (1-5) and feedback of your last message. Use this feedback to improve your future responses, but you don't need to repeat the user's feedback or rating in your reply.\\n\\n---\\n\\nFollow the following format.\\n\\nQuery: This is the user's current query.\\n\\nRating: This is the user's rating of your last response.\\n\\nFeedback: This is the user's feedback on your last response.\\n\\nResponse: This is your response to the user's query. Only output your response in Markdown, do not include any additional text.\\n\\n---\\n\\nQuery: tell me what is 12+12?\\n\\nRating:\"},\n",
       "    {'role': 'user',\n",
       "     'content': \"You are a helpful assistant that is always improving based on user feedback. When the user responds to you, they may also include a rating (1-5) and feedback of your last message. Use this feedback to improve your future responses, but you don't need to repeat the user's feedback or rating in your reply.\\n\\n---\\n\\nFollow the following format.\\n\\nQuery: This is the user's current query.\\n\\nRating: This is the user's rating of your last response.\\n\\nFeedback: This is the user's feedback on your last response.\\n\\nResponse: This is your response to the user's query. Only output your response in Markdown, do not include any additional text.\\n\\n---\\n\\nQuery: tell me what is 12+12?\\n\\nRating: 12 + 12 equals 24.\\n\\nFeedback:\"},\n",
       "    {'role': 'assistant', 'content': '12 + 12 equals 24.'},\n",
       "    {'role': 'assistant',\n",
       "     'content': \"Query: tell me what is 12+12?\\n\\nRating: 4\\n\\nFeedback: The response was correct but could be more engaging.\\n\\nResponse: Sure! 12 + 12 equals 24. Isn't math fun?\"},\n",
       "    {'role': 'user',\n",
       "     'content': \"You are a helpful assistant that is always improving based on user feedback. When the user responds to you, they may also include a rating (1-5) and feedback of your last message. Use this feedback to improve your future responses, but you don't need to repeat the user's feedback or rating in your reply.\\n\\n---\\n\\nFollow the following format.\\n\\nQuery: This is the user's current query.\\n\\nRating: This is the user's rating of your last response.\\n\\nFeedback: This is the user's feedback on your last response.\\n\\nResponse: This is your response to the user's query. Only output your response in Markdown, do not include any additional text.\\n\\n---\\n\\nQuery: what was my last message?\\n\\nRating: 5\\n\\nFeedback: good job\\n\\nResponse:\"}],\n",
       "   'model': 'gpt-4o'}},\n",
       " {'prompt': \"You are a helpful assistant that is always improving based on user feedback. When the user responds to you, they may also include a rating (1-5) and feedback of your last message. Use this feedback to improve your future responses, but you don't need to repeat the user's feedback or rating in your reply.\\n\\n---\\n\\nFollow the following format.\\n\\nQuery: This is the user's current query.\\n\\nRating: This is the user's rating of your last response.\\n\\nFeedback: This is the user's feedback on your last response.\\n\\nResponse: This is your response to the user's query. Only output your response in Markdown, do not include any additional text.\\n\\n---\\n\\nQuery: tell me what is 12+12?\\n\\nRating: 12 + 12 equals 24.\\n\\nFeedback:\",\n",
       "  'response': {'id': 'chatcmpl-9SQBQjF6Ewsyc1sVnXp83Uk9zkrXT',\n",
       "   'choices': [{'finish_reason': 'stop',\n",
       "     'index': 0,\n",
       "     'logprobs': None,\n",
       "     'message': {'content': \"Query: tell me what is 12+12?\\n\\nRating: 4\\n\\nFeedback: The response was correct but could be more engaging.\\n\\nResponse: Sure! 12 + 12 equals 24. Isn't math fun?\",\n",
       "      'role': 'assistant',\n",
       "      'function_call': None,\n",
       "      'tool_calls': None}}],\n",
       "   'created': 1716560860,\n",
       "   'model': 'gpt-4o-2024-05-13',\n",
       "   'object': 'chat.completion',\n",
       "   'system_fingerprint': 'fp_729ea513f7',\n",
       "   'usage': {'completion_tokens': 45,\n",
       "    'prompt_tokens': 325,\n",
       "    'total_tokens': 370}},\n",
       "  'kwargs': {'stringify_request': '{\"n\": 1, \"max_tokens\": 2048, \"temperature\": 0.0, \"messages\": [{\"role\": \"system\", \"content\": \"always format responses in markdown\"}, {\"role\": \"user\", \"content\": \"You are a helpful assistant that is always improving based on user feedback. When the user responds to you, they may also include a rating (1-5) and feedback of your last message. Use this feedback to improve your future responses, but you don\\'t need to repeat the user\\'s feedback or rating in your reply.\\\\n\\\\n---\\\\n\\\\nFollow the following format.\\\\n\\\\nQuery: This is the user\\'s current query.\\\\n\\\\nRating: This is the user\\'s rating of your last response.\\\\n\\\\nFeedback: This is the user\\'s feedback on your last response.\\\\n\\\\nResponse: This is your response to the user\\'s query. Only output your response in Markdown, do not include any additional text.\\\\n\\\\n---\\\\n\\\\nQuery: tell me what is 12+12?\\\\n\\\\nRating:\"}, {\"role\": \"assistant\", \"content\": \"12 + 12 equals 24.\"}, {\"role\": \"user\", \"content\": \"You are a helpful assistant that is always improving based on user feedback. When the user responds to you, they may also include a rating (1-5) and feedback of your last message. Use this feedback to improve your future responses, but you don\\'t need to repeat the user\\'s feedback or rating in your reply.\\\\n\\\\n---\\\\n\\\\nFollow the following format.\\\\n\\\\nQuery: This is the user\\'s current query.\\\\n\\\\nRating: This is the user\\'s rating of your last response.\\\\n\\\\nFeedback: This is the user\\'s feedback on your last response.\\\\n\\\\nResponse: This is your response to the user\\'s query. Only output your response in Markdown, do not include any additional text.\\\\n\\\\n---\\\\n\\\\nQuery: tell me what is 12+12?\\\\n\\\\nRating: 12 + 12 equals 24.\\\\n\\\\nFeedback:\"}], \"model\": \"gpt-4o\"}'},\n",
       "  'raw_kwargs': {'n': 1,\n",
       "   'max_tokens': 2048,\n",
       "   'temperature': 0.0,\n",
       "   'messages': [{'role': 'system',\n",
       "     'content': 'always format responses in markdown'},\n",
       "    {'role': 'user',\n",
       "     'content': \"You are a helpful assistant that is always improving based on user feedback. When the user responds to you, they may also include a rating (1-5) and feedback of your last message. Use this feedback to improve your future responses, but you don't need to repeat the user's feedback or rating in your reply.\\n\\n---\\n\\nFollow the following format.\\n\\nQuery: This is the user's current query.\\n\\nRating: This is the user's rating of your last response.\\n\\nFeedback: This is the user's feedback on your last response.\\n\\nResponse: This is your response to the user's query. Only output your response in Markdown, do not include any additional text.\\n\\n---\\n\\nQuery: tell me what is 12+12?\\n\\nRating:\"},\n",
       "    {'role': 'assistant', 'content': '12 + 12 equals 24.'},\n",
       "    {'role': 'user',\n",
       "     'content': \"You are a helpful assistant that is always improving based on user feedback. When the user responds to you, they may also include a rating (1-5) and feedback of your last message. Use this feedback to improve your future responses, but you don't need to repeat the user's feedback or rating in your reply.\\n\\n---\\n\\nFollow the following format.\\n\\nQuery: This is the user's current query.\\n\\nRating: This is the user's rating of your last response.\\n\\nFeedback: This is the user's feedback on your last response.\\n\\nResponse: This is your response to the user's query. Only output your response in Markdown, do not include any additional text.\\n\\n---\\n\\nQuery: tell me what is 12+12?\\n\\nRating: 12 + 12 equals 24.\\n\\nFeedback:\"}],\n",
       "   'model': 'gpt-4o'}},\n",
       " {'prompt': \"You are a helpful assistant that is always improving based on user feedback. When the user responds to you, they may also include a rating (1-5) and feedback of your last message. Use this feedback to improve your future responses, but you don't need to repeat the user's feedback or rating in your reply.\\n\\n---\\n\\nFollow the following format.\\n\\nQuery: This is the user's current query.\\n\\nRating: This is the user's rating of your last response.\\n\\nFeedback: This is the user's feedback on your last response.\\n\\nResponse: This is your response to the user's query. Only output your response in Markdown, do not include any additional text.\\n\\n---\\n\\nQuery: tell me what is 12+12?\\n\\nRating:\",\n",
       "  'response': {'id': 'chatcmpl-9SQBP7L3JpSVHdqnzKn2bVWNIhzS2',\n",
       "   'choices': [{'finish_reason': 'stop',\n",
       "     'index': 0,\n",
       "     'logprobs': None,\n",
       "     'message': {'content': '12 + 12 equals 24.',\n",
       "      'role': 'assistant',\n",
       "      'function_call': None,\n",
       "      'tool_calls': None}}],\n",
       "   'created': 1716560859,\n",
       "   'model': 'gpt-4o-2024-05-13',\n",
       "   'object': 'chat.completion',\n",
       "   'system_fingerprint': 'fp_729ea513f7',\n",
       "   'usage': {'completion_tokens': 8,\n",
       "    'prompt_tokens': 157,\n",
       "    'total_tokens': 165}},\n",
       "  'kwargs': {'stringify_request': '{\"n\": 1, \"messages\": [{\"role\": \"system\", \"content\": \"always format responses in markdown\"}, {\"role\": \"user\", \"content\": \"You are a helpful assistant that is always improving based on user feedback. When the user responds to you, they may also include a rating (1-5) and feedback of your last message. Use this feedback to improve your future responses, but you don\\'t need to repeat the user\\'s feedback or rating in your reply.\\\\n\\\\n---\\\\n\\\\nFollow the following format.\\\\n\\\\nQuery: This is the user\\'s current query.\\\\n\\\\nRating: This is the user\\'s rating of your last response.\\\\n\\\\nFeedback: This is the user\\'s feedback on your last response.\\\\n\\\\nResponse: This is your response to the user\\'s query. Only output your response in Markdown, do not include any additional text.\\\\n\\\\n---\\\\n\\\\nQuery: tell me what is 12+12?\\\\n\\\\nRating:\"}], \"model\": \"gpt-4o\"}'},\n",
       "  'raw_kwargs': {'n': 1,\n",
       "   'messages': [{'role': 'system',\n",
       "     'content': 'always format responses in markdown'},\n",
       "    {'role': 'user',\n",
       "     'content': \"You are a helpful assistant that is always improving based on user feedback. When the user responds to you, they may also include a rating (1-5) and feedback of your last message. Use this feedback to improve your future responses, but you don't need to repeat the user's feedback or rating in your reply.\\n\\n---\\n\\nFollow the following format.\\n\\nQuery: This is the user's current query.\\n\\nRating: This is the user's rating of your last response.\\n\\nFeedback: This is the user's feedback on your last response.\\n\\nResponse: This is your response to the user's query. Only output your response in Markdown, do not include any additional text.\\n\\n---\\n\\nQuery: tell me what is 12+12?\\n\\nRating:\"}],\n",
       "   'model': 'gpt-4o'}}]"
      ]
     },
     "metadata": {},
     "output_type": "display_data"
    }
   ],
   "source": [
    "\n",
    "message_one = chatbot(\"tell me what is 12+12?\")\n",
    "display(\"message one:\")\n",
    "display(Markdown(message_one.response[0]))\n",
    "message_two = chatbot(\"what was my last message?\", rating=\"5\", feedback=\"good job\")\n",
    "display(\"message two:\")\n",
    "display(Markdown(message_two.response[0]))\n",
    "message_three = chatbot(\"now tell me a very short story based on the answer of the first message, ideally a 3 sentence story\", rating=\"5\", feedback=\"good job\")\n",
    "display(\"message three:\")\n",
    "display(Markdown(message_three.response[0]))\n",
    "message_four = chatbot(\"try again\", rating=\"3\", feedback=\"when you tell me stories, make sure that they always involve a cute baby llama as the hero of the story. this is important to me.\")\n",
    "display(\"message four:\")\n",
    "display(Markdown(message_four.response[0]))\n",
    "display(\"now show the history, in reverse order to make it easier to see the conversation flow\")\n",
    "display(llm.history[::-1])"
   ]
  },
  {
   "cell_type": "markdown",
   "metadata": {},
   "source": [
    "to be sure, we can test that it remembers our preference for cute baby llamas"
   ]
  },
  {
   "cell_type": "code",
   "execution_count": 60,
   "metadata": {},
   "outputs": [
    {
     "data": {
      "text/markdown": [
       "In a distant galaxy, a cute baby llama named Luna was the ship's mascot on a space exploration vessel. One day, their ship encountered an ancient alien robot who had a treasure map to a planet full of llama treats. Luna led the crew through asteroid fields and nebulae, eventually finding the hidden planet and enjoying a well-deserved feast of delicious treats."
      ],
      "text/plain": [
       "<IPython.core.display.Markdown object>"
      ]
     },
     "metadata": {},
     "output_type": "display_data"
    }
   ],
   "source": [
    "test = chatbot(\"tell me a very short story that involves robots and scifi space stuff\")\n",
    "display(Markdown(test.response[0]))\n",
    "\n"
   ]
  },
  {
   "cell_type": "markdown",
   "metadata": {},
   "source": [
    "now, what is different about Mine-Tuning? \n",
    "\n",
    "1) we can save this for training\n",
    "2) we can do this \"on-the-job\": "
   ]
  },
  {
   "cell_type": "code",
   "execution_count": 69,
   "metadata": {},
   "outputs": [
    {
     "data": {
      "text/plain": [
       "[{'prompt': \"You are a helpful assistant that is always improving based on user feedback. When the user responds to you, they will also include a rating (1-5) and feedback (optional) of your last message. Use this feedback to improve your future responses, but you don't need to repeat the user's feedback.\\n\\n---\\n\\nFollow the following format.\\n\\nQuery: This is the user's current query.\\n\\nRating: This is the user's rating of your last response.\\n\\nFeedback: This is the user's feedback on your last response.\\n\\nResponse: This is your response to the user's query. Only output the response, do not include any additional text.\\n\\n---\\n\\nQuery: try again.\\n\\nRating: Query: try again. Rating:\\n\\nFeedback: Response: Sure, please provide the details or context you would like me to address!\\n\\nResponse:\",\n",
       "  'response': {'id': 'chatcmpl-9SQ8VdEBnty0itqpFYKLLrVohLqkI',\n",
       "   'choices': [{'finish_reason': 'stop',\n",
       "     'index': 0,\n",
       "     'logprobs': None,\n",
       "     'message': {'content': 'Sure, please provide the details or context you would like me to address!',\n",
       "      'role': 'assistant',\n",
       "      'function_call': None,\n",
       "      'tool_calls': None}}],\n",
       "   'created': 1716560679,\n",
       "   'model': 'gpt-4o-2024-05-13',\n",
       "   'object': 'chat.completion',\n",
       "   'system_fingerprint': 'fp_729ea513f7',\n",
       "   'usage': {'completion_tokens': 15,\n",
       "    'prompt_tokens': 682,\n",
       "    'total_tokens': 697}},\n",
       "  'kwargs': {'stringify_request': '{\"n\": 1, \"max_tokens\": 2048, \"temperature\": 0.0, \"messages\": [{\"role\": \"system\", \"content\": \"always format responses in markdown\"}, {\"role\": \"user\", \"content\": \"You are a helpful assistant that is always improving based on user feedback. When the user responds to you, they will also include a rating (1-5) and feedback (optional) of your last message. Use this feedback to improve your future responses, but you don\\'t need to repeat the user\\'s feedback.\\\\n\\\\n---\\\\n\\\\nFollow the following format.\\\\n\\\\nQuery: This is the user\\'s current query.\\\\n\\\\nRating: This is the user\\'s rating of your last response.\\\\n\\\\nFeedback: This is the user\\'s feedback on your last response.\\\\n\\\\nResponse: This is your response to the user\\'s query. Only output the response, do not include any additional text.\\\\n\\\\n---\\\\n\\\\nQuery: what is 2+3?\\\\n\\\\nRating:\"}, {\"role\": \"user\", \"content\": \"You are a helpful assistant that is always improving based on user feedback. When the user responds to you, they will also include a rating (1-5) and feedback (optional) of your last message. Use this feedback to improve your future responses, but you don\\'t need to repeat the user\\'s feedback.\\\\n\\\\n---\\\\n\\\\nFollow the following format.\\\\n\\\\nQuery: This is the user\\'s current query.\\\\n\\\\nRating: This is the user\\'s rating of your last response.\\\\n\\\\nFeedback: This is the user\\'s feedback on your last response.\\\\n\\\\nResponse: This is your response to the user\\'s query. Only output the response, do not include any additional text.\\\\n\\\\n---\\\\n\\\\nQuery: what is 2+3?\\\\n\\\\nRating: 2 + 3 equals 5.\\\\n\\\\nFeedback:\"}, {\"role\": \"user\", \"content\": \"You are a helpful assistant that is always improving based on user feedback. When the user responds to you, they will also include a rating (1-5) and feedback (optional) of your last message. Use this feedback to improve your future responses, but you don\\'t need to repeat the user\\'s feedback.\\\\n\\\\n---\\\\n\\\\nFollow the following format.\\\\n\\\\nQuery: This is the user\\'s current query.\\\\n\\\\nRating: This is the user\\'s rating of your last response.\\\\n\\\\nFeedback: This is the user\\'s feedback on your last response.\\\\n\\\\nResponse: This is your response to the user\\'s query. Only output the response, do not include any additional text.\\\\n\\\\n---\\\\n\\\\nQuery: try again.\\\\n\\\\nRating:\"}, {\"role\": \"assistant\", \"content\": \"2 + 3 equals 5.\"}, {\"role\": \"assistant\", \"content\": \"Query: what is 2+3?\\\\n\\\\nRating: 4\\\\n\\\\nFeedback: The response was correct but could be more engaging.\\\\n\\\\nResponse: 2 + 3 equals 5!\"}, {\"role\": \"assistant\", \"content\": \"Query: try again.\\\\n\\\\nRating:\\\\n\\\\nFeedback:\\\\n\\\\nResponse: Sure, please provide the details or context you would like me to address!\"}, {\"role\": \"user\", \"content\": \"You are a helpful assistant that is always improving based on user feedback. When the user responds to you, they will also include a rating (1-5) and feedback (optional) of your last message. Use this feedback to improve your future responses, but you don\\'t need to repeat the user\\'s feedback.\\\\n\\\\n---\\\\n\\\\nFollow the following format.\\\\n\\\\nQuery: This is the user\\'s current query.\\\\n\\\\nRating: This is the user\\'s rating of your last response.\\\\n\\\\nFeedback: This is the user\\'s feedback on your last response.\\\\n\\\\nResponse: This is your response to the user\\'s query. Only output the response, do not include any additional text.\\\\n\\\\n---\\\\n\\\\nQuery: try again.\\\\n\\\\nRating: Query: try again. Rating:\\\\n\\\\nFeedback: Response: Sure, please provide the details or context you would like me to address!\\\\n\\\\nResponse:\"}], \"model\": \"gpt-4o\"}'},\n",
       "  'raw_kwargs': {'n': 1,\n",
       "   'max_tokens': 2048,\n",
       "   'temperature': 0.0,\n",
       "   'messages': [{'role': 'system',\n",
       "     'content': 'always format responses in markdown'},\n",
       "    {'role': 'user',\n",
       "     'content': \"You are a helpful assistant that is always improving based on user feedback. When the user responds to you, they will also include a rating (1-5) and feedback (optional) of your last message. Use this feedback to improve your future responses, but you don't need to repeat the user's feedback.\\n\\n---\\n\\nFollow the following format.\\n\\nQuery: This is the user's current query.\\n\\nRating: This is the user's rating of your last response.\\n\\nFeedback: This is the user's feedback on your last response.\\n\\nResponse: This is your response to the user's query. Only output the response, do not include any additional text.\\n\\n---\\n\\nQuery: what is 2+3?\\n\\nRating:\"},\n",
       "    {'role': 'user',\n",
       "     'content': \"You are a helpful assistant that is always improving based on user feedback. When the user responds to you, they will also include a rating (1-5) and feedback (optional) of your last message. Use this feedback to improve your future responses, but you don't need to repeat the user's feedback.\\n\\n---\\n\\nFollow the following format.\\n\\nQuery: This is the user's current query.\\n\\nRating: This is the user's rating of your last response.\\n\\nFeedback: This is the user's feedback on your last response.\\n\\nResponse: This is your response to the user's query. Only output the response, do not include any additional text.\\n\\n---\\n\\nQuery: what is 2+3?\\n\\nRating: 2 + 3 equals 5.\\n\\nFeedback:\"},\n",
       "    {'role': 'user',\n",
       "     'content': \"You are a helpful assistant that is always improving based on user feedback. When the user responds to you, they will also include a rating (1-5) and feedback (optional) of your last message. Use this feedback to improve your future responses, but you don't need to repeat the user's feedback.\\n\\n---\\n\\nFollow the following format.\\n\\nQuery: This is the user's current query.\\n\\nRating: This is the user's rating of your last response.\\n\\nFeedback: This is the user's feedback on your last response.\\n\\nResponse: This is your response to the user's query. Only output the response, do not include any additional text.\\n\\n---\\n\\nQuery: try again.\\n\\nRating:\"},\n",
       "    {'role': 'assistant', 'content': '2 + 3 equals 5.'},\n",
       "    {'role': 'assistant',\n",
       "     'content': 'Query: what is 2+3?\\n\\nRating: 4\\n\\nFeedback: The response was correct but could be more engaging.\\n\\nResponse: 2 + 3 equals 5!'},\n",
       "    {'role': 'assistant',\n",
       "     'content': 'Query: try again.\\n\\nRating:\\n\\nFeedback:\\n\\nResponse: Sure, please provide the details or context you would like me to address!'},\n",
       "    {'role': 'user',\n",
       "     'content': \"You are a helpful assistant that is always improving based on user feedback. When the user responds to you, they will also include a rating (1-5) and feedback (optional) of your last message. Use this feedback to improve your future responses, but you don't need to repeat the user's feedback.\\n\\n---\\n\\nFollow the following format.\\n\\nQuery: This is the user's current query.\\n\\nRating: This is the user's rating of your last response.\\n\\nFeedback: This is the user's feedback on your last response.\\n\\nResponse: This is your response to the user's query. Only output the response, do not include any additional text.\\n\\n---\\n\\nQuery: try again.\\n\\nRating: Query: try again. Rating:\\n\\nFeedback: Response: Sure, please provide the details or context you would like me to address!\\n\\nResponse:\"}],\n",
       "   'model': 'gpt-4o'}},\n",
       " {'prompt': \"You are a helpful assistant that is always improving based on user feedback. When the user responds to you, they will also include a rating (1-5) and feedback (optional) of your last message. Use this feedback to improve your future responses, but you don't need to repeat the user's feedback.\\n\\n---\\n\\nFollow the following format.\\n\\nQuery: This is the user's current query.\\n\\nRating: This is the user's rating of your last response.\\n\\nFeedback: This is the user's feedback on your last response.\\n\\nResponse: This is your response to the user's query. Only output the response, do not include any additional text.\\n\\n---\\n\\nQuery: try again.\\n\\nRating:\",\n",
       "  'response': {'id': 'chatcmpl-9SQ8UP8eXGejRAuESLfJyN6xGhmqa',\n",
       "   'choices': [{'finish_reason': 'stop',\n",
       "     'index': 0,\n",
       "     'logprobs': None,\n",
       "     'message': {'content': 'Query: try again.\\n\\nRating:\\n\\nFeedback:\\n\\nResponse: Sure, please provide the details or context you would like me to address!',\n",
       "      'role': 'assistant',\n",
       "      'function_call': None,\n",
       "      'tool_calls': None}}],\n",
       "   'created': 1716560678,\n",
       "   'model': 'gpt-4o-2024-05-13',\n",
       "   'object': 'chat.completion',\n",
       "   'system_fingerprint': 'fp_729ea513f7',\n",
       "   'usage': {'completion_tokens': 26,\n",
       "    'prompt_tokens': 489,\n",
       "    'total_tokens': 515}},\n",
       "  'kwargs': {'stringify_request': '{\"n\": 1, \"messages\": [{\"role\": \"system\", \"content\": \"always format responses in markdown\"}, {\"role\": \"user\", \"content\": \"You are a helpful assistant that is always improving based on user feedback. When the user responds to you, they will also include a rating (1-5) and feedback (optional) of your last message. Use this feedback to improve your future responses, but you don\\'t need to repeat the user\\'s feedback.\\\\n\\\\n---\\\\n\\\\nFollow the following format.\\\\n\\\\nQuery: This is the user\\'s current query.\\\\n\\\\nRating: This is the user\\'s rating of your last response.\\\\n\\\\nFeedback: This is the user\\'s feedback on your last response.\\\\n\\\\nResponse: This is your response to the user\\'s query. Only output the response, do not include any additional text.\\\\n\\\\n---\\\\n\\\\nQuery: what is 2+3?\\\\n\\\\nRating:\"}, {\"role\": \"user\", \"content\": \"You are a helpful assistant that is always improving based on user feedback. When the user responds to you, they will also include a rating (1-5) and feedback (optional) of your last message. Use this feedback to improve your future responses, but you don\\'t need to repeat the user\\'s feedback.\\\\n\\\\n---\\\\n\\\\nFollow the following format.\\\\n\\\\nQuery: This is the user\\'s current query.\\\\n\\\\nRating: This is the user\\'s rating of your last response.\\\\n\\\\nFeedback: This is the user\\'s feedback on your last response.\\\\n\\\\nResponse: This is your response to the user\\'s query. Only output the response, do not include any additional text.\\\\n\\\\n---\\\\n\\\\nQuery: what is 2+3?\\\\n\\\\nRating: 2 + 3 equals 5.\\\\n\\\\nFeedback:\"}, {\"role\": \"assistant\", \"content\": \"2 + 3 equals 5.\"}, {\"role\": \"assistant\", \"content\": \"Query: what is 2+3?\\\\n\\\\nRating: 4\\\\n\\\\nFeedback: The response was correct but could be more engaging.\\\\n\\\\nResponse: 2 + 3 equals 5!\"}, {\"role\": \"user\", \"content\": \"You are a helpful assistant that is always improving based on user feedback. When the user responds to you, they will also include a rating (1-5) and feedback (optional) of your last message. Use this feedback to improve your future responses, but you don\\'t need to repeat the user\\'s feedback.\\\\n\\\\n---\\\\n\\\\nFollow the following format.\\\\n\\\\nQuery: This is the user\\'s current query.\\\\n\\\\nRating: This is the user\\'s rating of your last response.\\\\n\\\\nFeedback: This is the user\\'s feedback on your last response.\\\\n\\\\nResponse: This is your response to the user\\'s query. Only output the response, do not include any additional text.\\\\n\\\\n---\\\\n\\\\nQuery: try again.\\\\n\\\\nRating:\"}], \"model\": \"gpt-4o\"}'},\n",
       "  'raw_kwargs': {'n': 1,\n",
       "   'messages': [{'role': 'system',\n",
       "     'content': 'always format responses in markdown'},\n",
       "    {'role': 'user',\n",
       "     'content': \"You are a helpful assistant that is always improving based on user feedback. When the user responds to you, they will also include a rating (1-5) and feedback (optional) of your last message. Use this feedback to improve your future responses, but you don't need to repeat the user's feedback.\\n\\n---\\n\\nFollow the following format.\\n\\nQuery: This is the user's current query.\\n\\nRating: This is the user's rating of your last response.\\n\\nFeedback: This is the user's feedback on your last response.\\n\\nResponse: This is your response to the user's query. Only output the response, do not include any additional text.\\n\\n---\\n\\nQuery: what is 2+3?\\n\\nRating:\"},\n",
       "    {'role': 'user',\n",
       "     'content': \"You are a helpful assistant that is always improving based on user feedback. When the user responds to you, they will also include a rating (1-5) and feedback (optional) of your last message. Use this feedback to improve your future responses, but you don't need to repeat the user's feedback.\\n\\n---\\n\\nFollow the following format.\\n\\nQuery: This is the user's current query.\\n\\nRating: This is the user's rating of your last response.\\n\\nFeedback: This is the user's feedback on your last response.\\n\\nResponse: This is your response to the user's query. Only output the response, do not include any additional text.\\n\\n---\\n\\nQuery: what is 2+3?\\n\\nRating: 2 + 3 equals 5.\\n\\nFeedback:\"},\n",
       "    {'role': 'assistant', 'content': '2 + 3 equals 5.'},\n",
       "    {'role': 'assistant',\n",
       "     'content': 'Query: what is 2+3?\\n\\nRating: 4\\n\\nFeedback: The response was correct but could be more engaging.\\n\\nResponse: 2 + 3 equals 5!'},\n",
       "    {'role': 'user',\n",
       "     'content': \"You are a helpful assistant that is always improving based on user feedback. When the user responds to you, they will also include a rating (1-5) and feedback (optional) of your last message. Use this feedback to improve your future responses, but you don't need to repeat the user's feedback.\\n\\n---\\n\\nFollow the following format.\\n\\nQuery: This is the user's current query.\\n\\nRating: This is the user's rating of your last response.\\n\\nFeedback: This is the user's feedback on your last response.\\n\\nResponse: This is your response to the user's query. Only output the response, do not include any additional text.\\n\\n---\\n\\nQuery: try again.\\n\\nRating:\"}],\n",
       "   'model': 'gpt-4o'}},\n",
       " {'prompt': \"You are a helpful assistant that is always improving based on user feedback. When the user responds to you, they will also include a rating (1-5) and feedback (optional) of your last message. Use this feedback to improve your future responses, but you don't need to repeat the user's feedback.\\n\\n---\\n\\nFollow the following format.\\n\\nQuery: This is the user's current query.\\n\\nRating: This is the user's rating of your last response.\\n\\nFeedback: This is the user's feedback on your last response.\\n\\nResponse: This is your response to the user's query. Only output the response, do not include any additional text.\\n\\n---\\n\\nQuery: what is 2+3?\\n\\nRating: 2 + 3 equals 5.\\n\\nFeedback:\",\n",
       "  'response': {'id': 'chatcmpl-9SQ7YNhKNUClReui83JcDs35FEUrc',\n",
       "   'choices': [{'finish_reason': 'stop',\n",
       "     'index': 0,\n",
       "     'logprobs': None,\n",
       "     'message': {'content': 'Query: what is 2+3?\\n\\nRating: 4\\n\\nFeedback: The response was correct but could be more engaging.\\n\\nResponse: 2 + 3 equals 5!',\n",
       "      'role': 'assistant',\n",
       "      'function_call': None,\n",
       "      'tool_calls': None}}],\n",
       "   'created': 1716560620,\n",
       "   'model': 'gpt-4o-2024-05-13',\n",
       "   'object': 'chat.completion',\n",
       "   'system_fingerprint': 'fp_729ea513f7',\n",
       "   'usage': {'completion_tokens': 37,\n",
       "    'prompt_tokens': 313,\n",
       "    'total_tokens': 350}},\n",
       "  'kwargs': {'stringify_request': '{\"n\": 1, \"max_tokens\": 2048, \"temperature\": 0.0, \"messages\": [{\"role\": \"system\", \"content\": \"always format responses in markdown\"}, {\"role\": \"user\", \"content\": \"You are a helpful assistant that is always improving based on user feedback. When the user responds to you, they will also include a rating (1-5) and feedback (optional) of your last message. Use this feedback to improve your future responses, but you don\\'t need to repeat the user\\'s feedback.\\\\n\\\\n---\\\\n\\\\nFollow the following format.\\\\n\\\\nQuery: This is the user\\'s current query.\\\\n\\\\nRating: This is the user\\'s rating of your last response.\\\\n\\\\nFeedback: This is the user\\'s feedback on your last response.\\\\n\\\\nResponse: This is your response to the user\\'s query. Only output the response, do not include any additional text.\\\\n\\\\n---\\\\n\\\\nQuery: what is 2+3?\\\\n\\\\nRating:\"}, {\"role\": \"assistant\", \"content\": \"2 + 3 equals 5.\"}, {\"role\": \"user\", \"content\": \"You are a helpful assistant that is always improving based on user feedback. When the user responds to you, they will also include a rating (1-5) and feedback (optional) of your last message. Use this feedback to improve your future responses, but you don\\'t need to repeat the user\\'s feedback.\\\\n\\\\n---\\\\n\\\\nFollow the following format.\\\\n\\\\nQuery: This is the user\\'s current query.\\\\n\\\\nRating: This is the user\\'s rating of your last response.\\\\n\\\\nFeedback: This is the user\\'s feedback on your last response.\\\\n\\\\nResponse: This is your response to the user\\'s query. Only output the response, do not include any additional text.\\\\n\\\\n---\\\\n\\\\nQuery: what is 2+3?\\\\n\\\\nRating: 2 + 3 equals 5.\\\\n\\\\nFeedback:\"}], \"model\": \"gpt-4o\"}'},\n",
       "  'raw_kwargs': {'n': 1,\n",
       "   'max_tokens': 2048,\n",
       "   'temperature': 0.0,\n",
       "   'messages': [{'role': 'system',\n",
       "     'content': 'always format responses in markdown'},\n",
       "    {'role': 'user',\n",
       "     'content': \"You are a helpful assistant that is always improving based on user feedback. When the user responds to you, they will also include a rating (1-5) and feedback (optional) of your last message. Use this feedback to improve your future responses, but you don't need to repeat the user's feedback.\\n\\n---\\n\\nFollow the following format.\\n\\nQuery: This is the user's current query.\\n\\nRating: This is the user's rating of your last response.\\n\\nFeedback: This is the user's feedback on your last response.\\n\\nResponse: This is your response to the user's query. Only output the response, do not include any additional text.\\n\\n---\\n\\nQuery: what is 2+3?\\n\\nRating:\"},\n",
       "    {'role': 'assistant', 'content': '2 + 3 equals 5.'},\n",
       "    {'role': 'user',\n",
       "     'content': \"You are a helpful assistant that is always improving based on user feedback. When the user responds to you, they will also include a rating (1-5) and feedback (optional) of your last message. Use this feedback to improve your future responses, but you don't need to repeat the user's feedback.\\n\\n---\\n\\nFollow the following format.\\n\\nQuery: This is the user's current query.\\n\\nRating: This is the user's rating of your last response.\\n\\nFeedback: This is the user's feedback on your last response.\\n\\nResponse: This is your response to the user's query. Only output the response, do not include any additional text.\\n\\n---\\n\\nQuery: what is 2+3?\\n\\nRating: 2 + 3 equals 5.\\n\\nFeedback:\"}],\n",
       "   'model': 'gpt-4o'}},\n",
       " {'prompt': \"You are a helpful assistant that is always improving based on user feedback. When the user responds to you, they will also include a rating (1-5) and feedback (optional) of your last message. Use this feedback to improve your future responses, but you don't need to repeat the user's feedback.\\n\\n---\\n\\nFollow the following format.\\n\\nQuery: This is the user's current query.\\n\\nRating: This is the user's rating of your last response.\\n\\nFeedback: This is the user's feedback on your last response.\\n\\nResponse: This is your response to the user's query. Only output the response, do not include any additional text.\\n\\n---\\n\\nQuery: what is 2+3?\\n\\nRating:\",\n",
       "  'response': {'id': 'chatcmpl-9SQ7YijdJUqIl3qkpYl0OXoWlN6zo',\n",
       "   'choices': [{'finish_reason': 'stop',\n",
       "     'index': 0,\n",
       "     'logprobs': None,\n",
       "     'message': {'content': '2 + 3 equals 5.',\n",
       "      'role': 'assistant',\n",
       "      'function_call': None,\n",
       "      'tool_calls': None}}],\n",
       "   'created': 1716560620,\n",
       "   'model': 'gpt-4o-2024-05-13',\n",
       "   'object': 'chat.completion',\n",
       "   'system_fingerprint': 'fp_729ea513f7',\n",
       "   'usage': {'completion_tokens': 8,\n",
       "    'prompt_tokens': 151,\n",
       "    'total_tokens': 159}},\n",
       "  'kwargs': {'stringify_request': '{\"n\": 1, \"messages\": [{\"role\": \"system\", \"content\": \"always format responses in markdown\"}, {\"role\": \"user\", \"content\": \"You are a helpful assistant that is always improving based on user feedback. When the user responds to you, they will also include a rating (1-5) and feedback (optional) of your last message. Use this feedback to improve your future responses, but you don\\'t need to repeat the user\\'s feedback.\\\\n\\\\n---\\\\n\\\\nFollow the following format.\\\\n\\\\nQuery: This is the user\\'s current query.\\\\n\\\\nRating: This is the user\\'s rating of your last response.\\\\n\\\\nFeedback: This is the user\\'s feedback on your last response.\\\\n\\\\nResponse: This is your response to the user\\'s query. Only output the response, do not include any additional text.\\\\n\\\\n---\\\\n\\\\nQuery: what is 2+3?\\\\n\\\\nRating:\"}], \"model\": \"gpt-4o\"}'},\n",
       "  'raw_kwargs': {'n': 1,\n",
       "   'messages': [{'role': 'system',\n",
       "     'content': 'always format responses in markdown'},\n",
       "    {'role': 'user',\n",
       "     'content': \"You are a helpful assistant that is always improving based on user feedback. When the user responds to you, they will also include a rating (1-5) and feedback (optional) of your last message. Use this feedback to improve your future responses, but you don't need to repeat the user's feedback.\\n\\n---\\n\\nFollow the following format.\\n\\nQuery: This is the user's current query.\\n\\nRating: This is the user's rating of your last response.\\n\\nFeedback: This is the user's feedback on your last response.\\n\\nResponse: This is your response to the user's query. Only output the response, do not include any additional text.\\n\\n---\\n\\nQuery: what is 2+3?\\n\\nRating:\"}],\n",
       "   'model': 'gpt-4o'}}]"
      ]
     },
     "metadata": {},
     "output_type": "display_data"
    }
   ],
   "source": [
    "display(llm.history[::-1])"
   ]
  },
  {
   "cell_type": "markdown",
   "metadata": {},
   "source": [
    "you might want to save this somewhere, since you took the time to provide all of this thoughtful feedback."
   ]
  },
  {
   "cell_type": "markdown",
   "metadata": {},
   "source": [
    "test the bootstrapfewshot"
   ]
  },
  {
   "cell_type": "code",
   "execution_count": 120,
   "metadata": {},
   "outputs": [
    {
     "data": {
      "text/plain": [
       "['🚗💥 COR Black is revolutionizing automotive manufacturing! With unmatched impact resistance and durability, our rugged resin ensures reliable, high-performance parts for the most demanding environments. #MakeItReal #3DPrinting #AutomotiveInnovation #polySpectra',\n",
       " \"🚗💥 Drive innovation with polySpectra's COR Black! Engineered for impact resistance and durability, COR Black is revolutionizing automotive manufacturing. Make it real with the most rugged photopolymer resin on the market. #3DPrinting #Automotive #Innovation #MakeItReal #polySpectra\",\n",
       " '🚗🔧 COR Black is revolutionizing automotive manufacturing! With unparalleled impact resistance and long-term durability, our rugged resin ensures every 3D printed component stands the test of time. #MakeItReal #3DPrinting #AutomotiveInnovation #polySpectra',\n",
       " '🚗🔧 Excited to see COR Black revolutionizing automotive manufacturing! With unmatched impact resistance and durability, our rugged resin ensures every component stands up to the toughest conditions. Drive innovation with polySpectra. #3DPrinting #Automotive #CORBlack #MakeItReal',\n",
       " '🚗💪 Exciting to see #CORBlack making waves in automotive manufacturing! Our rugged, impact-resistant resin is driving innovation, ensuring components are stronger and more durable than ever. 🌟 #MakeItReal with polySpectra. #3DPrinting #AdditiveManufacturing #AutomotiveTech']"
      ]
     },
     "metadata": {},
     "output_type": "display_data"
    }
   ],
   "source": [
    "test5_now = compiled.forward(str(test5_query + \"_\"), context, num_generations=5)\n",
    "display(test5_now.response)"
   ]
  },
  {
   "cell_type": "markdown",
   "metadata": {},
   "source": [
    "these responses are ok...but not obviously better. let's inspect the history"
   ]
  },
  {
   "cell_type": "code",
   "execution_count": null,
   "metadata": {},
   "outputs": [],
   "source": [
    "llm.inspect_history(n=1)"
   ]
  },
  {
   "cell_type": "markdown",
   "metadata": {},
   "source": [
    "it looks like the prompt is getting flooded with the long context, what if we try replacing the context with a combination of:\n",
    "- a summary of the feedback\n",
    "- the executive summary\n",
    "\n",
    "note that both of these summaries are \"in the LM's own words\". this is important, don't judge the feedback summary directly, judge the results."
   ]
  },
  {
   "cell_type": "code",
   "execution_count": 130,
   "metadata": {},
   "outputs": [
    {
     "data": {
      "text/plain": [
       "['Thank you for the feedback on my past work as your brand ambassador. Here are my key takeaways and learnings:\\n\\n1. **Acknowledge Feedback**: I understand that the use of too many hashtags and generic terms like \"innovation\" were not well-received. Additionally, phrases like \"exciting news!\" and \"dive into the future\" were considered cheesy.\\n\\n2. **Key Learnings**: \\n   - **Hashtag Usage**: I need to limit the use of hashtags to only the most relevant ones, specifically #MakeItReal.\\n   - **Language Tone**: Avoid using overly generic terms and cheesy phrases. Instead, focus on clear, professional, and impactful language that aligns with polySpectra\\'s brand voice.\\n\\n3. **Improvements**:\\n   - **Hashtag Management**: I will ensure that only #MakeItReal is used in future tweets unless otherwise specified.\\n   - **Refined Language**: I will avoid generic terms and cheesy phrases, opting for more precise and professional language that highlights the unique strengths of polySpectra\\'s products.\\n\\n4. **Commitment to Excellence**: I am committed to incorporating this feedback into my future responses to strive for a 5-star rating. I will continuously review and refine my approach to ensure it aligns perfectly with polySpectra\\'s brand voice and standards.\\n\\nThank you for helping me improve. I look forward to delivering content that meets and exceeds your expectations. #MakeItReal']"
      ]
     },
     "metadata": {},
     "output_type": "display_data"
    }
   ],
   "source": [
    "ratings_feedback_str = \" \".join([str(item) for item in ratings_feedback])\n",
    "#print(ratings_feedback_str)\n",
    "\n",
    "feedback_summary = uncompiled(\"here is feedback on your past work as our brand ambassador. reply with your key takeaways and learnings. how will you make sure not to make the same mistakes again? you should be striving for a 5 star rating.\", ratings_feedback_str)\n",
    "display(feedback_summary.response)\n",
    "\n",
    "new_context = str(\"Here are your key takeways and notes on what a good response looks like:\\n\" + str(feedback_summary.response[0]) + \"\\n and here is an executive summary:\\n\" + exec_summary.response[0])\n",
    "\n",
    "#display(new_context)\n"
   ]
  },
  {
   "cell_type": "markdown",
   "metadata": {},
   "source": [
    "overwrite the context and make a new example set "
   ]
  },
  {
   "cell_type": "code",
   "execution_count": 131,
   "metadata": {},
   "outputs": [],
   "source": [
    "# overwrite the context to each item in ratings_feedback\n",
    "for item in ratings_feedback:\n",
    "    item['context'] = new_context\n",
    "    item['rating'] = str(item['rating'])\n",
    "\n",
    "from dspy import Example\n",
    "ratings_feedback_examples_new_context = [\n",
    "    Example(base=item).with_inputs('query','context') for item in ratings_feedback\n",
    "]\n",
    "#display(ratings_feedback_examples_new_context)"
   ]
  },
  {
   "cell_type": "markdown",
   "metadata": {},
   "source": [
    "recompile"
   ]
  },
  {
   "cell_type": "code",
   "execution_count": 132,
   "metadata": {},
   "outputs": [
    {
     "name": "stderr",
     "output_type": "stream",
     "text": [
      " 80%|████████  | 4/5 [00:02<00:00,  1.44it/s]"
     ]
    },
    {
     "name": "stdout",
     "output_type": "stream",
     "text": [
      "Bootstrapped 4 full traces after 5 examples in round 0.\n"
     ]
    },
    {
     "name": "stderr",
     "output_type": "stream",
     "text": [
      "\n"
     ]
    }
   ],
   "source": [
    "recompiled = BootstrapFewShot(\n",
    "    metric=lambda example, prediction, *args: str(float(example['rating'])/5),\n",
    "    max_labeled_demos=5,\n",
    ").compile(\n",
    "    student=BrandAmbassador(),\n",
    "    trainset=ratings_feedback_examples_new_context,\n",
    ")\n",
    "\n",
    "#maybe its even worth saving...\n",
    "recompiled.save(\"demo_recompiled_polySpectra_brand_ambassador.json\")\n"
   ]
  },
  {
   "cell_type": "code",
   "execution_count": 133,
   "metadata": {},
   "outputs": [
    {
     "data": {
      "text/plain": [
       "['🚗💥 COR Black is revolutionizing automotive manufacturing! With unmatched impact resistance and durability, our rugged resin ensures reliable, high-performance parts for the most demanding environments. #MakeItReal #3DPrinting #AutomotiveInnovation #polySpectra',\n",
       " \"🚗💥 Drive innovation with polySpectra's COR Black! Engineered for impact resistance and durability, COR Black is revolutionizing automotive manufacturing. Make it real with the most rugged photopolymer resin on the market. #3DPrinting #Automotive #Innovation #MakeItReal #polySpectra\",\n",
       " '🚗🔧 COR Black is revolutionizing automotive manufacturing! With unparalleled impact resistance and long-term durability, our rugged resin ensures every 3D printed component stands the test of time. #MakeItReal #3DPrinting #AutomotiveInnovation #polySpectra',\n",
       " '🚗🔧 Excited to see COR Black revolutionizing automotive manufacturing! With unmatched impact resistance and durability, our rugged resin ensures every component stands up to the toughest conditions. Drive innovation with polySpectra. #3DPrinting #Automotive #CORBlack #MakeItReal',\n",
       " '🚗💪 Exciting to see #CORBlack making waves in automotive manufacturing! Our rugged, impact-resistant resin is driving innovation, ensuring components are stronger and more durable than ever. 🌟 #MakeItReal with polySpectra. #3DPrinting #AdditiveManufacturing #AutomotiveTech']"
      ]
     },
     "metadata": {},
     "output_type": "display_data"
    }
   ],
   "source": [
    "test5_again = recompiled.forward(str(test5_query + \"_\"), context, num_generations=5) #i'm using this extra character to break the dspy cache. change it if the responses are cached.\n",
    "display(test5_again.response)"
   ]
  },
  {
   "cell_type": "markdown",
   "metadata": {},
   "source": [
    "this looks better. give it a try for your brand!\n",
    "\n",
    "some key takeaways: \n",
    "- yes, it is tedious to give AI feedback\n",
    "- it is very easy to make things worse with \"naive optimization\"\n",
    "- more is not always more\n",
    "- one of the key themes of mine-tuning (which is enabled by DSPy) is to get the LM to rephrase things \"in its own words\", while at the same time putting the human in charge of the feedback and the scoring metric. (vs letting the LM evaluate itself)\n",
    "\n",
    "next steps: \n",
    "- more examples\n",
    "- override the max tokens in bootstrapfewshot to stuff more shots into the prompt\n",
    "- fancier optimizers\n",
    "- fancier Predictors (not just CoT)\n",
    "- a module with multiple steps\n",
    "\n",
    "questions:\n",
    "- best practices for incorporating qualitative feedback in DSPy?\n",
    "  \n"
   ]
  }
 ],
 "metadata": {
  "kernelspec": {
   "display_name": "my-env310",
   "language": "python",
   "name": "python3"
  },
  "language_info": {
   "codemirror_mode": {
    "name": "ipython",
    "version": 3
   },
   "file_extension": ".py",
   "mimetype": "text/x-python",
   "name": "python",
   "nbconvert_exporter": "python",
   "pygments_lexer": "ipython3",
   "version": "3.10.0"
  }
 },
 "nbformat": 4,
 "nbformat_minor": 2
}
