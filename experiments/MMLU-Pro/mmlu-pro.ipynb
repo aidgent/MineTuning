{
 "cells": [
  {
   "cell_type": "markdown",
   "metadata": {},
   "source": [
    "playing around with mmlu pro https://huggingface.co/datasets/TIGER-Lab/MMLU-Pro"
   ]
  },
  {
   "cell_type": "code",
   "execution_count": null,
   "metadata": {},
   "outputs": [],
   "source": [
    "%pip install dspy\n",
    "%pip install ipywidgets\n",
    "%pip install IPython\n",
    "%pip install requests"
   ]
  },
  {
   "cell_type": "code",
   "execution_count": 1,
   "metadata": {},
   "outputs": [],
   "source": [
    "import dspy\n",
    "from dspy.datasets import DataLoader\n",
    "import dspy\n",
    "import os\n",
    "import dotenv\n",
    "import requests\n",
    "import pydantic"
   ]
  },
  {
   "cell_type": "markdown",
   "metadata": {},
   "source": [
    "setup DSPy"
   ]
  },
  {
   "cell_type": "code",
   "execution_count": 3,
   "metadata": {},
   "outputs": [],
   "source": [
    "dotenv.load_dotenv()\n",
    "assert 'OPENAI_API_KEY' in os.environ\n",
    "llm = dspy.OpenAI(model='gpt-4o', max_tokens=4096, temperature=0.1)\n",
    "dspy.settings.configure(lm=llm)"
   ]
  },
  {
   "cell_type": "markdown",
   "metadata": {},
   "source": [
    "Download MMLU-Pro"
   ]
  },
  {
   "cell_type": "code",
   "execution_count": 6,
   "metadata": {},
   "outputs": [],
   "source": [
    "dl = DataLoader()\n",
    "mmlu_pro = dl.from_huggingface(\"TIGER-Lab/MMLU-Pro\")\n",
    "validation = mmlu_pro['validation']\n",
    "#display(validation)\n",
    "\n"
   ]
  },
  {
   "cell_type": "markdown",
   "metadata": {},
   "source": [
    "Get 10 random entries and format for DSPy "
   ]
  },
  {
   "cell_type": "code",
   "execution_count": 7,
   "metadata": {},
   "outputs": [
    {
     "data": {
      "text/plain": [
       "[Example({'question_id': 9, 'question': 'Why are parvoviruses a highly impactful parasite?', 'options': '[\"They are able to alter the host\\'s DNA\", \\'Because they have no nucleic acid\\', \\'They can survive in extreme temperatures\\', \\'Only replicate in dividing cells\\', \\'They can infect multiple species\\', \"They don\\'t require a host to survive\", \\'Can integrate into host chromosomes\\', \\'N/A\\', \\'N/A\\', \\'N/A\\']', 'answer': 'B', 'answer_index': '1', 'cot_content': \"A: Let's think step by step. We refer to Wikipedia articles on virology for help. Paroviruses are highly impactful because they do not have nucleic acid. The answer is (B).\", 'category': 'health', 'src': 'cot_lib-virology'}) (input_keys={'options', 'question'}),\n",
       " Example({'question_id': 11, 'question': 'Where do most short-period comets come from and how do we know?', 'options': \"['The Kuiper belt; short period comets tend to be in the plane of the solar system just like the Kuiper belt.', 'The asteroid belt; short period comets tend to come from random directions indicating a spherical distribution of comets called the asteroid belt.', 'The asteroid belt; short period comets tend to be in the plane of the solar system just like the asteroid belt.', 'The Oort cloud; short period comets have orbital periods similar to asteroids like Vesta and are found in the plane of the solar system just like the Oort cloud.', 'The Oort Cloud; short period comets tend to come from random directions indicating a spherical distribution of comets called the Oort Cloud.', 'The Oort cloud; short period comets tend to be in the plane of the solar system just like the Oort cloud.', 'The asteroid belt; short period comets have orbital periods similar to asteroids like Vesta and are found in the plane of the solar system just like the asteroid belt.', 'N/A', 'N/A', 'N/A']\", 'answer': 'A', 'answer_index': '0', 'cot_content': \"A: Let's think step by step. Most short-period comets come from the Kuiper belt, and we know because short period coments tend to be in the plane of the solar system, just like the Kuiper belt is. The answer is (A).\", 'category': 'physics', 'src': 'cot_lib-astronomy'}) (input_keys={'options', 'question'}),\n",
       " Example({'question_id': 38, 'question': 'Which of the following policies best describes supply-side fiscal policy?', 'options': \"['Higher taxes on household income', 'Increased government spending', 'Increased taxes on corporate profits', 'Increased import tariffs', 'Decreased interest rates', 'Lower taxes on consumer goods', 'Lower taxes on research and development of new technology', 'Reduced government spending', 'Higher taxes on capital gains', 'An increase in the money supply']\", 'answer': 'G', 'answer_index': '6', 'cot_content': \"A: Let's think step by step. We refer to Wikipedia articles on macroeconomics for help. Supply-side fiscal policy stimulates the economy by encouraging more production of goods and services through reduction in taxes and deregulation. The answer is (G).\", 'category': 'economics', 'src': 'cot_lib-high_school_macroeconomics'}) (input_keys={'options', 'question'}),\n",
       " Example({'question_id': 67, 'question': 'The ________ School of jurisprudence postulates that the law is based on what is \"correct.\"', 'options': \"['Legal Pragmatism', 'Legal Formalism', 'Comparative', 'Analytical', 'Sociological', 'Historical', 'Critical Legal Studies', 'Realist', 'Positivist', 'Natural Law']\", 'answer': 'J', 'answer_index': '9', 'cot_content': 'A: Let\\'s think step by step. We refer to Wikipedia articles on jurisprudence for help. Natural Law School of jurisprudence focuses on the laws of nature, and states that the law should be based on ethics, morals, and what is \"correct\". Analytical deals with the law as it already exists, Historical postulates that the law was found and not made, and Sociological studies how the law and society impact each other. The answer is (J).', 'category': 'law', 'src': 'cot_lib-jurisprudence'}) (input_keys={'options', 'question'}),\n",
       " Example({'question_id': 56, 'question': 'This question refers to the following information.\\nThe following excerpt is from a pamphlet.\\nYou will do me the justice to remember, that I have always strenuously supported the Right of every man to his own opinion, however different that opinion might be to mine. He who denies to another this right, makes a slave of himself to his present opinion, because he precludes himself the right of changing it.\\nThe most formidable weapon against errors of every kind is Reason. I have never used any other, and I trust I never shall.\\nThe circumstance that has now taken place in France of the total abolition of the whole national order of priesthood, and of everything appertaining to compulsive systems of religion, and compulsive articles of faith, has not only precipitated my intention, but rendered a work of this kind exceedingly necessary, lest in the general wreck of superstition, of false systems of government, and false theology, we lose sight of morality, of humanity, and of the theology that is true.\\nI believe in one God, and no more; and I hope for happiness beyond this life.\\nI believe in the equality of man; and I believe that religious duties consist in doing justice, loving mercy, and endeavoring to make our fellow-creatures happy.\\nI do not believe in the creed professed by the Jewish church, by the Roman church, by the Greek church, by the Turkish church, by the Protestant church, nor by any church that I know of. My own mind is my own church.\\nAll national institutions of churches, whether Jewish, Christian or Turkish, appear to me no other than human inventions, set up to terrify and enslave mankind, and monopolize power and profit.\\nI do not mean by this declaration to condemn those who believe otherwise; they have the same right to their belief as I have to mine.\\n—Thomas Paine, The Age of Reason, 1794–1795\\nWhich of the following Enlightenment philosophes designed a system of checks and balances for government to avoid abuses of power?', 'options': \"['Thomas Hobbes', 'Jean Jacques Rousseau', 'Baron Montesquieu', 'Voltaire', 'Denis Diderot', 'Immanuel Kant', 'David Hume', 'Mary Wollstonecraft', 'Adam Smith', 'John Locke']\", 'answer': 'C', 'answer_index': '2', 'cot_content': \"A: Let's think step by step. We refer to Wikipedia articles on european history for help. Baron Montesquieu was a 18th centrury French philsopher who wrote extensively against the monoplization of power and advocated for a system of checks and balances in government to prevent the rise of despotism. The answer is (C).\", 'category': 'history', 'src': 'cot_lib-high_school_european_history'}) (input_keys={'options', 'question'}),\n",
       " Example({'question_id': 62, 'question': 'According to the Individuals with Disabilities Education Improvement Act, which of the following must an educational agency do before it changes the educational placement of a student with a disability?', 'options': '[\\'Notify the parents in writing\\', \"Obtain the child\\'s consent\", \\'Obtain a court order\\', \"Conduct a new evaluation of the child\\'s disability\", \"Discuss with the child\\'s psychologist\", \\'Give the child a trial period in the new environment\\', \\'Obtain parental consent\\', \\'Notify the local education authority\\', \\'Arrange a meeting with all teachers and administrators\\', \\'Obtain school board approval\\']', 'answer': 'A', 'answer_index': '0', 'cot_content': \"A: Let's think step by step. We refer to Wikipedia articles on psychology for help. When the decision to change the educational placement of a student with a disability is made, the educational agency must notify the parents in writing on that date. The answer is (A).\", 'category': 'psychology', 'src': 'cot_lib-high_school_psychology'}) (input_keys={'options', 'question'}),\n",
       " Example({'question_id': 40, 'question': 'A point pole has a strength of 4π * 10^-4 weber. The force in newtons on a point pole of 4π * 1.5 * 10^-4 weber placed at a distance of 10 cm from it will be', 'options': \"['25 N.', '12.5 N.', '15 N.', '10 N.', '7.5 N.', '20 N.', '5 N.', '3.75 N.', 'N/A', 'N/A']\", 'answer': 'C', 'answer_index': '2', 'cot_content': \"A: Let's think step by step. The force between two point poles is given by m_1m_2/(mu_0 4 \\\\pi r^2), in analogy to Coulomb’s law. Plugging in the values given in the question, we calculate that the force is approximately 15 N. The answer is (C).\", 'category': 'engineering', 'src': 'cot_lib-electrical_engineering'}) (input_keys={'options', 'question'}),\n",
       " Example({'question_id': 55, 'question': 'This question refers to the following information.\\nIn Russia there was nothing going on well, and [Souvarine] was in despair over the news he had received. His old companions were all turning to the politicians; the famous Nihilists who made Europe tremble-sons of village priests, of the lower middle class, of tradesmen-could not rise above the idea of national liberation, and seemed to believe that the world would be delivered-when they had killed their despot&…\\n\"Foolery! They\\'ll never get out of it with their foolery.\"\\nThen, lowering his voice still more, in a few bitter words he described his old dream of fraternity. He had renounced his rank and his fortune; he had gone among workmen, only in the hope of seeing at last the foundation of a new society of labour in common. All the sous in his pockets had long gone to the urchins of the settlement; he had been as tender as a brother with the colliers, smiling at their suspicion, winning them over by his quiet workmanlike ways and his dislike of chattering. But decidedly the fusion had not taken place.\\nHis voice changed, his eyes grew bright, he fixed them on étienne, directly addressing him:\\n\"Now, do you understand that? These hatworkers at Marseilles who have won the great lottery prize of a hundred thousand francs have gone off at once and invested it, declaring that they are going to live without doing anything! Yes, that is your idea, all of you French workmen; you want to unearth a treasure in order to devour it alone afterwards in some lazy, selfish corner. You may cry out as much as you like against the rich, you haven\\'t got courage enough to give back to the poor the money that luck brings you. You will never be worthy of happiness as long as you own anything, and your hatred of the bourgeois proceeds solely from an angry desire to be bourgeois yourselves in their place.\"\\némile Zola, French writer, Germinal, 1885\\nThe passage displays the direct concern for the welfare of the working classes that was typically a part of which movement?', 'options': \"['Communist', 'Anarchist', 'Feminist', 'Fascist', 'Imperialist', 'Nationalist', 'Enlightenment', 'Existentialist', 'N/A', 'N/A']\", 'answer': 'A', 'answer_index': '0', 'cot_content': \"A: Let's think step by step. We refer to Wikipedia articles on european history for help. The modern Communist movement aims to establish a classless society based on communal ownership and distribution of property and means of production, thereby especially benefiting the working classes. The answer is (A).\", 'category': 'history', 'src': 'cot_lib-high_school_european_history'}) (input_keys={'options', 'question'}),\n",
       " Example({'question_id': 53, 'question': 'A woman who knows she has active herpes and untreated syphilis but continues to have sex without informing her partners of her condition has, in psychoanalytic terms:', 'options': \"['a weak conscious mind', 'a strong conscious mind', 'a weak id', 'a weak ego', 'a weak unconscious mind', 'a strong id', 'a strong ego', 'a strong superego', 'a strong preconscious mind', 'a weak superego']\", 'answer': 'J', 'answer_index': '9', 'cot_content': \"A: Let's think step by step. We refer to Wikipedia articles on human sexuality for help. A person with weak superego tends to be delinquent, criminal or have antisocial personality. The action of the woman who knows she has active venereal disease but still have sex with her partners indicate she may has antisocial personality. The answer is (J).\", 'category': 'other', 'src': 'cot_lib-human_sexuality'}) (input_keys={'options', 'question'}),\n",
       " Example({'question_id': 69, 'question': 'A state has recently enacted a statute prohibiting the disposal of any nuclear wastes within the state. This law does not contravene or conflict with any federal statutes. A man operates a company in the state that is engaged in the disposal of nuclear wastes. Subsequent to the passage of the state statute, the man, not yet aware of the new law, entered into contracts with many out-of-state firms to dispose of their nuclear wastes in the state. On account of this new law, however, the man will be unable to perform these contracts. Assume that the man has standing to challenge this state law. Which of the following presents his strongest constitutional grounds to challenge the state law prohibiting the disposal of nuclear wastes within the state?', 'options': \"['The second amendment - the right to bear arms.', 'The due process clause of the Fourteenth Amendment.', 'The tenth amendment - powers not delegated to the United States by the Constitution.', 'The first amendment - freedom of speech.', 'The privileges and immunities clause of Article IV, Section 2.', 'The commerce clause.', 'The sixth amendment - right to a fair trial.', 'The eighth amendment - prohibition of cruel and unusual punishment.', 'The equal protection clause of the Fourteenth Amendment.', 'N/A']\", 'answer': 'F', 'answer_index': '5', 'cot_content': \"A: Let's think step by step. We refer to Wikipedia articles on law for help. The commerce clause states that Congress shall have the power to regulate commerce with foreign Nations, and among the several States, and with the Indian Tribes. The statute affects inter-state commerce which puts it into question. Hence the man's strongest argument should be the commerce clause. The answer is (F).\", 'category': 'law', 'src': 'cot_lib-professional_law'}) (input_keys={'options', 'question'})]"
      ]
     },
     "metadata": {},
     "output_type": "display_data"
    }
   ],
   "source": [
    "import random\n",
    "\n",
    "try10 = random.sample(validation, 10)\n",
    "#display(try10)\n",
    "\n",
    "try10ex = [example.with_inputs(\"question\", \"options\") for example in random.sample(validation, 10)]\n",
    "for ex in try10ex:\n",
    "    ex['options'] = str(ex['options'])\n",
    "    ex['answer_index'] = str(ex['answer_index'])\n",
    "display(try10ex)\n"
   ]
  },
  {
   "cell_type": "markdown",
   "metadata": {},
   "source": [
    "maybe someday implement typed inputs...this caused too much trouble"
   ]
  },
  {
   "cell_type": "code",
   "execution_count": 57,
   "metadata": {},
   "outputs": [],
   "source": [
    "# from typing import List\n",
    "# from dspy.functional import TypedPredictor, TypedChainOfThought\n",
    "# from pydantic import BaseModel, Field\n",
    "\n",
    "# class Input(BaseModel):\n",
    "#     question: str = Field(description=\"The question.\")\n",
    "#     #options: List[str] = Field(description=\"A list of options.\")\n",
    "#     options: str = Field(description=\"A list of options.\")\n",
    "\n",
    "# class OutputCode(BaseModel):\n",
    "#     #answer: str = Field(description=\"must be one of the first ten letters in the English alphabet: A,B,C,D,E,F,G,H,I,J\")\n",
    "#     answer_index: str = Field(description=\"must be one of the first ten letters in the English alphabet: A,B,C,D,E,F,G,H,I,J\")\n",
    "#     cot_content: str = Field(description=\"your full rationale for why you chose the answer\")\n",
    "\n"
   ]
  },
  {
   "cell_type": "markdown",
   "metadata": {},
   "source": [
    "Make the signature and the module"
   ]
  },
  {
   "cell_type": "code",
   "execution_count": 8,
   "metadata": {},
   "outputs": [],
   "source": [
    "class MMLUPro(dspy.Signature):\n",
    "    \"\"\"Answer questions with a rationale and a multiple choice answer.\"\"\"\n",
    "\n",
    "    question = dspy.InputField()\n",
    "    options = dspy.InputField()\n",
    "    cot_content = dspy.OutputField(desc=\"your full rationale for why you chose the answer\")\n",
    "    answer_index = dspy.OutputField(desc=\"reply with the index of the correct answer from the options. you must reply with only one choice from 0-9\")\n",
    "    \n",
    "\n"
   ]
  },
  {
   "cell_type": "code",
   "execution_count": 9,
   "metadata": {},
   "outputs": [],
   "source": [
    "class CoTMMLU(dspy.Module):  # let's define a new module\n",
    "    def __init__(self):\n",
    "        super().__init__()\n",
    "       \n",
    "        self.signature = MMLUPro\n",
    "        self.predictor = dspy.ChainOfThought(self.signature)\n",
    "    \n",
    "    def forward(self, question, options):\n",
    "        result = self.predictor(question=question, options=options)\n",
    "        return dspy.Prediction(answer_index=str(result.answer_index), cot_content=str(result.cot_content))\n",
    "\n"
   ]
  },
  {
   "cell_type": "markdown",
   "metadata": {},
   "source": [
    "test just one question to be sure it works"
   ]
  },
  {
   "cell_type": "code",
   "execution_count": 13,
   "metadata": {},
   "outputs": [
    {
     "name": "stdout",
     "output_type": "stream",
     "text": [
      "Sample Question: Why are parvoviruses a highly impactful parasite?\n",
      "Options: [\"They are able to alter the host's DNA\", 'Because they have no nucleic acid', 'They can survive in extreme temperatures', 'Only replicate in dividing cells', 'They can infect multiple species', \"They don't require a host to survive\", 'Can integrate into host chromosomes', 'N/A', 'N/A', 'N/A']\n",
      "Answer Index: 1\n"
     ]
    }
   ],
   "source": [
    "sample_question = try10ex[0]['question']\n",
    "sample_options = try10ex[0]['options']\n",
    "sample_answer_index = try10ex[0]['answer_index']\n",
    "\n",
    "print(\"Sample Question:\", sample_question)\n",
    "print(\"Options:\", sample_options)\n",
    "print(\"Answer Index:\", sample_answer_index)\n",
    "\n",
    "\n"
   ]
  },
  {
   "cell_type": "code",
   "execution_count": 14,
   "metadata": {},
   "outputs": [
    {
     "data": {
      "text/plain": [
       "Prediction(\n",
       "    answer_index='3',\n",
       "    cot_content='Parvoviruses are highly impactful because they can only replicate in dividing cells. This dependency on host cell division means that they can cause significant damage to tissues where cells are rapidly dividing. For example, in dogs, canine parvovirus targets the rapidly dividing cells in the intestines, leading to severe gastrointestinal illness. In humans, parvovirus B19 targets erythroid progenitor cells in the bone marrow, which can lead to conditions like anemia. This specific replication requirement is a key factor in their pathogenicity.'\n",
       ")"
      ]
     },
     "metadata": {},
     "output_type": "display_data"
    }
   ],
   "source": [
    "uncompiled = CoTMMLU()\n",
    "response = uncompiled(question=sample_question, options=str(sample_options))\n",
    "display(response)\n",
    "\n",
    "\n"
   ]
  },
  {
   "cell_type": "code",
   "execution_count": null,
   "metadata": {},
   "outputs": [],
   "source": [
    "llm.inspect_history(n=1)"
   ]
  },
  {
   "cell_type": "markdown",
   "metadata": {},
   "source": [
    "bootstrapfewshot as a simple optimizer...later we can get crazy, just prove the workflow for now."
   ]
  },
  {
   "cell_type": "code",
   "execution_count": 15,
   "metadata": {},
   "outputs": [
    {
     "name": "stderr",
     "output_type": "stream",
     "text": [
      "  0%|          | 0/10 [00:00<?, ?it/s]"
     ]
    },
    {
     "name": "stderr",
     "output_type": "stream",
     "text": [
      " 50%|█████     | 5/10 [00:17<00:17,  3.51s/it]"
     ]
    },
    {
     "name": "stdout",
     "output_type": "stream",
     "text": [
      "Bootstrapped 4 full traces after 6 examples in round 0.\n"
     ]
    },
    {
     "name": "stderr",
     "output_type": "stream",
     "text": [
      "\n"
     ]
    }
   ],
   "source": [
    "from dspy.teleprompt import BootstrapFewShot\n",
    "\n",
    "def custom_answer_exact_match(prediction, example, trace=None):\n",
    "    return prediction.answer_index == example['answer_index']\n",
    "\n",
    "compiled = BootstrapFewShot(\n",
    "    metric=custom_answer_exact_match,\n",
    "    # num_threads=30,\n",
    "    # num_candidate_programs=5,\n",
    "    max_labeled_demos=8,\n",
    ").compile(\n",
    "    student=CoTMMLU(),\n",
    "    trainset=try10ex,\n",
    ")\n",
    "\n"
   ]
  },
  {
   "cell_type": "code",
   "execution_count": null,
   "metadata": {},
   "outputs": [],
   "source": [
    "llm.inspect_history(n=1)"
   ]
  },
  {
   "cell_type": "markdown",
   "metadata": {},
   "source": [
    "get 10 new questions "
   ]
  },
  {
   "cell_type": "code",
   "execution_count": 16,
   "metadata": {},
   "outputs": [
    {
     "data": {
      "text/plain": [
       "[Example({'question_id': 4, 'question': 'A total of 30 players will play basketball at a park. There will be exactly 5 players on each team. Which statement correctly explains how to find the number of teams needed?', 'options': \"['Multiply 5 by 5 to find 25 teams.', 'Divide 30 by 5 to find 6 teams.', 'Add 5 to 30 to find 35 teams.', 'Subtract 30 from 5 to find -25 teams.', 'Divide 5 by 30 to find 0.1667 teams.', 'Add 5 to 30 then divide by 2 to find 17.5 teams.', 'N/A', 'N/A', 'N/A', 'N/A']\", 'answer': 'B', 'answer_index': '1', 'cot_content': \"A: Let's think step by step. We want to find the number of teams. We know that there are 5 players/team, and 30 players. Thus to get the number of teams we divide players by players/team, so 30 players / 5 players/team = 6 teams. The answer is (B).\", 'category': 'math', 'src': 'cot_lib-elementary_mathematics'}) (input_keys={'options', 'question'}),\n",
       " Example({'question_id': 52, 'question': 'Which of the following cases established the precedent that a defendant must be informed of the right to remain silent, the right to a lawyer, and protection from self-incrimination?', 'options': \"['Brown v. Board of Education', 'Miranda v. Arizona', 'Roe v. Wade', 'Betts v. Brady', 'Plessy v. Ferguson', 'Dred Scott v. Sandford', 'Weeks v. United States', 'Gideon v. Wainwright', 'Marbury v. Madison', 'Mapp v. Ohio']\", 'answer': 'B', 'answer_index': '1', 'cot_content': \"A: Let's think step by step. We refer to Wikipedia articles on government and politics for help. In the landmark Miranda v. Arizona in 1966, the US Supreme Court, based on the Fifth and Sixth Amendment of the US Constitution, guaranteed a defendant's right to an attorney and protection from self-incrimination. The answer is (B).\", 'category': 'other', 'src': 'cot_lib-high_school_government_and_politics'}) (input_keys={'options', 'question'}),\n",
       " Example({'question_id': 51, 'question': 'Which one of the following items is an example of nonmaterial culture?', 'options': \"['A dove feather', 'Dove symbol', 'Dove body lotion', 'Dove deodorant', 'Dove soap', 'Dove candy bar', 'Dove conditioner', 'A dove (bird).', 'Dove chocolate', 'Dove shampoo']\", 'answer': 'B', 'answer_index': '1', 'cot_content': \"A: Let's think step by step. We refer to Wikipedia articles on geography for help. Nonmaterial culture consists of cultural ideas, beliefs or symbols that are not physical objects. The answer is (B).\", 'category': 'other', 'src': 'cot_lib-high_school_geography'}) (input_keys={'options', 'question'}),\n",
       " Example({'question_id': 55, 'question': 'This question refers to the following information.\\nIn Russia there was nothing going on well, and [Souvarine] was in despair over the news he had received. His old companions were all turning to the politicians; the famous Nihilists who made Europe tremble-sons of village priests, of the lower middle class, of tradesmen-could not rise above the idea of national liberation, and seemed to believe that the world would be delivered-when they had killed their despot&…\\n\"Foolery! They\\'ll never get out of it with their foolery.\"\\nThen, lowering his voice still more, in a few bitter words he described his old dream of fraternity. He had renounced his rank and his fortune; he had gone among workmen, only in the hope of seeing at last the foundation of a new society of labour in common. All the sous in his pockets had long gone to the urchins of the settlement; he had been as tender as a brother with the colliers, smiling at their suspicion, winning them over by his quiet workmanlike ways and his dislike of chattering. But decidedly the fusion had not taken place.\\nHis voice changed, his eyes grew bright, he fixed them on étienne, directly addressing him:\\n\"Now, do you understand that? These hatworkers at Marseilles who have won the great lottery prize of a hundred thousand francs have gone off at once and invested it, declaring that they are going to live without doing anything! Yes, that is your idea, all of you French workmen; you want to unearth a treasure in order to devour it alone afterwards in some lazy, selfish corner. You may cry out as much as you like against the rich, you haven\\'t got courage enough to give back to the poor the money that luck brings you. You will never be worthy of happiness as long as you own anything, and your hatred of the bourgeois proceeds solely from an angry desire to be bourgeois yourselves in their place.\"\\némile Zola, French writer, Germinal, 1885\\nThe passage displays the direct concern for the welfare of the working classes that was typically a part of which movement?', 'options': \"['Communist', 'Anarchist', 'Feminist', 'Fascist', 'Imperialist', 'Nationalist', 'Enlightenment', 'Existentialist', 'N/A', 'N/A']\", 'answer': 'A', 'answer_index': '0', 'cot_content': \"A: Let's think step by step. We refer to Wikipedia articles on european history for help. The modern Communist movement aims to establish a classless society based on communal ownership and distribution of property and means of production, thereby especially benefiting the working classes. The answer is (A).\", 'category': 'history', 'src': 'cot_lib-high_school_european_history'}) (input_keys={'options', 'question'}),\n",
       " Example({'question_id': 33, 'question': '_____________ can modify data on your system – so that your system doesn’t run correctly or you can no longer access specific data, or it may even ask for ransom in order to give your access.', 'options': \"['Email Trojans', 'Backdoor Trojans', 'Rootkit Trojans', 'Banking Trojans', 'Trojan-Downloader', 'Spyware Trojans', 'Network Trojans', 'Worm Trojans', 'Ransom Trojan', 'IM – Trojans']\", 'answer': 'I', 'answer_index': '8', 'cot_content': \"A: Let's think step by step. The system is asking for trojans, which are for ransom, which means ransom trojan. The answer is (I).\", 'category': 'computer science', 'src': 'cot_lib-computer_security'}) (input_keys={'options', 'question'}),\n",
       " Example({'question_id': 5, 'question': 'Which of the following is the body cavity that contains the pituitary gland?', 'options': \"['Ventral', 'Dorsal', 'Buccal', 'Thoracic', 'Pericardial', 'Abdominal', 'Spinal', 'Pelvic', 'Pleural', 'Cranial']\", 'answer': 'J', 'answer_index': '9', 'cot_content': \"A: Let's think step by step. We refer to Wikipedia articles on anatomy for help. Let’s solve this problem step by step. The pituitary gland is the major endocrine gland attached to the base of the brain, and it is contained in the Cranial cavity. The answer is (J).\", 'category': 'health', 'src': 'cot_lib-anatomy'}) (input_keys={'options', 'question'}),\n",
       " Example({'question_id': 25, 'question': 'Predict the number of lines in the EPR spectrum of a solution of 13C-labelled methyl radical (13CH3•), assuming the lines do not overlap.', 'options': \"['10', '8', '4', '20', '12', '3', '16', '5', '24', '6']\", 'answer': 'B', 'answer_index': '1', 'cot_content': \"A: Let's think step by step. The electron paramagnetic resonance spectrum will be split by two forms of interactions. The first is the hyperfine interaction with the 13C (nuclear spin $I = \\nrac{1}{2}$) which will split the spectrum into 2 lines. This will be further split into 4 lines by the interaction with three equivalent 1H nuclei. The total number of lines is therefore $2 \\\\cdot 4 = 8$. The answer is (B).\", 'category': 'chemistry', 'src': 'cot_lib-college_chemistry'}) (input_keys={'options', 'question'}),\n",
       " Example({'question_id': 37, 'question': 'Suppose that a test statistic has associated with it a p-value of 0.08. Which one of the following statements is true?\\n(i) If the size of the test were exactly 8%, we would be indifferent between rejecting and not rejecting the null hypothesis\\n(ii) The null would be rejected if a 10% size of test were used\\n(iii) The null would not be rejected if a 1% size of test were used\\n(iv) The null would be rejected if a 5% size of test were used.', 'options': \"['(iii) and (iv) only', '(i) and (iv) only', '(i), (ii), and (iii) only', '(i) and (ii) only', '(i) and (iii) only', '(i), (ii), (iii), and (iv).', '(ii), (iii), and (iv) only', '(ii) and (iii) only', '(ii) and (iv) only', '(i), (iii), and (iv) only']\", 'answer': 'C', 'answer_index': '2', 'cot_content': \"A: Let's think step by step. We refer to Wikipedia articles on econometrics for help. Let’s reason about each of the options.\\n(i) is a true statement.\\n(ii) is a true statement.\\n(iii) is a true statement.\\n(iv) is not a true statement. Thus, (i), (ii), and (iii) are true. The answer is (C).\", 'category': 'economics', 'src': 'cot_lib-econometrics'}) (input_keys={'options', 'question'}),\n",
       " Example({'question_id': 13, 'question': 'Colors in a soap bubble result from light', 'options': \"['dispersion', 'deflection', 'refraction', 'reflection', 'interference', 'converted to a different frequency', 'polarization', 'absorption', 'diffraction', 'transmission']\", 'answer': 'E', 'answer_index': '4', 'cot_content': \"A: Let's think step by step. In a soap bubble film, the light bounces between the two soap-air interfaces many times, interfering with itself constructively or destructively depending on the width of the film. This results in different colors being visible. The answer is (E).\", 'category': 'physics', 'src': 'cot_lib-conceptual_physics'}) (input_keys={'options', 'question'}),\n",
       " Example({'question_id': 42, 'question': 'In an SR latch built from NOR gates, which condition is not allowed', 'options': \"['S=0, R=2', 'S=2, R=2', 'S=1, R=1', 'S=1, R=-1', 'S=1, R=2', 'S=0, R=0', 'S=2, R=0', 'S=1, R=0', 'S=2, R=1', 'S=0, R=1']\", 'answer': 'C', 'answer_index': '2', 'cot_content': \"A: Let's think step by step. An SR latch is a set-reset latch; in the case where S=1 and R=1, the circuit has no stable state; instead a race condition will be produced within the circuit, so the device will be in an undefined state. So S=1, R=1 is an illegal input. The answer is (C).\", 'category': 'engineering', 'src': 'cot_lib-electrical_engineering'}) (input_keys={'options', 'question'})]"
      ]
     },
     "metadata": {},
     "output_type": "display_data"
    }
   ],
   "source": [
    "try10 = random.sample(validation, 10)\n",
    "#display(try10)\n",
    "\n",
    "try10test = [example.with_inputs(\"question\", \"options\") for example in random.sample(validation, 10)]\n",
    "for ex in try10test:\n",
    "    ex['options'] = str(ex['options'])\n",
    "    ex['answer_index'] = str(ex['answer_index'])\n",
    "display(try10test)"
   ]
  },
  {
   "cell_type": "markdown",
   "metadata": {},
   "source": [
    "evaluate uncompiled vs compiled on the 10 new questions"
   ]
  },
  {
   "cell_type": "code",
   "execution_count": 17,
   "metadata": {},
   "outputs": [
    {
     "name": "stdout",
     "output_type": "stream",
     "text": [
      "uncompiled\n"
     ]
    },
    {
     "name": "stderr",
     "output_type": "stream",
     "text": [
      "Average Metric: 9 / 10  (90.0): 100%|██████████| 10/10 [00:38<00:00,  3.86s/it]\n"
     ]
    },
    {
     "name": "stdout",
     "output_type": "stream",
     "text": [
      "Average Metric: 9 / 10  (90.0%)\n",
      "---\n",
      "compiled\n"
     ]
    },
    {
     "name": "stderr",
     "output_type": "stream",
     "text": [
      "Average Metric: 9 / 10  (90.0): 100%|██████████| 10/10 [00:44<00:00,  4.46s/it]"
     ]
    },
    {
     "name": "stdout",
     "output_type": "stream",
     "text": [
      "Average Metric: 9 / 10  (90.0%)\n",
      "---\n"
     ]
    },
    {
     "name": "stderr",
     "output_type": "stream",
     "text": [
      "\n"
     ]
    }
   ],
   "source": [
    "from dspy.evaluate import Evaluate\n",
    "\n",
    "# Set up the evaluator, which can be re-used in your code.\n",
    "#evaluator = Evaluate(devset=try10test, num_threads=1, display_progress=True, display_table=5)\n",
    "evaluator = Evaluate(devset=try10test, num_threads=1, display_progress=True)\n",
    "\n",
    "# Launch evaluation.\n",
    "print(\"uncompiled\")\n",
    "evaluator(uncompiled, metric=custom_answer_exact_match)\n",
    "print(\"---\")\n",
    "print(\"compiled\")\n",
    "evaluator(compiled, metric=custom_answer_exact_match)\n",
    "print(\"---\")\n",
    "\n"
   ]
  },
  {
   "cell_type": "markdown",
   "metadata": {},
   "source": [
    "future directions:"
   ]
  },
  {
   "cell_type": "markdown",
   "metadata": {},
   "source": [
    "does retrieving wikipedia colbert give better mmlupro results? a la https://github.com/stanfordnlp/dspy/blob/5db3e3461a5db8ddb0a03c8ae59e606f4efc1e95/intro.ipynb#L4"
   ]
  },
  {
   "cell_type": "markdown",
   "metadata": {},
   "source": [
    "score is number of tries to get the correct answer? or just exact match boolean 0 / 1?"
   ]
  },
  {
   "cell_type": "markdown",
   "metadata": {},
   "source": [
    "does training on mmlu give a smarter bot? need to make options optional. \n",
    "\n",
    "kind of like - are people that are really good at taking tests actually useful? are bots that are really good at benchmarks useful?"
   ]
  },
  {
   "cell_type": "markdown",
   "metadata": {},
   "source": [
    "proper optimizer copro / mipro, work up to using the full 70 in the validation set"
   ]
  }
 ],
 "metadata": {
  "kernelspec": {
   "display_name": "my-env310",
   "language": "python",
   "name": "python3"
  },
  "language_info": {
   "codemirror_mode": {
    "name": "ipython",
    "version": 3
   },
   "file_extension": ".py",
   "mimetype": "text/x-python",
   "name": "python",
   "nbconvert_exporter": "python",
   "pygments_lexer": "ipython3",
   "version": "3.10.0"
  }
 },
 "nbformat": 4,
 "nbformat_minor": 2
}
